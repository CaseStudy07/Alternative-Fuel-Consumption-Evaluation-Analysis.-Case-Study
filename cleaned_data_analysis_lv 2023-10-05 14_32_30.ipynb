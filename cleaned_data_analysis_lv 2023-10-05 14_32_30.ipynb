{
 "cells": [
  {
   "cell_type": "code",
   "execution_count": 0,
   "metadata": {
    "application/vnd.databricks.v1+cell": {
     "cellMetadata": {
      "byteLimit": 2048000,
      "rowLimit": 10000
     },
     "inputWidgets": {},
     "nuid": "be63c1ff-3645-452a-acf6-5b26728b2d39",
     "showTitle": false,
     "title": ""
    }
   },
   "outputs": [],
   "source": [
    "#/FileStore/tables/CleanedLVdata.csv\n",
    "df=spark.read.csv(\"dbfs:/FileStore/tables/CleanedLVdata__2_.csv\",header=True,inferSchema=True)"
   ]
  },
  {
   "cell_type": "code",
   "execution_count": 0,
   "metadata": {
    "application/vnd.databricks.v1+cell": {
     "cellMetadata": {
      "byteLimit": 2048000,
      "rowLimit": 10000
     },
     "inputWidgets": {},
     "nuid": "00c6b522-082c-444f-bc2b-da9719e08b5f",
     "showTitle": false,
     "title": ""
    }
   },
   "outputs": [
    {
     "output_type": "stream",
     "name": "stdout",
     "output_type": "stream",
     "text": [
      "+----------+---------------+-----------+-----------+--------------+--------------------+--------------------+----------+-------+---------+--------------------+---------------------+-----------------------+-----------------------------+--------------------------------+------------------------------+---------------------------------+-----------------+--------------------+-----------+---------------------+------------------------+----------+\n|Vehicle_ID|Manufacturer_ID|Category_ID|   Category|  Manufacturer|               Model|           FullModel|Model_Year|Fuel_ID|Fuel_Code|                Fuel|Fuel_Configuration_ID|Fuel_Configuration_Name|Alternative_Fuel_Economy_City|Alternative_Fuel_Economy_Highway|Conventional_Fuel_Economy_City|Conventional_Fuel_Economy_Highway|Transmission_Type|         Engine_Type|Engine_Size|Engine_Cylinder_Count|EngineMotors_Description|Drivetrain|\n+----------+---------------+-----------+-----------+--------------+--------------------+--------------------+----------+-------+---------+--------------------+---------------------+-----------------------+-----------------------------+--------------------------------+------------------------------+---------------------------------+-----------------+--------------------+-----------+---------------------+------------------------+----------+\n|        22|            225|          9|        Van|         Dodge|             Ram Van|       Dodge Ram Van|      1999|      3|      CNG|CNG - Compressed ...|                    1|              Dedicated|                         NULL|                            NULL|                            15|                               17|4-speed automatic|                 CNG|      5.2 L|                    8|                    NULL|      NULL|\n|       618|            225|          9|        Van|         Dodge|             Ram Van|       Dodge Ram Van|      1996|      3|      CNG|CNG - Compressed ...|                    1|              Dedicated|                         NULL|                            NULL|                            15|                               17|4-speed automatic|                 CNG|      5.2 L|                    8|                    NULL|      NULL|\n|       619|            225|          9|        Van|         Dodge|             Ram Van|       Dodge Ram Van|      1995|      3|      CNG|CNG - Compressed ...|                    1|              Dedicated|                         NULL|                            NULL|                            15|                               17|4-speed automatic|                 CNG|      5.2 L|                    8|                    NULL|      NULL|\n|        51|            219|         25|     Pickup|          Ford|      Ranger EV-NiMH| Ford Ranger EV-NiMH|      1999|     41|     ELEC|            Electric|                    1|              Dedicated|                         NULL|                            NULL|                            16|                               21|     single-speed|                NULL|       NULL|                 NULL|                    NULL|      NULL|\n|         1|            219|         25|     Pickup|          Ford|           Ranger EV|      Ford Ranger EV|      1998|     41|     ELEC|            Electric|                    1|              Dedicated|                         NULL|                            NULL|                          NULL|                             NULL|        automatic|high-efficiency, ...|       NULL|                    0|                    NULL|      NULL|\n|       601|            219|         25|     Pickup|          Ford|           Ranger EV|      Ford Ranger EV|      1997|     41|     ELEC|            Electric|                    1|              Dedicated|                         NULL|                            NULL|                          NULL|                             NULL|        automatic|high-efficiency, ...|       NULL|                    0|                    NULL|      NULL|\n|     10060|            237|         27|Sedan/Wagon|         Tesla|        Roadster 2.5|  Tesla Roadster 2.5|      2011|     41|     ELEC|            Electric|                    1|              Dedicated|                            0|                               0|                          NULL|                             NULL|             NULL|                NULL|       NULL|                 NULL|                    NULL|      NULL|\n|     10058|            217|         27|Sedan/Wagon|        Nissan|                LEAF|         Nissan LEAF|      2011|     41|     ELEC|            Electric|                    1|              Dedicated|                            0|                               0|                          NULL|                             NULL|             None|   AC electric motor|       NULL|                 NULL|                    NULL|      NULL|\n|     10126|            215|         27|Sedan/Wagon|     Chevrolet|                Volt|      Chevrolet Volt|      2011|     57|     PHEV|Plug-in Hybrid El...|                 NULL|                   NULL|                            0|                               0|                            35|                               40|             NULL|                NULL|       1.4L|                    4|                    NULL|      NULL|\n|     11419|            215|          9|        Van|     Chevrolet|   Express 2500/3500|Chevrolet Express...|      2015|     11| E85_GSLN|       Ethanol (E85)|                    5|          Flexible Fuel|                            8|                              11|                            11|                               16|             Auto|                  SI|          6|                    8|                 6.0L V8|      NULL|\n|     11420|            213|          9|        Van|           GMC|    Savana 2500/3500|GMC Savana 2500/3500|      2015|     11| E85_GSLN|       Ethanol (E85)|                    5|          Flexible Fuel|                            8|                              11|                            11|                               16|             Auto|                  SI|          6|                    8|                 6.0L V8|      NULL|\n|     11141|            215|          9|        Van|     Chevrolet|   Express 2500, 2WD|Chevrolet Express...|      2014|     11| E85_GSLN|       Ethanol (E85)|                    5|          Flexible Fuel|                            8|                              11|                            11|                               16|             Auto|                NULL|       6.0L|                    8|                 6.0L V8|      NULL|\n|     11138|            215|          9|        Van|     Chevrolet|   Express 3500, 2WD|Chevrolet Express...|      2014|     11| E85_GSLN|       Ethanol (E85)|                    5|          Flexible Fuel|                            8|                              11|                            11|                               16|             Auto|                NULL|       6.0L|                    8|                 6.0L V8|      NULL|\n|     11183|            213|          9|        Van|           GMC|    Savana 2500, 2WD|GMC Savana 2500, 2WD|      2014|     11| E85_GSLN|       Ethanol (E85)|                    5|          Flexible Fuel|                            8|                              11|                            11|                               16|             Auto|                NULL|       6.0L|                    8|                 6.0L V8|      NULL|\n|     11184|            213|          9|        Van|           GMC|    Savana 3500, 2WD|GMC Savana 3500, 2WD|      2014|     11| E85_GSLN|       Ethanol (E85)|                    5|          Flexible Fuel|                            8|                              11|                            11|                               16|             Auto|                NULL|       6.0L|                    8|                 6.0L V8|      NULL|\n|     10461|            355|         27|Sedan/Wagon|Bentley Motors|      Continental GT|Bentley Motors Co...|      2013|     11| E85_GSLN|       Ethanol (E85)|                    5|          Flexible Fuel|                            8|                              14|                            12|                               19|             Auto|                NULL|       6.0L|                   12|                    NULL|      NULL|\n|     10462|            355|         27|Sedan/Wagon|Bentley Motors|     Continental GTC|Bentley Motors Co...|      2013|     11| E85_GSLN|       Ethanol (E85)|                    5|          Flexible Fuel|                            8|                              13|                            11|                               19|             Auto|                NULL|      6.0 L|                   12|                    NULL|      NULL|\n|     10463|            355|         27|Sedan/Wagon|Bentley Motors|Continental Super...|Bentley Motors Co...|      2013|     11| E85_GSLN|       Ethanol (E85)|                    5|          Flexible Fuel|                            8|                              14|                            12|                               19|             Auto|                NULL|      6.0 L|                   12|                    NULL|      NULL|\n|     10592|            215|          9|        Van|     Chevrolet| Express 2500 / 3500|Chevrolet Express...|      2013|     11| E85_GSLN|       Ethanol (E85)|                    5|          Flexible Fuel|                            8|                              11|                            11|                               16|             Auto|                NULL|       6.0L|                    8|                    NULL|      NULL|\n|     10589|            215|          9|        Van|     Chevrolet| Express 2500 / 3500|Chevrolet Express...|      2013|     11| E85_GSLN|       Ethanol (E85)|                    5|          Flexible Fuel|                            8|                              12|                            11|                               17|             Auto|                NULL|       4.8L|                    8|                    NULL|      NULL|\n+----------+---------------+-----------+-----------+--------------+--------------------+--------------------+----------+-------+---------+--------------------+---------------------+-----------------------+-----------------------------+--------------------------------+------------------------------+---------------------------------+-----------------+--------------------+-----------+---------------------+------------------------+----------+\nonly showing top 20 rows\n\n"
     ]
    }
   ],
   "source": [
    "df.show()"
   ]
  },
  {
   "cell_type": "code",
   "execution_count": 0,
   "metadata": {
    "application/vnd.databricks.v1+cell": {
     "cellMetadata": {
      "byteLimit": 2048000,
      "rowLimit": 10000
     },
     "inputWidgets": {},
     "nuid": "126b24d8-7859-4f19-a63a-4f887543da2a",
     "showTitle": false,
     "title": ""
    }
   },
   "outputs": [],
   "source": [
    "df.createOrReplaceTempView(\"mytable\")"
   ]
  },
  {
   "cell_type": "code",
   "execution_count": 0,
   "metadata": {
    "application/vnd.databricks.v1+cell": {
     "cellMetadata": {
      "byteLimit": 2048000,
      "implicitDf": true,
      "rowLimit": 10000
     },
     "inputWidgets": {},
     "nuid": "8bc02b92-84a6-405b-9f91-818894aa758f",
     "showTitle": false,
     "title": ""
    }
   },
   "outputs": [
    {
     "output_type": "display_data",
     "data": {
      "text/html": [
       "<style scoped>\n",
       "  .table-result-container {\n",
       "    max-height: 300px;\n",
       "    overflow: auto;\n",
       "  }\n",
       "  table, th, td {\n",
       "    border: 1px solid black;\n",
       "    border-collapse: collapse;\n",
       "  }\n",
       "  th, td {\n",
       "    padding: 5px;\n",
       "  }\n",
       "  th {\n",
       "    text-align: left;\n",
       "  }\n",
       "</style><div class='table-result-container'><table class='table-result'><thead style='background-color: white'><tr><th>Fuel_Code</th><th>economy</th></tr></thead><tbody><tr><td>ELEC</td><td>64.0</td></tr><tr><td>PHEV</td><td>121.0952380952381</td></tr><tr><td>null</td><td>75.58974358974359</td></tr><tr><td>CNG_GSLN</td><td>null</td></tr><tr><td>BD</td><td>null</td></tr><tr><td>E85_GSLN</td><td>28.921951219512195</td></tr><tr><td>HYBR</td><td>61.95652173913044</td></tr><tr><td>CNG</td><td>30.526315789473685</td></tr><tr><td>M85_GSLN</td><td>33.0</td></tr><tr><td>LPG_GSLN</td><td>null</td></tr><tr><td>LPG</td><td>24.210526315789473</td></tr><tr><td>H2</td><td>null</td></tr></tbody></table></div>"
      ]
     },
     "metadata": {
      "application/vnd.databricks.v1+output": {
       "addedWidgets": {},
       "aggData": [],
       "aggError": "",
       "aggOverflow": false,
       "aggSchema": [],
       "aggSeriesLimitReached": false,
       "aggType": "",
       "arguments": {},
       "columnCustomDisplayInfos": {},
       "data": [
        [
         "ELEC",
         64.0
        ],
        [
         "PHEV",
         121.0952380952381
        ],
        [
         null,
         75.58974358974359
        ],
        [
         "CNG_GSLN",
         null
        ],
        [
         "BD",
         null
        ],
        [
         "E85_GSLN",
         28.921951219512195
        ],
        [
         "HYBR",
         61.95652173913044
        ],
        [
         "CNG",
         30.526315789473685
        ],
        [
         "M85_GSLN",
         33.0
        ],
        [
         "LPG_GSLN",
         null
        ],
        [
         "LPG",
         24.210526315789473
        ],
        [
         "H2",
         null
        ]
       ],
       "datasetInfos": [],
       "dbfsResultPath": null,
       "isJsonSchema": true,
       "metadata": {
        "dataframeName": "_sqldf",
        "executionCount": 8
       },
       "overflow": false,
       "plotOptions": {
        "customPlotOptions": {},
        "displayType": "table",
        "pivotAggregation": null,
        "pivotColumns": null,
        "xColumns": null,
        "yColumns": null
       },
       "removedWidgets": [],
       "schema": [
        {
         "metadata": "{}",
         "name": "Fuel_Code",
         "type": "\"string\""
        },
        {
         "metadata": "{}",
         "name": "economy",
         "type": "\"double\""
        }
       ],
       "type": "table"
      }
     },
     "output_type": "display_data"
    }
   ],
   "source": [
    "%sql\n",
    "select Fuel_Code,avg((Alternative_Fuel_Economy_City+Conventional_Fuel_Economy_City)) as economy from mytable  group by Fuel_Code\n"
   ]
  },
  {
   "cell_type": "code",
   "execution_count": 0,
   "metadata": {
    "application/vnd.databricks.v1+cell": {
     "cellMetadata": {},
     "inputWidgets": {},
     "nuid": "a35ffd80-c767-4067-9892-ffc7212132c5",
     "showTitle": false,
     "title": ""
    }
   },
   "outputs": [],
   "source": []
  }
 ],
 "metadata": {
  "application/vnd.databricks.v1+notebook": {
   "dashboards": [],
   "language": "python",
   "notebookMetadata": {
    "mostRecentlyExecutedCommandWithImplicitDF": {
     "commandId": 4495390488139207,
     "dataframes": [
      "_sqldf"
     ]
    },
    "pythonIndentUnit": 4
   },
   "notebookName": "cleaned_data_analysis_lv 2023-10-05 14:32:30",
   "widgets": {}
  }
 },
 "nbformat": 4,
 "nbformat_minor": 0
}

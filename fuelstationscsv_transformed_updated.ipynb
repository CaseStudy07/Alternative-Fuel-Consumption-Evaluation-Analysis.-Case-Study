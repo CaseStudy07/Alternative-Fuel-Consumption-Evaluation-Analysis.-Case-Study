{
 "cells": [
  {
   "cell_type": "code",
   "execution_count": 0,
   "metadata": {
    "application/vnd.databricks.v1+cell": {
     "cellMetadata": {
      "byteLimit": 2048000,
      "rowLimit": 10000
     },
     "inputWidgets": {},
     "nuid": "6ef2dbae-81d3-489a-b4e2-bc6eb17d8f13",
     "showTitle": false,
     "title": ""
    }
   },
   "outputs": [
    {
     "output_type": "execute_result",
     "data": {
      "text/html": [
       "\n",
       "            <div>\n",
       "                <p><b>SparkSession - hive</b></p>\n",
       "                \n",
       "        <div>\n",
       "            <p><b>SparkContext</b></p>\n",
       "\n",
       "            <p><a href=\"/?o=2332602000648148#setting/sparkui/1005-043137-wcbc55im/driver-2278326584557575193\">Spark UI</a></p>\n",
       "\n",
       "            <dl>\n",
       "              <dt>Version</dt>\n",
       "                <dd><code>v3.4.1</code></dd>\n",
       "              <dt>Master</dt>\n",
       "                <dd><code>local[*, 4]</code></dd>\n",
       "              <dt>AppName</dt>\n",
       "                <dd><code>Databricks Shell</code></dd>\n",
       "            </dl>\n",
       "        </div>\n",
       "        \n",
       "            </div>\n",
       "        "
      ],
      "text/plain": [
       "<pyspark.sql.session.SparkSession at 0x7ff2e81fb130>"
      ]
     },
     "execution_count": 2,
     "metadata": {},
     "output_type": "execute_result"
    }
   ],
   "source": [
    "spark"
   ]
  },
  {
   "cell_type": "code",
   "execution_count": 0,
   "metadata": {
    "application/vnd.databricks.v1+cell": {
     "cellMetadata": {
      "byteLimit": 2048000,
      "rowLimit": 10000
     },
     "inputWidgets": {},
     "nuid": "6810b6c6-c563-4577-9d33-4691610474f3",
     "showTitle": false,
     "title": ""
    }
   },
   "outputs": [
    {
     "output_type": "display_data",
     "data": {
      "text/plain": [
       "\u001B[0;31m---------------------------------------------------------------------------\u001B[0m\n",
       "\u001B[0;31mExecutionError\u001B[0m                            Traceback (most recent call last)\n",
       "File \u001B[0;32m<command-2940978257572029>, line 5\u001B[0m\n",
       "\u001B[1;32m      3\u001B[0m strkey\u001B[38;5;241m=\u001B[39m\u001B[38;5;124m\"\u001B[39m\u001B[38;5;124mfs.azure.account.key.\u001B[39m\u001B[38;5;124m\"\u001B[39m\u001B[38;5;241m+\u001B[39m\u001B[38;5;124m\"\u001B[39m\u001B[38;5;124mg7casestudy\u001B[39m\u001B[38;5;124m\"\u001B[39m\u001B[38;5;241m+\u001B[39m\u001B[38;5;124m\"\u001B[39m\u001B[38;5;124m.blob.core.windows.net\u001B[39m\u001B[38;5;124m\"\u001B[39m\n",
       "\u001B[1;32m      4\u001B[0m strvalue\u001B[38;5;241m=\u001B[39m\u001B[38;5;124m\"\u001B[39m\u001B[38;5;124mWBVvueMigJ4MFr/uL6gAipl9c9IZl/GBz1lH+GAtREBp2F0eOoy3qPNuw79mKZX075IrnTVTSSpR+AStzgUXfg==\u001B[39m\u001B[38;5;124m\"\u001B[39m\n",
       "\u001B[0;32m----> 5\u001B[0m result\u001B[38;5;241m=\u001B[39mdbutils\u001B[38;5;241m.\u001B[39mfs\u001B[38;5;241m.\u001B[39mmount(\n",
       "\u001B[1;32m      6\u001B[0m     source\u001B[38;5;241m=\u001B[39mstrsource,\n",
       "\u001B[1;32m      7\u001B[0m     mount_point\u001B[38;5;241m=\u001B[39mstrmountpoint,\n",
       "\u001B[1;32m      8\u001B[0m     extra_configs\u001B[38;5;241m=\u001B[39m{strkey:strvalue}\n",
       "\u001B[1;32m      9\u001B[0m )\n",
       "\n",
       "File \u001B[0;32m/databricks/python_shell/dbruntime/dbutils.py:362\u001B[0m, in \u001B[0;36mDBUtils.FSHandler.prettify_exception_message.<locals>.f_with_exception_handling\u001B[0;34m(*args, **kwargs)\u001B[0m\n",
       "\u001B[1;32m    360\u001B[0m exc\u001B[38;5;241m.\u001B[39m__context__ \u001B[38;5;241m=\u001B[39m \u001B[38;5;28;01mNone\u001B[39;00m\n",
       "\u001B[1;32m    361\u001B[0m exc\u001B[38;5;241m.\u001B[39m__cause__ \u001B[38;5;241m=\u001B[39m \u001B[38;5;28;01mNone\u001B[39;00m\n",
       "\u001B[0;32m--> 362\u001B[0m \u001B[38;5;28;01mraise\u001B[39;00m exc\n",
       "\n",
       "\u001B[0;31mExecutionError\u001B[0m: An error occurred while calling o5356.mount.\n",
       ": java.rmi.RemoteException: java.lang.IllegalArgumentException: requirement failed: Directory already mounted: /mnt/staging; nested exception is: \n",
       "\tjava.lang.IllegalArgumentException: requirement failed: Directory already mounted: /mnt/staging\n",
       "\tat com.databricks.backend.daemon.data.client.DbfsClient.send0(DbfsClient.scala:135)\n",
       "\tat com.databricks.backend.daemon.data.client.DbfsClient.sendIdempotent(DbfsClient.scala:69)\n",
       "\tat com.databricks.backend.daemon.dbutils.DBUtilsCore.createOrUpdateMount(DBUtilsCore.scala:1057)\n",
       "\tat com.databricks.backend.daemon.dbutils.DBUtilsCore.$anonfun$mount$1(DBUtilsCore.scala:1083)\n",
       "\tat com.databricks.logging.UsageLogging.$anonfun$recordOperation$1(UsageLogging.scala:571)\n",
       "\tat com.databricks.logging.UsageLogging.executeThunkAndCaptureResultTags$1(UsageLogging.scala:666)\n",
       "\tat com.databricks.logging.UsageLogging.$anonfun$recordOperationWithResultTags$4(UsageLogging.scala:684)\n",
       "\tat com.databricks.logging.UsageLogging.$anonfun$withAttributionContext$1(UsageLogging.scala:426)\n",
       "\tat scala.util.DynamicVariable.withValue(DynamicVariable.scala:62)\n",
       "\tat com.databricks.logging.AttributionContext$.withValue(AttributionContext.scala:196)\n",
       "\tat com.databricks.logging.UsageLogging.withAttributionContext(UsageLogging.scala:424)\n",
       "\tat com.databricks.logging.UsageLogging.withAttributionContext$(UsageLogging.scala:418)\n",
       "\tat com.databricks.backend.daemon.dbutils.FSUtils.withAttributionContext(DBUtilsCore.scala:69)\n",
       "\tat com.databricks.logging.UsageLogging.withAttributionTags(UsageLogging.scala:470)\n",
       "\tat com.databricks.logging.UsageLogging.withAttributionTags$(UsageLogging.scala:455)\n",
       "\tat com.databricks.backend.daemon.dbutils.FSUtils.withAttributionTags(DBUtilsCore.scala:69)\n",
       "\tat com.databricks.logging.UsageLogging.recordOperationWithResultTags(UsageLogging.scala:661)\n",
       "\tat com.databricks.logging.UsageLogging.recordOperationWithResultTags$(UsageLogging.scala:580)\n",
       "\tat com.databricks.backend.daemon.dbutils.FSUtils.recordOperationWithResultTags(DBUtilsCore.scala:69)\n",
       "\tat com.databricks.logging.UsageLogging.recordOperation(UsageLogging.scala:571)\n",
       "\tat com.databricks.logging.UsageLogging.recordOperation$(UsageLogging.scala:540)\n",
       "\tat com.databricks.backend.daemon.dbutils.FSUtils.recordOperation(DBUtilsCore.scala:69)\n",
       "\tat com.databricks.backend.daemon.dbutils.FSUtils.recordDbutilsFsOp(DBUtilsCore.scala:133)\n",
       "\tat com.databricks.backend.daemon.dbutils.DBUtilsCore.mount(DBUtilsCore.scala:1077)\n",
       "\tat sun.reflect.NativeMethodAccessorImpl.invoke0(Native Method)\n",
       "\tat sun.reflect.NativeMethodAccessorImpl.invoke(NativeMethodAccessorImpl.java:62)\n",
       "\tat sun.reflect.DelegatingMethodAccessorImpl.invoke(DelegatingMethodAccessorImpl.java:43)\n",
       "\tat java.lang.reflect.Method.invoke(Method.java:498)\n",
       "\tat py4j.reflection.MethodInvoker.invoke(MethodInvoker.java:244)\n",
       "\tat py4j.reflection.ReflectionEngine.invoke(ReflectionEngine.java:397)\n",
       "\tat py4j.Gateway.invoke(Gateway.java:306)\n",
       "\tat py4j.commands.AbstractCommand.invokeMethod(AbstractCommand.java:132)\n",
       "\tat py4j.commands.CallCommand.execute(CallCommand.java:79)\n",
       "\tat py4j.ClientServerConnection.waitForCommands(ClientServerConnection.java:195)\n",
       "\tat py4j.ClientServerConnection.run(ClientServerConnection.java:115)\n",
       "\tat java.lang.Thread.run(Thread.java:750)\n",
       "Caused by: java.lang.IllegalArgumentException: requirement failed: Directory already mounted: /mnt/staging\n",
       "\tat scala.Predef$.require(Predef.scala:281)\n",
       "\tat com.databricks.backend.daemon.data.server.DefaultMetadataManager.$anonfun$insertMount$1(MetadataManager.scala:580)\n",
       "\tat com.databricks.backend.daemon.data.server.DefaultMetadataManager.$anonfun$modifyAndVerify$2(MetadataManager.scala:948)\n",
       "\tat scala.runtime.java8.JFunction0$mcV$sp.apply(JFunction0$mcV$sp.java:23)\n",
       "\tat com.databricks.backend.daemon.data.server.DefaultMetadataManager.withRetries(MetadataManager.scala:729)\n",
       "\tat com.databricks.backend.daemon.data.server.DefaultMetadataManager.modifyAndVerify(MetadataManager.scala:937)\n",
       "\tat com.databricks.backend.daemon.data.server.DefaultMetadataManager.insertMount(MetadataManager.scala:588)\n",
       "\tat com.databricks.backend.daemon.data.server.handler.MountHandler.receive(MountHandler.scala:120)\n",
       "\tat com.databricks.backend.daemon.data.server.session.SessionContext.$anonfun$queryHandlers$1(SessionContext.scala:54)\n",
       "\tat com.databricks.backend.daemon.data.server.session.SessionContext.$anonfun$queryHandlers$1$adapted(SessionContext.scala:53)\n",
       "\tat scala.collection.immutable.List.foreach(List.scala:431)\n",
       "\tat com.databricks.backend.daemon.data.server.session.SessionContext.queryHandlers(SessionContext.scala:53)\n",
       "\tat com.databricks.backend.daemon.data.server.DbfsServerBackend$$anonfun$receive$4.$anonfun$applyOrElse$5(DbfsServerBackend.scala:388)\n",
       "\tat com.databricks.logging.UsageLogging.$anonfun$withAttributionContext$1(UsageLogging.scala:426)\n",
       "\tat scala.util.DynamicVariable.withValue(DynamicVariable.scala:62)\n",
       "\tat com.databricks.logging.AttributionContext$.withValue(AttributionContext.scala:216)\n",
       "\tat com.databricks.logging.UsageLogging.withAttributionContext(UsageLogging.scala:424)\n",
       "\tat com.databricks.logging.UsageLogging.withAttributionContext$(UsageLogging.scala:418)\n",
       "\tat com.databricks.rpc.ServerBackend.withAttributionContext(ServerBackend.scala:22)\n",
       "\tat com.databricks.logging.UsageLogging.withAttributionTags(UsageLogging.scala:472)\n",
       "\tat com.databricks.logging.UsageLogging.withAttributionTags$(UsageLogging.scala:455)\n",
       "\tat com.databricks.rpc.ServerBackend.withAttributionTags(ServerBackend.scala:22)\n",
       "\tat com.databricks.backend.daemon.data.server.DbfsServerBackend$$anonfun$receive$4.applyOrElse(DbfsServerBackend.scala:388)\n",
       "\tat com.databricks.backend.daemon.data.server.DbfsServerBackend$$anonfun$receive$4.applyOrElse(DbfsServerBackend.scala:332)\n",
       "\tat com.databricks.rpc.ServerBackend.$anonfun$internalReceive0$2(ServerBackend.scala:174)\n",
       "\tat com.databricks.rpc.ServerBackend$$anonfun$commonReceive$1.applyOrElse(ServerBackend.scala:200)\n",
       "\tat com.databricks.rpc.ServerBackend$$anonfun$commonReceive$1.applyOrElse(ServerBackend.scala:200)\n",
       "\tat com.databricks.rpc.ServerBackend.internalReceive0(ServerBackend.scala:171)\n",
       "\tat com.databricks.rpc.ServerBackend.$anonfun$internalReceive$1(ServerBackend.scala:147)\n",
       "\tat com.databricks.logging.UsageLogging.$anonfun$recordOperation$1(UsageLogging.scala:573)\n",
       "\tat com.databricks.logging.UsageLogging.executeThunkAndCaptureResultTags$1(UsageLogging.scala:668)\n",
       "\tat com.databricks.logging.UsageLogging.$anonfun$recordOperationWithResultTags$4(UsageLogging.scala:686)\n",
       "\tat com.databricks.logging.UsageLogging.$anonfun$withAttributionContext$1(UsageLogging.scala:426)\n",
       "\tat scala.util.DynamicVariable.withValue(DynamicVariable.scala:62)\n",
       "\tat com.databricks.logging.AttributionContext$.withValue(AttributionContext.scala:216)\n",
       "\tat com.databricks.logging.UsageLogging.withAttributionContext(UsageLogging.scala:424)\n",
       "\tat com.databricks.logging.UsageLogging.withAttributionContext$(UsageLogging.scala:418)\n",
       "\tat com.databricks.rpc.ServerBackend.withAttributionContext(ServerBackend.scala:22)\n",
       "\tat com.databricks.logging.UsageLogging.withAttributionTags(UsageLogging.scala:472)\n",
       "\tat com.databricks.logging.UsageLogging.withAttributionTags$(UsageLogging.scala:455)\n",
       "\tat com.databricks.rpc.ServerBackend.withAttributionTags(ServerBackend.scala:22)\n",
       "\tat com.databricks.logging.UsageLogging.recordOperationWithResultTags(UsageLogging.scala:663)\n",
       "\tat com.databricks.logging.UsageLogging.recordOperationWithResultTags$(UsageLogging.scala:582)\n",
       "\tat com.databricks.rpc.ServerBackend.recordOperationWithResultTags(ServerBackend.scala:22)\n",
       "\tat com.databricks.logging.UsageLogging.recordOperation(UsageLogging.scala:573)\n",
       "\tat com.databricks.logging.UsageLogging.recordOperation$(UsageLogging.scala:542)\n",
       "\tat com.databricks.rpc.ServerBackend.recordOperation(ServerBackend.scala:22)\n",
       "\tat com.databricks.rpc.ServerBackend.internalReceive(ServerBackend.scala:147)\n",
       "\tat com.databricks.rpc.JettyServer$RequestManager.handleRPC(JettyServer.scala:1020)\n",
       "\tat com.databricks.rpc.JettyServer$RequestManager.handleRequestAndRespond(JettyServer.scala:941)\n",
       "\tat com.databricks.rpc.JettyServer$RequestManager.$anonfun$handleHttp$6(JettyServer.scala:545)\n",
       "\tat com.databricks.rpc.JettyServer$RequestManager.$anonfun$handleHttp$6$adapted(JettyServer.scala:514)\n",
       "\tat com.databricks.logging.activity.ActivityContextFactory$.$anonfun$withActivityInternal$3(ActivityContextFactory.scala:398)\n",
       "\tat com.databricks.logging.UsageLogging.$anonfun$withAttributionContext$1(UsageLogging.scala:426)\n",
       "\tat scala.util.DynamicVariable.withValue(DynamicVariable.scala:62)\n",
       "\tat com.databricks.logging.AttributionContext$.withValue(AttributionContext.scala:216)\n",
       "\tat com.databricks.logging.UsageLogging.withAttributionContext(UsageLogging.scala:424)\n",
       "\tat com.databricks.logging.UsageLogging.withAttributionContext$(UsageLogging.scala:418)\n",
       "\tat com.databricks.logging.activity.ActivityContextFactory$.withAttributionContext(ActivityContextFactory.scala:53)\n",
       "\tat com.databricks.logging.activity.ActivityContextFactory$.withActivityInternal(ActivityContextFactory.scala:398)\n",
       "\tat com.databricks.logging.activity.ActivityContextFactory$.withServiceRequestActivity(ActivityContextFactory.scala:154)\n",
       "\tat com.databricks.rpc.JettyServer$RequestManager.handleHttp(JettyServer.scala:514)\n",
       "\tat com.databricks.rpc.JettyServer$RequestManager.doPost(JettyServer.scala:404)\n",
       "\tat javax.servlet.http.HttpServlet.service(HttpServlet.java:665)\n",
       "\tat com.databricks.rpc.HttpServletWithPatch.service(HttpServletWithPatch.scala:33)\n",
       "\tat javax.servlet.http.HttpServlet.service(HttpServlet.java:750)\n",
       "\tat org.eclipse.jetty.servlet.ServletHolder.handle(ServletHolder.java:848)\n",
       "\tat org.eclipse.jetty.servlet.ServletHandler.doHandle(ServletHandler.java:585)\n",
       "\tat org.eclipse.jetty.servlet.ServletHandler.doScope(ServletHandler.java:515)\n",
       "\tat org.eclipse.jetty.server.handler.ScopedHandler.handle(ScopedHandler.java:141)\n",
       "\tat org.eclipse.jetty.server.handler.HandlerWrapper.handle(HandlerWrapper.java:134)\n",
       "\tat org.eclipse.jetty.server.Server.handle(Server.java:539)\n",
       "\tat org.eclipse.jetty.server.HttpChannel.handle(HttpChannel.java:333)\n",
       "\tat org.eclipse.jetty.server.HttpConnection.onFillable(HttpConnection.java:251)\n",
       "\tat org.eclipse.jetty.io.AbstractConnection$ReadCallback.succeeded(AbstractConnection.java:283)\n",
       "\tat org.eclipse.jetty.io.FillInterest.fillable(FillInterest.java:108)\n",
       "\tat org.eclipse.jetty.io.SelectChannelEndPoint$2.run(SelectChannelEndPoint.java:93)\n",
       "\tat org.eclipse.jetty.util.thread.strategy.ExecuteProduceConsume.executeProduceConsume(ExecuteProduceConsume.java:303)\n",
       "\tat org.eclipse.jetty.util.thread.strategy.ExecuteProduceConsume.produceConsume(ExecuteProduceConsume.java:148)\n",
       "\tat org.eclipse.jetty.util.thread.strategy.ExecuteProduceConsume.run(ExecuteProduceConsume.java:136)\n",
       "\tat com.databricks.rpc.InstrumentedQueuedThreadPool$$anon$1.$anonfun$run$1(InstrumentedQueuedThreadPool.scala:81)\n",
       "\tat scala.runtime.java8.JFunction0$mcV$sp.apply(JFunction0$mcV$sp.java:23)\n",
       "\tat com.databricks.instrumentation.QueuedThreadPoolInstrumenter.trackActiveThreads(QueuedThreadPoolInstrumenter.scala:66)\n",
       "\tat com.databricks.instrumentation.QueuedThreadPoolInstrumenter.trackActiveThreads$(QueuedThreadPoolInstrumenter.scala:63)\n",
       "\tat com.databricks.rpc.InstrumentedQueuedThreadPool.trackActiveThreads(InstrumentedQueuedThreadPool.scala:47)\n",
       "\tat com.databricks.rpc.InstrumentedQueuedThreadPool$$anon$1.run(InstrumentedQueuedThreadPool.scala:76)\n",
       "\tat org.eclipse.jetty.util.thread.QueuedThreadPool.runJob(QueuedThreadPool.java:671)\n",
       "\tat org.eclipse.jetty.util.thread.QueuedThreadPool$2.run(QueuedThreadPool.java:589)\n",
       "\t... 1 more\n"
      ]
     },
     "metadata": {
      "application/vnd.databricks.v1+output": {
       "arguments": {},
       "data": "\u001B[0;31m---------------------------------------------------------------------------\u001B[0m\n\u001B[0;31mExecutionError\u001B[0m                            Traceback (most recent call last)\nFile \u001B[0;32m<command-2940978257572029>, line 5\u001B[0m\n\u001B[1;32m      3\u001B[0m strkey\u001B[38;5;241m=\u001B[39m\u001B[38;5;124m\"\u001B[39m\u001B[38;5;124mfs.azure.account.key.\u001B[39m\u001B[38;5;124m\"\u001B[39m\u001B[38;5;241m+\u001B[39m\u001B[38;5;124m\"\u001B[39m\u001B[38;5;124mg7casestudy\u001B[39m\u001B[38;5;124m\"\u001B[39m\u001B[38;5;241m+\u001B[39m\u001B[38;5;124m\"\u001B[39m\u001B[38;5;124m.blob.core.windows.net\u001B[39m\u001B[38;5;124m\"\u001B[39m\n\u001B[1;32m      4\u001B[0m strvalue\u001B[38;5;241m=\u001B[39m\u001B[38;5;124m\"\u001B[39m\u001B[38;5;124mWBVvueMigJ4MFr/uL6gAipl9c9IZl/GBz1lH+GAtREBp2F0eOoy3qPNuw79mKZX075IrnTVTSSpR+AStzgUXfg==\u001B[39m\u001B[38;5;124m\"\u001B[39m\n\u001B[0;32m----> 5\u001B[0m result\u001B[38;5;241m=\u001B[39mdbutils\u001B[38;5;241m.\u001B[39mfs\u001B[38;5;241m.\u001B[39mmount(\n\u001B[1;32m      6\u001B[0m     source\u001B[38;5;241m=\u001B[39mstrsource,\n\u001B[1;32m      7\u001B[0m     mount_point\u001B[38;5;241m=\u001B[39mstrmountpoint,\n\u001B[1;32m      8\u001B[0m     extra_configs\u001B[38;5;241m=\u001B[39m{strkey:strvalue}\n\u001B[1;32m      9\u001B[0m )\n\nFile \u001B[0;32m/databricks/python_shell/dbruntime/dbutils.py:362\u001B[0m, in \u001B[0;36mDBUtils.FSHandler.prettify_exception_message.<locals>.f_with_exception_handling\u001B[0;34m(*args, **kwargs)\u001B[0m\n\u001B[1;32m    360\u001B[0m exc\u001B[38;5;241m.\u001B[39m__context__ \u001B[38;5;241m=\u001B[39m \u001B[38;5;28;01mNone\u001B[39;00m\n\u001B[1;32m    361\u001B[0m exc\u001B[38;5;241m.\u001B[39m__cause__ \u001B[38;5;241m=\u001B[39m \u001B[38;5;28;01mNone\u001B[39;00m\n\u001B[0;32m--> 362\u001B[0m \u001B[38;5;28;01mraise\u001B[39;00m exc\n\n\u001B[0;31mExecutionError\u001B[0m: An error occurred while calling o5356.mount.\n: java.rmi.RemoteException: java.lang.IllegalArgumentException: requirement failed: Directory already mounted: /mnt/staging; nested exception is: \n\tjava.lang.IllegalArgumentException: requirement failed: Directory already mounted: /mnt/staging\n\tat com.databricks.backend.daemon.data.client.DbfsClient.send0(DbfsClient.scala:135)\n\tat com.databricks.backend.daemon.data.client.DbfsClient.sendIdempotent(DbfsClient.scala:69)\n\tat com.databricks.backend.daemon.dbutils.DBUtilsCore.createOrUpdateMount(DBUtilsCore.scala:1057)\n\tat com.databricks.backend.daemon.dbutils.DBUtilsCore.$anonfun$mount$1(DBUtilsCore.scala:1083)\n\tat com.databricks.logging.UsageLogging.$anonfun$recordOperation$1(UsageLogging.scala:571)\n\tat com.databricks.logging.UsageLogging.executeThunkAndCaptureResultTags$1(UsageLogging.scala:666)\n\tat com.databricks.logging.UsageLogging.$anonfun$recordOperationWithResultTags$4(UsageLogging.scala:684)\n\tat com.databricks.logging.UsageLogging.$anonfun$withAttributionContext$1(UsageLogging.scala:426)\n\tat scala.util.DynamicVariable.withValue(DynamicVariable.scala:62)\n\tat com.databricks.logging.AttributionContext$.withValue(AttributionContext.scala:196)\n\tat com.databricks.logging.UsageLogging.withAttributionContext(UsageLogging.scala:424)\n\tat com.databricks.logging.UsageLogging.withAttributionContext$(UsageLogging.scala:418)\n\tat com.databricks.backend.daemon.dbutils.FSUtils.withAttributionContext(DBUtilsCore.scala:69)\n\tat com.databricks.logging.UsageLogging.withAttributionTags(UsageLogging.scala:470)\n\tat com.databricks.logging.UsageLogging.withAttributionTags$(UsageLogging.scala:455)\n\tat com.databricks.backend.daemon.dbutils.FSUtils.withAttributionTags(DBUtilsCore.scala:69)\n\tat com.databricks.logging.UsageLogging.recordOperationWithResultTags(UsageLogging.scala:661)\n\tat com.databricks.logging.UsageLogging.recordOperationWithResultTags$(UsageLogging.scala:580)\n\tat com.databricks.backend.daemon.dbutils.FSUtils.recordOperationWithResultTags(DBUtilsCore.scala:69)\n\tat com.databricks.logging.UsageLogging.recordOperation(UsageLogging.scala:571)\n\tat com.databricks.logging.UsageLogging.recordOperation$(UsageLogging.scala:540)\n\tat com.databricks.backend.daemon.dbutils.FSUtils.recordOperation(DBUtilsCore.scala:69)\n\tat com.databricks.backend.daemon.dbutils.FSUtils.recordDbutilsFsOp(DBUtilsCore.scala:133)\n\tat com.databricks.backend.daemon.dbutils.DBUtilsCore.mount(DBUtilsCore.scala:1077)\n\tat sun.reflect.NativeMethodAccessorImpl.invoke0(Native Method)\n\tat sun.reflect.NativeMethodAccessorImpl.invoke(NativeMethodAccessorImpl.java:62)\n\tat sun.reflect.DelegatingMethodAccessorImpl.invoke(DelegatingMethodAccessorImpl.java:43)\n\tat java.lang.reflect.Method.invoke(Method.java:498)\n\tat py4j.reflection.MethodInvoker.invoke(MethodInvoker.java:244)\n\tat py4j.reflection.ReflectionEngine.invoke(ReflectionEngine.java:397)\n\tat py4j.Gateway.invoke(Gateway.java:306)\n\tat py4j.commands.AbstractCommand.invokeMethod(AbstractCommand.java:132)\n\tat py4j.commands.CallCommand.execute(CallCommand.java:79)\n\tat py4j.ClientServerConnection.waitForCommands(ClientServerConnection.java:195)\n\tat py4j.ClientServerConnection.run(ClientServerConnection.java:115)\n\tat java.lang.Thread.run(Thread.java:750)\nCaused by: java.lang.IllegalArgumentException: requirement failed: Directory already mounted: /mnt/staging\n\tat scala.Predef$.require(Predef.scala:281)\n\tat com.databricks.backend.daemon.data.server.DefaultMetadataManager.$anonfun$insertMount$1(MetadataManager.scala:580)\n\tat com.databricks.backend.daemon.data.server.DefaultMetadataManager.$anonfun$modifyAndVerify$2(MetadataManager.scala:948)\n\tat scala.runtime.java8.JFunction0$mcV$sp.apply(JFunction0$mcV$sp.java:23)\n\tat com.databricks.backend.daemon.data.server.DefaultMetadataManager.withRetries(MetadataManager.scala:729)\n\tat com.databricks.backend.daemon.data.server.DefaultMetadataManager.modifyAndVerify(MetadataManager.scala:937)\n\tat com.databricks.backend.daemon.data.server.DefaultMetadataManager.insertMount(MetadataManager.scala:588)\n\tat com.databricks.backend.daemon.data.server.handler.MountHandler.receive(MountHandler.scala:120)\n\tat com.databricks.backend.daemon.data.server.session.SessionContext.$anonfun$queryHandlers$1(SessionContext.scala:54)\n\tat com.databricks.backend.daemon.data.server.session.SessionContext.$anonfun$queryHandlers$1$adapted(SessionContext.scala:53)\n\tat scala.collection.immutable.List.foreach(List.scala:431)\n\tat com.databricks.backend.daemon.data.server.session.SessionContext.queryHandlers(SessionContext.scala:53)\n\tat com.databricks.backend.daemon.data.server.DbfsServerBackend$$anonfun$receive$4.$anonfun$applyOrElse$5(DbfsServerBackend.scala:388)\n\tat com.databricks.logging.UsageLogging.$anonfun$withAttributionContext$1(UsageLogging.scala:426)\n\tat scala.util.DynamicVariable.withValue(DynamicVariable.scala:62)\n\tat com.databricks.logging.AttributionContext$.withValue(AttributionContext.scala:216)\n\tat com.databricks.logging.UsageLogging.withAttributionContext(UsageLogging.scala:424)\n\tat com.databricks.logging.UsageLogging.withAttributionContext$(UsageLogging.scala:418)\n\tat com.databricks.rpc.ServerBackend.withAttributionContext(ServerBackend.scala:22)\n\tat com.databricks.logging.UsageLogging.withAttributionTags(UsageLogging.scala:472)\n\tat com.databricks.logging.UsageLogging.withAttributionTags$(UsageLogging.scala:455)\n\tat com.databricks.rpc.ServerBackend.withAttributionTags(ServerBackend.scala:22)\n\tat com.databricks.backend.daemon.data.server.DbfsServerBackend$$anonfun$receive$4.applyOrElse(DbfsServerBackend.scala:388)\n\tat com.databricks.backend.daemon.data.server.DbfsServerBackend$$anonfun$receive$4.applyOrElse(DbfsServerBackend.scala:332)\n\tat com.databricks.rpc.ServerBackend.$anonfun$internalReceive0$2(ServerBackend.scala:174)\n\tat com.databricks.rpc.ServerBackend$$anonfun$commonReceive$1.applyOrElse(ServerBackend.scala:200)\n\tat com.databricks.rpc.ServerBackend$$anonfun$commonReceive$1.applyOrElse(ServerBackend.scala:200)\n\tat com.databricks.rpc.ServerBackend.internalReceive0(ServerBackend.scala:171)\n\tat com.databricks.rpc.ServerBackend.$anonfun$internalReceive$1(ServerBackend.scala:147)\n\tat com.databricks.logging.UsageLogging.$anonfun$recordOperation$1(UsageLogging.scala:573)\n\tat com.databricks.logging.UsageLogging.executeThunkAndCaptureResultTags$1(UsageLogging.scala:668)\n\tat com.databricks.logging.UsageLogging.$anonfun$recordOperationWithResultTags$4(UsageLogging.scala:686)\n\tat com.databricks.logging.UsageLogging.$anonfun$withAttributionContext$1(UsageLogging.scala:426)\n\tat scala.util.DynamicVariable.withValue(DynamicVariable.scala:62)\n\tat com.databricks.logging.AttributionContext$.withValue(AttributionContext.scala:216)\n\tat com.databricks.logging.UsageLogging.withAttributionContext(UsageLogging.scala:424)\n\tat com.databricks.logging.UsageLogging.withAttributionContext$(UsageLogging.scala:418)\n\tat com.databricks.rpc.ServerBackend.withAttributionContext(ServerBackend.scala:22)\n\tat com.databricks.logging.UsageLogging.withAttributionTags(UsageLogging.scala:472)\n\tat com.databricks.logging.UsageLogging.withAttributionTags$(UsageLogging.scala:455)\n\tat com.databricks.rpc.ServerBackend.withAttributionTags(ServerBackend.scala:22)\n\tat com.databricks.logging.UsageLogging.recordOperationWithResultTags(UsageLogging.scala:663)\n\tat com.databricks.logging.UsageLogging.recordOperationWithResultTags$(UsageLogging.scala:582)\n\tat com.databricks.rpc.ServerBackend.recordOperationWithResultTags(ServerBackend.scala:22)\n\tat com.databricks.logging.UsageLogging.recordOperation(UsageLogging.scala:573)\n\tat com.databricks.logging.UsageLogging.recordOperation$(UsageLogging.scala:542)\n\tat com.databricks.rpc.ServerBackend.recordOperation(ServerBackend.scala:22)\n\tat com.databricks.rpc.ServerBackend.internalReceive(ServerBackend.scala:147)\n\tat com.databricks.rpc.JettyServer$RequestManager.handleRPC(JettyServer.scala:1020)\n\tat com.databricks.rpc.JettyServer$RequestManager.handleRequestAndRespond(JettyServer.scala:941)\n\tat com.databricks.rpc.JettyServer$RequestManager.$anonfun$handleHttp$6(JettyServer.scala:545)\n\tat com.databricks.rpc.JettyServer$RequestManager.$anonfun$handleHttp$6$adapted(JettyServer.scala:514)\n\tat com.databricks.logging.activity.ActivityContextFactory$.$anonfun$withActivityInternal$3(ActivityContextFactory.scala:398)\n\tat com.databricks.logging.UsageLogging.$anonfun$withAttributionContext$1(UsageLogging.scala:426)\n\tat scala.util.DynamicVariable.withValue(DynamicVariable.scala:62)\n\tat com.databricks.logging.AttributionContext$.withValue(AttributionContext.scala:216)\n\tat com.databricks.logging.UsageLogging.withAttributionContext(UsageLogging.scala:424)\n\tat com.databricks.logging.UsageLogging.withAttributionContext$(UsageLogging.scala:418)\n\tat com.databricks.logging.activity.ActivityContextFactory$.withAttributionContext(ActivityContextFactory.scala:53)\n\tat com.databricks.logging.activity.ActivityContextFactory$.withActivityInternal(ActivityContextFactory.scala:398)\n\tat com.databricks.logging.activity.ActivityContextFactory$.withServiceRequestActivity(ActivityContextFactory.scala:154)\n\tat com.databricks.rpc.JettyServer$RequestManager.handleHttp(JettyServer.scala:514)\n\tat com.databricks.rpc.JettyServer$RequestManager.doPost(JettyServer.scala:404)\n\tat javax.servlet.http.HttpServlet.service(HttpServlet.java:665)\n\tat com.databricks.rpc.HttpServletWithPatch.service(HttpServletWithPatch.scala:33)\n\tat javax.servlet.http.HttpServlet.service(HttpServlet.java:750)\n\tat org.eclipse.jetty.servlet.ServletHolder.handle(ServletHolder.java:848)\n\tat org.eclipse.jetty.servlet.ServletHandler.doHandle(ServletHandler.java:585)\n\tat org.eclipse.jetty.servlet.ServletHandler.doScope(ServletHandler.java:515)\n\tat org.eclipse.jetty.server.handler.ScopedHandler.handle(ScopedHandler.java:141)\n\tat org.eclipse.jetty.server.handler.HandlerWrapper.handle(HandlerWrapper.java:134)\n\tat org.eclipse.jetty.server.Server.handle(Server.java:539)\n\tat org.eclipse.jetty.server.HttpChannel.handle(HttpChannel.java:333)\n\tat org.eclipse.jetty.server.HttpConnection.onFillable(HttpConnection.java:251)\n\tat org.eclipse.jetty.io.AbstractConnection$ReadCallback.succeeded(AbstractConnection.java:283)\n\tat org.eclipse.jetty.io.FillInterest.fillable(FillInterest.java:108)\n\tat org.eclipse.jetty.io.SelectChannelEndPoint$2.run(SelectChannelEndPoint.java:93)\n\tat org.eclipse.jetty.util.thread.strategy.ExecuteProduceConsume.executeProduceConsume(ExecuteProduceConsume.java:303)\n\tat org.eclipse.jetty.util.thread.strategy.ExecuteProduceConsume.produceConsume(ExecuteProduceConsume.java:148)\n\tat org.eclipse.jetty.util.thread.strategy.ExecuteProduceConsume.run(ExecuteProduceConsume.java:136)\n\tat com.databricks.rpc.InstrumentedQueuedThreadPool$$anon$1.$anonfun$run$1(InstrumentedQueuedThreadPool.scala:81)\n\tat scala.runtime.java8.JFunction0$mcV$sp.apply(JFunction0$mcV$sp.java:23)\n\tat com.databricks.instrumentation.QueuedThreadPoolInstrumenter.trackActiveThreads(QueuedThreadPoolInstrumenter.scala:66)\n\tat com.databricks.instrumentation.QueuedThreadPoolInstrumenter.trackActiveThreads$(QueuedThreadPoolInstrumenter.scala:63)\n\tat com.databricks.rpc.InstrumentedQueuedThreadPool.trackActiveThreads(InstrumentedQueuedThreadPool.scala:47)\n\tat com.databricks.rpc.InstrumentedQueuedThreadPool$$anon$1.run(InstrumentedQueuedThreadPool.scala:76)\n\tat org.eclipse.jetty.util.thread.QueuedThreadPool.runJob(QueuedThreadPool.java:671)\n\tat org.eclipse.jetty.util.thread.QueuedThreadPool$2.run(QueuedThreadPool.java:589)\n\t... 1 more\n",
       "errorSummary": "java.rmi.RemoteException: java.lang.IllegalArgumentException: requirement failed: Directory already mounted: /mnt/staging; nested exception is: ",
       "errorTraceType": "ansi",
       "metadata": {},
       "type": "ipynbError"
      }
     },
     "output_type": "display_data"
    }
   ],
   "source": [
    "strsource=\"wasbs://\"+\"staging\"+\"@\"+\"g7casestudy\"+\".blob.core.windows.net/\"\n",
    "strmountpoint=\"/mnt/staging\"\n",
    "strkey=\"fs.azure.account.key.\"+\"g7casestudy\"+\".blob.core.windows.net\"\n",
    "strvalue=\"WBVvueMigJ4MFr/uL6gAipl9c9IZl/GBz1lH+GAtREBp2F0eOoy3qPNuw79mKZX075IrnTVTSSpR+AStzgUXfg==\"\n",
    "result=dbutils.fs.mount(\n",
    "    source=strsource,\n",
    "    mount_point=strmountpoint,\n",
    "    extra_configs={strkey:strvalue}\n",
    ")"
   ]
  },
  {
   "cell_type": "code",
   "execution_count": 0,
   "metadata": {
    "application/vnd.databricks.v1+cell": {
     "cellMetadata": {
      "byteLimit": 2048000,
      "rowLimit": 10000
     },
     "inputWidgets": {},
     "nuid": "2ffeb7ff-9d07-43a7-a6e6-f8c7ab55f393",
     "showTitle": false,
     "title": ""
    }
   },
   "outputs": [
    {
     "output_type": "execute_result",
     "data": {
      "text/plain": [
       "[FileInfo(path='dbfs:/mnt/staging/_SUCCESS', name='_SUCCESS', size=0, modificationTime=1696565150000),\n",
       " FileInfo(path='dbfs:/mnt/staging/_committed_6698972463593430581', name='_committed_6698972463593430581', size=864, modificationTime=1696565149000),\n",
       " FileInfo(path='dbfs:/mnt/staging/_committed_9096553128039432836', name='_committed_9096553128039432836', size=693, modificationTime=1696490548000),\n",
       " FileInfo(path='dbfs:/mnt/staging/_started_6698972463593430581', name='_started_6698972463593430581', size=0, modificationTime=1696565146000),\n",
       " FileInfo(path='dbfs:/mnt/staging/alt_fuel_biodiesel.csv', name='alt_fuel_biodiesel.csv', size=166790, modificationTime=1696566088000),\n",
       " FileInfo(path='dbfs:/mnt/staging/altfuelstations.csv', name='altfuelstations.csv', size=25881118, modificationTime=1696565550000),\n",
       " FileInfo(path='dbfs:/mnt/staging/part-00000-tid-6698972463593430581-94b6f5b6-4abd-4ce5-a60a-c7febd88903e-90-1-c000.csv', name='part-00000-tid-6698972463593430581-94b6f5b6-4abd-4ce5-a60a-c7febd88903e-90-1-c000.csv', size=25991927, modificationTime=1696565149000)]"
      ]
     },
     "execution_count": 24,
     "metadata": {},
     "output_type": "execute_result"
    }
   ],
   "source": [
    "dbutils.fs.ls('/mnt/staging')"
   ]
  },
  {
   "cell_type": "code",
   "execution_count": 0,
   "metadata": {
    "application/vnd.databricks.v1+cell": {
     "cellMetadata": {
      "byteLimit": 2048000,
      "rowLimit": 10000
     },
     "inputWidgets": {},
     "nuid": "5666121e-2a85-4c38-bb6e-ec74e149ff14",
     "showTitle": false,
     "title": ""
    }
   },
   "outputs": [],
   "source": [
    "df=spark.read.csv(\"/mnt/staging/altfuelstations.csv\",inferSchema=\"true\",header=\"True\")"
   ]
  },
  {
   "cell_type": "code",
   "execution_count": 0,
   "metadata": {
    "application/vnd.databricks.v1+cell": {
     "cellMetadata": {
      "byteLimit": 2048000,
      "rowLimit": 10000
     },
     "inputWidgets": {},
     "nuid": "526dbd65-8325-4dd5-83f6-7306329ccf66",
     "showTitle": false,
     "title": ""
    }
   },
   "outputs": [
    {
     "output_type": "stream",
     "name": "stdout",
     "output_type": "stream",
     "text": [
      "['Fuel Type Code', 'Station Name', 'Street Address', 'Intersection Directions', 'City', 'State', 'ZIP', 'Plus4', 'Station Phone', 'Status Code', 'Expected Date', 'Groups With Access Code', 'Access Days Time', 'Cards Accepted', 'BD Blends', 'NG Fill Type Code', 'NG PSI', 'EV Level1 EVSE Num', 'EV Level2 EVSE Num', 'EV DC Fast Count', 'EV Other Info', 'EV Network', 'EV Network Web', 'Geocode Status', 'Latitude', 'Longitude', 'Date Last Confirmed', 'ID', 'Updated At', 'Owner Type Code', 'Federal Agency ID', 'Federal Agency Name', 'Open Date', 'Hydrogen Status Link', 'NG Vehicle Class', 'LPG Primary', 'E85 Blender Pump', 'EV Connector Types', 'Country', 'Intersection Directions (French)', 'Access Days Time (French)', 'BD Blends (French)', 'Groups With Access Code (French)', 'Hydrogen Is Retail', 'Access Code', 'Access Detail Code', 'Federal Agency Code', 'Facility Type', 'CNG Dispenser Num', 'CNG On-Site Renewable Source', 'CNG Total Compression Capacity', 'CNG Storage Capacity', 'LNG On-Site Renewable Source', 'E85 Other Ethanol Blends', 'EV Pricing', 'EV Pricing (French)', 'LPG Nozzle Types', 'Hydrogen Pressures', 'Hydrogen Standards', 'CNG Fill Type Code', 'CNG PSI', 'CNG Vehicle Class', 'LNG Vehicle Class', 'EV On-Site Renewable Source', 'Restricted Access', 'RD Blends', 'RD Blends (French)', 'RD Blended with Biodiesel', 'RD Maximum Biodiesel Level', 'NPS Unit Name', 'CNG Station Sells Renewable Natural Gas', 'LNG Station Sells Renewable Natural Gas', 'Maximum Vehicle Class', 'EV Workplace Charging']\n"
     ]
    }
   ],
   "source": [
    "column_names = df.columns\n",
    "print(column_names)\n"
   ]
  },
  {
   "cell_type": "code",
   "execution_count": 0,
   "metadata": {
    "application/vnd.databricks.v1+cell": {
     "cellMetadata": {
      "byteLimit": 2048000,
      "rowLimit": 10000
     },
     "inputWidgets": {},
     "nuid": "4ba214aa-7dfd-4dea-867b-9fa7f7e8b8f5",
     "showTitle": false,
     "title": ""
    }
   },
   "outputs": [
    {
     "output_type": "execute_result",
     "data": {
      "text/plain": [
       "DataFrame[Fuel Type Code: string, Station Name: string, Street Address: string, Intersection Directions: string, City: string, State: string, ZIP: string, Plus4: string, Station Phone: string, Status Code: string, Expected Date: string, Groups With Access Code: string, Access Days Time: string, Cards Accepted: string, BD Blends: string, NG Fill Type Code: string, NG PSI: string, EV Level1 EVSE Num: int, EV Level2 EVSE Num: string, EV DC Fast Count: string, EV Other Info: string, EV Network: string, EV Network Web: string, Geocode Status: string, Latitude: string, Longitude: string, Date Last Confirmed: string, ID: string, Updated At: string, Owner Type Code: string, Federal Agency ID: string, Federal Agency Name: string, Open Date: date, Hydrogen Status Link: string, NG Vehicle Class: string, LPG Primary: string, E85 Blender Pump: string, EV Connector Types: string, Country: string, Intersection Directions (French): string, Access Days Time (French): string, BD Blends (French): string, Groups With Access Code (French): string, Hydrogen Is Retail: string, Access Code: string, Access Detail Code: string, Federal Agency Code: string, Facility Type: string, CNG Dispenser Num: string, CNG On-Site Renewable Source: string, CNG Total Compression Capacity: int, CNG Storage Capacity: string, LNG On-Site Renewable Source: string, E85 Other Ethanol Blends: string, EV Pricing: string, EV Pricing (French): string, LPG Nozzle Types: string, Hydrogen Pressures: string, Hydrogen Standards: string, CNG Fill Type Code: string, CNG PSI: string, CNG Vehicle Class: string, LNG Vehicle Class: string, EV On-Site Renewable Source: string, Restricted Access: boolean, RD Blends: string, RD Blends (French): boolean, RD Blended with Biodiesel: string, RD Maximum Biodiesel Level: int, NPS Unit Name: string, CNG Station Sells Renewable Natural Gas: boolean, LNG Station Sells Renewable Natural Gas: boolean, Maximum Vehicle Class: string, EV Workplace Charging: string]"
      ]
     },
     "execution_count": 28,
     "metadata": {},
     "output_type": "execute_result"
    }
   ],
   "source": [
    "df.dropDuplicates()"
   ]
  },
  {
   "cell_type": "code",
   "execution_count": 0,
   "metadata": {
    "application/vnd.databricks.v1+cell": {
     "cellMetadata": {
      "byteLimit": 2048000,
      "rowLimit": 10000
     },
     "inputWidgets": {},
     "nuid": "4b849705-6dff-4442-bc65-b5e88de6b881",
     "showTitle": false,
     "title": ""
    }
   },
   "outputs": [],
   "source": [
    "##standardization\n",
    "from pyspark.sql.functions import upper\n",
    "\n",
    "df = df.withColumn('City', upper(df['City']))"
   ]
  },
  {
   "cell_type": "code",
   "execution_count": 0,
   "metadata": {
    "application/vnd.databricks.v1+cell": {
     "cellMetadata": {},
     "inputWidgets": {},
     "nuid": "471a6dbf-94e5-42d1-9d3e-abded18b1680",
     "showTitle": false,
     "title": ""
    }
   },
   "outputs": [],
   "source": [
    "from pyspark.sql.functions import col\n",
    "\n",
    "df =df.withColumn('ZIP', col('ZIP').cast('integer'))\n"
   ]
  },
  {
   "cell_type": "code",
   "execution_count": 0,
   "metadata": {
    "application/vnd.databricks.v1+cell": {
     "cellMetadata": {
      "byteLimit": 2048000,
      "rowLimit": 10000
     },
     "inputWidgets": {},
     "nuid": "93fe608d-789b-4b66-996a-dec389c2c383",
     "showTitle": false,
     "title": ""
    }
   },
   "outputs": [
    {
     "output_type": "stream",
     "name": "stdout",
     "output_type": "stream",
     "text": [
      "+--------------+--------------------+--------------------+-------------+-----+-----+-----+-------+\n|Fuel Type Code|        Station Name|      Street Address|         City|State|  ZIP|Plus4|Country|\n+--------------+--------------------+--------------------+-------------+-----+-----+-----+-------+\n|           CNG|Spire - Montgomer...|    2951 Chestnut St|   Montgomery|   AL|36107| NULL|     US|\n|           CNG|Metropolitan Atla...| 2424 Piedmont Rd NE|      Atlanta|   GA|30324| NULL|     US|\n|           CNG|United Parcel Ser...|270 Marvin Miller Dr|      Atlanta|   GA|30336| NULL|     US|\n|           CNG|Arkansas Oklahoma...|   2100 S Waldron Rd|   Fort Smith|   AR|72903| NULL|     US|\n|           CNG|Clean Energy - Lo...| 1000 Cottage St Ext|  East Boston|   MA| 2128| NULL|     US|\n|           CNG|Clean Energy - Ev...|         16 Rover St|      Everett|   MA| 2149| NULL|     US|\n|           CNG|Clean Energy - Gr...|     287 Maspeth Ave|     Brooklyn|   NY|11211| NULL|     US|\n|           CNG|Canarsie - Nation...|     8424 Ditmas Ave|     Brooklyn|   NY|11236| NULL|     US|\n|           CNG|Con Edison - Van ...|  1615 Bronxdale Ave|        Bronx|   NY|10462| NULL|     US|\n|           CNG|Con Edison - Rye ...|178 Theodore Frem...|          Rye|   NY|10580| NULL|     US|\n|           CNG|Con Edison - Coll...|     124-15 31st Ave|       Queens|   NY|11354| NULL|     US|\n|           CNG|CNG Source Fuelin...|    111 W Raymond St| Indianapolis|   IN|46225| NULL|     US|\n|           CNG|  Black Hills Energy|      1301 W 24th St|     Cheyenne|   WY|82001| NULL|     US|\n|           CNG|               Shell|     131 Brainard Rd|     Hartford|   CT| 6114| NULL|     US|\n|           CNG|Clean Energy - Ci...|      2931 Rufina St|     Santa Fe|   NM|87507| NULL|     US|\n|           CNG|  Kansas Gas Service|     11401 W 89th St|Overland Park|   KS|66214| NULL|     US|\n|           CNG|Intermountain Gas Co|       555 S Cole Rd|        Boise|   ID|83709| NULL|     US|\n|           CNG|Intermountain Gas Co|    12584 W Tyhee Rd|    Pocatello|   ID|83202| NULL|     US|\n|           CNG|Intermountain Gas Co|   1527 Hollipark Dr|  Idaho Falls|   ID|83401| NULL|     US|\n|           CNG|Intermountain Gas Co|  2921 Caldwell Blvd|        Nampa|   ID|83651| NULL|     US|\n+--------------+--------------------+--------------------+-------------+-----+-----+-----+-------+\nonly showing top 20 rows\n\n"
     ]
    }
   ],
   "source": [
    "selected_df = df.select(\"Fuel Type Code\", \"Station Name\", \"Street Address\", \"City\", \"State\", \"ZIP\", \"Plus4\", \"Country\")\n",
    "\n",
    "# Show the selected DataFrame\n",
    "selected_df.show()"
   ]
  },
  {
   "cell_type": "code",
   "execution_count": 0,
   "metadata": {
    "application/vnd.databricks.v1+cell": {
     "cellMetadata": {
      "byteLimit": 2048000,
      "rowLimit": 10000
     },
     "inputWidgets": {},
     "nuid": "9a91beee-e6d3-4555-89ec-8dd8962a8a84",
     "showTitle": false,
     "title": ""
    }
   },
   "outputs": [
    {
     "output_type": "execute_result",
     "data": {
      "text/plain": [
       "DataFrame[Fuel Type Code: string, Station Name: string, Street Address: string, City: string, State: string, ZIP: string, Plus4: string, Country: string]"
      ]
     },
     "execution_count": 31,
     "metadata": {},
     "output_type": "execute_result"
    }
   ],
   "source": [
    "selected_df.dropna()"
   ]
  },
  {
   "cell_type": "code",
   "execution_count": 0,
   "metadata": {
    "application/vnd.databricks.v1+cell": {
     "cellMetadata": {
      "byteLimit": 2048000,
      "rowLimit": 10000
     },
     "inputWidgets": {},
     "nuid": "d40671a5-bd03-403b-96a1-9c4f11660388",
     "showTitle": false,
     "title": ""
    }
   },
   "outputs": [
    {
     "output_type": "stream",
     "name": "stdout",
     "output_type": "stream",
     "text": [
      "Column 'Fuel Type Code': 0 null values\nColumn 'Station Name': 152 null values\nColumn 'Street Address': 124 null values\nColumn 'City': 348 null values\nColumn 'State': 388 null values\nColumn 'ZIP': 289 null values\nColumn 'Plus4': 77526 null values\nColumn 'Country': 468 null values\n"
     ]
    }
   ],
   "source": [
    "# Create a list of column names\n",
    "from pyspark.sql.functions import col\n",
    "column_names = selected_df.columns\n",
    "\n",
    "# Use a for loop to iterate through the columns and count null values\n",
    "for column_name in column_names:\n",
    "    null_count = selected_df.filter(col(column_name).isNull()).count()\n",
    "    print(f\"Column '{column_name}': {null_count} null values\")"
   ]
  },
  {
   "cell_type": "code",
   "execution_count": 0,
   "metadata": {
    "application/vnd.databricks.v1+cell": {
     "cellMetadata": {
      "byteLimit": 2048000,
      "rowLimit": 10000
     },
     "inputWidgets": {},
     "nuid": "d5e978c1-cc7b-4837-b6f8-22e32662586d",
     "showTitle": false,
     "title": ""
    }
   },
   "outputs": [],
   "source": [
    "selected_df.createOrReplaceTempView(\"fuelstationstable\")\n",
    "df.createOrReplaceTempView(\"fuelstationstablemain\")"
   ]
  },
  {
   "cell_type": "code",
   "execution_count": 0,
   "metadata": {
    "application/vnd.databricks.v1+cell": {
     "cellMetadata": {},
     "inputWidgets": {},
     "nuid": "92a1e5bf-d083-4e58-b29c-99a5b57156a4",
     "showTitle": false,
     "title": ""
    }
   },
   "outputs": [],
   "source": [
    "##data analyisis with sql"
   ]
  },
  {
   "cell_type": "code",
   "execution_count": 0,
   "metadata": {
    "application/vnd.databricks.v1+cell": {
     "cellMetadata": {},
     "inputWidgets": {},
     "nuid": "dc0b9df3-edfc-4132-895b-2a9707982d42",
     "showTitle": false,
     "title": ""
    }
   },
   "outputs": [],
   "source": [
    "#cities with the highest number of null values in the 'ZIP'"
   ]
  },
  {
   "cell_type": "code",
   "execution_count": 0,
   "metadata": {
    "application/vnd.databricks.v1+cell": {
     "cellMetadata": {
      "byteLimit": 2048000,
      "implicitDf": true,
      "rowLimit": 10000
     },
     "inputWidgets": {},
     "nuid": "f2ee0a99-7170-467e-a229-c53aa2f4502c",
     "showTitle": false,
     "title": ""
    }
   },
   "outputs": [
    {
     "output_type": "display_data",
     "data": {
      "text/html": [
       "<style scoped>\n",
       "  .table-result-container {\n",
       "    max-height: 300px;\n",
       "    overflow: auto;\n",
       "  }\n",
       "  table, th, td {\n",
       "    border: 1px solid black;\n",
       "    border-collapse: collapse;\n",
       "  }\n",
       "  th, td {\n",
       "    padding: 5px;\n",
       "  }\n",
       "  th {\n",
       "    text-align: left;\n",
       "  }\n",
       "</style><div class='table-result-container'><table class='table-result'><thead style='background-color: white'><tr><th>City</th><th>null_zip_count</th></tr></thead><tbody><tr><td>DE</td><td>4</td></tr><tr><td>WI</td><td>2</td></tr><tr><td>MA</td><td>2</td></tr><tr><td>AZ</td><td>1</td></tr><tr><td>DC</td><td>1</td></tr><tr><td>NC</td><td>1</td></tr><tr><td>NY</td><td>1</td></tr><tr><td>CO</td><td>1</td></tr><tr><td>FL</td><td>1</td></tr><tr><td>VA</td><td>1</td></tr></tbody></table></div>"
      ]
     },
     "metadata": {
      "application/vnd.databricks.v1+output": {
       "addedWidgets": {},
       "aggData": [],
       "aggError": "",
       "aggOverflow": false,
       "aggSchema": [],
       "aggSeriesLimitReached": false,
       "aggType": "",
       "arguments": {},
       "columnCustomDisplayInfos": {},
       "data": [
        [
         "DE",
         4
        ],
        [
         "WI",
         2
        ],
        [
         "MA",
         2
        ],
        [
         "AZ",
         1
        ],
        [
         "DC",
         1
        ],
        [
         "NC",
         1
        ],
        [
         "NY",
         1
        ],
        [
         "CO",
         1
        ],
        [
         "FL",
         1
        ],
        [
         "VA",
         1
        ]
       ],
       "datasetInfos": [],
       "dbfsResultPath": null,
       "isJsonSchema": true,
       "metadata": {
        "dataframeName": "_sqldf",
        "executionCount": 43
       },
       "overflow": false,
       "plotOptions": {
        "customPlotOptions": {},
        "displayType": "table",
        "pivotAggregation": null,
        "pivotColumns": null,
        "xColumns": null,
        "yColumns": null
       },
       "removedWidgets": [],
       "schema": [
        {
         "metadata": "{}",
         "name": "City",
         "type": "\"string\""
        },
        {
         "metadata": "{}",
         "name": "null_zip_count",
         "type": "\"long\""
        }
       ],
       "type": "table"
      }
     },
     "output_type": "display_data"
    }
   ],
   "source": [
    "%sql\n",
    "SELECT City, COUNT(*) AS null_zip_count\n",
    "FROM fuelstationstable\n",
    "WHERE ZIP IS NULL\n",
    "GROUP BY City\n",
    "ORDER BY null_zip_count DESC\n",
    "LIMIT 10\n",
    "OFFSET 1\n"
   ]
  },
  {
   "cell_type": "code",
   "execution_count": 0,
   "metadata": {
    "application/vnd.databricks.v1+cell": {
     "cellMetadata": {},
     "inputWidgets": {},
     "nuid": "65a3f212-d11a-4942-b057-441851642f11",
     "showTitle": false,
     "title": ""
    }
   },
   "outputs": [],
   "source": [
    "##unique fuelt types\n"
   ]
  },
  {
   "cell_type": "code",
   "execution_count": 0,
   "metadata": {
    "application/vnd.databricks.v1+cell": {
     "cellMetadata": {
      "byteLimit": 2048000,
      "implicitDf": true,
      "rowLimit": 10000
     },
     "inputWidgets": {},
     "nuid": "8256baba-5182-4973-8278-23135787586a",
     "showTitle": false,
     "title": ""
    }
   },
   "outputs": [
    {
     "output_type": "display_data",
     "data": {
      "text/html": [
       "<style scoped>\n",
       "  .table-result-container {\n",
       "    max-height: 300px;\n",
       "    overflow: auto;\n",
       "  }\n",
       "  table, th, td {\n",
       "    border: 1px solid black;\n",
       "    border-collapse: collapse;\n",
       "  }\n",
       "  th, td {\n",
       "    padding: 5px;\n",
       "  }\n",
       "  th {\n",
       "    text-align: left;\n",
       "  }\n",
       "</style><div class='table-result-container'><table class='table-result'><thead style='background-color: white'><tr><th>unique_fuel_types</th></tr></thead><tbody><tr><td>244</td></tr></tbody></table></div>"
      ]
     },
     "metadata": {
      "application/vnd.databricks.v1+output": {
       "addedWidgets": {},
       "aggData": [],
       "aggError": "",
       "aggOverflow": false,
       "aggSchema": [],
       "aggSeriesLimitReached": false,
       "aggType": "",
       "arguments": {},
       "columnCustomDisplayInfos": {},
       "data": [
        [
         244
        ]
       ],
       "datasetInfos": [],
       "dbfsResultPath": null,
       "isJsonSchema": true,
       "metadata": {
        "dataframeName": "_sqldf",
        "executionCount": 44
       },
       "overflow": false,
       "plotOptions": {
        "customPlotOptions": {},
        "displayType": "table",
        "pivotAggregation": null,
        "pivotColumns": null,
        "xColumns": null,
        "yColumns": null
       },
       "removedWidgets": [],
       "schema": [
        {
         "metadata": "{}",
         "name": "unique_fuel_types",
         "type": "\"long\""
        }
       ],
       "type": "table"
      }
     },
     "output_type": "display_data"
    }
   ],
   "source": [
    "%sql\n",
    "SELECT COUNT(DISTINCT `Fuel Type Code`) AS unique_fuel_types\n",
    "FROM fuelstationstable;\n"
   ]
  },
  {
   "cell_type": "code",
   "execution_count": 0,
   "metadata": {
    "application/vnd.databricks.v1+cell": {
     "cellMetadata": {},
     "inputWidgets": {},
     "nuid": "f7e6b436-1bf0-407d-8176-f2482008bf5e",
     "showTitle": false,
     "title": ""
    }
   },
   "outputs": [],
   "source": [
    "#State with the most alternate fuel stations."
   ]
  },
  {
   "cell_type": "code",
   "execution_count": 0,
   "metadata": {
    "application/vnd.databricks.v1+cell": {
     "cellMetadata": {
      "byteLimit": 2048000,
      "implicitDf": true,
      "rowLimit": 10000
     },
     "inputWidgets": {},
     "nuid": "2712e245-0b8c-47a3-9de1-194c34a6b543",
     "showTitle": false,
     "title": ""
    }
   },
   "outputs": [
    {
     "output_type": "display_data",
     "data": {
      "text/html": [
       "<style scoped>\n",
       "  .table-result-container {\n",
       "    max-height: 300px;\n",
       "    overflow: auto;\n",
       "  }\n",
       "  table, th, td {\n",
       "    border: 1px solid black;\n",
       "    border-collapse: collapse;\n",
       "  }\n",
       "  th, td {\n",
       "    padding: 5px;\n",
       "  }\n",
       "  th {\n",
       "    text-align: left;\n",
       "  }\n",
       "</style><div class='table-result-container'><table class='table-result'><thead style='background-color: white'><tr><th>State</th><th>count(ID)</th></tr></thead><tbody><tr><td>CA</td><td>18874</td></tr></tbody></table></div>"
      ]
     },
     "metadata": {
      "application/vnd.databricks.v1+output": {
       "addedWidgets": {},
       "aggData": [],
       "aggError": "",
       "aggOverflow": false,
       "aggSchema": [],
       "aggSeriesLimitReached": false,
       "aggType": "",
       "arguments": {},
       "columnCustomDisplayInfos": {},
       "data": [
        [
         "CA",
         18874
        ]
       ],
       "datasetInfos": [],
       "dbfsResultPath": null,
       "isJsonSchema": true,
       "metadata": {
        "dataframeName": "_sqldf",
        "executionCount": 39
       },
       "overflow": false,
       "plotOptions": {
        "customPlotOptions": {},
        "displayType": "table",
        "pivotAggregation": null,
        "pivotColumns": null,
        "xColumns": null,
        "yColumns": null
       },
       "removedWidgets": [],
       "schema": [
        {
         "metadata": "{}",
         "name": "State",
         "type": "\"string\""
        },
        {
         "metadata": "{\"__autoGeneratedAlias\":\"true\"}",
         "name": "count(ID)",
         "type": "\"long\""
        }
       ],
       "type": "table"
      }
     },
     "output_type": "display_data"
    }
   ],
   "source": [
    "%sql\n",
    "\n",
    "select State,Count(ID) from fuelstationstablemain group by State order by Count(ID) desc limit 1\n",
    "\n"
   ]
  },
  {
   "cell_type": "code",
   "execution_count": 0,
   "metadata": {
    "application/vnd.databricks.v1+cell": {
     "cellMetadata": {},
     "inputWidgets": {},
     "nuid": "1d660db3-8e6e-4b61-ae51-be728c03f853",
     "showTitle": false,
     "title": ""
    }
   },
   "outputs": [],
   "source": [
    "#trend of buying biodiesel state wise"
   ]
  },
  {
   "cell_type": "code",
   "execution_count": 0,
   "metadata": {
    "application/vnd.databricks.v1+cell": {
     "cellMetadata": {
      "byteLimit": 2048000,
      "implicitDf": true,
      "rowLimit": 10000
     },
     "inputWidgets": {},
     "nuid": "8524bf7c-a501-49ee-af9d-5942e0aa9c17",
     "showTitle": false,
     "title": ""
    }
   },
   "outputs": [
    {
     "output_type": "display_data",
     "data": {
      "text/html": [
       "<style scoped>\n",
       "  .table-result-container {\n",
       "    max-height: 300px;\n",
       "    overflow: auto;\n",
       "  }\n",
       "  table, th, td {\n",
       "    border: 1px solid black;\n",
       "    border-collapse: collapse;\n",
       "  }\n",
       "  th, td {\n",
       "    padding: 5px;\n",
       "  }\n",
       "  th {\n",
       "    text-align: left;\n",
       "  }\n",
       "</style><div class='table-result-container'><table class='table-result'><thead style='background-color: white'><tr><th>Fuel Type Code</th><th>Station Name</th><th>Street Address</th><th>City</th><th>State</th><th>ZIP</th><th>Plus4</th><th>Country</th></tr></thead><tbody><tr><td>BD</td><td>Dr. Dan's Alternative Fuels Werks</td><td>912 NW 50th St</td><td>Seattle</td><td>WA</td><td>98107</td><td>null</td><td>US</td></tr><tr><td>BD</td><td>Currituck County - North Carolina DOT</td><td>NC-1246</td><td>Maple</td><td>NC</td><td>27956</td><td>null</td><td>US</td></tr><tr><td>BD</td><td>Person County - North Carolina DOT</td><td>517 Leasburg Rd</td><td>Roxboro</td><td>NC</td><td>27574</td><td>null</td><td>US</td></tr><tr><td>BD</td><td>Durham County - North Carolina DOT</td><td>3910 Guess Rd</td><td>Durham</td><td>NC</td><td>27705</td><td>null</td><td>US</td></tr><tr><td>BD</td><td>Granville County - North Carolina DOT</td><td>5677 Cornwall Rd</td><td>Oxford</td><td>NC</td><td>27565</td><td>null</td><td>US</td></tr><tr><td>BD</td><td>Franklin County - North Carolina DOT</td><td>NC 39 Highway S</td><td>Bunn</td><td>NC</td><td>27508</td><td>null</td><td>US</td></tr><tr><td>BD</td><td>Vance County - North Carolina DOT</td><td>465 Gillburg Rd</td><td>Henderson</td><td>NC</td><td>27537</td><td>null</td><td>US</td></tr><tr><td>BD</td><td>Warren County - North Carolina DOT</td><td>State Route 1001</td><td>Warrenton</td><td>NC</td><td>27589</td><td>null</td><td>US</td></tr><tr><td>BD</td><td>Wake County Method Shop - North Carolina DOT</td><td>1301 Blue Ridge Rd</td><td>Raleigh</td><td>NC</td><td>27607</td><td>null</td><td>US</td></tr><tr><td>BD</td><td>Guilford County - North Carolina DOT</td><td>Sandy Camp Rd</td><td>High Point</td><td>NC</td><td>27265</td><td>null</td><td>US</td></tr><tr><td>BD</td><td>Cabarrus County - North Carolina DOT</td><td>State Route 2604</td><td>Mt. Pleasant</td><td>NC</td><td>28124</td><td>null</td><td>US</td></tr><tr><td>BD</td><td>Gaston County - North Carolina DOT</td><td>1301 Dallas Cherryville Hwy</td><td>Dallas</td><td>NC</td><td>28034</td><td>null</td><td>US</td></tr><tr><td>BD</td><td>Lincoln County - North Carolina DOT</td><td>499 Prison Camp Rd</td><td>Lincolnton</td><td>NC</td><td>28092</td><td>null</td><td>US</td></tr><tr><td>BD</td><td>Alexander County - North Carolina DOT</td><td>2370 Highway 90 E</td><td>Taylorsville</td><td>NC</td><td>28681</td><td>null</td><td>US</td></tr><tr><td>BD</td><td>Catawba County - North Carolina DOT</td><td>1302 Prison Camp Rd</td><td>Newton</td><td>NC</td><td>28658</td><td>null</td><td>US</td></tr><tr><td>BD</td><td>Forsyth County - North Carolina DOT</td><td>399 Craft Dr</td><td>Winston-Salem</td><td>NC</td><td>27105</td><td>null</td><td>US</td></tr><tr><td>BD</td><td>Union County - North Carolina DOT</td><td>US-74</td><td>Monroe</td><td>NC</td><td>28112</td><td>null</td><td>US</td></tr><tr><td>BD</td><td>Mecklenburg County - North Carolina DOT</td><td>6820 Rozzelles Ferry Rd</td><td>Charlotte</td><td>NC</td><td>28214</td><td>null</td><td>US</td></tr><tr><td>BD</td><td>Cleveland County - North Carolina DOT</td><td>254 Kemper Rd</td><td>Shelby</td><td>NC</td><td>28152</td><td>null</td><td>US</td></tr><tr><td>BD</td><td>Iredell County - North Carolina DOT</td><td>124 Prison Camp Rd</td><td>Statesville</td><td>NC</td><td>28625</td><td>null</td><td>US</td></tr><tr><td>BD</td><td>University of Michigan</td><td>1213 Kipke Dr</td><td>Ann Arbor</td><td>MI</td><td>48109</td><td>null</td><td>US</td></tr><tr><td>BD</td><td>University of Michigan</td><td>3256 Baxter Rd</td><td>Ann Arbor</td><td>MI</td><td>48109</td><td>null</td><td>US</td></tr><tr><td>BD</td><td>City of Keene</td><td>330 Marlboro Rd</td><td>Keene</td><td>NH</td><td>3431</td><td>null</td><td>US</td></tr><tr><td>BD</td><td>Pearson Fuels Depot</td><td>4067 El Cajon Blvd</td><td>San Diego</td><td>CA</td><td>92105</td><td>null</td><td>US</td></tr><tr><td>BD</td><td>Shoco Oil</td><td>5135 E 74th Ave</td><td>Commerce City</td><td>CO</td><td>80022</td><td>null</td><td>US</td></tr><tr><td>BD</td><td>Travis Air Force Base</td><td>611 Collins Dr</td><td>Fairfield</td><td>CA</td><td>94535</td><td>null</td><td>US</td></tr><tr><td>BD</td><td>Peterson Air Force Base</td><td>1143 Otis St</td><td>Colorado Springs</td><td>CO</td><td>80914</td><td>null</td><td>US</td></tr><tr><td>BD</td><td>Jay's Garage</td><td>734 SE 7th Ave</td><td>Portland</td><td>OR</td><td>97214</td><td>null</td><td>US</td></tr><tr><td>BD</td><td>Mecklenburg County - North Carolina DOT</td><td>12033-A E Independence Blvd</td><td>Matthews</td><td>NC</td><td>28105</td><td>null</td><td>US</td></tr><tr><td>BD</td><td>Dal Soglio Sinclair</td><td>7398 S 700 W</td><td>Midvale</td><td>UT</td><td>84047</td><td>null</td><td>US</td></tr><tr><td>BD</td><td>Western States Petroleum</td><td>450 S 15th Ave</td><td>Phoenix</td><td>AZ</td><td>85007</td><td>null</td><td>US</td></tr><tr><td>BD</td><td>Kennedy Space Center</td><td>C & 3rd St</td><td>Kennedy Space Center</td><td>FL</td><td>32899</td><td>null</td><td>US</td></tr><tr><td>BD</td><td>Glenn Research Center</td><td>5577 Taylor Rd</td><td>Cleveland</td><td>OH</td><td>44135</td><td>null</td><td>US</td></tr><tr><td>BD</td><td>South Carolina Department of Transportation - Aiken</td><td>1931 University Pkwy</td><td>Aiken</td><td>SC</td><td>29801</td><td>null</td><td>US</td></tr><tr><td>BD</td><td>South Carolina Department of Transportation - Orangeburg</td><td>1768 Charleston Hwy</td><td>Orangeburg</td><td>SC</td><td>29115</td><td>null</td><td>US</td></tr><tr><td>BD</td><td>South Carolina Department of Transportation - Newberry</td><td>203 Mount Bethel Garmany Rd</td><td>Newberry</td><td>SC</td><td>29108</td><td>null</td><td>US</td></tr><tr><td>BD</td><td>South Carolina Department of Transportation - St. George</td><td>5225 E Jim Bilton Blvd</td><td>St. George</td><td>SC</td><td>29477</td><td>null</td><td>US</td></tr><tr><td>BD</td><td>South Carolina Department of Transportation - Richland</td><td>7201 Fairfield Rd</td><td>Columbia</td><td>SC</td><td>29203</td><td>null</td><td>US</td></tr><tr><td>BD</td><td>South Carolina Department of Transportation - Equipment Depot</td><td>1424 Shop Rd</td><td>Columbia</td><td>SC</td><td>29208</td><td>null</td><td>US</td></tr><tr><td>BD</td><td>Santee Cooper Transportation Services</td><td>1 Riverwood Dr</td><td>Moncks Corner</td><td>SC</td><td>29461</td><td>null</td><td>US</td></tr><tr><td>BD</td><td>BioFuel Oasis</td><td>1441 Ashby Ave</td><td>Berkeley</td><td>CA</td><td>94702</td><td>null</td><td>US</td></tr><tr><td>BD</td><td>SeQuential Biofuels</td><td>86714 McVay Hwy</td><td>Eugene</td><td>OR</td><td>97405</td><td>null</td><td>US</td></tr><tr><td>BD</td><td>Star Oilco - SeQuential Biofuels</td><td>232 Middlefield Rd</td><td>Portland</td><td>OR</td><td>97211</td><td>null</td><td>US</td></tr><tr><td>BD</td><td>John Ray & Sons</td><td>2900 6th Ave</td><td>Troy</td><td>NY</td><td>12180</td><td>null</td><td>US</td></tr><tr><td>BD</td><td>Bonneville Power Administration</td><td>5411 NE Highway 99</td><td>Vancouver</td><td>WA</td><td>98663</td><td>null</td><td>US</td></tr><tr><td>BD</td><td>University of South Florida</td><td>13327 USF Plum Dr</td><td>Tampa</td><td>FL</td><td>33620</td><td>null</td><td>US</td></tr><tr><td>BD</td><td>Joint Base Anacostia Bolling</td><td>365 Thomas Rd</td><td>Washington</td><td>DC</td><td>20373</td><td>null</td><td>US</td></tr><tr><td>BD</td><td>Robins Air Force Base</td><td>640 2nd St</td><td>Macon</td><td>GA</td><td>31098</td><td>null</td><td>US</td></tr><tr><td>BD</td><td>National Institutes of Health</td><td>9000 Rockville Pike</td><td>Bethesda</td><td>MD</td><td>20892</td><td>null</td><td>US</td></tr><tr><td>BD</td><td>Nellis Air Force Base</td><td>6197 Depot Rd</td><td>Las Vegas</td><td>NV</td><td>89191</td><td>null</td><td>US</td></tr><tr><td>BD</td><td>Davis Monthan Air Force Base</td><td>4655 S Flightline Rd</td><td>Tucson</td><td>AZ</td><td>85707</td><td>null</td><td>US</td></tr><tr><td>BD</td><td>Laughlin Air Force Base</td><td>54 Arkansas St</td><td>Laughlin AFB</td><td>TX</td><td>78843</td><td>null</td><td>US</td></tr><tr><td>BD</td><td>McChord Air Force Base</td><td>930 Tacoma Ave S</td><td>Tacoma</td><td>WA</td><td>98438</td><td>null</td><td>US</td></tr><tr><td>BD</td><td>Carl's Junior 76 Station</td><td>2140 N Nimitz Hwy</td><td>Honolulu</td><td>HI</td><td>96819</td><td>null</td><td>US</td></tr><tr><td>BD</td><td>Leathers - Portland</td><td>18145 SE Division</td><td>Portland</td><td>OR</td><td>97236</td><td>null</td><td>US</td></tr><tr><td>BD</td><td>Bretthauer Oil - Pacific Pride</td><td>2125 NE Cumulus Ave</td><td>McMinnville</td><td>OR</td><td>97128</td><td>null</td><td>US</td></tr><tr><td>BD</td><td>Snohomish Co-op</td><td>168 Lincoln Ave</td><td>Snohomish</td><td>WA</td><td>98290</td><td>null</td><td>US</td></tr><tr><td>BD</td><td>Nevada National Security Site</td><td>US-64</td><td>Tres Piedras</td><td>NM</td><td>87577</td><td>null</td><td>US</td></tr><tr><td>BD</td><td>University of New Hampshire</td><td>1 Leavitt Ln</td><td>Durham</td><td>NH</td><td>3824</td><td>null</td><td>US</td></tr><tr><td>BD</td><td>Great Smoky Mountains National Park - Oconaluftee</td><td>107 Park Headquarters Rd</td><td>Gatlinburg</td><td>TN</td><td>28719</td><td>null</td><td>US</td></tr><tr><td>BD</td><td>Marine Corps Recruitment Depot - Parris Island</td><td>Talasea St</td><td>Beaufort</td><td>SC</td><td>29902</td><td>null</td><td>US</td></tr><tr><td>BD</td><td>Great Smoky Mountains National Park - Cades Cove</td><td>Stillhouse Branch</td><td>Townsend</td><td>TN</td><td>37882</td><td>null</td><td>US</td></tr><tr><td>BD</td><td>Star Oilco - Linnton Shell</td><td>11330 NW St. Helens Rd</td><td>Portland</td><td>OR</td><td>97231</td><td>null</td><td>US</td></tr><tr><td>BD</td><td>Star Oilco - Pacific Pride</td><td>2528 SE Holgate Blvd</td><td>Portland</td><td>OR</td><td>97202</td><td>null</td><td>US</td></tr><tr><td>BD</td><td>University of Florida</td><td>1037 Magnolia Dr</td><td>Gainesville</td><td>FL</td><td>32611</td><td>null</td><td>US</td></tr><tr><td>BD</td><td>Team Petroleum</td><td>105 E Lincoln</td><td>Fort Collins</td><td>CO</td><td>80524</td><td>null</td><td>US</td></tr><tr><td>BD</td><td>Pitt County - North Carolina DOT</td><td>1811 N Greene St</td><td>Greenville</td><td>NC</td><td>27834</td><td>null</td><td>US</td></tr><tr><td>BD</td><td>Burke County - North Carolina DOT</td><td>2161 Mount Home Church Rd</td><td>Morganton</td><td>NC</td><td>28655</td><td>null</td><td>US</td></tr><tr><td>BD</td><td>Rutherford County - North Carolina DOT</td><td>909 Ledbetter Rd</td><td>Spindale</td><td>NC</td><td>28160</td><td>null</td><td>US</td></tr><tr><td>BD</td><td>Mitchell County - North Carolina DOT</td><td>942 Greenwood Rd</td><td>Spruce Pine</td><td>NC</td><td>28777</td><td>null</td><td>US</td></tr><tr><td>BD</td><td>Yancey County - North Carolina DOT</td><td>1115 Bakers Creek Rd</td><td>Burnsville</td><td>NC</td><td>28714</td><td>null</td><td>US</td></tr><tr><td>BD</td><td>Buncombe County - North Carolina DOT</td><td>11 Old Charlotte Hwy</td><td>Asheville</td><td>NC</td><td>28803</td><td>null</td><td>US</td></tr><tr><td>BD</td><td>McDowell County - North Carolina DOT</td><td>NC-226 S</td><td>Bakersville</td><td>NC</td><td>28752</td><td>null</td><td>US</td></tr><tr><td>BD</td><td>Goddard Space Flight Center</td><td>8800 Greenbelt Rd</td><td>Greenbelt</td><td>MD</td><td>20771</td><td>null</td><td>US</td></tr><tr><td>BD</td><td>TH Malloy and Sons</td><td>106 Scott Rd</td><td>Cumberland</td><td>RI</td><td>2864</td><td>null</td><td>US</td></tr><tr><td>BD</td><td>Woolley Fuel Co</td><td>12 Burnett Ave</td><td>Maplewood</td><td>NJ</td><td>7040</td><td>null</td><td>US</td></tr><tr><td>BD</td><td>Luke Air Force Base</td><td>14160 Marauder St</td><td>Glendale</td><td>AZ</td><td>85309</td><td>null</td><td>US</td></tr><tr><td>BD</td><td>Jet Propulsion Laboratory</td><td>4800 Oak Grove Dr</td><td>Pasadena</td><td>CA</td><td>91109</td><td>null</td><td>US</td></tr><tr><td>BD</td><td>Miramar Marine Corps Air Station</td><td>Bauer Rd & Gonsalves Ave</td><td>San Diego</td><td>CA</td><td>92126</td><td>null</td><td>US</td></tr><tr><td>BD</td><td>Camp Lejeune Marine Corps Base</td><td>1070 Michael Rd</td><td>Camp Lejeune</td><td>NC</td><td>28542</td><td>null</td><td>US</td></tr><tr><td>BD</td><td>Cherry Point Marine Corps Air Station</td><td>Curtis & 2nd Ave</td><td>Cherry Point</td><td>NC</td><td>28533</td><td>null</td><td>US</td></tr><tr><td>BD</td><td>Princeton Plasma Physics Laboratory</td><td>100 Stellarator Rd</td><td>Princeton</td><td>NJ</td><td>8453</td><td>null</td><td>US</td></tr><tr><td>BD</td><td>Charleston Air Force Base</td><td>201 W Simpson St</td><td>Charleston</td><td>SC</td><td>29404</td><td>null</td><td>US</td></tr><tr><td>BD</td><td>Eglin Air Force Base</td><td>3005 Eglin Blvd</td><td>Eglin AFB</td><td>FL</td><td>32542</td><td>null</td><td>US</td></tr><tr><td>BD</td><td>MacDill Air Force Base</td><td>2914 Great Egret Ave</td><td>Tampa</td><td>FL</td><td>33621</td><td>null</td><td>US</td></tr><tr><td>BD</td><td>Downs Energy</td><td>1296 Magnolia Ave</td><td>Corona</td><td>CA</td><td>92879</td><td>null</td><td>US</td></tr><tr><td>BD</td><td>Dogpatch Biofuels</td><td>765 Pennsylvania Ave</td><td>San Francisco</td><td>CA</td><td>94107</td><td>null</td><td>US</td></tr><tr><td>BD</td><td>Naval Base Kitsap Bangor - Defense Energy Support Center</td><td>Building 1204 Skate St</td><td>Silverdale</td><td>WA</td><td>98315</td><td>null</td><td>US</td></tr><tr><td>BD</td><td>Hoke County - North Carolina DOT</td><td>390 Mockingbird Hill Rd</td><td>Raeford</td><td>NC</td><td>28376</td><td>null</td><td>US</td></tr><tr><td>BD</td><td>Graham County - North Carolina DOT</td><td>40 State Shed Rd</td><td>Robbinsville</td><td>NC</td><td>28771</td><td>null</td><td>US</td></tr><tr><td>BD</td><td>Richmond County - North Carolina DOT</td><td>SR-1005</td><td>Rockingham</td><td>NC</td><td>28379</td><td>null</td><td>US</td></tr><tr><td>BD</td><td>Transylvania County - North Carolina DOT</td><td>Old Rosman Hwy</td><td>Rosman</td><td>NC</td><td>28772</td><td>null</td><td>US</td></tr><tr><td>BD</td><td>Rowan County - North Carolina DOT</td><td>Camp Rd</td><td>Salisbury</td><td>NC</td><td>28147</td><td>null</td><td>US</td></tr><tr><td>BD</td><td>Lee County - North Carolina DOT</td><td>1502 S 7th St</td><td>Sanford</td><td>NC</td><td>27330</td><td>null</td><td>US</td></tr><tr><td>BD</td><td>Brunswick County - North Carolina DOT</td><td>NC-1348</td><td>Shallotte</td><td>NC</td><td>28470</td><td>null</td><td>US</td></tr><tr><td>BD</td><td>Chatham County - North Carolina DOT</td><td>E Raleigh St</td><td>Siler City</td><td>NC</td><td>27344</td><td>null</td><td>US</td></tr><tr><td>BD</td><td>Johnston County - North Carolina DOT</td><td>US-70</td><td>Smithfield</td><td>NC</td><td>27577</td><td>null</td><td>US</td></tr><tr><td>BD</td><td>Alleghany County - North Carolina DOT</td><td>NC-1172</td><td>Sparta</td><td>NC</td><td>28675</td><td>null</td><td>US</td></tr><tr><td>BD</td><td>Hyde County - North Carolina DOT</td><td>SR-1129</td><td>Swan Quarter</td><td>NC</td><td>27885</td><td>null</td><td>US</td></tr><tr><td>BD</td><td>Jackson County - North Carolina DOT</td><td>NC-116</td><td>Sylvia</td><td>NC</td><td>28779</td><td>null</td><td>US</td></tr><tr><td>BD</td><td>Lenoir County - North Carolina DOT</td><td>US-258</td><td>Kinston</td><td>NC</td><td>28501</td><td>null</td><td>US</td></tr><tr><td>BD</td><td>Caldwell County - North Carolina DOT</td><td>Pleasant Hill Rd</td><td>Lenoir</td><td>NC</td><td>28645</td><td>null</td><td>US</td></tr><tr><td>BD</td><td>Davidson County - North Carolina DOT</td><td>Raleigh Rd</td><td>Lexington</td><td>NC</td><td>27292</td><td>null</td><td>US</td></tr><tr><td>BD</td><td>Harnet County - North Carolina DOT</td><td>1108 E McNeill St</td><td>Lillington</td><td>NC</td><td>27546</td><td>null</td><td>US</td></tr><tr><td>BD</td><td>Robeson County - North Carolina DOT</td><td>NC-711</td><td>Lumberton</td><td>NC</td><td>28360</td><td>null</td><td>US</td></tr><tr><td>BD</td><td>Dare County - North Carolina DOT</td><td>Simon St</td><td>Manteo</td><td>NC</td><td>27954</td><td>null</td><td>US</td></tr><tr><td>BD</td><td>Cherokee County - North Carolina DOT</td><td>NC-141</td><td>Marble</td><td>NC</td><td>28905</td><td>null</td><td>US</td></tr><tr><td>BD</td><td>Madison County - North Carolina DOT</td><td>US-70 & US-25 Business</td><td>Marshall</td><td>NC</td><td>28753</td><td>null</td><td>US</td></tr><tr><td>BD</td><td>Greene County - North Carolina DOT</td><td>Highway 903</td><td>Maury</td><td>NC</td><td>28580</td><td>null</td><td>US</td></tr><tr><td>BD</td><td>Guilford County - North Carolina DOT</td><td>4253 Camp Burton Rd</td><td>McLeansville</td><td>NC</td><td>27301</td><td>null</td><td>US</td></tr><tr><td>BD</td><td>Davie County - North Carolina DOT</td><td>Prison Camp Rd</td><td>Mocksville</td><td>NC</td><td>27028</td><td>null</td><td>US</td></tr><tr><td>BD</td><td>Wilkes County - North Carolina DOT</td><td>303 Statesville Rd</td><td>North Wilkesboro</td><td>NC</td><td>28659</td><td>null</td><td>US</td></tr><tr><td>BD</td><td>Nash County - North Carolina DOT</td><td>US-64</td><td>Nashville</td><td>NC</td><td>27856</td><td>null</td><td>US</td></tr><tr><td>BD</td><td>Craven County - North Carolina DOT</td><td>S Glenburnie Rd</td><td>New Bern</td><td>NC</td><td>28560</td><td>null</td><td>US</td></tr><tr><td>BD</td><td>Mecklenburg County - North Carolina DOT</td><td>7703 District Dr</td><td>Charlotte</td><td>NC</td><td>28213</td><td>null</td><td>US</td></tr><tr><td>BD</td><td>Avery County - North Carolina DOT</td><td>NC-1346 & NC-181</td><td>Newland</td><td>NC</td><td>28657</td><td>null</td><td>US</td></tr><tr><td>BD</td><td>Carteret County - North Carolina DOT</td><td>Mason Town Rd</td><td>Newport</td><td>NC</td><td>28570</td><td>null</td><td>US</td></tr><tr><td>BD</td><td>Washington & Tyrell County - North Carolina DOT</td><td>US-64</td><td>Creswell</td><td>NC</td><td>27928</td><td>null</td><td>US</td></tr><tr><td>BD</td><td>Surry County - North Carolina DOT</td><td>703 Prison Camp Rd</td><td>Dobson</td><td>NC</td><td>27017</td><td>null</td><td>US</td></tr><tr><td>BD</td><td>Chowan County - North Carolina DOT</td><td>State Route 1303</td><td>Edenton</td><td>NC</td><td>27932</td><td>null</td><td>US</td></tr><tr><td>BD</td><td>Pasquotank & Camden County - North Carolina DOT</td><td>US-17</td><td>Elizabeth City</td><td>NC</td><td>27909</td><td>null</td><td>US</td></tr><tr><td>BD</td><td>Bladen County - North Carolina DOT</td><td>US-701 N</td><td>Elizabethtown</td><td>NC</td><td>28337</td><td>null</td><td>US</td></tr><tr><td>BD</td><td>Cumberland County - North Carolina DOT</td><td>549 Transportation Dr</td><td>Fayetteville</td><td>NC</td><td>28306</td><td>null</td><td>US</td></tr><tr><td>BD</td><td>Macon County - North Carolina DOT</td><td>Windy Gap Rd</td><td>Franklin</td><td>NC</td><td>28734</td><td>null</td><td>US</td></tr><tr><td>BD</td><td>Gates County - North Carolina DOT</td><td>US-158</td><td>Gatesville</td><td>NC</td><td>27938</td><td>null</td><td>US</td></tr><tr><td>BD</td><td>Wayne County - North Carolina DOT</td><td>2671 US-70 W</td><td>Goldsboro</td><td>NC</td><td>27534</td><td>null</td><td>US</td></tr><tr><td>BD</td><td>Alamance County - North Carolina DOT</td><td>Prison Camp Rd</td><td>Graham</td><td>NC</td><td>27253</td><td>null</td><td>US</td></tr><tr><td>BD</td><td>Pamlico County - North Carolina DOT</td><td>NC-306</td><td>Grantsboro</td><td>NC</td><td>28529</td><td>null</td><td>US</td></tr><tr><td>BD</td><td>Halifax County - North Carolina DOT</td><td>NC-903</td><td>Halifax</td><td>NC</td><td>27839</td><td>null</td><td>US</td></tr><tr><td>BD</td><td>Currituck County - North Carolina DOT</td><td>Lucinda Ln</td><td>Poplar Branch</td><td>NC</td><td>27966</td><td>null</td><td>US</td></tr><tr><td>BD</td><td>Clay County - North Carolina DOT</td><td>225 Tusquittee Rd</td><td>Hayesville</td><td>NC</td><td>28904</td><td>null</td><td>US</td></tr><tr><td>BD</td><td>Henderson County - North Carolina DOT</td><td>693 Mountain Rd</td><td>Hendersonville</td><td>NC</td><td>28791</td><td>null</td><td>US</td></tr><tr><td>BD</td><td>Perquimans County - North Carolina DOT</td><td>US-17</td><td>Hertford</td><td>NC</td><td>27944</td><td>null</td><td>US</td></tr><tr><td>BD</td><td>Orange County - North Carolina DOT</td><td>NC-1009</td><td>Hillsborough</td><td>NC</td><td>27278</td><td>null</td><td>US</td></tr><tr><td>BD</td><td>Northampton County - North Carolina DOT</td><td>NC-305</td><td>Jackson</td><td>NC</td><td>27845</td><td>null</td><td>US</td></tr><tr><td>BD</td><td>Onslow County - North Carolina DOT</td><td>US-17</td><td>Jacksonville</td><td>NC</td><td>28540</td><td>null</td><td>US</td></tr><tr><td>BD</td><td>Duplin County - North Carolina DOT</td><td>NC-11</td><td>Kenansville</td><td>NC</td><td>28349</td><td>null</td><td>US</td></tr><tr><td>BD</td><td>Hertford County - North Carolina DOT</td><td>Modlin Hatchery Rd</td><td>Ahoskie</td><td>NC</td><td>27910</td><td>null</td><td>US</td></tr><tr><td>BD</td><td>Stanly County - North Carolina DOT</td><td>Coble Ave</td><td>Albemarle</td><td>NC</td><td>28001</td><td>null</td><td>US</td></tr><tr><td>BD</td><td>Randolph County - North Carolina DOT</td><td>NC-1150</td><td>Asheboro</td><td>NC</td><td>27205</td><td>null</td><td>US</td></tr><tr><td>BD</td><td>Watauga County - North Carolina DOT</td><td>NC-194</td><td>Boone</td><td>NC</td><td>28607</td><td>null</td><td>US</td></tr><tr><td>BD</td><td>Swain County - North Carolina DOT</td><td>Toot Hollow Rd</td><td>Bryson City</td><td>NC</td><td>28713</td><td>null</td><td>US</td></tr><tr><td>BD</td><td>Pender County - North Carolina DOT</td><td>Smith Rd</td><td>Burgaw</td><td>NC</td><td>28425</td><td>null</td><td>US</td></tr><tr><td>BD</td><td>Moore County - North Carolina DOT</td><td>NC-1652</td><td>Carthage</td><td>NC</td><td>28327</td><td>null</td><td>US</td></tr><tr><td>BD</td><td>New Hanover County - North Carolina DOT</td><td>Barbados Blvd</td><td>Castle Hayne</td><td>NC</td><td>28429</td><td>null</td><td>US</td></tr><tr><td>BD</td><td>Sampson County - North Carolina DOT</td><td>NC-1311</td><td>Clinton</td><td>NC</td><td>28328</td><td>null</td><td>US</td></tr><tr><td>BD</td><td>Columbus County - North Carolina DOT</td><td>Prison Camp Rd</td><td>Columbus</td><td>NC</td><td>28472</td><td>null</td><td>US</td></tr><tr><td>BD</td><td>Polk County - North Carolina DOT</td><td>Locus St</td><td>Columbus</td><td>NC</td><td>28722</td><td>null</td><td>US</td></tr><tr><td>BD</td><td>Edgecombe County - North Carolina DOT</td><td>Wilson St</td><td>Tarboro</td><td>NC</td><td>27886</td><td>null</td><td>US</td></tr><tr><td>BD</td><td>Jones County - North Carolina DOT</td><td>336 Highway 41 E</td><td>Trenton</td><td>NC</td><td>28585</td><td>null</td><td>US</td></tr><tr><td>BD</td><td>Montgomery County - North Carolina DOT</td><td>Prison Camp Rd</td><td>Wadesboro</td><td>NC</td><td>28135</td><td>null</td><td>US</td></tr><tr><td>BD</td><td>Scotland County - North Carolina DOT</td><td>US-401 & SR-1407</td><td>Wagram</td><td>NC</td><td>28396</td><td>null</td><td>US</td></tr><tr><td>BD</td><td>Stokes County - North Carolina DOT</td><td>NC-8 & NC-89</td><td>Walnut Cove</td><td>NC</td><td>27052</td><td>null</td><td>US</td></tr><tr><td>BD</td><td>Beaufort County - North Carolina DOT</td><td>803 Grimes Rd</td><td>Washington</td><td>NC</td><td>27889</td><td>null</td><td>US</td></tr><tr><td>BD</td><td>Haywood County - North Carolina DOT</td><td>Paragon Pkwy</td><td>Waynesville</td><td>NC</td><td>28721</td><td>null</td><td>US</td></tr><tr><td>BD</td><td>Rockingham County - North Carolina DOT</td><td>NC-87 & NC-65</td><td>Wentworth</td><td>NC</td><td>27320</td><td>null</td><td>US</td></tr><tr><td>BD</td><td>Ashe County - North Carolina DOT</td><td>SR-1131</td><td>West Jefferson</td><td>NC</td><td>27406</td><td>null</td><td>US</td></tr><tr><td>BD</td><td>Martin County - North Carolina DOT</td><td>Prison Camp Rd</td><td>Williamston</td><td>NC</td><td>27892</td><td>null</td><td>US</td></tr><tr><td>BD</td><td>Martin County - North Carolina DOT</td><td>US-64</td><td>Williamston</td><td>NC</td><td>27892</td><td>null</td><td>US</td></tr><tr><td>BD</td><td>Wilson County - North Carolina DOT</td><td>Ward Blvd</td><td>Wilson</td><td>NC</td><td>27896</td><td>null</td><td>US</td></tr><tr><td>BD</td><td>Bertie County - North Carolina DOT</td><td>120 Powell Rd & Stokes Rd</td><td>Windsor</td><td>NC</td><td>27983</td><td>null</td><td>US</td></tr><tr><td>BD</td><td>Yadkin County - North Carolina DOT</td><td>US-601</td><td>Yadkinville</td><td>NC</td><td>27055</td><td>null</td><td>US</td></tr><tr><td>BD</td><td>Caswell County - North Carolina DOT</td><td>NC-1572</td><td>Yanceyville</td><td>NC</td><td>27370</td><td>null</td><td>US</td></tr><tr><td>BD</td><td>Maine Standard Biofuels</td><td>51 Ingersoll Dr</td><td>Portland</td><td>ME</td><td>4103</td><td>null</td><td>US</td></tr><tr><td>BD</td><td>National Zoological Park - Smithsonian</td><td>3001 Connecticut Ave NW</td><td>Washington</td><td>DC</td><td>20008</td><td>null</td><td>US</td></tr><tr><td>BD</td><td>Little Rock Air Force Base</td><td>300 S Spring St</td><td>Little Rock AFB</td><td>AR</td><td>72099</td><td>null</td><td>US</td></tr><tr><td>BD</td><td>Marine Corps Logistic Base - Albany</td><td>814 Radford Blvd</td><td>Albany</td><td>GA</td><td>31704</td><td>null</td><td>US</td></tr><tr><td>BD</td><td>Columbus Air Force Base</td><td>325 Simler Blvd</td><td>Columbus AFB</td><td>MS</td><td>39705</td><td>null</td><td>US</td></tr><tr><td>BD</td><td>Beaumont Federal Correctional Complex</td><td>5980 Knauth Rd</td><td>Beaumont</td><td>TX</td><td>77705</td><td>null</td><td>US</td></tr><tr><td>BD</td><td>Goodfellow Air Force Base</td><td>371 Fort Lancaster Ave</td><td>Goodfellow AFB</td><td>TX</td><td>76908</td><td>null</td><td>US</td></tr><tr><td>BD</td><td>Jubitz Travel Center - Pacific Pride</td><td>10210 N Vancouver Way</td><td>Portland</td><td>OR</td><td>97217</td><td>null</td><td>US</td></tr><tr><td>BD</td><td>Sigourney BP - Cobb Oil</td><td>805 E Jackson St</td><td>Sigourney</td><td>IA</td><td>52591</td><td>null</td><td>US</td></tr><tr><td>BD</td><td>Pearson Fuels - Silvas Oil Co Inc</td><td>6417 Ventura Blvd</td><td>Ventura</td><td>CA</td><td>93003</td><td>null</td><td>US</td></tr><tr><td>BD</td><td>Norwich Public Utilities</td><td>16 S Golden St</td><td>Norwich</td><td>CT</td><td>6360</td><td>null</td><td>US</td></tr><tr><td>BD</td><td>Marine Corps Blount Island Command</td><td>5886 Gateco Blvd</td><td>Jacksonville</td><td>FL</td><td>32226</td><td>null</td><td>US</td></tr><tr><td>BD</td><td>Pacific Biodiesel Inc - Burt's Service</td><td>1342 N School St</td><td>Honolulu</td><td>HI</td><td>96817</td><td>null</td><td>US</td></tr><tr><td>BD</td><td>Kaneohe Bay 76</td><td>46-047 Kamehameha Hwy</td><td>Kaneohe</td><td>HI</td><td>96744</td><td>null</td><td>US</td></tr><tr><td>BD</td><td>National Grid - Bellmore</td><td>2400 Sunrise Hwy</td><td>Bellmore</td><td>NY</td><td>11710</td><td>null</td><td>US</td></tr><tr><td>BD</td><td>National Grid - Patchogue</td><td>460 E Main St</td><td>Patchogue</td><td>NY</td><td>11772</td><td>null</td><td>US</td></tr><tr><td>BD</td><td>National Grid - Hicksville</td><td>175 E Old Country Rd</td><td>Hicksville</td><td>NY</td><td>11801</td><td>null</td><td>US</td></tr><tr><td>BD</td><td>Flying J Travel Center</td><td>12334 Ehlen Rd NE</td><td>Aurora</td><td>OR</td><td>97002</td><td>null</td><td>US</td></tr><tr><td>BD</td><td>Hoyt Oil & Convenience Sinclair</td><td>241 6th St</td><td>Walnut Grove</td><td>MN</td><td>56180</td><td>null</td><td>US</td></tr><tr><td>BD</td><td>Quickway Market</td><td>690 NE Butler Market Rd</td><td>Bend</td><td>OR</td><td>97701</td><td>null</td><td>US</td></tr><tr><td>BD</td><td>Scott Air Force Base</td><td>4429 Samuel Adams Cir</td><td>Scott AFB</td><td>IL</td><td>62225</td><td>null</td><td>US</td></tr><tr><td>BD</td><td>Scott Air National Guard</td><td>2101 Golf Course Rd</td><td>Scott AFB</td><td>IL</td><td>62225</td><td>null</td><td>US</td></tr><tr><td>BD</td><td>Smithsonian Conservation Research Center</td><td>1500 Remount Rd</td><td>Front Royal</td><td>VA</td><td>22630</td><td>null</td><td>US</td></tr><tr><td>BD</td><td>Naval Base Kitsap - Bremerton</td><td>1400 Farragut Ave</td><td>Bremerton</td><td>WA</td><td>98314</td><td>null</td><td>US</td></tr><tr><td>BD</td><td>East Side Travel Plaza</td><td>607 Gateway Dr NE</td><td>East Grand Forks</td><td>MN</td><td>56721</td><td>null</td><td>US</td></tr><tr><td>BD</td><td>City of Denton</td><td>1521 S Mayhill Rd</td><td>Denton</td><td>TX</td><td>76208</td><td>null</td><td>US</td></tr><tr><td>BD</td><td>Tyree Oil - SeQuential Biofuels</td><td>2076 Erving Rd</td><td>Eugene</td><td>OR</td><td>97402</td><td>null</td><td>US</td></tr><tr><td>BD</td><td>City of Southlake - Department of Public Safety</td><td>2100 W Southlake Blvd</td><td>Southlake</td><td>TX</td><td>76092</td><td>null</td><td>US</td></tr><tr><td>BD</td><td>Evergreen State Fairgrounds Station</td><td>14405 179th Ave SE</td><td>Monroe</td><td>WA</td><td>98272</td><td>null</td><td>US</td></tr><tr><td>BD</td><td>Village of Downers Grove</td><td>5101 Walnut Ave</td><td>Downers Grove</td><td>IL</td><td>60515</td><td>null</td><td>US</td></tr><tr><td>BD</td><td>Argonne National Laboratory</td><td>9700 S. Cass Avenue</td><td>Lemont</td><td>IL</td><td>60439</td><td>null</td><td>US</td></tr><tr><td>BD</td><td>City of Southlake - Department of Public Works</td><td>1950 E Continental Blvd</td><td>Southlake</td><td>TX</td><td>76092</td><td>null</td><td>US</td></tr><tr><td>BD</td><td>Forest Preserve District of DuPage County</td><td>881 W St Charles Rd</td><td>Lombard</td><td>IL</td><td>60148</td><td>null</td><td>US</td></tr><tr><td>BD</td><td>Applebee Oil & Propane</td><td>108 Mill St</td><td>Ovid</td><td>MI</td><td>48866</td><td>null</td><td>US</td></tr><tr><td>BD</td><td>Applebee Oil & Propane</td><td>603 E Steel St</td><td>St. Johns</td><td>MI</td><td>48879</td><td>null</td><td>US</td></tr><tr><td>BD</td><td>Ontario CNG - 76</td><td>1850 E Holt Blvd</td><td>Ontario</td><td>CA</td><td>91761</td><td>null</td><td>US</td></tr><tr><td>BD</td><td>Dateland Travel Center</td><td>1737 S Avenue 64 E</td><td>Dateland</td><td>AZ</td><td>85333</td><td>null</td><td>US</td></tr><tr><td>BD</td><td>Hans Foreign Car Repair</td><td>6302 35th Ave SW</td><td>Seattle</td><td>WA</td><td>98126</td><td>null</td><td>US</td></tr><tr><td>BD</td><td>City of Phoenix - Union Hills Service Center</td><td>138 E Union Hills Rd</td><td>Phoenix</td><td>AZ</td><td>85022</td><td>null</td><td>US</td></tr><tr><td>BD</td><td>City of Phoenix - Salt River Service Center</td><td>3045 S 22nd Ave</td><td>Phoenix</td><td>AZ</td><td>85015</td><td>null</td><td>US</td></tr><tr><td>BD</td><td>City of Phoenix - 52nd St Water Yard</td><td>5204 E Thomas Rd</td><td>Phoenix</td><td>AZ</td><td>85018</td><td>null</td><td>US</td></tr><tr><td>BD</td><td>City of Phoenix - Fire Operations</td><td>150 S 12th St</td><td>Phoenix</td><td>AZ</td><td>85034</td><td>null</td><td>US</td></tr><tr><td>BD</td><td>Space Station Gas</td><td>644 Lincoln Ave</td><td>Steamboat Springs</td><td>CO</td><td>80487</td><td>null</td><td>US</td></tr><tr><td>BD</td><td>CountryMark - North Central Co-op</td><td>2929 Peddler Village Rd</td><td>Goshen</td><td>IN</td><td>46526</td><td>null</td><td>US</td></tr><tr><td>BD</td><td>Grissom Air Reserve Base</td><td>7207 Grissom Ave</td><td>Grissom Joint Air Reserve Base</td><td>IN</td><td>46971</td><td>null</td><td>US</td></tr><tr><td>BD</td><td>Brookhaven National Laboratory B-20</td><td>Temple Pl</td><td>Upton</td><td>NY</td><td>11973</td><td>null</td><td>US</td></tr><tr><td>BD</td><td>Youngstown Air Reserve Station</td><td>3976 King Graves Rd</td><td>Vienna</td><td>OH</td><td>44473</td><td>null</td><td>US</td></tr><tr><td>BD</td><td>Mansfield Lahm Regional Airport</td><td>1947 Harrington Memorial Rd</td><td>Mansfield</td><td>OH</td><td>44903</td><td>null</td><td>US</td></tr><tr><td>BD</td><td>Fairchild Air Force Base</td><td>7 W Arnold Ave</td><td>Fairchild AFB</td><td>WA</td><td>99011</td><td>null</td><td>US</td></tr><tr><td>BD</td><td>Pacific Pride - Ira Phillips Inc</td><td>310 N 3rd St</td><td>Gadsden</td><td>AL</td><td>35901</td><td>null</td><td>US</td></tr><tr><td>BD</td><td>Mirabito Travel Center</td><td>1166 Castle Creek Rd</td><td>Castle Creek</td><td>NY</td><td>13744</td><td>null</td><td>US</td></tr><tr><td>BD</td><td>Interstate Oil Co</td><td>183 W Main St</td><td>Woodland</td><td>CA</td><td>95695</td><td>null</td><td>US</td></tr><tr><td>BD</td><td>City of Boulder Fleet Services</td><td>5064 Pearl St</td><td>Boulder</td><td>CO</td><td>80301</td><td>null</td><td>US</td></tr><tr><td>BD</td><td>Staples Oil Expressway</td><td>261 10th St</td><td>Heron Lake</td><td>MN</td><td>56137</td><td>null</td><td>US</td></tr><tr><td>BD</td><td>Al Parsch Oil & Propane Co</td><td>5923 W Imlay City Rd</td><td>Imlay City</td><td>MI</td><td>48444</td><td>null</td><td>US</td></tr><tr><td>BD</td><td>Spinx #131</td><td>1625 NE Main St</td><td>Simpsonville</td><td>SC</td><td>29681</td><td>null</td><td>US</td></tr><tr><td>BD</td><td>Marine Corps Logistics Base - Barstow - Yermo Annex</td><td>F St</td><td>Barstow</td><td>CA</td><td>92311</td><td>null</td><td>US</td></tr><tr><td>BD</td><td>National Grid - Watertown</td><td>21265 New York 232</td><td>Watertown</td><td>NY</td><td>13601</td><td>null</td><td>US</td></tr><tr><td>BD</td><td>National Grid - Greenpoint</td><td>287 Maspeth Ave</td><td>Greenpoint</td><td>NY</td><td>11211</td><td>null</td><td>US</td></tr><tr><td>BD</td><td>National Grid - Beacon North</td><td>7496 Round Pond Rd</td><td>Syracuse</td><td>NY</td><td>13212</td><td>null</td><td>US</td></tr><tr><td>BD</td><td>Monroe County Regional Transportation - FEV Green Fuel Station</td><td>1574 Lakeshore Blvd</td><td>Rochester</td><td>NY</td><td>14617</td><td>null</td><td>US</td></tr><tr><td>BD</td><td>National Grid - Roslyn</td><td>250 Willis Ave</td><td>Roslyn</td><td>NY</td><td>11577</td><td>null</td><td>US</td></tr><tr><td>BD</td><td>City of Phoenix - Fire Station #7</td><td>403 E Hatcher</td><td>Phoenix</td><td>AZ</td><td>85020</td><td>null</td><td>US</td></tr><tr><td>BD</td><td>City of Phoenix - Fire Station #72</td><td>33027 N Cave Creek Rd</td><td>Phoenix</td><td>AZ</td><td>85331</td><td>null</td><td>US</td></tr><tr><td>BD</td><td>City of Phoenix - Fire Station #8</td><td>1025 E Polk St</td><td>Phoenix</td><td>AZ</td><td>85006</td><td>null</td><td>US</td></tr><tr><td>BD</td><td>City of Phoenix - Fire Station #9</td><td>330 E Fairmount</td><td>Phoenix</td><td>AZ</td><td>85012</td><td>null</td><td>US</td></tr><tr><td>BD</td><td>City of Phoenix - North Gateway Service Center</td><td>30205 N Black Canyon Hwy</td><td>Phoenix</td><td>AZ</td><td>85085</td><td>null</td><td>US</td></tr><tr><td>BD</td><td>City of Phoenix - SWM Recycle Center</td><td>3060 S 27th Ave</td><td>Phoenix</td><td>AZ</td><td>85009</td><td>null</td><td>US</td></tr><tr><td>BD</td><td>City of Phoenix - 91st Avenue Waste Water Treatment Plant</td><td>5615 S 91st Ave</td><td>Tolleson</td><td>AZ</td><td>85353</td><td>null</td><td>US</td></tr><tr><td>BD</td><td>DC Department of Public Works - Fleet Management Administration</td><td>1835 West Virginia Ave NE</td><td>Washington</td><td>DC</td><td>20002</td><td>null</td><td>US</td></tr><tr><td>BD</td><td>DC Department of Public Works - Fort Totten Transfer Station</td><td>4902 Bates Rd NE</td><td>Washington</td><td>DC</td><td>20011</td><td>null</td><td>US</td></tr><tr><td>BD</td><td>DC Department of Public Works - MPD 2nd District</td><td>3320 Idaho Ave NW</td><td>Washington</td><td>DC</td><td>20016</td><td>null</td><td>US</td></tr><tr><td>BD</td><td>DC Department of Public Works - MPD 3rd District</td><td>1620 V St NW</td><td>Washington</td><td>DC</td><td>20009</td><td>null</td><td>US</td></tr><tr><td>BD</td><td>DC Department of Public Works - MPD 6th District</td><td>100 42nd St NE</td><td>Washington</td><td>DC</td><td>20019</td><td>null</td><td>US</td></tr><tr><td>BD</td><td>HFN Shipman</td><td>16-570 Kipimana St</td><td>Keaau</td><td>HI</td><td>96749</td><td>null</td><td>US</td></tr><tr><td>BD</td><td>Minit Stop - Lahaina</td><td>10 Kupuohi St</td><td>Lahaina</td><td>HI</td><td>96761</td><td>null</td><td>US</td></tr><tr><td>BD</td><td>Bourne's Energy</td><td>1475 Laporte Rd</td><td>Morristown</td><td>VT</td><td>5661</td><td>null</td><td>US</td></tr><tr><td>BD</td><td>City of Phoenix - State Route 85 Landfill</td><td>28361 W Patterson Rd</td><td>Buckeye</td><td>AZ</td><td>85326</td><td>null</td><td>US</td></tr><tr><td>BD</td><td>City of Phoenix - Aguilla Golf Course</td><td>7858 S 35th Ave</td><td>Laveen Village</td><td>AZ</td><td>85339</td><td>null</td><td>US</td></tr><tr><td>BD</td><td>City of Phoenix - Cave Creek Golf Maintenance</td><td>2135 W Greenway Rd</td><td>Phoenix</td><td>AZ</td><td>85023</td><td>null</td><td>US</td></tr><tr><td>BD</td><td>City of Phoenix - Cave Creek Water Yard</td><td>21642 N 20th St</td><td>Phoenix</td><td>AZ</td><td>85024</td><td>null</td><td>US</td></tr><tr><td>BD</td><td>City of Phoenix - Encanto Park Yard</td><td>1801 W Encanto</td><td>Phoenix</td><td>AZ</td><td>85007</td><td>null</td><td>US</td></tr><tr><td>BD</td><td>City of Phoenix - Fire Station #1</td><td>323 N 4th Ave</td><td>Phoenix</td><td>AZ</td><td>85003</td><td>null</td><td>US</td></tr><tr><td>BD</td><td>City of Phoenix - Fire Station #10</td><td>2731 N 24th Dr</td><td>Phoenix</td><td>AZ</td><td>85009</td><td>null</td><td>US</td></tr><tr><td>BD</td><td>City of Phoenix - Fire Station #11</td><td>2727 E Roosevelt</td><td>Phoenix</td><td>AZ</td><td>85008</td><td>null</td><td>US</td></tr><tr><td>BD</td><td>City of Phoenix - Fire Station #12</td><td>4243 N 32nd St</td><td>Phoenix</td><td>AZ</td><td>85018</td><td>null</td><td>US</td></tr><tr><td>BD</td><td>City of Phoenix - Fire Station #13</td><td>2838 N 47th Pl</td><td>Phoenix</td><td>AZ</td><td>85008</td><td>null</td><td>US</td></tr><tr><td>BD</td><td>City of Phoenix - Fire Station #14</td><td>1330 N 32nd Ave</td><td>Phoenix</td><td>AZ</td><td>85009</td><td>null</td><td>US</td></tr><tr><td>BD</td><td>City of Phoenix - Fire Station #15</td><td>4730 N 43rd Ave</td><td>Phoenix</td><td>AZ</td><td>85031</td><td>null</td><td>US</td></tr><tr><td>BD</td><td>City of Phoenix - Fire Station #16</td><td>1414 E Mohave</td><td>Phoenix</td><td>AZ</td><td>85034</td><td>null</td><td>US</td></tr><tr><td>BD</td><td>City of Phoenix - Fire Station #17</td><td>1531 E Missouri</td><td>Phoenix</td><td>AZ</td><td>85014</td><td>null</td><td>US</td></tr><tr><td>BD</td><td>City of Phoenix - Fire Station #18</td><td>5019 N 23rd Ave</td><td>Phoenix</td><td>AZ</td><td>85015</td><td>null</td><td>US</td></tr><tr><td>BD</td><td>City of Phoenix - Fire Station #20</td><td>726 W Glendale</td><td>Phoenix</td><td>AZ</td><td>85021</td><td>null</td><td>US</td></tr><tr><td>BD</td><td>City of Phoenix - Fire Station #21</td><td>1212 S 27th Ave</td><td>Phoenix</td><td>AZ</td><td>85009</td><td>null</td><td>US</td></tr><tr><td>BD</td><td>City of Phoenix - Fire Station #22</td><td>230 E Roeser Rd</td><td>Phoenix</td><td>AZ</td><td>85040</td><td>null</td><td>US</td></tr><tr><td>BD</td><td>City of Phoenix - Fire Station #23</td><td>4416 S 32nd St</td><td>Phoenix</td><td>AZ</td><td>85040</td><td>null</td><td>US</td></tr><tr><td>BD</td><td>City of Phoenix - Fire Station #24</td><td>2602 N 43rd Ave</td><td>Phoenix</td><td>AZ</td><td>85009</td><td>null</td><td>US</td></tr><tr><td>BD</td><td>City of Phoenix - Fire Station #25</td><td>4010 N 63rd Ave</td><td>Phoenix</td><td>AZ</td><td>85033</td><td>null</td><td>US</td></tr><tr><td>BD</td><td>City of Phoenix - Fire Station #26</td><td>3301 W Rose Ln</td><td>Phoenix</td><td>AZ</td><td>85017</td><td>null</td><td>US</td></tr><tr><td>BD</td><td>City of Phoenix - Fire Station #27</td><td>12449 N 32nd St</td><td>Phoenix</td><td>AZ</td><td>85032</td><td>null</td><td>US</td></tr><tr><td>BD</td><td>City of Phoenix - Fire Station #28</td><td>7409 S 16th St</td><td>Phoenix</td><td>AZ</td><td>85042</td><td>null</td><td>US</td></tr><tr><td>BD</td><td>City of Phoenix - Fire Station #29</td><td>3949 E Air Lane Way</td><td>Phoenix</td><td>AZ</td><td>85034</td><td>null</td><td>US</td></tr><tr><td>BD</td><td>City of Phoenix - Fire Station #3</td><td>1257 W Pierce</td><td>Phoenix</td><td>AZ</td><td>85007</td><td>null</td><td>US</td></tr><tr><td>BD</td><td>City of Phoenix - Fire Station #30</td><td>2701 W Belmont</td><td>Phoenix</td><td>AZ</td><td>85051</td><td>null</td><td>US</td></tr><tr><td>BD</td><td>City of Phoenix - Fire Station #31</td><td>5730 E Thunderbird</td><td>Phoenix</td><td>AZ</td><td>85254</td><td>null</td><td>US</td></tr><tr><td>BD</td><td>City of Phoenix - Fire Station #32</td><td>7620 S 42nd Pl</td><td>Phoenix</td><td>AZ</td><td>85042</td><td>null</td><td>US</td></tr><tr><td>BD</td><td>City of Phoenix - Fire Station #33</td><td>2409 W Cactus</td><td>Phoenix</td><td>AZ</td><td>85029</td><td>null</td><td>US</td></tr><tr><td>BD</td><td>City of Phoenix - Fire Station #35</td><td>646 E Paradise Ln</td><td>Phoenix</td><td>AZ</td><td>85022</td><td>null</td><td>US</td></tr><tr><td>BD</td><td>City of Phoenix - Fire Station #36</td><td>21602 N 9th Ave</td><td>Phoenix</td><td>AZ</td><td>85027</td><td>null</td><td>US</td></tr><tr><td>BD</td><td>City of Phoenix - Fire Station #37</td><td>16602 N 40th St</td><td>Phoenix</td><td>AZ</td><td>85032</td><td>null</td><td>US</td></tr><tr><td>BD</td><td>City of Phoenix - Fire Station #39</td><td>2276 W Southern</td><td>Phoenix</td><td>AZ</td><td>85041</td><td>null</td><td>US</td></tr><tr><td>BD</td><td>City of Phoenix - Fire Station #4</td><td>1601 N 3rd Ave</td><td>Phoenix</td><td>AZ</td><td>85003</td><td>null</td><td>US</td></tr><tr><td>BD</td><td>City of Phoenix - Fire Station #40</td><td>3838 N 83rd Ave</td><td>Phoenix</td><td>AZ</td><td>85033</td><td>null</td><td>US</td></tr><tr><td>BD</td><td>City of Phoenix - Fire Station #41</td><td>2501 W Morningside Dr</td><td>Phoenix</td><td>AZ</td><td>85023</td><td>null</td><td>US</td></tr><tr><td>BD</td><td>City of Phoenix - Fire Station #42</td><td>3246 W Greenway</td><td>Phoenix</td><td>AZ</td><td>85053</td><td>null</td><td>US</td></tr><tr><td>BD</td><td>City of Phoenix - Fire Station #43</td><td>4110 E Chandler Blvd</td><td>Phoenix</td><td>AZ</td><td>85048</td><td>null</td><td>US</td></tr><tr><td>BD</td><td>City of Phoenix - Fire Station #44</td><td>7117 W McDowell Rd</td><td>Phoenix</td><td>AZ</td><td>85035</td><td>null</td><td>US</td></tr><tr><td>BD</td><td>City of Phoenix - Fire Station #45</td><td>20026 N 26th St</td><td>Phoenix</td><td>AZ</td><td>85024</td><td>null</td><td>US</td></tr><tr><td>BD</td><td>City of Phoenix - Fire Station #46</td><td>15402 S Marketplace NE</td><td>Phoenix</td><td>AZ</td><td>85048</td><td>null</td><td>US</td></tr><tr><td>BD</td><td>City of Phoenix - Fire Station #48</td><td>5230 W Happy Valley Rd</td><td>Phoenix</td><td>AZ</td><td>85310</td><td>null</td><td>US</td></tr><tr><td>BD</td><td>City of Phoenix - Fire Station #49</td><td>3750 E Dynamite Blvd</td><td>Phoenix</td><td>AZ</td><td>85085</td><td>null</td><td>US</td></tr><tr><td>BD</td><td>City of Phoenix - Fire Station #5</td><td>1840 E Cambridge</td><td>Phoenix</td><td>AZ</td><td>85006</td><td>null</td><td>US</td></tr><tr><td>BD</td><td>City of Phoenix - Fire Station #50</td><td>20225 N 35th Ave</td><td>Phoenix</td><td>AZ</td><td>85027</td><td>null</td><td>US</td></tr><tr><td>BD</td><td>City of Phoenix - Fire Station #52</td><td>21650 N Tatum Blvd</td><td>Phoenix</td><td>AZ</td><td>85050</td><td>null</td><td>US</td></tr><tr><td>BD</td><td>City of Phoenix - Fire Station #54</td><td>9820 W Campbell Ave</td><td>Phoenix</td><td>AZ</td><td>85037</td><td>null</td><td>US</td></tr><tr><td>BD</td><td>City of Phoenix - Fire Station #56</td><td>3210 W Canotia Pl</td><td>Phoenix</td><td>AZ</td><td>85086</td><td>null</td><td>US</td></tr><tr><td>BD</td><td>City of Phoenix - Fire Station #57</td><td>1660 W Dobbins Ave</td><td>Phoenix</td><td>AZ</td><td>85041</td><td>null</td><td>US</td></tr><tr><td>BD</td><td>City of Phoenix - Fire Station #59</td><td>1111 S 65th Ave</td><td>Phoenix</td><td>AZ</td><td>85043</td><td>null</td><td>US</td></tr><tr><td>BD</td><td>City of Phoenix - Fire Station #6</td><td>368 W Apache</td><td>Phoenix</td><td>AZ</td><td>85003</td><td>null</td><td>US</td></tr><tr><td>BD</td><td>City of Phoenix - Fire Station #60</td><td>2405 W Townley</td><td>Phoenix</td><td>AZ</td><td>85021</td><td>null</td><td>US</td></tr><tr><td>BD</td><td>City of Phoenix - Fire Station #61</td><td>1925 E Indian School Rd</td><td>Phoenix</td><td>AZ</td><td>85016</td><td>null</td><td>US</td></tr><tr><td>BD</td><td>Anew Travel Center</td><td>41501 Harvest Dr</td><td>Cambridge</td><td>NE</td><td>69022</td><td>null</td><td>US</td></tr><tr><td>BD</td><td>Saint Avenue BP</td><td>302 E School Ave</td><td>Olds</td><td>IA</td><td>52647</td><td>null</td><td>US</td></tr><tr><td>BD</td><td>Gas & Goodies</td><td>307 S Oak St</td><td>Richland</td><td>IA</td><td>52585</td><td>null</td><td>US</td></tr><tr><td>BD</td><td>Forest Preserve District of DuPage County</td><td>29 W 220 Mack Rd</td><td>West Chicago</td><td>IL</td><td>60185</td><td>null</td><td>US</td></tr><tr><td>BD</td><td>Cape Cod Biofuels Inc</td><td>14B Jan Sebastian Dr</td><td>Sandwich</td><td>MA</td><td>2563</td><td>null</td><td>US</td></tr><tr><td>BD</td><td>Monroe County Regional Transportation</td><td>1157 Scottsville Rd</td><td>Rochester</td><td>NY</td><td>14624</td><td>null</td><td>US</td></tr><tr><td>BD</td><td>University of Oklahoma - Transportation Operations Center</td><td>510 E Chesapeake St</td><td>Norman</td><td>OK</td><td>73072</td><td>null</td><td>US</td></tr><tr><td>BD</td><td>Naval Station Great Lakes</td><td>2415 Spaulding St</td><td>Great Lakes</td><td>IL</td><td>60088</td><td>null</td><td>US</td></tr><tr><td>BD</td><td>Naval Support Activity Crane</td><td>300 Highway 361</td><td>Crane</td><td>IN</td><td>47522</td><td>null</td><td>US</td></tr><tr><td>BD</td><td>Fort Lewis</td><td>McKinley Ave & Garfield St</td><td>Fort Lewis</td><td>WA</td><td>98433</td><td>null</td><td>US</td></tr><tr><td>BD</td><td>Chevron ExtraMile - Beaverton</td><td>14470 SW Allen Blvd</td><td>Beaverton</td><td>OR</td><td>97005</td><td>null</td><td>US</td></tr><tr><td>BD</td><td>Pacific Pride - Ira Phillips Inc</td><td>2601 Forrest Ave</td><td>Gadsden</td><td>AL</td><td>35904</td><td>null</td><td>US</td></tr><tr><td>BD</td><td>Renner Petroleum</td><td>76 Bear Canyon Rd</td><td>Garberville</td><td>CA</td><td>95542</td><td>null</td><td>US</td></tr><tr><td>BD</td><td>Conoco - Convenient Food Mart</td><td>3714 W Truman Blvd</td><td>Jefferson City</td><td>MO</td><td>65109</td><td>null</td><td>US</td></tr><tr><td>BD</td><td>City of Phoenix - Glenrosa Service Center</td><td>4020 W Glenrosa Ave</td><td>Phoenix</td><td>AZ</td><td>85019</td><td>null</td><td>US</td></tr><tr><td>BD</td><td>City of Pittsburgh - Public Works</td><td>2925 Railroad St</td><td>Pittsburgh</td><td>PA</td><td>15201</td><td>null</td><td>US</td></tr><tr><td>BD</td><td>Stripes Store #215</td><td>3305 Memorial Blvd</td><td>Kerrville</td><td>TX</td><td>78028</td><td>null</td><td>US</td></tr><tr><td>BD</td><td>MCB Camp Pendleton - DLA-Energy COCO Fuel Facility 1400</td><td>17th St</td><td>Camp Pendleton</td><td>CA</td><td>92057</td><td>null</td><td>US</td></tr><tr><td>BD</td><td>City of Pittsburgh - Public Works</td><td>6814 Hamilton Ave</td><td>Pittsburgh</td><td>PA</td><td>15208</td><td>null</td><td>US</td></tr><tr><td>BD</td><td>Cenex - Co-Op Energy Co</td><td>1710 N Humiston Ave</td><td>Worthington</td><td>MN</td><td>56187</td><td>null</td><td>US</td></tr><tr><td>BD</td><td>City of Seattle - Charles Street</td><td>1030 7th St S</td><td>Seattle</td><td>WA</td><td>98134</td><td>null</td><td>US</td></tr><tr><td>BD</td><td>City of Seattle - Fire Station 02 Fuel</td><td>2334 4th Ave</td><td>Seattle</td><td>WA</td><td>98121</td><td>null</td><td>US</td></tr><tr><td>BD</td><td>City of Seattle - Fire Station 08 Fuel</td><td>110 Lee St</td><td>Seattle</td><td>WA</td><td>98109</td><td>null</td><td>US</td></tr><tr><td>BD</td><td>City of Seattle - Fire Station 11 Fuel</td><td>1514 SW Holden St</td><td>Seattle</td><td>WA</td><td>98106</td><td>null</td><td>US</td></tr><tr><td>BD</td><td>City of Seattle - Fire Station 18 Fuel</td><td>1523 NW Market St</td><td>Seattle</td><td>WA</td><td>98107</td><td>null</td><td>US</td></tr><tr><td>BD</td><td>City of Seattle - Fire Station 28 Fuel</td><td>5968 Rainier Ave S</td><td>Seattle</td><td>WA</td><td>98118</td><td>null</td><td>US</td></tr><tr><td>BD</td><td>City of Seattle - Fire Station 29 Fuel</td><td>2139 Ferry Ave SW</td><td>Seattle</td><td>WA</td><td>98116</td><td>null</td><td>US</td></tr><tr><td>BD</td><td>City of Seattle - Fire Station 33 Fuel</td><td>9845 Renton Ave S</td><td>Seattle</td><td>WA</td><td>98118</td><td>null</td><td>US</td></tr><tr><td>BD</td><td>City of Seattle - Fire Station 34 Fuel</td><td>633 32nd Ave E</td><td>Seattle</td><td>WA</td><td>98112</td><td>null</td><td>US</td></tr><tr><td>BD</td><td>City of Seattle - South Transfer Fuel</td><td>130 S Kenyon St</td><td>Seattle</td><td>WA</td><td>98108</td><td>null</td><td>US</td></tr><tr><td>BD</td><td>Naval Air Station - North Island</td><td>Bldg 588</td><td>North Island</td><td>CA</td><td>92135</td><td>null</td><td>US</td></tr><tr><td>BD</td><td>Marine Corps Base Hawaii - Kaneohe Bay</td><td>370 3rd St</td><td>Kaneohe Bay</td><td>HI</td><td>96863</td><td>null</td><td>US</td></tr><tr><td>BD</td><td>Marine Corps Base - Quantico - Biodiesel</td><td>3015 Catlin Ave</td><td>Quantico</td><td>VA</td><td>22134</td><td>null</td><td>US</td></tr><tr><td>BD</td><td>Lincoln City Space Age</td><td>565 SW US 101</td><td>Lincoln City</td><td>OR</td><td>97267</td><td>null</td><td>US</td></tr><tr><td>BD</td><td>Shell</td><td>5435 SE 72nd Ave</td><td>Portland</td><td>OR</td><td>97206</td><td>null</td><td>US</td></tr><tr><td>BD</td><td>A&G Conveniences</td><td>300 Santiam Hwy</td><td>Lebanon</td><td>OR</td><td>97355</td><td>null</td><td>US</td></tr><tr><td>BD</td><td>Astro - WSCO #225</td><td>12885 SW Pacific Hwy</td><td>Tigard</td><td>OR</td><td>97233</td><td>null</td><td>US</td></tr><tr><td>BD</td><td>Shell</td><td>801 NW 3rd St</td><td>Prineville</td><td>OR</td><td>97754</td><td>null</td><td>US</td></tr><tr><td>BD</td><td>Leathers - Hilltop Shell</td><td>1002 Molalla Ave</td><td>Oregon City</td><td>OR</td><td>97045</td><td>null</td><td>US</td></tr><tr><td>BD</td><td>Estacada Shell</td><td>605 NW Wade St</td><td>Estacada</td><td>OR</td><td>97023</td><td>null</td><td>US</td></tr><tr><td>BD</td><td>Space Age Fuels</td><td>13448 Oregon 212</td><td>Clackamas</td><td>OR</td><td>97015</td><td>null</td><td>US</td></tr><tr><td>BD</td><td>Space Age Fuels</td><td>18544 NW Eider Ct</td><td>Beaverton</td><td>OR</td><td>97006</td><td>null</td><td>US</td></tr><tr><td>BD</td><td>Leathers - 12 Mile Shell</td><td>22300 SE Stark St</td><td>Gresham</td><td>OR</td><td>97030</td><td>null</td><td>US</td></tr><tr><td>BD</td><td>Shell</td><td>3105 Santiam Hwy</td><td>Albany</td><td>OR</td><td>97322</td><td>null</td><td>US</td></tr><tr><td>BD</td><td>Social Security Administration</td><td>6401 Security Blvd</td><td>Woodlawn</td><td>MD</td><td>21207</td><td>null</td><td>US</td></tr><tr><td>BD</td><td>Alabama Department of Transportation</td><td>299 Elba Hwy</td><td>Troy</td><td>AL</td><td>36079</td><td>null</td><td>US</td></tr><tr><td>BD</td><td>Leathers - Central Point Shell</td><td>5020 Tablerock Rd</td><td>Central Point</td><td>OR</td><td>97501</td><td>null</td><td>US</td></tr><tr><td>BD</td><td>Leathers - Aurora Shell</td><td>21687 Highway 99 E</td><td>Aurora</td><td>OR</td><td>97002</td><td>null</td><td>US</td></tr><tr><td>BD</td><td>Leathers - Orient Drive Shell</td><td>1467 SE Orient Dr</td><td>Gresham</td><td>OR</td><td>97080</td><td>null</td><td>US</td></tr><tr><td>BD</td><td>Tyree Oil - Leathers</td><td>39021 Proctor Blvd</td><td>Sandy</td><td>OR</td><td>97055</td><td>null</td><td>US</td></tr><tr><td>BD</td><td>Agribiofuels LLC</td><td>138 Seaberg Industrial Rd</td><td>Dayton</td><td>TX</td><td>77535</td><td>null</td><td>US</td></tr><tr><td>BD</td><td>Quarles Fleet Fueling - Richmond</td><td>1625 N Hamilton St</td><td>Richmond</td><td>VA</td><td>23230</td><td>null</td><td>US</td></tr><tr><td>BD</td><td>Naval Station Everett</td><td>2000 W Marine View Dr</td><td>Everett</td><td>WA</td><td>98207</td><td>null</td><td>US</td></tr><tr><td>BD</td><td>Smithsonian Transportation Repair Shop - Garber Facility</td><td>3904 Old Silver Hill Rd</td><td>Suitland</td><td>MD</td><td>20746</td><td>null</td><td>US</td></tr><tr><td>BD</td><td>Fort Bragg - DA & Air Force Exchange Service</td><td>Longstreet Rd & Gruber Rd</td><td>Fort Bragg</td><td>NC</td><td>28307</td><td>null</td><td>US</td></tr><tr><td>BD</td><td>Oak Ridge National Laboratory</td><td>1 Bethel Valley Rd</td><td>Oak Ridge</td><td>TN</td><td>37932</td><td>null</td><td>US</td></tr><tr><td>BD</td><td>Minnoco - Minnetonka U-Haul</td><td>13118 Excelsior Blvd</td><td>Minnetonka</td><td>MN</td><td>55343</td><td>null</td><td>US</td></tr><tr><td>BD</td><td>City of Phoenix - Fire Station #58</td><td>4718 W Dobbins Rd</td><td>Phoenix</td><td>AZ</td><td>85339</td><td>null</td><td>US</td></tr><tr><td>BD</td><td>Alabama Department of Transportation</td><td>11975 Lavon Shaddox Ln</td><td>Andalusia</td><td>AL</td><td>36420</td><td>null</td><td>US</td></tr><tr><td>BD</td><td>Alabama Department of Transportation</td><td>171 Sam Houston Blvd</td><td>Dothan</td><td>AL</td><td>36303</td><td>null</td><td>US</td></tr><tr><td>BD</td><td>Alabama Department of Transportation</td><td>3710 Plaza Dr</td><td>Enterprise</td><td>AL</td><td>36330</td><td>null</td><td>US</td></tr><tr><td>BD</td><td>Alabama Department of Transportation</td><td>461 Black Forest Dr</td><td>Ozark</td><td>AL</td><td>36360</td><td>null</td><td>US</td></tr><tr><td>BD</td><td>Alabama Department of Transportation</td><td>760 Highway 30</td><td>Eufaula</td><td>AL</td><td>36072</td><td>null</td><td>US</td></tr><tr><td>BD</td><td>Thorntons #115</td><td>800 NW Hwy</td><td>Cary</td><td>IL</td><td>60013</td><td>null</td><td>US</td></tr><tr><td>BD</td><td>Speedway</td><td>15050 Galaxie Ave</td><td>Apple Valley</td><td>MN</td><td>55124</td><td>null</td><td>US</td></tr><tr><td>BD</td><td>Speedway</td><td>1341 187th Ln NE</td><td>East Bethel</td><td>MN</td><td>55011</td><td>null</td><td>US</td></tr><tr><td>BD</td><td>Speedway</td><td>9290 202nd St W</td><td>Lakeville</td><td>MN</td><td>55044</td><td>null</td><td>US</td></tr><tr><td>BD</td><td>Chevron - Woodburn</td><td>993 Lawson Ave</td><td>Woodburn</td><td>OR</td><td>97071</td><td>null</td><td>US</td></tr><tr><td>BD</td><td>Kwik Trip #1014</td><td>12260 Fraizer St NE</td><td>Blaine</td><td>MN</td><td>55449</td><td>null</td><td>US</td></tr><tr><td>BD</td><td>Ron's LP Gas Service</td><td>43437 225th Ave</td><td>Lake Mills</td><td>IA</td><td>50450</td><td>null</td><td>US</td></tr><tr><td>BD</td><td>First Co-op Association</td><td>1583 Market Ave</td><td>Galva</td><td>IA</td><td>51020</td><td>null</td><td>US</td></tr><tr><td>BD</td><td>Speedway #7459</td><td>2850 Skokie Hwy</td><td>North Chicago</td><td>IL</td><td>60064</td><td>null</td><td>US</td></tr><tr><td>BD</td><td>Camp Pendleton Marine Corps Base</td><td>Vandegrift Blvd</td><td>Camp Pendleton</td><td>CA</td><td>92055</td><td>null</td><td>US</td></tr><tr><td>BD</td><td>Marine Corps Air Station - Yuma</td><td>320 Smith St</td><td>Yuma</td><td>AZ</td><td>85369</td><td>null</td><td>US</td></tr><tr><td>BD</td><td>South Carolina Department of Transportation - York</td><td>338 W Robertson Rd</td><td>Rock Hill</td><td>SC</td><td>29730</td><td>null</td><td>US</td></tr><tr><td>BD</td><td>South Carolina Department of Transportation - Greenville</td><td>13 Saluda Dam Rd</td><td>Greenville</td><td>SC</td><td>29611</td><td>null</td><td>US</td></tr><tr><td>BD</td><td>South Carolina Department of Transportation - Sumter</td><td>301 E Calhoun St</td><td>Sumter</td><td>SC</td><td>29150</td><td>null</td><td>US</td></tr><tr><td>BD</td><td>South Carolina Department of Transportation - North Charleston</td><td>6355 Fain Blvd</td><td>North Charleston</td><td>SC</td><td>29406</td><td>null</td><td>US</td></tr><tr><td>BD</td><td>South Carolina Department of Transportation - Walterboro</td><td>593 Sniders Hwy</td><td>Walterboro</td><td>SC</td><td>29488</td><td>null</td><td>US</td></tr><tr><td>BD</td><td>South Carolina Department of Transportation - Conway</td><td>4145 Highway 701 N</td><td>Conway</td><td>SC</td><td>29526</td><td>null</td><td>US</td></tr><tr><td>BD</td><td>South Carolina Department of Transportation - Florence</td><td>3018 E Palmetto St</td><td>Florence</td><td>SC</td><td>29503</td><td>null</td><td>US</td></tr><tr><td>BD</td><td>South Carolina Department of Transportation - Pickens</td><td>975 Breazeale Rd</td><td>Liberty</td><td>SC</td><td>29657</td><td>null</td><td>US</td></tr><tr><td>BD</td><td>South Carolina Department of Transportation - Kershaw</td><td>512 S Fair St</td><td>Camden</td><td>SC</td><td>29020</td><td>null</td><td>US</td></tr><tr><td>BD</td><td>South Carolina Department of Transportation - Anderson</td><td>4740 Liberty Hwy</td><td>Anderson</td><td>SC</td><td>29621</td><td>null</td><td>US</td></tr><tr><td>BD</td><td>South Carolina Department of Transportation - Williamsburg</td><td>1315 Eastland Ave</td><td>Kingstree</td><td>SC</td><td>29556</td><td>null</td><td>US</td></tr><tr><td>BD</td><td>South Carolina Department of Transportation - Clarendon</td><td>US 521 E Boyce St</td><td>Manning</td><td>SC</td><td>29102</td><td>null</td><td>US</td></tr><tr><td>BD</td><td>South Carolina Department of Transportation - Spartanburg</td><td>8890 Fairforest Rd</td><td>Spartanburg</td><td>SC</td><td>29303</td><td>null</td><td>US</td></tr><tr><td>BD</td><td>South Carolina Department of Transportation - Bennettsville</td><td>474 SC-38</td><td>Bennettsville</td><td>SC</td><td>29512</td><td>null</td><td>US</td></tr><tr><td>BD</td><td>South Carolina Department of Transportation - Oconee</td><td>150 Richland Rd</td><td>Westminster</td><td>SC</td><td>29693</td><td>null</td><td>US</td></tr><tr><td>BD</td><td>South Carolina Department of Transportation - Darlington</td><td>111 Lamar Hwy</td><td>Darlington</td><td>SC</td><td>29540</td><td>null</td><td>US</td></tr><tr><td>BD</td><td>South Carolina Department of Transportation - Cherokee</td><td>1868 Old Georgia Hwy</td><td>Gaffney</td><td>SC</td><td>29340</td><td>null</td><td>US</td></tr><tr><td>BD</td><td>South Carolina Department of Transportation - Chester</td><td>1143 SCDOT Rd</td><td>Chester</td><td>SC</td><td>29706</td><td>null</td><td>US</td></tr><tr><td>BD</td><td>South Carolina Department of Transportation - Holly Hill</td><td>6328 Old State Rd</td><td>Holly Hill</td><td>SC</td><td>29059</td><td>null</td><td>US</td></tr><tr><td>BD</td><td>South Carolina Department of Transportation - Dillon</td><td>1203 E Main St</td><td>Dillon</td><td>SC</td><td>29536</td><td>null</td><td>US</td></tr><tr><td>BD</td><td>South Carolina Department of Transportation - Berkeley</td><td>436 Highway 52 N</td><td>Moncks Corner</td><td>SC</td><td>29461</td><td>null</td><td>US</td></tr><tr><td>BD</td><td>South Carolina Department of Transportation - Lee</td><td>703 E Church St</td><td>Bishopville</td><td>SC</td><td>29010</td><td>null</td><td>US</td></tr><tr><td>BD</td><td>Alabama Department of Transportation</td><td>2715 E Skyland Blvd</td><td>Tuscaloosa</td><td>AL</td><td>35405</td><td>null</td><td>US</td></tr><tr><td>BD</td><td>Mr. Fuel Travel Center</td><td>11 Highway W</td><td>Foristell</td><td>MO</td><td>63348</td><td>null</td><td>US</td></tr><tr><td>BD</td><td>Casey's General Store</td><td>400 Cottonwood Rd</td><td>Mountain Lake</td><td>MN</td><td>56159</td><td>null</td><td>US</td></tr><tr><td>BD</td><td>City of Phoenix - Fire Station #38</td><td>5002 E Warner Rd</td><td>Phoenix</td><td>AZ</td><td>85044</td><td>null</td><td>US</td></tr><tr><td>BD</td><td>City of Phoenix - Okemah Service Center</td><td>3828 E Anne St</td><td>Phoenix</td><td>AZ</td><td>85040</td><td>null</td><td>US</td></tr><tr><td>BD</td><td>City of Phoenix - Fire Station #55</td><td>26800 N 27 Ave</td><td>Phoenix</td><td>AZ</td><td>85085</td><td>null</td><td>US</td></tr><tr><td>BD</td><td>Stripes</td><td>1206 Avenue E</td><td>Ozona</td><td>TX</td><td>76943</td><td>null</td><td>US</td></tr><tr><td>BD</td><td>Chevron</td><td>990 Lockwood Dr</td><td>Houston</td><td>TX</td><td>77020</td><td>null</td><td>US</td></tr><tr><td>BD</td><td>Casey's General Store</td><td>617 W Maine St</td><td>Amboy</td><td>MN</td><td>56010</td><td>null</td><td>US</td></tr><tr><td>BD</td><td>Casey's General Store</td><td>101 Prairie Ave</td><td>Butterfield</td><td>MN</td><td>56120</td><td>null</td><td>US</td></tr><tr><td>BD</td><td>Casey's General Store</td><td>620 2nd Ave S</td><td>St. James</td><td>MN</td><td>56081</td><td>null</td><td>US</td></tr><tr><td>BD</td><td>Casey's General Store</td><td>302 N 5th Ave E</td><td>Truman</td><td>MN</td><td>56088</td><td>null</td><td>US</td></tr><tr><td>BD</td><td>Casey's General Store</td><td>112 2nd St</td><td>Welcome</td><td>MN</td><td>56181</td><td>null</td><td>US</td></tr><tr><td>BD</td><td>Casey's General Store</td><td>30 Energy Ln SW</td><td>Oronoco</td><td>MN</td><td>55960</td><td>null</td><td>US</td></tr><tr><td>BD</td><td>Casey's General Store</td><td>29905 Shoquist Ln</td><td>Chisago City</td><td>MN</td><td>55013</td><td>null</td><td>US</td></tr><tr><td>BD</td><td>Casey's General Store</td><td>55 County Rd 43 NW</td><td>Big Lake</td><td>MN</td><td>55309</td><td>null</td><td>US</td></tr><tr><td>BD</td><td>Casey's General Store</td><td>415 2nd St SE</td><td>New Richland</td><td>MN</td><td>56072</td><td>null</td><td>US</td></tr><tr><td>BD</td><td>Casey's General Store</td><td>313 Shimmcor St</td><td>Mayer</td><td>MN</td><td>55360</td><td>null</td><td>US</td></tr><tr><td>BD</td><td>Casey's General Store</td><td>175 Nelson Blvd</td><td>Montrose</td><td>MN</td><td>55363</td><td>null</td><td>US</td></tr><tr><td>BD</td><td>Casey's General Store</td><td>302 SE 7th Ave</td><td>Grand Rapids</td><td>MN</td><td>55744</td><td>null</td><td>US</td></tr><tr><td>BD</td><td>Casey's General Store</td><td>1907 7th St NW</td><td>Rochester</td><td>MN</td><td>55901</td><td>null</td><td>US</td></tr><tr><td>BD</td><td>Casey's General Store</td><td>527 E Depot St</td><td>Litchfield</td><td>MN</td><td>55355</td><td>null</td><td>US</td></tr><tr><td>BD</td><td>Casey's General Store</td><td>1802 8th Ave NW</td><td>Sauk Rapids</td><td>MN</td><td>56379</td><td>null</td><td>US</td></tr><tr><td>BD</td><td>Casey's General Store</td><td>1080 Highway 12</td><td>Ortonville</td><td>MN</td><td>56278</td><td>null</td><td>US</td></tr><tr><td>BD</td><td>Casey's General Store</td><td>13991 Baxter Dr</td><td>Baxter</td><td>MN</td><td>56425</td><td>null</td><td>US</td></tr><tr><td>BD</td><td>Farmers Co-op Oil Co</td><td>215 Central Ave S</td><td>Elbow Lake</td><td>MN</td><td>56531</td><td>null</td><td>US</td></tr><tr><td>BD</td><td>Meadowland Farmers Co-op</td><td>25861 Highway 14</td><td>Lamberton</td><td>MN</td><td>56152</td><td>null</td><td>US</td></tr><tr><td>BD</td><td>Casey's General Store</td><td>224 4th St SW</td><td>Richmond</td><td>MN</td><td>56368</td><td>null</td><td>US</td></tr><tr><td>BD</td><td>Casey's General Store</td><td>1702 12th St SW</td><td>Austin</td><td>MN</td><td>55912</td><td>null</td><td>US</td></tr><tr><td>BD</td><td>Casey's General Store</td><td>603 3rd St</td><td>Jackson</td><td>MN</td><td>56143</td><td>null</td><td>US</td></tr><tr><td>BD</td><td>Casey's General Store</td><td>240 6th St N</td><td>Winsted</td><td>MN</td><td>55395</td><td>null</td><td>US</td></tr><tr><td>BD</td><td>Casey's General Store</td><td>605 N Sibley Ave</td><td>Litchfield</td><td>MN</td><td>55355</td><td>null</td><td>US</td></tr><tr><td>BD</td><td>Casey's General Store</td><td>301 Highway 59 N</td><td>Fulda</td><td>MN</td><td>56131</td><td>null</td><td>US</td></tr><tr><td>BD</td><td>Casey's General Store</td><td>101 E Cumberland Rd</td><td>Altamont</td><td>IL</td><td>62411</td><td>null</td><td>US</td></tr><tr><td>BD</td><td>Casey's General Store</td><td>210 20th St NW</td><td>Faribault</td><td>MN</td><td>55021</td><td>null</td><td>US</td></tr><tr><td>BD</td><td>Casey's General Store</td><td>302 S Kniss Ave</td><td>Luverne</td><td>MN</td><td>56156</td><td>null</td><td>US</td></tr><tr><td>BD</td><td>Casey's General Store</td><td>100 E Main St</td><td>Marshall</td><td>MN</td><td>56258</td><td>null</td><td>US</td></tr><tr><td>BD</td><td>Casey's General Store</td><td>3480 Bridge St NW</td><td>St. Francis</td><td>MN</td><td>55070</td><td>null</td><td>US</td></tr><tr><td>BD</td><td>Casey's General Store</td><td>202 E Blue Earth Ave</td><td>Fairmont</td><td>MN</td><td>56031</td><td>null</td><td>US</td></tr><tr><td>BD</td><td>Casey's General Store</td><td>304 Jefferson St N</td><td>Wadena</td><td>MN</td><td>56482</td><td>null</td><td>US</td></tr><tr><td>BD</td><td>Casey's General Store</td><td>206 Lake St S</td><td>Long Prairie</td><td>MN</td><td>56347</td><td>null</td><td>US</td></tr><tr><td>BD</td><td>Casey's General Store</td><td>410 Highway 23</td><td>Foley</td><td>MN</td><td>56329</td><td>null</td><td>US</td></tr><tr><td>BD</td><td>Casey's General Store</td><td>107 1st Ave S</td><td>St. James</td><td>MN</td><td>56081</td><td>null</td><td>US</td></tr><tr><td>BD</td><td>Casey's General Store</td><td>501 S Rum River Dr</td><td>Princeton</td><td>MN</td><td>55371</td><td>null</td><td>US</td></tr><tr><td>BD</td><td>Casey's General Store</td><td>5321 Wyoming Trl</td><td>Wyoming</td><td>MN</td><td>55092</td><td>null</td><td>US</td></tr><tr><td>BD</td><td>Casey's General Store</td><td>2101 10th St E</td><td>Glencoe</td><td>MN</td><td>55336</td><td>null</td><td>US</td></tr><tr><td>BD</td><td>Casey's General Store</td><td>314 20th St S</td><td>New Ulm</td><td>MN</td><td>56073</td><td>null</td><td>US</td></tr><tr><td>BD</td><td>Casey's General Store</td><td>2290 Main St S</td><td>Cambridge</td><td>MN</td><td>55008</td><td>null</td><td>US</td></tr><tr><td>BD</td><td>Casey's General Store</td><td>8431 State Highway 55</td><td>Rockford</td><td>MN</td><td>55373</td><td>null</td><td>US</td></tr><tr><td>BD</td><td>Casey's General Store</td><td>625 E Vernon Ave</td><td>Fergus Falls</td><td>MN</td><td>56537</td><td>null</td><td>US</td></tr><tr><td>BD</td><td>Casey's General Store</td><td>510 Highway 7 E</td><td>Hutchinson</td><td>MN</td><td>55350</td><td>null</td><td>US</td></tr><tr><td>BD</td><td>Casey's General Store</td><td>475 18th St SE</td><td>Owatonna</td><td>MN</td><td>55060</td><td>null</td><td>US</td></tr><tr><td>BD</td><td>Casey's General Store</td><td>707 37th Ave S</td><td>Moorhead</td><td>MN</td><td>56560</td><td>null</td><td>US</td></tr><tr><td>BD</td><td>Casey's General Store</td><td>311 Center Ave W</td><td>Dilworth</td><td>MN</td><td>56529</td><td>null</td><td>US</td></tr><tr><td>BD</td><td>Casey's General Store</td><td>104 Roosevelt Ave</td><td>Detroit Lakes</td><td>MN</td><td>56501</td><td>null</td><td>US</td></tr><tr><td>BD</td><td>Casey's General Store</td><td>2001 N Riverfront Dr</td><td>Mankato</td><td>MN</td><td>56001</td><td>null</td><td>US</td></tr><tr><td>BD</td><td>Casey's General Store</td><td>215 Central St E</td><td>Lonsdale</td><td>MN</td><td>55046</td><td>null</td><td>US</td></tr><tr><td>BD</td><td>Casey's General Store</td><td>201 4th Ave NW</td><td>New Prague</td><td>MN</td><td>56071</td><td>null</td><td>US</td></tr><tr><td>BD</td><td>Casey's General Store</td><td>521 Woodley St W</td><td>Northfield</td><td>MN</td><td>55057</td><td>null</td><td>US</td></tr><tr><td>BD</td><td>Casey's General Store</td><td>216 4th St NW</td><td>Montgomery</td><td>MN</td><td>56069</td><td>null</td><td>US</td></tr><tr><td>BD</td><td>Casey's General Store</td><td>100 Highway 13 N</td><td>Waterville</td><td>MN</td><td>56096</td><td>null</td><td>US</td></tr><tr><td>BD</td><td>Casey's General Store</td><td>111 Highway 60 W</td><td>Elysian</td><td>MN</td><td>56028</td><td>null</td><td>US</td></tr><tr><td>BD</td><td>Casey's General Store</td><td>567 Oak St</td><td>Dawson</td><td>MN</td><td>56232</td><td>null</td><td>US</td></tr><tr><td>BD</td><td>Casey's General Store</td><td>1205 Morgan St</td><td>Tracy</td><td>MN</td><td>56175</td><td>null</td><td>US</td></tr><tr><td>BD</td><td>Casey's General Store</td><td>605 S Main St</td><td>Stewartville</td><td>MN</td><td>55976</td><td>null</td><td>US</td></tr><tr><td>BD</td><td>Casey's General Store</td><td>300 County Rd 40 E</td><td>Carver</td><td>MN</td><td>55315</td><td>null</td><td>US</td></tr><tr><td>BD</td><td>Casey's General Store</td><td>60 Walnut Ave</td><td>Madison Lake</td><td>MN</td><td>56063</td><td>null</td><td>US</td></tr><tr><td>BD</td><td>Casey's General Store</td><td>214 State St N</td><td>West Concord</td><td>MN</td><td>55985</td><td>null</td><td>US</td></tr><tr><td>BD</td><td>Casey's General Store</td><td>320 N Main St</td><td>Mantorville</td><td>MN</td><td>55955</td><td>null</td><td>US</td></tr><tr><td>BD</td><td>Casey's General Store</td><td>2078 2nd St</td><td>Lake Park</td><td>MN</td><td>56554</td><td>null</td><td>US</td></tr><tr><td>BD</td><td>Casey's General Store</td><td>101 598th Ave</td><td>Eagle Lake</td><td>MN</td><td>56024</td><td>null</td><td>US</td></tr><tr><td>BD</td><td>Casey's General Store</td><td>875 US 52 N</td><td>Preston</td><td>MN</td><td>55965</td><td>null</td><td>US</td></tr><tr><td>BD</td><td>Casey's General Store</td><td>228 8th Ave NE</td><td>Pipestone</td><td>MN</td><td>56164</td><td>null</td><td>US</td></tr><tr><td>BD</td><td>Casey's General Store</td><td>502 N Main St</td><td>Sherburn</td><td>MN</td><td>56171</td><td>null</td><td>US</td></tr><tr><td>BD</td><td>Casey's General Store</td><td>1102 Heckman Ct</td><td>St. James</td><td>MN</td><td>56081</td><td>null</td><td>US</td></tr><tr><td>BD</td><td>Casey's General Store</td><td>720 2nd St NW</td><td>Hayfield</td><td>MN</td><td>55940</td><td>null</td><td>US</td></tr><tr><td>BD</td><td>Casey's General Store</td><td>841 Parker Ave W</td><td>Dassel</td><td>MN</td><td>55325</td><td>null</td><td>US</td></tr><tr><td>BD</td><td>Casey's General Store</td><td>107 Miller St</td><td>New York Mills</td><td>MN</td><td>56567</td><td>null</td><td>US</td></tr><tr><td>BD</td><td>Casey's General Store</td><td>504 Central Ave N</td><td>Mapleton</td><td>MN</td><td>56065</td><td>null</td><td>US</td></tr><tr><td>BD</td><td>Casey's General Store</td><td>2021 Highway 59 N</td><td>Worthington</td><td>MN</td><td>56187</td><td>null</td><td>US</td></tr><tr><td>BD</td><td>Casey's General Store</td><td>1125 Main St W</td><td>Cannon Falls</td><td>MN</td><td>55009</td><td>null</td><td>US</td></tr><tr><td>BD</td><td>Casey's General Store</td><td>850 N Munsterman St</td><td>Appleton</td><td>MN</td><td>56208</td><td>null</td><td>US</td></tr><tr><td>BD</td><td>Casey's General Store</td><td>520 Highway 212 W</td><td>Granite Falls</td><td>MN</td><td>56241</td><td>null</td><td>US</td></tr><tr><td>BD</td><td>Casey's General Store</td><td>1311 W Lincoln Ave</td><td>Olivia</td><td>MN</td><td>56277</td><td>null</td><td>US</td></tr><tr><td>BD</td><td>Casey's General Store</td><td>707 E Bridge St</td><td>Redwood Falls</td><td>MN</td><td>56283</td><td>null</td><td>US</td></tr><tr><td>BD</td><td>Casey's General Store</td><td>604 E Main St</td><td>Madelia</td><td>MN</td><td>56062</td><td>null</td><td>US</td></tr><tr><td>BD</td><td>Casey's General Store</td><td>3400 12th Ave S</td><td>Moorhead</td><td>MN</td><td>56560</td><td>null</td><td>US</td></tr><tr><td>BD</td><td>Casey's General Store</td><td>309 Pleasant Ave W</td><td>Atwater</td><td>MN</td><td>56209</td><td>null</td><td>US</td></tr><tr><td>BD</td><td>Casey's General Store</td><td>303 Avon Ave S</td><td>Avon</td><td>MN</td><td>56310</td><td>null</td><td>US</td></tr><tr><td>BD</td><td>Casey's General Store</td><td>100 Milky Way St S</td><td>Cosmos</td><td>MN</td><td>56228</td><td>null</td><td>US</td></tr><tr><td>BD</td><td>Casey's General Store</td><td>115 Minnesota 55</td><td>Kimball</td><td>MN</td><td>55353</td><td>null</td><td>US</td></tr><tr><td>BD</td><td>Casey's General Store</td><td>400 W Highway 23</td><td>Ogilvie</td><td>MN</td><td>56358</td><td>null</td><td>US</td></tr><tr><td>BD</td><td>Casey's General Store</td><td>6515 County Rd 136</td><td>St. Augusta</td><td>MN</td><td>56301</td><td>null</td><td>US</td></tr><tr><td>BD</td><td>Casey's General Store</td><td>200 W Highway St</td><td>Dodge Center</td><td>MN</td><td>55927</td><td>null</td><td>US</td></tr><tr><td>BD</td><td>Casey's General Store</td><td>2300 Highway 12 E</td><td>Willmar</td><td>MN</td><td>56201</td><td>null</td><td>US</td></tr><tr><td>BD</td><td>Casey's General Store</td><td>1702 30th Ave S</td><td>Moorhead</td><td>MN</td><td>56560</td><td>null</td><td>US</td></tr><tr><td>BD</td><td>Casey's General Store</td><td>203 21st St S</td><td>Moorhead</td><td>MN</td><td>56560</td><td>null</td><td>US</td></tr><tr><td>BD</td><td>Casey's General Store</td><td>1 Center Ave E</td><td>Dilworth</td><td>MN</td><td>56529</td><td>null</td><td>US</td></tr><tr><td>BD</td><td>Casey's General Store</td><td>907 Minnesota St</td><td>Paynesville</td><td>MN</td><td>56362</td><td>null</td><td>US</td></tr><tr><td>BD</td><td>Casey's General Store</td><td>735 N Broadway Ave</td><td>Spring Valley</td><td>MN</td><td>55975</td><td>null</td><td>US</td></tr><tr><td>BD</td><td>Casey's General Store</td><td>3959 Highway 30 W</td><td>Ellendale</td><td>MN</td><td>56026</td><td>null</td><td>US</td></tr><tr><td>BD</td><td>Casey's General Store</td><td>302 State Highway 23 S</td><td>Sandstone</td><td>MN</td><td>55072</td><td>null</td><td>US</td></tr><tr><td>BD</td><td>Casey's General Store</td><td>7222 Sunwood Dr NW</td><td>Ramsey</td><td>MN</td><td>55303</td><td>null</td><td>US</td></tr><tr><td>BD</td><td>Casey's General Store</td><td>15 US Highway 2 W</td><td>Cohasset</td><td>MN</td><td>55721</td><td>null</td><td>US</td></tr><tr><td>BD</td><td>Casey's General Store</td><td>1018 Central Ave</td><td>Lester Prairie</td><td>MN</td><td>55354</td><td>null</td><td>US</td></tr><tr><td>BD</td><td>Casey's General Store</td><td>1109 E College Dr</td><td>Marshall</td><td>MN</td><td>56258</td><td>null</td><td>US</td></tr><tr><td>BD</td><td>Casey's General Store</td><td>102 20th St NW</td><td>Stewartville</td><td>MN</td><td>55976</td><td>null</td><td>US</td></tr><tr><td>BD</td><td>Casey's General Store</td><td>101 Riverview Dr</td><td>Medford</td><td>MN</td><td>55049</td><td>null</td><td>US</td></tr><tr><td>BD</td><td>Casey's General Store</td><td>261 South St</td><td>Stewart</td><td>MN</td><td>55385</td><td>null</td><td>US</td></tr><tr><td>BD</td><td>Casey's General Store</td><td>129 N Memorial Dr</td><td>Hoffman</td><td>MN</td><td>56339</td><td>null</td><td>US</td></tr><tr><td>BD</td><td>Casey's General Store</td><td>920 Main St S</td><td>Pine City</td><td>MN</td><td>55063</td><td>null</td><td>US</td></tr><tr><td>BD</td><td>Casey's General Store</td><td>100 W Fisher Ave</td><td>Crookston</td><td>MN</td><td>56716</td><td>null</td><td>US</td></tr><tr><td>BD</td><td>Casey's General Store</td><td>3373 S Broadway St</td><td>Alexandria</td><td>MN</td><td>56308</td><td>null</td><td>US</td></tr><tr><td>BD</td><td>Casey's General Store</td><td>1101 Main St E</td><td>Sleepy Eye</td><td>MN</td><td>56085</td><td>null</td><td>US</td></tr><tr><td>BD</td><td>Casey's General Store</td><td>215 Elm St W</td><td>Annandale</td><td>MN</td><td>55302</td><td>null</td><td>US</td></tr><tr><td>BD</td><td>Casey's General Store</td><td>521 Wells St</td><td>Belgrade</td><td>MN</td><td>56312</td><td>null</td><td>US</td></tr><tr><td>BD</td><td>Casey's General Store</td><td>850 Lum Park Rd</td><td>Brainerd</td><td>MN</td><td>56401</td><td>null</td><td>US</td></tr><tr><td>BD</td><td>Casey's General Store</td><td>457 S Main St</td><td>Browerville</td><td>MN</td><td>56438</td><td>null</td><td>US</td></tr><tr><td>BD</td><td>Casey's General Store</td><td>1306 US-10</td><td>Detroit Lakes</td><td>MN</td><td>56501</td><td>null</td><td>US</td></tr><tr><td>BD</td><td>Casey's General Store</td><td>746 Pillsbury St N</td><td>Pillager</td><td>MN</td><td>56473</td><td>null</td><td>US</td></tr><tr><td>BD</td><td>Casey's General Store</td><td>832 Superior Ave</td><td>Randall</td><td>MN</td><td>56475</td><td>null</td><td>US</td></tr><tr><td>BD</td><td>Casey's General Store</td><td>610 N Main St</td><td>Starbuck</td><td>MN</td><td>56381</td><td>null</td><td>US</td></tr><tr><td>BD</td><td>Casey's General Store</td><td>341 Bench St</td><td>Taylors Falls</td><td>MN</td><td>55084</td><td>null</td><td>US</td></tr><tr><td>BD</td><td>Central Farms Service</td><td>1500 Highway 3 S</td><td>Northfield</td><td>MN</td><td>55057</td><td>null</td><td>US</td></tr><tr><td>BD</td><td>Fairgrove Oil & Propane</td><td>1788 Main St</td><td>Fairgrove</td><td>MI</td><td>48733</td><td>null</td><td>US</td></tr><tr><td>BD</td><td>Jerry's Service - Conoco</td><td>505 N Cedar Ave</td><td>Hartington</td><td>NE</td><td>68739</td><td>null</td><td>US</td></tr><tr><td>BD</td><td>Meadowland Co-op</td><td>120 E Tin St</td><td>Redwood Falls</td><td>MN</td><td>56283</td><td>null</td><td>US</td></tr><tr><td>BD</td><td>Michigan Petroleum Technologies</td><td>3030 Moak St</td><td>Port Huron</td><td>MI</td><td>48060</td><td>null</td><td>US</td></tr><tr><td>BD</td><td>Cenex - Farmers Union Oil Co</td><td>2402 E Highway 7</td><td>Montevideo</td><td>MN</td><td>56265</td><td>null</td><td>US</td></tr><tr><td>BD</td><td>Cenex - Consumers Co-op Oil Co</td><td>1218 10th Ave</td><td>Clarkfield</td><td>MN</td><td>56223</td><td>null</td><td>US</td></tr><tr><td>BD</td><td>United Farmers Co-op</td><td>40399 State Highway 15</td><td>Klossner</td><td>MN</td><td>56073</td><td>null</td><td>US</td></tr><tr><td>BD</td><td>MAPCO #7514</td><td>2491 Fort Campbell Blvd</td><td>Clarksville</td><td>TN</td><td>37040</td><td>null</td><td>US</td></tr><tr><td>BD</td><td>Texaco</td><td>24627 I-45 N</td><td>Spring</td><td>TX</td><td>77380</td><td>null</td><td>US</td></tr><tr><td>BD</td><td>United Farmers Co-op</td><td>316 Main St</td><td>LeSueur</td><td>MN</td><td>56058</td><td>null</td><td>US</td></tr><tr><td>BD</td><td>Northern Star Co-op - Remer</td><td>6790 Highway 200 NE</td><td>Remer</td><td>MN</td><td>56672</td><td>null</td><td>US</td></tr><tr><td>BD</td><td>Northern Star Co-op - Long Prairie Cenex</td><td>904 1st Ave NE</td><td>Prarie</td><td>MN</td><td>56653</td><td>null</td><td>US</td></tr><tr><td>BD</td><td>NERO: DEWA - Chado Farm Fuel Station</td><td>11 Walpack Flatbrook Rd</td><td>Layton</td><td>NJ</td><td>7851</td><td>null</td><td>US</td></tr><tr><td>BD</td><td>NERO: DEWA - Dingman's Fuel Station (Gasoline and Diesel)</td><td>110 School House Rd</td><td>Dingman's Ferry</td><td>PA</td><td>18328</td><td>null</td><td>US</td></tr><tr><td>BD</td><td>NAVBASE Ventura County - Point Mugu</td><td>Bldg 613A</td><td>Point Mugu</td><td>CA</td><td>93042</td><td>null</td><td>US</td></tr><tr><td>BD</td><td>0802-17591-G_FS Daniel Boone National Forest</td><td>238 Visitor Center Dr</td><td>Golden Pond</td><td>KY</td><td>42211</td><td>null</td><td>US</td></tr><tr><td>BD</td><td>Casey's General Store</td><td>1 S Pine Dr</td><td>Circle Pines</td><td>MN</td><td>55014</td><td>null</td><td>US</td></tr><tr><td>BD</td><td>Casey's General Store</td><td>17119 Yale St</td><td>Elk River</td><td>MN</td><td>55330</td><td>null</td><td>US</td></tr><tr><td>BD</td><td>Casey's General Store</td><td>13717 Johnson St NE</td><td>Ham Lake</td><td>MN</td><td>55304</td><td>null</td><td>US</td></tr><tr><td>BD</td><td>Casey's General Store</td><td>9981 Diffley Crt</td><td>Inver Grove Heights</td><td>MN</td><td>55077</td><td>null</td><td>US</td></tr><tr><td>BD</td><td>Casey's General Store</td><td>424 S Main St</td><td>Janesville</td><td>MN</td><td>56048</td><td>null</td><td>US</td></tr><tr><td>BD</td><td>Casey's General Store</td><td>403 Mantorville Ave S</td><td>Kasson</td><td>MN</td><td>55944</td><td>null</td><td>US</td></tr><tr><td>BD</td><td>Casey's General Store</td><td>170 Saint Andrews Dr</td><td>Mankato</td><td>MN</td><td>56001</td><td>null</td><td>US</td></tr><tr><td>BD</td><td>Casey's General Store</td><td>325 Park Ave E</td><td>Renville</td><td>MN</td><td>56284</td><td>null</td><td>US</td></tr><tr><td>BD</td><td>Casey's General Store</td><td>2017 Maple Ave</td><td>Slayton</td><td>MN</td><td>56172</td><td>null</td><td>US</td></tr><tr><td>BD</td><td>Casey's General Store</td><td>31105 Forest Blvd</td><td>Stacy</td><td>MN</td><td>55079</td><td>null</td><td>US</td></tr><tr><td>BD</td><td>Casey's General Store</td><td>713 US-10 E</td><td>Staples</td><td>MN</td><td>56749</td><td>null</td><td>US</td></tr><tr><td>BD</td><td>Casey's General Store</td><td>13 5th St S</td><td>Wheaton</td><td>MN</td><td>56296</td><td>null</td><td>US</td></tr><tr><td>BD</td><td>Casey's General Store</td><td>351 6th St</td><td>Manning</td><td>IA</td><td>51455</td><td>null</td><td>US</td></tr><tr><td>BD</td><td>LEAD Fuel Point</td><td>1 Overcash Ave</td><td>Chambersburg</td><td>PA</td><td>17201</td><td>null</td><td>US</td></tr><tr><td>BD</td><td>Cheltenham Readiness Center</td><td>9900 Surratts Rd</td><td>Cheltenham</td><td>MD</td><td>20623</td><td>null</td><td>US</td></tr><tr><td>BD</td><td>La Plata Readiness Center</td><td>6025 Rose Hill Rd</td><td>La Plata</td><td>MD</td><td>20646</td><td>null</td><td>US</td></tr><tr><td>BD</td><td>Laurel Readiness Center</td><td>8601 Odell Rd</td><td>Laurel</td><td>MD</td><td>20708</td><td>null</td><td>US</td></tr><tr><td>BD</td><td>Olney Readiness Center</td><td>5115 Riggs Rd</td><td>Gaithersburg</td><td>MD</td><td>20882</td><td>null</td><td>US</td></tr><tr><td>BD</td><td>White Oak Readiness Center</td><td>12200 Cherry Hill Rd</td><td>Silver Spring</td><td>MD</td><td>20904</td><td>null</td><td>US</td></tr><tr><td>BD</td><td>Edgewood AASF</td><td>E4081 Aberdeen Proving Ground -EA</td><td>Gunpowder</td><td>MD</td><td>21010</td><td>null</td><td>US</td></tr><tr><td>BD</td><td>Edgewood Readiness Center</td><td>E4305 Aberdeen Proving Ground</td><td>Gunpowder</td><td>MD</td><td>21010</td><td>null</td><td>US</td></tr><tr><td>BD</td><td>Purnell Readiness Center</td><td>10901 Notchcliff Rd</td><td>Glen Arm</td><td>MD</td><td>21057</td><td>null</td><td>US</td></tr><tr><td>BD</td><td>Westminster Readiness Center</td><td>350 Hahn Rd</td><td>Westminster</td><td>MD</td><td>21157</td><td>null</td><td>US</td></tr><tr><td>BD</td><td>Cade Readiness Center</td><td>2620 Winchester St</td><td>Baltimore</td><td>MD</td><td>21216</td><td>null</td><td>US</td></tr><tr><td>BD</td><td>Dundalk Readiness Center</td><td>2101 N Point Blvd</td><td>Dundalk</td><td>MD</td><td>21222</td><td>null</td><td>US</td></tr><tr><td>BD</td><td>Catonsville Readiness Center</td><td>130 Mellor Ave</td><td>Catonsville</td><td>MD</td><td>21228</td><td>null</td><td>US</td></tr><tr><td>BD</td><td>Parkville Readiness Center</td><td>3727 Putty Hill Ave</td><td>Parkville</td><td>MD</td><td>21236</td><td>null</td><td>US</td></tr><tr><td>BD</td><td>Annapolis Readiness Center</td><td>18 Willow St</td><td>Annapolis</td><td>MD</td><td>21401</td><td>null</td><td>US</td></tr><tr><td>BD</td><td>Cumberland Readiness Center</td><td>1100 Brown Ave</td><td>Cumberland</td><td>MD</td><td>21502</td><td>null</td><td>US</td></tr><tr><td>BD</td><td>Easton Readiness Center</td><td>7111 Ocean Gateway</td><td>Easton</td><td>MD</td><td>21601</td><td>null</td><td>US</td></tr><tr><td>BD</td><td>Hagerstown Readiness Center</td><td>18500 Roxbury Rd</td><td>Hagerstown</td><td>MD</td><td>21740</td><td>null</td><td>US</td></tr><tr><td>BD</td><td>Freedom Readiness Center</td><td>6525 Sykesville Rd</td><td>Eldersburg</td><td>MD</td><td>21784</td><td>null</td><td>US</td></tr><tr><td>BD</td><td>Salisbury Readiness Center</td><td>28722 Ocean Gateway</td><td>Salisbury</td><td>MD</td><td>21801</td><td>null</td><td>US</td></tr><tr><td>BD</td><td>Crane Fuel Farm</td><td>300 Highway 361</td><td>Crane</td><td>IN</td><td>47522</td><td>null</td><td>US</td></tr><tr><td>BD</td><td>Locamotive Site 22</td><td>300 Highway 361</td><td>Crane</td><td>IN</td><td>47522</td><td>null</td><td>US</td></tr><tr><td>BD</td><td>McGuire AFB</td><td>3151 County Rd 616</td><td>Fort Dix</td><td>NJ</td><td>8640</td><td>null</td><td>US</td></tr><tr><td>BD</td><td>McGuire ANG</td><td>1821 Sheppard Bridge Rd</td><td>McGuire AFB</td><td>NJ</td><td>8641</td><td>null</td><td>US</td></tr><tr><td>BD</td><td>NERO - SHEN-Headquarters</td><td>3655 US Highway 211 E</td><td>Luray</td><td>VA</td><td>22835</td><td>null</td><td>US</td></tr><tr><td>BD</td><td>SERO- GRSM Cataloochee Diesel Fuel System</td><td>3576 Ranger Station Rd</td><td>Waynesville</td><td>NC</td><td>28786</td><td>null</td><td>US</td></tr><tr><td>BD</td><td>SERO - Chickamauga Diesel Fuel System</td><td>269 Dyer Rd</td><td>Chickamauga</td><td>GA</td><td>30707</td><td>null</td><td>US</td></tr><tr><td>BD</td><td>SERO - CARI Diesel Fuel System</td><td>4385 Highway 494</td><td>Natchez</td><td>LA</td><td>71457</td><td>null</td><td>US</td></tr><tr><td>BD</td><td>PWRO - CHIS SRI Diesel Fuel System</td><td>1901 Spinnaker Dr</td><td>Ventura</td><td>CA</td><td>93001</td><td>null</td><td>US</td></tr><tr><td>BD</td><td>NEX NSWC Crane - Locomotive Site</td><td>300 Highway 361</td><td>Crane</td><td>IN</td><td>47522</td><td>null</td><td>US</td></tr><tr><td>BD</td><td>NEX NSWC Crane - PWC Site</td><td>300 Highway 361</td><td>Crane</td><td>IN</td><td>47522</td><td>null</td><td>US</td></tr><tr><td>BD</td><td>Beaufort Marine Corps Air Station</td><td>Geiger Blvd</td><td>Beaufort</td><td>SC</td><td>29904</td><td>null</td><td>US</td></tr><tr><td>BD</td><td>David Monthan AFB</td><td>Flightline Rd</td><td>Tucson</td><td>AZ</td><td>85707</td><td>null</td><td>US</td></tr><tr><td>BD</td><td>NAVRADSTA Jim Creek</td><td>Jim Creek Rd</td><td>Arlington</td><td>WA</td><td>98223</td><td>null</td><td>US</td></tr><tr><td>BD</td><td>NIH Fleet Station 2</td><td>16701 Elmer School Rd</td><td>Poolesville</td><td>MD</td><td>20837</td><td>null</td><td>US</td></tr><tr><td>BD</td><td>Social Security Administration 2</td><td>5569 Caswell Rd</td><td>Woodlawn</td><td>MD</td><td>21207</td><td>null</td><td>US</td></tr><tr><td>BD</td><td>MCB Camp Pendleton/DLA-Energy COCO - Fuel Facility 5270</td><td>Fuel Facility 5270, Basilone Rd</td><td>Camp Pendleton</td><td>CA</td><td>92054</td><td>null</td><td>US</td></tr><tr><td>BD</td><td>FPC Montgomery</td><td>Maxwell Air Force Base</td><td>Montgomery</td><td>AL</td><td>36112</td><td>null</td><td>US</td></tr><tr><td>BD</td><td>Camp Lejeune Marine Corps Base</td><td>Camp Geiger</td><td>Camp Lejeune</td><td>NC</td><td>28542</td><td>null</td><td>US</td></tr><tr><td>BD</td><td>24/7 Travel Store</td><td>2230 N 9th St</td><td>Salina</td><td>KS</td><td>67401</td><td>null</td><td>US</td></tr><tr><td>BD</td><td>24/7 Travel Store</td><td>745 S First St</td><td>Wakeeney</td><td>KS</td><td>67672</td><td>null</td><td>US</td></tr><tr><td>BD</td><td>24/7 Travel Store</td><td>671 Westport Blvd</td><td>Salina</td><td>KS</td><td>67401</td><td>null</td><td>US</td></tr><tr><td>BD</td><td>24/7 Travel Store</td><td>32981 Windy Hill Rd</td><td>Maple Hill</td><td>KS</td><td>66507</td><td>null</td><td>US</td></tr><tr><td>BD</td><td>24/7 Travel Store</td><td>2200 N Buckeye Ave</td><td>Abilene</td><td>KS</td><td>67410</td><td>null</td><td>US</td></tr><tr><td>BD</td><td>24/7 Travel Store</td><td>1415 S Fossil St</td><td>Russell</td><td>KS</td><td>67665</td><td>null</td><td>US</td></tr><tr><td>BD</td><td>Casey's General Store #3755</td><td>2803 S Arkansas Ave</td><td>Russellville</td><td>AR</td><td>72802</td><td>null</td><td>US</td></tr><tr><td>BD</td><td>Casey's General Store</td><td>101 E 8th St</td><td>Danville</td><td>AR</td><td>72833</td><td>null</td><td>US</td></tr><tr><td>BD</td><td>Casey's General Store</td><td>1705 Highway 9B</td><td>Morrilton</td><td>AR</td><td>72110</td><td>null</td><td>US</td></tr><tr><td>BD</td><td>Casey's General Store #3879</td><td>119 S Main St</td><td>Cave City</td><td>AR</td><td>72521</td><td>null</td><td>US</td></tr><tr><td>BD</td><td>Casey's General Store #3693</td><td>804 Highway 25B N</td><td>Heber Springs</td><td>AR</td><td>72543</td><td>null</td><td>US</td></tr><tr><td>BD</td><td>Casey's General Store #3738</td><td>727 E Main St</td><td>Gassville</td><td>AR</td><td>72653</td><td>null</td><td>US</td></tr><tr><td>BD</td><td>Casey's General Store #3936</td><td>1 S Broadview</td><td>Greenbriar</td><td>AR</td><td>72058</td><td>null</td><td>US</td></tr><tr><td>BD</td><td>Casey's General Store #3876</td><td>2620 E Beebe Capps Expy</td><td>Searcy</td><td>AR</td><td>72143</td><td>null</td><td>US</td></tr><tr><td>BD</td><td>Casey's General Store #3530</td><td>220 Highway 5 N</td><td>Mountain Home</td><td>AR</td><td>72653</td><td>null</td><td>US</td></tr><tr><td>BD</td><td>Casey's General Store #3345</td><td>906 N Church St</td><td>Atkins</td><td>AR</td><td>72823</td><td>null</td><td>US</td></tr><tr><td>BD</td><td>Casey's General Store #3557</td><td>307 S Arkansas Ave</td><td>Russellville</td><td>AR</td><td>72801</td><td>null</td><td>US</td></tr><tr><td>BD</td><td>Casey's General Store #3616</td><td>207 N Fourche Ave</td><td>Perryville</td><td>AR</td><td>72126</td><td>null</td><td>US</td></tr><tr><td>BD</td><td>Casey's General Store #3699</td><td>701 Bill Foster Memorial Hwy</td><td>Cabot</td><td>AR</td><td>72023</td><td>null</td><td>US</td></tr><tr><td>BD</td><td>Renner Petroleum</td><td>2782 Central Ave</td><td>McKinleyville</td><td>CA</td><td>95519</td><td>null</td><td>US</td></tr><tr><td>BD</td><td>Renner Petroleum</td><td>111 Main St</td><td>Rio Dell</td><td>CA</td><td>95562</td><td>null</td><td>US</td></tr><tr><td>BD</td><td>Renner Petroleum</td><td>597 Fernbridge Dr</td><td>Fortuna</td><td>CA</td><td>95540</td><td>null</td><td>US</td></tr><tr><td>BD</td><td>Renner Petroleum</td><td>1976 5th St</td><td>Eureka</td><td>CA</td><td>95501</td><td>null</td><td>US</td></tr><tr><td>BD</td><td>NPS PWRO - CHIS ESC</td><td>1901 Spinnaker Dr</td><td>Ventura</td><td>CA</td><td>93001</td><td>null</td><td>US</td></tr><tr><td>BD</td><td>NPS NERO - SHEN-Piney River</td><td>null</td><td>Rileyville</td><td>VA</td><td>22650</td><td>null</td><td>US</td></tr><tr><td>BD</td><td>NPS NCRO - Bay 3400 - DOE/NPS</td><td>515 New York Ave NE</td><td>Washington</td><td>DC</td><td>20002</td><td>null</td><td>US</td></tr><tr><td>BD</td><td>NPS SERO - BLRI - 455.5 Soco Fueling Center</td><td>455 Blue Ridge Pkwy</td><td>Soco Gap</td><td>NC</td><td>28605</td><td>null</td><td>US</td></tr><tr><td>BD</td><td>BOR Hoover Dam</td><td>Hoover Dam</td><td>Boulder City</td><td>NV</td><td>89005</td><td>null</td><td>US</td></tr><tr><td>BD</td><td>NPS SERO - GRSM Cosby</td><td>107 Cosby Park Rd</td><td>Cosby</td><td>TN</td><td>37722</td><td>null</td><td>US</td></tr><tr><td>BD</td><td>NPS NERO - SHEN-Headquarters</td><td>3655 US Highway 211 E</td><td>Luray</td><td>VA</td><td>22835</td><td>null</td><td>US</td></tr><tr><td>BD</td><td>NPS NERO - SHEN-Big Meadows</td><td>Story of the Forest Tr</td><td>Stanley</td><td>VA</td><td>22851</td><td>null</td><td>US</td></tr><tr><td>BD</td><td>NPS PWRO - NOCA Stehekin Fuel Facility</td><td>272 Golden W Dr</td><td>Stehekin</td><td>WA</td><td>98852</td><td>null</td><td>US</td></tr><tr><td>BD</td><td>NPS NCRO - Bus Maintenance Facility</td><td>171 Shoreline Dr</td><td>Harpers Ferry</td><td>WV</td><td>25425</td><td>null</td><td>US</td></tr><tr><td>BD</td><td>Bourne's Energy</td><td>43 Raymond St</td><td>Lyndonville</td><td>VT</td><td>5851</td><td>null</td><td>US</td></tr><tr><td>BD</td><td>24/7 Travel Store</td><td>2710 Commerce Rd</td><td>Goodland</td><td>KS</td><td>67735</td><td>null</td><td>US</td></tr><tr><td>BD</td><td>Casey's General Store</td><td>103 6th Ave E</td><td>Andalusia</td><td>IL</td><td>61232</td><td>null</td><td>US</td></tr><tr><td>BD</td><td>Casey's General Store</td><td>201 N Main St</td><td>Avon</td><td>IL</td><td>61415</td><td>null</td><td>US</td></tr><tr><td>BD</td><td>Casey's General Store</td><td>425 Beloit Rd</td><td>Belvidere</td><td>IL</td><td>61008</td><td>null</td><td>US</td></tr><tr><td>BD</td><td>Casey's General Store</td><td>2131 E Lincoln Hwy</td><td>DeKalb</td><td>IL</td><td>60115</td><td>null</td><td>US</td></tr><tr><td>BD</td><td>Casey's General Store</td><td>1775 S West Ave</td><td>Freeport</td><td>IL</td><td>61032</td><td>null</td><td>US</td></tr><tr><td>BD</td><td>Casey's General Store</td><td>308 E Main St</td><td>Amboy</td><td>IL</td><td>61310</td><td>null</td><td>US</td></tr><tr><td>BD</td><td>Casey's General Store</td><td>411 5th St</td><td>Andover</td><td>IL</td><td>61233</td><td>null</td><td>US</td></tr><tr><td>BD</td><td>Casey's General Store</td><td>1102 N 1st St</td><td>Ashton</td><td>IL</td><td>61006</td><td>null</td><td>US</td></tr><tr><td>BD</td><td>Casey's General Store</td><td>300 E Henry St</td><td>Atkinson</td><td>IL</td><td>61235</td><td>null</td><td>US</td></tr><tr><td>BD</td><td>Casey's General Store</td><td>210 W Main St</td><td>Bradford</td><td>IL</td><td>61421</td><td>null</td><td>US</td></tr><tr><td>BD</td><td>Casey's General Store</td><td>700 W Blackhawk Dr</td><td>Byron</td><td>IL</td><td>61010</td><td>null</td><td>US</td></tr><tr><td>BD</td><td>Casey's General Store</td><td>500 E Main St</td><td>Capron</td><td>IL</td><td>61012</td><td>null</td><td>US</td></tr><tr><td>BD</td><td>Casey's General Store</td><td>306 2nd Ave</td><td>Carbon Cliff</td><td>IL</td><td>61239</td><td>null</td><td>US</td></tr><tr><td>BD</td><td>Casey's General Store</td><td>70 S Somonauk Rd</td><td>Cortland</td><td>IL</td><td>60112</td><td>null</td><td>US</td></tr><tr><td>BD</td><td>Casey's General Store</td><td>204 Illinois Rte 38</td><td>Creston</td><td>IL</td><td>60113</td><td>null</td><td>US</td></tr><tr><td>BD</td><td>Casey's General Store</td><td>111 N East St</td><td>Dakota</td><td>IL</td><td>61018</td><td>null</td><td>US</td></tr><tr><td>BD</td><td>Casey's General Store</td><td>1001 N Annie Glidden Rd</td><td>Dekalb</td><td>IL</td><td>60115</td><td>null</td><td>US</td></tr><tr><td>BD</td><td>Casey's General Store</td><td>100 W 4th St</td><td>Depue</td><td>IL</td><td>61322</td><td>null</td><td>US</td></tr><tr><td>BD</td><td>Casey's General Store</td><td>1401 W 4th St</td><td>Dixon</td><td>IL</td><td>61021</td><td>null</td><td>US</td></tr><tr><td>BD</td><td>Casey's General Store</td><td>701 S Ottawa St</td><td>Earlville</td><td>IL</td><td>60518</td><td>null</td><td>US</td></tr><tr><td>BD</td><td>Casey's General Store</td><td>1025 12th St</td><td>Erie</td><td>IL</td><td>61250</td><td>null</td><td>US</td></tr><tr><td>BD</td><td>Casey's General Store</td><td>203 E Lincoln Hwy</td><td>Franklin Grove</td><td>IL</td><td>61031</td><td>null</td><td>US</td></tr><tr><td>BD</td><td>Casey's General Store</td><td>223 W Main St</td><td>Galesburg</td><td>IL</td><td>61401</td><td>null</td><td>US</td></tr><tr><td>BD</td><td>Casey's General Store</td><td>2364 N Seminary St</td><td>Galesburg</td><td>IL</td><td>61401</td><td>null</td><td>US</td></tr><tr><td>BD</td><td>Casey's General Store</td><td>509 SE 2nd St</td><td>Galva</td><td>IL</td><td>61434</td><td>null</td><td>US</td></tr><tr><td>BD</td><td>Casey's General Store</td><td>837 N College Ave</td><td>Geneseo</td><td>IL</td><td>61254</td><td>null</td><td>US</td></tr><tr><td>BD</td><td>Casey's General Store</td><td>100 E Bestor Dr</td><td>Geneseo</td><td>IL</td><td>61254</td><td>null</td><td>US</td></tr><tr><td>BD</td><td>Casey's General Store</td><td>412 E Harper Ave</td><td>Granville</td><td>IL</td><td>61326</td><td>null</td><td>US</td></tr><tr><td>BD</td><td>Casey's General Store</td><td>1045 University Ave</td><td>Henry</td><td>IL</td><td>61537</td><td>null</td><td>US</td></tr><tr><td>BD</td><td>Casey's General Store</td><td>215 Powers Rd</td><td>Hillcrest</td><td>IL</td><td>61068</td><td>null</td><td>US</td></tr><tr><td>BD</td><td>Casey's General Store</td><td>601 Main St</td><td>Keithsburg</td><td>IL</td><td>61442</td><td>null</td><td>US</td></tr><tr><td>BD</td><td>Casey's General Store</td><td>618 N Main St</td><td>Kewanee</td><td>IL</td><td>61443</td><td>null</td><td>US</td></tr><tr><td>BD</td><td>Casey's General Store</td><td>129 E Railroad St</td><td>Kingston</td><td>IL</td><td>60145</td><td>null</td><td>US</td></tr><tr><td>BD</td><td>Casey's General Store</td><td>440 Henderson Rd</td><td>Knoxville</td><td>IL</td><td>61448</td><td>null</td><td>US</td></tr><tr><td>BD</td><td>Casey's General Store</td><td>1327 5th St</td><td>La Salle</td><td>IL</td><td>61301</td><td>null</td><td>US</td></tr><tr><td>BD</td><td>Casey's General Store</td><td>425 S Main Ave</td><td>Ladd</td><td>IL</td><td>61329</td><td>null</td><td>US</td></tr><tr><td>BD</td><td>Casey's General Store</td><td>111 W Illinois Route 64</td><td>Lanark</td><td>IL</td><td>61046</td><td>null</td><td>US</td></tr><tr><td>BD</td><td>Casey's General Store</td><td>180 N Main St</td><td>Leland</td><td>IL</td><td>60531</td><td>null</td><td>US</td></tr><tr><td>BD</td><td>Casey's General Store</td><td>301 N Schuyler St</td><td>Lena</td><td>IL</td><td>61048</td><td>null</td><td>US</td></tr><tr><td>BD</td><td>Casey's General Store</td><td>825 Cty Line Rd</td><td>Maple Park</td><td>IL</td><td>60151</td><td>null</td><td>US</td></tr><tr><td>BD</td><td>Casey's General Store</td><td>150 W Bluff St</td><td>Marseilles</td><td>IL</td><td>61341</td><td>null</td><td>US</td></tr><tr><td>BD</td><td>Casey's General Store</td><td>801 Meriden St</td><td>Mendota</td><td>IL</td><td>61342</td><td>null</td><td>US</td></tr><tr><td>BD</td><td>Casey's General Store</td><td>1105 W 10th Ave</td><td>Milan</td><td>IL</td><td>61264</td><td>null</td><td>US</td></tr><tr><td>BD</td><td>Casey's General Store</td><td>300 N Washington St</td><td>Milledgeville</td><td>IL</td><td>61051</td><td>null</td><td>US</td></tr><tr><td>BD</td><td>Casey's General Store</td><td>1112 W Broadway</td><td>Monmouth</td><td>IL</td><td>61462</td><td>null</td><td>US</td></tr><tr><td>BD</td><td>Casey's General Store</td><td>831 S Main St</td><td>Monmouth</td><td>IL</td><td>61462</td><td>null</td><td>US</td></tr><tr><td>BD</td><td>Casey's General Store</td><td>743 Bedford Rd</td><td>Morris</td><td>IL</td><td>60450</td><td>null</td><td>US</td></tr><tr><td>BD</td><td>Casey's General Store</td><td>602 E Lincolnway</td><td>Morrison</td><td>IL</td><td>61270</td><td>null</td><td>US</td></tr><tr><td>BD</td><td>Casey's General Store</td><td>2949 Illinois Rt 178</td><td>North Utica</td><td>IL</td><td>61373</td><td>null</td><td>US</td></tr><tr><td>BD</td><td>Casey's General Store</td><td>901 W Washington St</td><td>Oregon</td><td>IL</td><td>61061</td><td>null</td><td>US</td></tr><tr><td>BD</td><td>Casey's General Store</td><td>1101 Division St</td><td>Orion</td><td>IL</td><td>61273</td><td>null</td><td>US</td></tr><tr><td>BD</td><td>Casey's General Store</td><td>315 Grummon St</td><td>Paw Paw</td><td>IL</td><td>61353</td><td>null</td><td>US</td></tr><tr><td>BD</td><td>Casey's General Store</td><td>2950 4th St</td><td>Peru</td><td>IL</td><td>61354</td><td>null</td><td>US</td></tr><tr><td>BD</td><td>Casey's General Store</td><td>411 W South St</td><td>Plano</td><td>IL</td><td>60545</td><td>null</td><td>US</td></tr><tr><td>BD</td><td>Casey's General Store</td><td>120 N Division Ave</td><td>Polo</td><td>IL</td><td>61064</td><td>null</td><td>US</td></tr><tr><td>BD</td><td>Casey's General Store</td><td>302 N High St</td><td>Port Byron</td><td>IL</td><td>61275</td><td>null</td><td>US</td></tr><tr><td>BD</td><td>Casey's General Store</td><td>520 W Peru St</td><td>Princeton</td><td>IL</td><td>61356</td><td>null</td><td>US</td></tr><tr><td>BD</td><td>Casey's General Store</td><td>40 Grove St</td><td>Prophetstown</td><td>IL</td><td>61277</td><td>null</td><td>US</td></tr><tr><td>BD</td><td>Casey's General Store</td><td>330 S 7th St</td><td>Rochelle</td><td>IL</td><td>61068</td><td>null</td><td>US</td></tr><tr><td>BD</td><td>Casey's General Store</td><td>900 Dixon Ave</td><td>Rock Falls</td><td>IL</td><td>61071</td><td>null</td><td>US</td></tr><tr><td>BD</td><td>Casey's General Store</td><td>1201 W Rte 30</td><td>Rock Falls</td><td>IL</td><td>61071</td><td>null</td><td>US</td></tr><tr><td>BD</td><td>Casey's General Store</td><td>1604 1st Ave</td><td>Rock Falls</td><td>IL</td><td>61071</td><td>null</td><td>US</td></tr><tr><td>BD</td><td>Casey's General Store</td><td>6874 Weaver Rd</td><td>Rockford</td><td>IL</td><td>61114</td><td>null</td><td>US</td></tr><tr><td>BD</td><td>Casey's General Store</td><td>4650 E Rockton Rd</td><td>Roscoe</td><td>IL</td><td>61073</td><td>null</td><td>US</td></tr><tr><td>BD</td><td>Casey's General Store</td><td>160 W Penn Ave</td><td>Roseville</td><td>IL</td><td>61473</td><td>null</td><td>US</td></tr><tr><td>BD</td><td>Casey's General Store</td><td>902 E Church St</td><td>Sandwich</td><td>IL</td><td>60548</td><td>null</td><td>US</td></tr><tr><td>BD</td><td>Casey's General Store</td><td>225 N Main St</td><td>Seneca</td><td>IL</td><td>61360</td><td>null</td><td>US</td></tr><tr><td>BD</td><td>Casey's General Store</td><td>317 W Comanche Ave</td><td>Shabbona</td><td>IL</td><td>60550</td><td>null</td><td>US</td></tr><tr><td>BD</td><td>Casey's General Store</td><td>501 W Market St</td><td>Shannon</td><td>IL</td><td>61078</td><td>null</td><td>US</td></tr><tr><td>BD</td><td>Casey's General Store</td><td>119 W Railroad St</td><td>Sheffield</td><td>IL</td><td>61361</td><td>null</td><td>US</td></tr><tr><td>BD</td><td>Casey's General Store</td><td>900 E Market St</td><td>Somonauk</td><td>IL</td><td>60552</td><td>null</td><td>US</td></tr><tr><td>BD</td><td>Casey's General Store</td><td>601 W Dakota St</td><td>Spring Valley</td><td>IL</td><td>61362</td><td>null</td><td>US</td></tr><tr><td>BD</td><td>Casey's General Store</td><td>2806 W 4th St</td><td>Sterling</td><td>IL</td><td>61081</td><td>null</td><td>US</td></tr><tr><td>BD</td><td>Casey's General Store</td><td>105 S Rural Rd</td><td>Stillman Valley</td><td>IL</td><td>61084</td><td>null</td><td>US</td></tr><tr><td>BD</td><td>Casey's General Store</td><td>150 S Main St</td><td>Stockton</td><td>IL</td><td>61085</td><td>null</td><td>US</td></tr><tr><td>BD</td><td>Casey's General Store</td><td>105 Plank Rd</td><td>Sycamore</td><td>IL</td><td>60178</td><td>null</td><td>US</td></tr><tr><td>BD</td><td>Casey's General Store</td><td>201 S Main St</td><td>Tampico</td><td>IL</td><td>61283</td><td>null</td><td>US</td></tr><tr><td>BD</td><td>Casey's General Store</td><td>200 E Main St</td><td>Toulon</td><td>IL</td><td>61483</td><td>null</td><td>US</td></tr><tr><td>BD</td><td>Casey's General Store</td><td>912 13th St</td><td>Viola</td><td>IL</td><td>61486</td><td>null</td><td>US</td></tr><tr><td>BD</td><td>Casey's General Store</td><td>113 W Main St</td><td>Warren</td><td>IL</td><td>61087</td><td>null</td><td>US</td></tr><tr><td>BD</td><td>Casey's General Store</td><td>221 N Depot Rd</td><td>Wataga</td><td>IL</td><td>61488</td><td>null</td><td>US</td></tr><tr><td>BD</td><td>Casey's General Store</td><td>9779 US Route 30 St</td><td>Waterman</td><td>IL</td><td>60556</td><td>null</td><td>US</td></tr><tr><td>BD</td><td>Casey's General Store</td><td>138 E Main St</td><td>Wyanet</td><td>IL</td><td>61379</td><td>null</td><td>US</td></tr><tr><td>BD</td><td>Casey's General Store</td><td>109 S 7th St</td><td>Wyoming</td><td>IL</td><td>61491</td><td>null</td><td>US</td></tr><tr><td>BD</td><td>Casey's General Store</td><td>2245 Main St</td><td>Ferdinand</td><td>IN</td><td>47532</td><td>null</td><td>US</td></tr><tr><td>BD</td><td>Casey's General Store</td><td>810 E Park St</td><td>Fort Branch</td><td>IN</td><td>47648</td><td>null</td><td>US</td></tr><tr><td>BD</td><td>Casey's General Store</td><td>302 S Main St</td><td>Huntingburg</td><td>IN</td><td>47542</td><td>null</td><td>US</td></tr><tr><td>BD</td><td>Casey's General Store</td><td>304 E Main St</td><td>Petersburg</td><td>IN</td><td>47567</td><td>null</td><td>US</td></tr><tr><td>BD</td><td>Casey's General Store</td><td>330 S Main St</td><td>Princeton</td><td>IN</td><td>47670</td><td>null</td><td>US</td></tr><tr><td>BD</td><td>Casey's General Store</td><td>110 S 5th St</td><td>Adair</td><td>IA</td><td>50002</td><td>null</td><td>US</td></tr><tr><td>BD</td><td>Casey's General Store</td><td>816 Greene St</td><td>Adel</td><td>IA</td><td>50003</td><td>null</td><td>US</td></tr><tr><td>BD</td><td>Casey's General Store</td><td>501 N Douglas St</td><td>Afton</td><td>IA</td><td>50830</td><td>null</td><td>US</td></tr><tr><td>BD</td><td>Casey's General Store</td><td>122 N Main St</td><td>Albia</td><td>IA</td><td>52531</td><td>null</td><td>US</td></tr><tr><td>BD</td><td>Casey's General Store</td><td>1414 N Main St</td><td>Algona</td><td>IA</td><td>50511</td><td>null</td><td>US</td></tr><tr><td>BD</td><td>Casey's General Store</td><td>100 Cherry St</td><td>Allison</td><td>IA</td><td>50602</td><td>null</td><td>US</td></tr><tr><td>BD</td><td>Casey's General Store</td><td>407 8Th St SW</td><td>Altoona</td><td>IA</td><td>50009</td><td>null</td><td>US</td></tr><tr><td>BD</td><td>Casey's General Store</td><td>170 36th Ave SW</td><td>Altoona</td><td>IA</td><td>50009</td><td>null</td><td>US</td></tr><tr><td>BD</td><td>Casey's General Store</td><td>617 42nd Ave</td><td>Amana</td><td>IA</td><td>52203</td><td>null</td><td>US</td></tr><tr><td>BD</td><td>Casey's General Store</td><td>3612 Stange Rd</td><td>Ames</td><td>IA</td><td>50010</td><td>null</td><td>US</td></tr><tr><td>BD</td><td>Casey's General Store</td><td>1752 Highway 64 E</td><td>Anamosa</td><td>IA</td><td>52205</td><td>null</td><td>US</td></tr><tr><td>BD</td><td>Casey's General Store</td><td>912 Main St</td><td>Anita</td><td>IA</td><td>50020</td><td>null</td><td>US</td></tr><tr><td>BD</td><td>Casey's General Store</td><td>2905 W 1st St</td><td>Ankeny</td><td>IA</td><td>50023</td><td>null</td><td>US</td></tr><tr><td>BD</td><td>Casey's General Store</td><td>302 S Ankeny Blvd</td><td>Ankeny</td><td>IA</td><td>50023</td><td>null</td><td>US</td></tr><tr><td>BD</td><td>Casey's General Store</td><td>1310 NW 18th St</td><td>Ankeny</td><td>IA</td><td>50023</td><td>null</td><td>US</td></tr><tr><td>BD</td><td>Casey's General Store</td><td>1602 W 1st St</td><td>Ankeny</td><td>IA</td><td>50023</td><td>null</td><td>US</td></tr><tr><td>BD</td><td>Casey's General Store</td><td>2601 SE Creekview Dr</td><td>Ankeny</td><td>IA</td><td>50021</td><td>null</td><td>US</td></tr><tr><td>BD</td><td>Casey's General Store</td><td>6981 NE 14th St</td><td>Ankeny</td><td>IA</td><td>50023</td><td>null</td><td>US</td></tr><tr><td>BD</td><td>Casey's General Store</td><td>307 S 4th Ave</td><td>Armstrong</td><td>IA</td><td>50514</td><td>null</td><td>US</td></tr><tr><td>BD</td><td>Casey's General Store</td><td>1408 E 7th St</td><td>Atlantic</td><td>IA</td><td>50022</td><td>null</td><td>US</td></tr><tr><td>BD</td><td>Casey's General Store</td><td>701 Poplar St</td><td>Atlantic</td><td>IA</td><td>50022</td><td>null</td><td>US</td></tr><tr><td>BD</td><td>Casey's General Store</td><td>1019 N Chestnut St</td><td>Avoca</td><td>IA</td><td>51521</td><td>null</td><td>US</td></tr><tr><td>BD</td><td>Casey's General Store</td><td>606 13th St</td><td>Belle Plaine</td><td>IA</td><td>52208</td><td>null</td><td>US</td></tr><tr><td>BD</td><td>Casey's General Store</td><td>1104 N Riverview St</td><td>Bellevue</td><td>IA</td><td>52031</td><td>null</td><td>US</td></tr><tr><td>BD</td><td>Casey's General Store</td><td>301 E Mayne St</td><td>Blue Grass</td><td>IA</td><td>52726</td><td>null</td><td>US</td></tr><tr><td>BD</td><td>Casey's General Store</td><td>1455 Grant St S</td><td>Bondurant</td><td>IA</td><td>50035</td><td>null</td><td>US</td></tr><tr><td>BD</td><td>Casey's General Store</td><td>114 Mamie Eisenhower Ave</td><td>Boone</td><td>IA</td><td>50036</td><td>null</td><td>US</td></tr><tr><td>BD</td><td>Casey's General Store</td><td>1303 SE Marshall St</td><td>Boone</td><td>IA</td><td>50036</td><td>null</td><td>US</td></tr><tr><td>BD</td><td>Casey's General Store</td><td>576 Main Ave N</td><td>Britt</td><td>IA</td><td>50423</td><td>null</td><td>US</td></tr><tr><td>BD</td><td>Casey's General Store</td><td>106 W 2nd St</td><td>Brooklyn</td><td>IA</td><td>52211</td><td>null</td><td>US</td></tr><tr><td>BD</td><td>Casey's General Store</td><td>222 W Front St</td><td>Buffalo</td><td>IA</td><td>52728</td><td>null</td><td>US</td></tr><tr><td>BD</td><td>Casey's General Store</td><td>101 1st Ave NE</td><td>Buffalo Center</td><td>IA</td><td>50424</td><td>null</td><td>US</td></tr><tr><td>BD</td><td>Casey's General Store</td><td>614 S Washington Blvd</td><td>Camanche</td><td>IA</td><td>52730</td><td>null</td><td>US</td></tr><tr><td>BD</td><td>Casey's General Store</td><td>105 Highway 5</td><td>Carlisle</td><td>IA</td><td>50047</td><td>null</td><td>US</td></tr><tr><td>BD</td><td>Casey's General Store</td><td>1020 Gateway Dr</td><td>Carlisle</td><td>IA</td><td>50047</td><td>null</td><td>US</td></tr><tr><td>BD</td><td>Casey's General Store</td><td>510 E Highway 30</td><td>Carroll</td><td>IA</td><td>51401</td><td>null</td><td>US</td></tr><tr><td>BD</td><td>Casey's General Store</td><td>1650 E Locust St</td><td>Carter Lake</td><td>IA</td><td>51510</td><td>null</td><td>US</td></tr><tr><td>BD</td><td>Casey's General Store</td><td>717 1st Ave E</td><td>Cascade</td><td>IA</td><td>52033</td><td>null</td><td>US</td></tr><tr><td>BD</td><td>Casey's General Store</td><td>5908 Nordic Dr</td><td>Cedar Falls</td><td>IA</td><td>50613</td><td>null</td><td>US</td></tr><tr><td>BD</td><td>Casey's General Store</td><td>641 Edgewood Rd NW</td><td>Cedar Rapids</td><td>IA</td><td>52405</td><td>null</td><td>US</td></tr><tr><td>BD</td><td>Casey's General Store</td><td>380 33rd Ave SW</td><td>Cedar Rapids</td><td>IA</td><td>52404</td><td>null</td><td>US</td></tr><tr><td>BD</td><td>Casey's General Store</td><td>3434 1st Ave NE</td><td>Cedar Rapids</td><td>IA</td><td>52402</td><td>null</td><td>US</td></tr><tr><td>BD</td><td>Casey's General Store</td><td>201 8th Ave SE</td><td>Cedar Rapids</td><td>IA</td><td>52401</td><td>null</td><td>US</td></tr><tr><td>BD</td><td>Casey's General Store</td><td>5555 Edgewood Rd NE</td><td>Cedar Rapids</td><td>IA</td><td>52411</td><td>null</td><td>US</td></tr><tr><td>BD</td><td>Casey's General Store</td><td>1495 Blairs Ferry Rd NE</td><td>Cedar Rapids</td><td>IA</td><td>52402</td><td>null</td><td>US</td></tr><tr><td>BD</td><td>Casey's General Store</td><td>888 Vernon Valley Dr</td><td>Cedar Rapids</td><td>IA</td><td>52403</td><td>null</td><td>US</td></tr><tr><td>BD</td><td>Casey's General Store</td><td>9125 Atlantic Dr SW</td><td>Cedar Rapids</td><td>IA</td><td>52404</td><td>null</td><td>US</td></tr><tr><td>BD</td><td>Casey's General Store</td><td>9001 6th St SW</td><td>Cedar Rapids</td><td>IA</td><td>52404</td><td>null</td><td>US</td></tr><tr><td>BD</td><td>Casey's General Store</td><td>5655 C St SW</td><td>Cedar Rapids</td><td>IA</td><td>52404</td><td>null</td><td>US</td></tr><tr><td>BD</td><td>Casey's General Store</td><td>560 33rd Ave SW</td><td>Cedar Rapids</td><td>IA</td><td>52404</td><td>null</td><td>US</td></tr><tr><td>BD</td><td>Casey's General Store</td><td>1532 Ellis Blvd NW</td><td>Cedar Rapids</td><td>IA</td><td>52405</td><td>null</td><td>US</td></tr><tr><td>BD</td><td>Casey's General Store</td><td>696 Grain Ln</td><td>Center Point</td><td>IA</td><td>52213</td><td>null</td><td>US</td></tr><tr><td>BD</td><td>Casey's General Store</td><td>335 N Main St</td><td>Chariton</td><td>IA</td><td>50049</td><td>null</td><td>US</td></tr><tr><td>BD</td><td>Casey's General Store</td><td>1105 Blunt Pkwy</td><td>Charles City</td><td>IA</td><td>50616</td><td>null</td><td>US</td></tr><tr><td>BD</td><td>Casey's General Store</td><td>1200 N 2nd St</td><td>Cherokee</td><td>IA</td><td>51012</td><td>null</td><td>US</td></tr><tr><td>BD</td><td>Casey's General Store</td><td>93 Lombard St</td><td>Clarence</td><td>IA</td><td>52216</td><td>null</td><td>US</td></tr><tr><td>BD</td><td>Casey's General Store</td><td>318 E Washington St</td><td>Clarinda</td><td>IA</td><td>51632</td><td>null</td><td>US</td></tr><tr><td>BD</td><td>Casey's General Store</td><td>222 Central Ave W</td><td>Clarion</td><td>IA</td><td>50525</td><td>null</td><td>US</td></tr><tr><td>BD</td><td>Casey's General Store</td><td>213 S Main St</td><td>Clarksville</td><td>IA</td><td>50619</td><td>null</td><td>US</td></tr><tr><td>BD</td><td>Casey's General Store</td><td>501 W State St</td><td>Colfax</td><td>IA</td><td>50054</td><td>null</td><td>US</td></tr><tr><td>BD</td><td>Casey's General Store</td><td>702 US Highway 65</td><td>Colo</td><td>IA</td><td>50056</td><td>null</td><td>US</td></tr><tr><td>BD</td><td>Casey's General Store</td><td>409 E Center St</td><td>Conrad</td><td>IA</td><td>50621</td><td>null</td><td>US</td></tr><tr><td>BD</td><td>Casey's General Store</td><td>1987 2nd St</td><td>Coralville</td><td>IA</td><td>52241</td><td>null</td><td>US</td></tr><tr><td>BD</td><td>Casey's General Store</td><td>2798 Commerce Dr</td><td>Coralville</td><td>IA</td><td>52241</td><td>null</td><td>US</td></tr><tr><td>BD</td><td>Casey's General Store</td><td>204 6th St</td><td>Corning</td><td>IA</td><td>50841</td><td>null</td><td>US</td></tr><tr><td>BD</td><td>Casey's General Store</td><td>510 23rd Ave</td><td>Council Bluffs</td><td>IA</td><td>51501</td><td>null</td><td>US</td></tr><tr><td>BD</td><td>Casey's General Store</td><td>1928 Sherwood Dr</td><td>Council Bluffs</td><td>IA</td><td>51503</td><td>null</td><td>US</td></tr><tr><td>BD</td><td>Casey's General Store</td><td>19900 Virginia Hills Rd</td><td>Council Bluffs</td><td>IA</td><td>51503</td><td>null</td><td>US</td></tr><tr><td>BD</td><td>Casey's General Store</td><td>111 Mormon Bridge Rd</td><td>Crescent</td><td>IA</td><td>51526</td><td>null</td><td>US</td></tr><tr><td>BD</td><td>Casey's General Store</td><td>307 3rd St NW</td><td>Dayton</td><td>IA</td><td>50530</td><td>null</td><td>US</td></tr><tr><td>BD</td><td>Casey's General Store</td><td>1100 Greene St</td><td>De Soto</td><td>IA</td><td>50069</td><td>null</td><td>US</td></tr><tr><td>BD</td><td>Casey's General Store</td><td>502 Market St</td><td>Delmar</td><td>IA</td><td>52037</td><td>null</td><td>US</td></tr><tr><td>BD</td><td>Casey's General Store</td><td>1608 4th Ave S</td><td>Denison</td><td>IA</td><td>51442</td><td>null</td><td>US</td></tr><tr><td>BD</td><td>Casey's General Store</td><td>1101 Jefferson Ave</td><td>Denver</td><td>IA</td><td>50622</td><td>null</td><td>US</td></tr><tr><td>BD</td><td>Casey's General Store</td><td>4560 NE 14th St</td><td>Des Moines</td><td>IA</td><td>50313</td><td>null</td><td>US</td></tr><tr><td>BD</td><td>Casey's General Store</td><td>2106 Echo Valley Dr</td><td>Des Moines</td><td>IA</td><td>50321</td><td>null</td><td>US</td></tr><tr><td>BD</td><td>Casey's General Store</td><td>4151 Merle Hay Rd</td><td>Des Moines</td><td>IA</td><td>50310</td><td>null</td><td>US</td></tr><tr><td>BD</td><td>Casey's General Store</td><td>5150 NE 14th St</td><td>Des Moines</td><td>IA</td><td>50313</td><td>null</td><td>US</td></tr><tr><td>BD</td><td>Casey's General Store</td><td>6120 Douglas Ave</td><td>Des Moines</td><td>IA</td><td>50322</td><td>null</td><td>US</td></tr><tr><td>BD</td><td>Casey's General Store</td><td>3725 Beaver Ave</td><td>Des Moines</td><td>IA</td><td>50310</td><td>null</td><td>US</td></tr><tr><td>BD</td><td>Casey's General Store</td><td>3501 E 14th St</td><td>Des Moines</td><td>IA</td><td>50316</td><td>null</td><td>US</td></tr><tr><td>BD</td><td>Casey's General Store</td><td>1907 Army Post Rd</td><td>Des Moines</td><td>IA</td><td>50315</td><td>null</td><td>US</td></tr><tr><td>BD</td><td>Casey's General Store</td><td>2721 Dows Williams Rd</td><td>Dows</td><td>IA</td><td>50071</td><td>null</td><td>US</td></tr><tr><td>BD</td><td>Casey's General Store</td><td>1072 Cedar Cross Rd</td><td>Dubuque</td><td>IA</td><td>52003</td><td>null</td><td>US</td></tr><tr><td>BD</td><td>Casey's General Store</td><td>504 5th St</td><td>Durant</td><td>IA</td><td>52747</td><td>null</td><td>US</td></tr><tr><td>BD</td><td>Casey's General Store</td><td>1402 9th St SE</td><td>Dyersville</td><td>IA</td><td>52040</td><td>null</td><td>US</td></tr><tr><td>BD</td><td>Casey's General Store</td><td>975 N Chestnut Ave</td><td>Earlham</td><td>IA</td><td>50072</td><td>null</td><td>US</td></tr><tr><td>BD</td><td>Casey's General Store</td><td>2245 Karr Ave</td><td>Early</td><td>IA</td><td>50535</td><td>null</td><td>US</td></tr><tr><td>BD</td><td>Casey's General Store</td><td>811 W Elm St</td><td>Eldon</td><td>IA</td><td>52554</td><td>null</td><td>US</td></tr><tr><td>BD</td><td>Casey's General Store</td><td>1807 Edgington Ave</td><td>Eldora</td><td>IA</td><td>50627</td><td>null</td><td>US</td></tr><tr><td>BD</td><td>Casey's General Store</td><td>840 E Le Claire Rd</td><td>Eldridge</td><td>IA</td><td>52748</td><td>null</td><td>US</td></tr><tr><td>BD</td><td>Casey's General Store</td><td>26701 Scott Park Rd</td><td>Eldridge</td><td>IA</td><td>52748</td><td>null</td><td>US</td></tr><tr><td>BD</td><td>Casey's General Store</td><td>2406 Main St</td><td>Emmetsburg</td><td>IA</td><td>50536</td><td>null</td><td>US</td></tr><tr><td>BD</td><td>Casey's General Store</td><td>1482 State Highway 48</td><td>Essex</td><td>IA</td><td>51638</td><td>null</td><td>US</td></tr><tr><td>BD</td><td>Casey's General Store</td><td>8 Central Ave</td><td>Estherville</td><td>IA</td><td>51334</td><td>null</td><td>US</td></tr><tr><td>BD</td><td>Casey's General Store</td><td>103 S 4th St</td><td>Fairbank</td><td>IA</td><td>50629</td><td>null</td><td>US</td></tr><tr><td>BD</td><td>Casey's General Store</td><td>65 Williams Blvd</td><td>Fairfax</td><td>IA</td><td>52228</td><td>null</td><td>US</td></tr><tr><td>BD</td><td>Casey's General Store</td><td>2125 Libertyville Rd</td><td>Fairfield</td><td>IA</td><td>52556</td><td>null</td><td>US</td></tr><tr><td>BD</td><td>Casey's General Store</td><td>306 1st St S</td><td>Farley</td><td>IA</td><td>52046</td><td>null</td><td>US</td></tr><tr><td>BD</td><td>Casey's General Store</td><td>201 S 4th St</td><td>Farmington</td><td>IA</td><td>52626</td><td>null</td><td>US</td></tr><tr><td>BD</td><td>Casey's General Store</td><td>101 Highway 7</td><td>Fonda</td><td>IA</td><td>50540</td><td>null</td><td>US</td></tr><tr><td>BD</td><td>Casey's General Store</td><td>1132 Highway 69 S</td><td>Forest City</td><td>IA</td><td>50436</td><td>null</td><td>US</td></tr><tr><td>BD</td><td>Casey's General Store</td><td>3327 5th Ave S</td><td>Fort Dodge</td><td>IA</td><td>50501</td><td>null</td><td>US</td></tr><tr><td>BD</td><td>Casey's General Store</td><td>1230 3rd Ave NW</td><td>Fort Dodge</td><td>IA</td><td>50501</td><td>null</td><td>US</td></tr><tr><td>BD</td><td>Casey's General Store</td><td>235 Avenue O</td><td>Fort Dodge</td><td>IA</td><td>50501</td><td>null</td><td>US</td></tr><tr><td>BD</td><td>Casey's General Store</td><td>1428 38th St</td><td>Fort Madison</td><td>IA</td><td>52627</td><td>null</td><td>US</td></tr><tr><td>BD</td><td>Casey's General Store</td><td>215 W Main St</td><td>Fredericksburg</td><td>IA</td><td>50630</td><td>null</td><td>US</td></tr><tr><td>BD</td><td>Casey's General Store</td><td>145 US Highway 18 W</td><td>Garner</td><td>IA</td><td>50438</td><td>null</td><td>US</td></tr><tr><td>BD</td><td>Casey's General Store</td><td>17005 Highway 69</td><td>Gilbert</td><td>IA</td><td>50105</td><td>null</td><td>US</td></tr><tr><td>BD</td><td>Casey's General Store</td><td>105 SE 1st St</td><td>Gilmore City</td><td>IA</td><td>50541</td><td>null</td><td>US</td></tr><tr><td>BD</td><td>Casey's General Store</td><td>201 8th St</td><td>Gladbrook</td><td>IA</td><td>50635</td><td>null</td><td>US</td></tr><tr><td>BD</td><td>Casey's General Store</td><td>1131 Market St</td><td>Gowrie</td><td>IA</td><td>50543</td><td>null</td><td>US</td></tr><tr><td>BD</td><td>Casey's General Store</td><td>1802 Sycamore St</td><td>Granger</td><td>IA</td><td>50109</td><td>null</td><td>US</td></tr><tr><td>BD</td><td>Casey's General Store</td><td>302 SE 6th St</td><td>Greenfield</td><td>IA</td><td>50849</td><td>null</td><td>US</td></tr><tr><td>BD</td><td>Casey's General Store</td><td>951 SE Gateway Dr</td><td>Grimes</td><td>IA</td><td>50111</td><td>null</td><td>US</td></tr><tr><td>BD</td><td>Casey's General Store</td><td>1650 NE Beaverbrooke Blvd</td><td>Grimes</td><td>IA</td><td>50111</td><td>null</td><td>US</td></tr><tr><td>BD</td><td>Casey's General Store</td><td>217 6th Ave</td><td>Grinnell</td><td>IA</td><td>50112</td><td>null</td><td>US</td></tr><tr><td>BD</td><td>Casey's General Store</td><td>900 Main St</td><td>Griswold</td><td>IA</td><td>51535</td><td>null</td><td>US</td></tr><tr><td>BD</td><td>Casey's General Store</td><td>504 G Ave</td><td>Grundy Center</td><td>IA</td><td>50638</td><td>null</td><td>US</td></tr><tr><td>BD</td><td>Casey's General Store</td><td>719 4th St NE</td><td>Hampton</td><td>IA</td><td>50441</td><td>null</td><td>US</td></tr><tr><td>BD</td><td>Casey's General Store</td><td>1006 Chatburn Ave</td><td>Harlan</td><td>IA</td><td>51537</td><td>null</td><td>US</td></tr><tr><td>BD</td><td>Casey's General Store</td><td>1001 Ave E</td><td>Hawarden</td><td>IA</td><td>51023</td><td>null</td><td>US</td></tr><tr><td>BD</td><td>Casey's General Store</td><td>27470 Highway 65 S</td><td>Hubbard</td><td>IA</td><td>50122</td><td>null</td><td>US</td></tr><tr><td>BD</td><td>Casey's General Store</td><td>354 E Eldora Rd</td><td>Hudson</td><td>IA</td><td>50643</td><td>null</td><td>US</td></tr><tr><td>BD</td><td>Casey's General Store</td><td>907 13th St N</td><td>Humboldt</td><td>IA</td><td>50548</td><td>null</td><td>US</td></tr><tr><td>BD</td><td>Casey's General Store</td><td>207 S Front St</td><td>Humeston</td><td>IA</td><td>50123</td><td>null</td><td>US</td></tr><tr><td>BD</td><td>Casey's General Store</td><td>902 N Highway 69</td><td>Huxley</td><td>IA</td><td>50124</td><td>null</td><td>US</td></tr><tr><td>BD</td><td>Casey's General Store</td><td>401 E Highway 175</td><td>Ida Grove</td><td>IA</td><td>51445</td><td>null</td><td>US</td></tr><tr><td>BD</td><td>Casey's General Store</td><td>607 N Jefferson Way</td><td>Indianola</td><td>IA</td><td>50125</td><td>null</td><td>US</td></tr><tr><td>BD</td><td>Casey's General Store</td><td>1101 E 2nd Ave</td><td>Indianola</td><td>IA</td><td>50125</td><td>null</td><td>US</td></tr><tr><td>BD</td><td>Casey's General Store</td><td>301 E Trail Ridge Ave</td><td>Indianola</td><td>IA</td><td>50125</td><td>null</td><td>US</td></tr><tr><td>BD</td><td>Casey's General Store</td><td>204 N Dubuque St</td><td>IA City</td><td>IA</td><td>52245</td><td>null</td><td>US</td></tr><tr><td>BD</td><td>Casey's General Store</td><td>1410 Willow Creek Ct</td><td>IA City</td><td>IA</td><td>52246</td><td>null</td><td>US</td></tr><tr><td>BD</td><td>Casey's General Store</td><td>1904 Broadway St</td><td>IA City</td><td>IA</td><td>52240</td><td>null</td><td>US</td></tr><tr><td>BD</td><td>Casey's General Store</td><td>370 Scott Ct</td><td>IA City</td><td>IA</td><td>52245</td><td>null</td><td>US</td></tr><tr><td>BD</td><td>Casey's General Store</td><td>904 Washington Ave</td><td>IA Falls</td><td>IA</td><td>50126</td><td>null</td><td>US</td></tr><tr><td>BD</td><td>Casey's General Store</td><td>508 N Elm St</td><td>Jefferson</td><td>IA</td><td>50129</td><td>null</td><td>US</td></tr><tr><td>BD</td><td>Casey's General Store</td><td>6417 Northglenn Dr</td><td>Johnston</td><td>IA</td><td>50131</td><td>null</td><td>US</td></tr><tr><td>BD</td><td>Casey's General Store</td><td>1201 E Main St</td><td>Knoxville</td><td>IA</td><td>50138</td><td>null</td><td>US</td></tr><tr><td>BD</td><td>Casey's General Store</td><td>520 W Main St</td><td>Laurens</td><td>IA</td><td>50554</td><td>null</td><td>US</td></tr><tr><td>BD</td><td>Casey's General Store</td><td>501 N Brooks St</td><td>Lenox</td><td>IA</td><td>50851</td><td>null</td><td>US</td></tr><tr><td>BD</td><td>Casey's General Store</td><td>401 NW Church St</td><td>Leon</td><td>IA</td><td>50144</td><td>null</td><td>US</td></tr><tr><td>BD</td><td>Casey's General Store</td><td>14046 45th St</td><td>Lime Springs</td><td>IA</td><td>52155</td><td>null</td><td>US</td></tr><tr><td>BD</td><td>Casey's General Store</td><td>404 Locust St</td><td>Lohrville</td><td>IA</td><td>51453</td><td>null</td><td>US</td></tr><tr><td>BD</td><td>Casey's General Store</td><td>401 S 4th St</td><td>Mapleton</td><td>IA</td><td>51034</td><td>null</td><td>US</td></tr><tr><td>BD</td><td>Casey's General Store</td><td>801 E Platt St</td><td>Maquoketa</td><td>IA</td><td>52060</td><td>null</td><td>US</td></tr><tr><td>BD</td><td>Casey's General Store</td><td>1100 Eagleview Dr</td><td>Marion</td><td>IA</td><td>52302</td><td>null</td><td>US</td></tr><tr><td>BD</td><td>Casey's General Store</td><td>680 Lindale Dr</td><td>Marion</td><td>IA</td><td>52302</td><td>null</td><td>US</td></tr><tr><td>BD</td><td>Casey's General Store</td><td>1402 S 12th Ave</td><td>Marshalltown</td><td>IA</td><td>50158</td><td>null</td><td>US</td></tr><tr><td>BD</td><td>Casey's General Store</td><td>108 Iowa Ave W</td><td>Marshalltown</td><td>IA</td><td>50158</td><td>null</td><td>US</td></tr><tr><td>BD</td><td>Casey's General Store</td><td>610 S Monroe Ave</td><td>Mason City</td><td>IA</td><td>50401</td><td>null</td><td>US</td></tr><tr><td>BD</td><td>Casey's General Store</td><td>525 Main St W</td><td>Maynard</td><td>IA</td><td>50655</td><td>null</td><td>US</td></tr><tr><td>BD</td><td>Casey's General Store</td><td>206 Short St</td><td>Mechanicsville</td><td>IA</td><td>52306</td><td>null</td><td>US</td></tr><tr><td>BD</td><td>Casey's General Store</td><td>208 Wapello St</td><td>Mediapolis</td><td>IA</td><td>52637</td><td>null</td><td>US</td></tr><tr><td>BD</td><td>Casey's General Store</td><td>101 1st St</td><td>Merrill</td><td>IA</td><td>51038</td><td>null</td><td>US</td></tr><tr><td>BD</td><td>Casey's General Store</td><td>75 Main St</td><td>Middletown</td><td>IA</td><td>52638</td><td>null</td><td>US</td></tr><tr><td>BD</td><td>Casey's General Store</td><td>426 N 2nd St</td><td>Milo</td><td>IA</td><td>50166</td><td>null</td><td>US</td></tr><tr><td>BD</td><td>Casey's General Store</td><td>33280 335th St</td><td>Minden</td><td>IA</td><td>51553</td><td>null</td><td>US</td></tr><tr><td>BD</td><td>Casey's General Store</td><td>309 Center Ave S</td><td>Mitchellville</td><td>IA</td><td>50169</td><td>null</td><td>US</td></tr><tr><td>BD</td><td>Casey's General Store</td><td>201 Ralph St</td><td>Monroe</td><td>IA</td><td>50170</td><td>null</td><td>US</td></tr><tr><td>BD</td><td>Casey's General Store</td><td>509 S Monroe St</td><td>Monroe</td><td>IA</td><td>50170</td><td>null</td><td>US</td></tr><tr><td>BD</td><td>Casey's General Store</td><td>106 N Front St</td><td>Montezuma</td><td>IA</td><td>50171</td><td>null</td><td>US</td></tr><tr><td>BD</td><td>Casey's General Store</td><td>111 Main St</td><td>Montrose</td><td>IA</td><td>52639</td><td>null</td><td>US</td></tr><tr><td>BD</td><td>Casey's General Store</td><td>323 Business 30 SW</td><td>Mt. Vernon</td><td>IA</td><td>52314</td><td>null</td><td>US</td></tr><tr><td>BD</td><td>Casey's General Store</td><td>702 1st St</td><td>Murray</td><td>IA</td><td>50174</td><td>null</td><td>US</td></tr><tr><td>BD</td><td>Casey's General Store</td><td>3509 Steamboat Way</td><td>Muscatine</td><td>IA</td><td>52761</td><td>null</td><td>US</td></tr><tr><td>BD</td><td>Casey's General Store</td><td>3010 University Dr</td><td>Muscatine</td><td>IA</td><td>52761</td><td>null</td><td>US</td></tr><tr><td>BD</td><td>Casey's General Store</td><td>4701 S Highway 61</td><td>Muscatine</td><td>IA</td><td>52761</td><td>null</td><td>US</td></tr><tr><td>BD</td><td>Casey's General Store</td><td>33000 Highway 57</td><td>New Hartford</td><td>IA</td><td>50660</td><td>null</td><td>US</td></tr><tr><td>BD</td><td>Casey's General Store</td><td>710 S Pine St</td><td>New London</td><td>IA</td><td>52645</td><td>null</td><td>US</td></tr><tr><td>BD</td><td>Casey's General Store</td><td>205 S Main St</td><td>New Sharon</td><td>IA</td><td>50207</td><td>null</td><td>US</td></tr><tr><td>BD</td><td>Casey's General Store</td><td>3104 1st Ave E</td><td>Newton</td><td>IA</td><td>50208</td><td>null</td><td>US</td></tr><tr><td>BD</td><td>Casey's General Store</td><td>1200 W 18th St S</td><td>Newton</td><td>IA</td><td>50208</td><td>null</td><td>US</td></tr><tr><td>BD</td><td>Casey's General Store</td><td>14 E Congress St</td><td>Nora Springs</td><td>IA</td><td>50458</td><td>null</td><td>US</td></tr><tr><td>BD</td><td>Casey's General Store</td><td>595 N Kansas Ave</td><td>North Liberty</td><td>IA</td><td>52317</td><td>null</td><td>US</td></tr><tr><td>BD</td><td>Casey's General Store</td><td>105 1st Ave SE</td><td>Oelwein</td><td>IA</td><td>50662</td><td>null</td><td>US</td></tr><tr><td>BD</td><td>Casey's General Store</td><td>1802 Highway 71 N</td><td>Okoboji</td><td>IA</td><td>51355</td><td>null</td><td>US</td></tr><tr><td>BD</td><td>Casey's General Store</td><td>706 10th St</td><td>Onawa</td><td>IA</td><td>51040</td><td>null</td><td>US</td></tr><tr><td>BD</td><td>Casey's General Store</td><td>704 8th St SE</td><td>Orange City</td><td>IA</td><td>51041</td><td>null</td><td>US</td></tr><tr><td>BD</td><td>Casey's General Store</td><td>1706 Jeffreys Dr</td><td>Osceola</td><td>IA</td><td>50213</td><td>null</td><td>US</td></tr><tr><td>BD</td><td>Casey's General Store</td><td>100 W Mclane St</td><td>Osceola</td><td>IA</td><td>50213</td><td>null</td><td>US</td></tr><tr><td>BD</td><td>Casey's General Store</td><td>1310 A Ave W</td><td>Oskaloosa</td><td>IA</td><td>52577</td><td>null</td><td>US</td></tr><tr><td>BD</td><td>Casey's General Store</td><td>1001 E Main St</td><td>Ottumwa</td><td>IA</td><td>52501</td><td>null</td><td>US</td></tr><tr><td>BD</td><td>Casey's General Store</td><td>113 NE 3rd St</td><td>Panora</td><td>IA</td><td>50216</td><td>null</td><td>US</td></tr><tr><td>BD</td><td>Casey's General Store</td><td>315 E Grand Ave</td><td>Paullina</td><td>IA</td><td>51046</td><td>null</td><td>US</td></tr><tr><td>BD</td><td>Casey's General Store</td><td>414 S Clark St</td><td>Pella</td><td>IA</td><td>50219</td><td>null</td><td>US</td></tr><tr><td>BD</td><td>Casey's General Store</td><td>2421 Washington St</td><td>Pella</td><td>IA</td><td>50219</td><td>null</td><td>US</td></tr><tr><td>BD</td><td>Casey's General Store</td><td>236 Peosta St</td><td>Peosta</td><td>IA</td><td>52068</td><td>null</td><td>US</td></tr><tr><td>BD</td><td>Casey's General Store</td><td>1308 1st Ave</td><td>Perry</td><td>IA</td><td>50220</td><td>null</td><td>US</td></tr><tr><td>BD</td><td>Casey's General Store</td><td>5550 E University Ave</td><td>Pleasant Hill</td><td>IA</td><td>50327</td><td>null</td><td>US</td></tr><tr><td>BD</td><td>Casey's General Store</td><td>1006 W Pleasant St</td><td>Pleasantville</td><td>IA</td><td>50225</td><td>null</td><td>US</td></tr><tr><td>BD</td><td>Casey's General Store</td><td>1100 S 3rd St</td><td>Polk City</td><td>IA</td><td>50226</td><td>null</td><td>US</td></tr><tr><td>BD</td><td>Casey's General Store</td><td>730 S East St</td><td>Pomeroy</td><td>IA</td><td>50575</td><td>null</td><td>US</td></tr><tr><td>BD</td><td>Casey's General Store</td><td>1310 N Broadway St</td><td>Red Oak</td><td>IA</td><td>51566</td><td>null</td><td>US</td></tr><tr><td>BD</td><td>Casey's General Store</td><td>912 Grundy Ave</td><td>Reinbeck</td><td>IA</td><td>50669</td><td>null</td><td>US</td></tr><tr><td>BD</td><td>Casey's General Store</td><td>208 W Main St</td><td>Riceville</td><td>IA</td><td>50466</td><td>null</td><td>US</td></tr><tr><td>BD</td><td>Casey's General Store</td><td>3070 Highway 22</td><td>Riverside</td><td>IA</td><td>52327</td><td>null</td><td>US</td></tr><tr><td>BD</td><td>Casey's General Store</td><td>6301 SE 116th St</td><td>Runnells</td><td>IA</td><td>50237</td><td>null</td><td>US</td></tr><tr><td>BD</td><td>Casey's General Store</td><td>510 W 7th St</td><td>Sanborn</td><td>IA</td><td>51248</td><td>null</td><td>US</td></tr><tr><td>BD</td><td>Casey's General Store</td><td>900 Locust St</td><td>Scranton</td><td>IA</td><td>51462</td><td>null</td><td>US</td></tr><tr><td>BD</td><td>Casey's General Store</td><td>500 W Main St</td><td>Seymour</td><td>IA</td><td>52590</td><td>null</td><td>US</td></tr><tr><td>BD</td><td>Casey's General Store</td><td>504 2nd Ave</td><td>Sheldon</td><td>IA</td><td>51201</td><td>null</td><td>US</td></tr><tr><td>BD</td><td>Casey's General Store</td><td>605 S Fremont St</td><td>Shenandoah</td><td>IA</td><td>51601</td><td>null</td><td>US</td></tr><tr><td>BD</td><td>Casey's General Store</td><td>100 E Jackson St</td><td>Sigourney</td><td>IA</td><td>52591</td><td>null</td><td>US</td></tr><tr><td>BD</td><td>Casey's General Store</td><td>3731 Hamilton Blvd</td><td>Sioux City</td><td>IA</td><td>51104</td><td>null</td><td>US</td></tr><tr><td>BD</td><td>Casey's General Store</td><td>1132 Lewis Blvd</td><td>Sioux City</td><td>IA</td><td>51105</td><td>null</td><td>US</td></tr><tr><td>BD</td><td>Casey's General Store</td><td>3051 Floyd Blvd</td><td>Sioux City</td><td>IA</td><td>51108</td><td>null</td><td>US</td></tr><tr><td>BD</td><td>Casey's General Store</td><td>4301 Stone Ave</td><td>Sioux City</td><td>IA</td><td>51106</td><td>null</td><td>US</td></tr><tr><td>BD</td><td>Casey's General Store</td><td>104 Buckley St</td><td>Sloan</td><td>IA</td><td>51055</td><td>null</td><td>US</td></tr><tr><td>BD</td><td>Casey's General Store</td><td>1200 S Market St</td><td>Solon</td><td>IA</td><td>52333</td><td>null</td><td>US</td></tr><tr><td>BD</td><td>Casey's General Store</td><td>411 W 18th St</td><td>Spencer</td><td>IA</td><td>51301</td><td>null</td><td>US</td></tr><tr><td>BD</td><td>Casey's General Store</td><td>1304 18th St</td><td>Spirit Lake</td><td>IA</td><td>51360</td><td>null</td><td>US</td></tr><tr><td>BD</td><td>Casey's General Store</td><td>605 6th St S</td><td>Springville</td><td>IA</td><td>52336</td><td>null</td><td>US</td></tr><tr><td>BD</td><td>Casey's General Store</td><td>110 N Highway 218</td><td>St. Ansgar</td><td>IA</td><td>50472</td><td>null</td><td>US</td></tr><tr><td>BD</td><td>Casey's General Store</td><td>209 E Main St</td><td>St. Charles</td><td>IA</td><td>50240</td><td>null</td><td>US</td></tr><tr><td>BD</td><td>Casey's General Store</td><td>616 Halland Ave</td><td>Stanton</td><td>IA</td><td>51573</td><td>null</td><td>US</td></tr><tr><td>BD</td><td>Casey's General Store</td><td>911 3rd Ave SW</td><td>State Center</td><td>IA</td><td>50247</td><td>null</td><td>US</td></tr><tr><td>BD</td><td>Casey's General Store</td><td>825 Flindt Dr</td><td>Storm Lake</td><td>IA</td><td>50588</td><td>null</td><td>US</td></tr><tr><td>BD</td><td>Casey's General Store</td><td>1625 Broad St</td><td>Story City</td><td>IA</td><td>50248</td><td>null</td><td>US</td></tr><tr><td>BD</td><td>Casey's General Store</td><td>807 1st St</td><td>Sully</td><td>IA</td><td>50251</td><td>null</td><td>US</td></tr><tr><td>BD</td><td>Casey's General Store</td><td>721 Main St</td><td>Tabor</td><td>IA</td><td>51653</td><td>null</td><td>US</td></tr><tr><td>BD</td><td>Casey's General Store</td><td>403 Stephans St</td><td>Tiffin</td><td>IA</td><td>52340</td><td>null</td><td>US</td></tr><tr><td>BD</td><td>Casey's General Store</td><td>1107 Cedar St</td><td>Tipton</td><td>IA</td><td>52772</td><td>null</td><td>US</td></tr><tr><td>BD</td><td>Casey's General Store</td><td>113 Highway 30 W</td><td>Toledo</td><td>IA</td><td>52342</td><td>null</td><td>US</td></tr><tr><td>BD</td><td>Casey's General Store</td><td>102 W Main St</td><td>Treynor</td><td>IA</td><td>51575</td><td>null</td><td>US</td></tr><tr><td>BD</td><td>Casey's General Store</td><td>600 7th Ave SW</td><td>Tripoli</td><td>IA</td><td>50676</td><td>null</td><td>US</td></tr><tr><td>BD</td><td>Casey's General Store</td><td>5350 31st Ave</td><td>Urbana</td><td>IA</td><td>52345</td><td>null</td><td>US</td></tr><tr><td>BD</td><td>Casey's General Store</td><td>4901 86th St</td><td>Urbandale</td><td>IA</td><td>50322</td><td>null</td><td>US</td></tr><tr><td>BD</td><td>Casey's General Store</td><td>4400 128th St</td><td>Urbandale</td><td>IA</td><td>50323</td><td>null</td><td>US</td></tr><tr><td>BD</td><td>Casey's General Store</td><td>3750 111th St</td><td>Urbandale</td><td>IA</td><td>50322</td><td>null</td><td>US</td></tr><tr><td>BD</td><td>Casey's General Store</td><td>901 3rd St</td><td>Victor</td><td>IA</td><td>52347</td><td>null</td><td>US</td></tr><tr><td>BD</td><td>Casey's General Store</td><td>13410 Iowa Highway 78</td><td>Wapello</td><td>IA</td><td>52653</td><td>null</td><td>US</td></tr><tr><td>BD</td><td>Casey's General Store</td><td>1002 W Madison St</td><td>Washington</td><td>IA</td><td>52353</td><td>null</td><td>US</td></tr><tr><td>BD</td><td>Casey's General Store</td><td>1730 E Washington St</td><td>Washington</td><td>IA</td><td>52353</td><td>null</td><td>US</td></tr><tr><td>BD</td><td>Casey's General Store</td><td>2424 Ranchero Rd</td><td>Waterloo</td><td>IA</td><td>50701</td><td>null</td><td>US</td></tr><tr><td>BD</td><td>Casey's General Store</td><td>20 W Hickman Rd</td><td>Waukee</td><td>IA</td><td>50263</td><td>null</td><td>US</td></tr><tr><td>BD</td><td>Casey's General Store</td><td>700 Superior St</td><td>Webster City</td><td>IA</td><td>50595</td><td>null</td><td>US</td></tr><tr><td>BD</td><td>Casey's General Store</td><td>615 S Downey St</td><td>West Branch</td><td>IA</td><td>52358</td><td>null</td><td>US</td></tr><tr><td>BD</td><td>Casey's General Store</td><td>6630 Mills Civic Pkwy</td><td>West Des Moines</td><td>IA</td><td>50266</td><td>null</td><td>US</td></tr><tr><td>BD</td><td>Casey's General Store</td><td>1850 22nd St</td><td>West Des Moines</td><td>IA</td><td>50266</td><td>null</td><td>US</td></tr><tr><td>BD</td><td>Casey's General Store</td><td>105 Grand Ave</td><td>West Des Moines</td><td>IA</td><td>50265</td><td>null</td><td>US</td></tr><tr><td>BD</td><td>Casey's General Store</td><td>402 W 15th St</td><td>West Liberty</td><td>IA</td><td>52776</td><td>null</td><td>US</td></tr><tr><td>BD</td><td>Casey's General Store</td><td>527 W Summit St</td><td>Winterset</td><td>IA</td><td>50273</td><td>null</td><td>US</td></tr><tr><td>BD</td><td>Casey's General Store</td><td>1021 N 1st St</td><td>Winterset</td><td>IA</td><td>50273</td><td>null</td><td>US</td></tr><tr><td>BD</td><td>Casey's General Store</td><td>204 E Main St</td><td>Wyoming</td><td>IA</td><td>52362</td><td>null</td><td>US</td></tr><tr><td>BD</td><td>Casey's General Store</td><td>915 S 1st St</td><td>Hiawatha</td><td>KS</td><td>66434</td><td>null</td><td>US</td></tr><tr><td>BD</td><td>Casey's General Store</td><td>13000 State Ave</td><td>KS City</td><td>KS</td><td>66109</td><td>null</td><td>US</td></tr><tr><td>BD</td><td>Casey's General Store</td><td>9501 W 135th St</td><td>Overland Park</td><td>KS</td><td>66221</td><td>null</td><td>US</td></tr><tr><td>BD</td><td>Casey's General Store</td><td>4107 Miller St</td><td>Bethany</td><td>MO</td><td>64424</td><td>null</td><td>US</td></tr><tr><td>BD</td><td>Casey's General Store</td><td>200 E Monroe St</td><td>Buckner</td><td>MO</td><td>64016</td><td>null</td><td>US</td></tr><tr><td>BD</td><td>Casey's General Store</td><td>610 W Old Highway 36</td><td>Chillicothe</td><td>MO</td><td>64601</td><td>null</td><td>US</td></tr><tr><td>BD</td><td>Casey's General Store</td><td>52 F Hwy</td><td>Garden City</td><td>MO</td><td>64747</td><td>null</td><td>US</td></tr><tr><td>BD</td><td>Casey's General Store</td><td>101 S Buckner Tarsney Rd</td><td>Grain Valley</td><td>MO</td><td>64029</td><td>null</td><td>US</td></tr><tr><td>BD</td><td>Casey's General Store</td><td>1111 S Buckner Tarsney Rd</td><td>Grain Valley</td><td>MO</td><td>64029</td><td>null</td><td>US</td></tr><tr><td>BD</td><td>Casey's General Store</td><td>1901 W Mechanic St</td><td>Harrisonville</td><td>MO</td><td>64701</td><td>null</td><td>US</td></tr><tr><td>BD</td><td>Casey's General Store</td><td>10751 N Oak Trfy</td><td>KS City</td><td>MO</td><td>64155</td><td>null</td><td>US</td></tr><tr><td>BD</td><td>Casey's General Store</td><td>1719 E 1st St</td><td>Maryville</td><td>MO</td><td>64468</td><td>null</td><td>US</td></tr><tr><td>BD</td><td>Casey's General Store</td><td>117 E North St</td><td>Peculiar</td><td>MO</td><td>64078</td><td>null</td><td>US</td></tr><tr><td>BD</td><td>Casey's General Store</td><td>901 E Walnut St</td><td>Raymore</td><td>MO</td><td>64083</td><td>null</td><td>US</td></tr><tr><td>BD</td><td>Casey's General Store</td><td>1354 NW Graham Rd</td><td>Urich</td><td>MO</td><td>64788</td><td>null</td><td>US</td></tr><tr><td>BD</td><td>Casey's General Store</td><td>2028 Kellie Dr</td><td>Blair</td><td>NE</td><td>68008</td><td>null</td><td>US</td></tr><tr><td>BD</td><td>Casey's General Store</td><td>210 E 6th St</td><td>North Bend</td><td>NE</td><td>68649</td><td>null</td><td>US</td></tr><tr><td>BD</td><td>Casey's General Store</td><td>15275 Weir Plaza St</td><td>Omaha</td><td>NE</td><td>68137</td><td>null</td><td>US</td></tr><tr><td>BD</td><td>Casey's General Store</td><td>5920 F St</td><td>Omaha</td><td>NE</td><td>68117</td><td>null</td><td>US</td></tr><tr><td>BD</td><td>Casey's General Store</td><td>16960 Evans Plz</td><td>Omaha</td><td>NE</td><td>68116</td><td>null</td><td>US</td></tr><tr><td>BD</td><td>Casey's General Store</td><td>9911 S 71st Ave</td><td>Papillion</td><td>NE</td><td>68133</td><td>null</td><td>US</td></tr><tr><td>BD</td><td>Casey's General Store</td><td>73416 644 A Ave</td><td>Peru</td><td>NE</td><td>68421</td><td>null</td><td>US</td></tr><tr><td>BD</td><td>Casey's General Store</td><td>16610 Bestman Dr</td><td>Plattsmouth</td><td>NE</td><td>68048</td><td>null</td><td>US</td></tr><tr><td>BD</td><td>Casey's General Store</td><td>1610 Colfax St</td><td>Schuyler</td><td>NE</td><td>68661</td><td>null</td><td>US</td></tr><tr><td>BD</td><td>Casey's General Store</td><td>120 N 12th St</td><td>Tecumseh</td><td>NE</td><td>68450</td><td>null</td><td>US</td></tr><tr><td>BD</td><td>Casey's General Store</td><td>210 W Reichmuth Rd</td><td>Valley</td><td>NE</td><td>68064</td><td>null</td><td>US</td></tr><tr><td>BD</td><td>Casey's General Store</td><td>1051 W Gentry Ave</td><td>Checotah</td><td>OK</td><td>74426</td><td>null</td><td>US</td></tr><tr><td>BD</td><td>Casey's General Store</td><td>26267 S 4110 Rd</td><td>Claremore</td><td>OK</td><td>74019</td><td>null</td><td>US</td></tr><tr><td>BD</td><td>Casey's General Store</td><td>2900 W Holly Rd</td><td>Claremore</td><td>OK</td><td>74019</td><td>null</td><td>US</td></tr><tr><td>BD</td><td>Casey's General Store</td><td>401 S Osage Ave</td><td>Dewey</td><td>OK</td><td>74029</td><td>null</td><td>US</td></tr><tr><td>BD</td><td>Casey's General Store</td><td>516 W 121st St S</td><td>Jenks</td><td>OK</td><td>74037</td><td>null</td><td>US</td></tr><tr><td>BD</td><td>Casey's General Store</td><td>102 W Rogers Blvd</td><td>Skiatook</td><td>OK</td><td>74070</td><td>null</td><td>US</td></tr><tr><td>BD</td><td>Casey's General Store</td><td>3382 S Muskogee Ave</td><td>Tahlequah</td><td>OK</td><td>74464</td><td>null</td><td>US</td></tr><tr><td>BD</td><td>Casey's General Store</td><td>903 E Downing St</td><td>Tahlequah</td><td>OK</td><td>74464</td><td>null</td><td>US</td></tr><tr><td>BD</td><td>Casey's General Store</td><td>4001 Interstate Blvd</td><td>Loves Park</td><td>IL</td><td>61111</td><td>null</td><td>US</td></tr><tr><td>BD</td><td>Casey's General Store</td><td>9601 Forest Hills Rd</td><td>Machesney Park</td><td>IL</td><td>61115</td><td>null</td><td>US</td></tr><tr><td>BD</td><td>Casey's General Store</td><td>1137 N Main St</td><td>Monmouth</td><td>IL</td><td>61462</td><td>null</td><td>US</td></tr><tr><td>BD</td><td>Casey's General Store</td><td>101 E Hitt St</td><td>Mt. Morris</td><td>IL</td><td>61054</td><td>null</td><td>US</td></tr><tr><td>BD</td><td>Casey's General Store</td><td>1100 Shooting Park Rd</td><td>Peru</td><td>IL</td><td>61354</td><td>null</td><td>US</td></tr><tr><td>BD</td><td>Casey's General Store</td><td>2125 N Main St</td><td>Princeton</td><td>IL</td><td>61356</td><td>null</td><td>US</td></tr><tr><td>BD</td><td>Casey's General Store</td><td>5965 Columbia Pkwy</td><td>Rockford</td><td>IL</td><td>61108</td><td>null</td><td>US</td></tr><tr><td>BD</td><td>Casey's General Store</td><td>1410 S Bell School Rd</td><td>Rockford</td><td>IL</td><td>61108</td><td>null</td><td>US</td></tr><tr><td>BD</td><td>Casey's General Store</td><td>5365 Bridge St</td><td>Roscoe</td><td>IL</td><td>61073</td><td>null</td><td>US</td></tr><tr><td>BD</td><td>Casey's General Store</td><td>119 Ray Richardson Rd</td><td>Tonica</td><td>IL</td><td>61370</td><td>null</td><td>US</td></tr><tr><td>BD</td><td>Casey's General Store</td><td>4 S Main St</td><td>Dale</td><td>IN</td><td>47523</td><td>null</td><td>US</td></tr><tr><td>BD</td><td>Casey's General Store</td><td>472 E Christmas Blvd</td><td>Santa Claus</td><td>IN</td><td>47579</td><td>null</td><td>US</td></tr><tr><td>BD</td><td>Casey's General Store</td><td>1738 Nile Kinnick S</td><td>Adel</td><td>IA</td><td>50003</td><td>null</td><td>US</td></tr><tr><td>BD</td><td>Casey's General Store</td><td>80 South St</td><td>Akron</td><td>IA</td><td>51001</td><td>null</td><td>US</td></tr><tr><td>BD</td><td>Casey's General Store</td><td>1419 1St Ave N</td><td>Altoona</td><td>IA</td><td>50009</td><td>null</td><td>US</td></tr><tr><td>BD</td><td>Casey's General Store</td><td>2480 1st Ave S</td><td>Altoona</td><td>IA</td><td>50009</td><td>null</td><td>US</td></tr><tr><td>BD</td><td>Casey's General Store</td><td>1010 SE Oralabor Rd</td><td>Ankeny</td><td>IA</td><td>50021</td><td>null</td><td>US</td></tr><tr><td>BD</td><td>Casey's General Store</td><td>3605 NW Irvinedale Dr</td><td>Ankeny</td><td>IA</td><td>50023</td><td>null</td><td>US</td></tr><tr><td>BD</td><td>Casey's General Store</td><td>1024 E 1st St</td><td>Ankeny</td><td>IA</td><td>50021</td><td>null</td><td>US</td></tr><tr><td>BD</td><td>Casey's General Store</td><td>1515 SE Corporate Woods Dr</td><td>Ankeny</td><td>IA</td><td>50021</td><td>null</td><td>US</td></tr><tr><td>BD</td><td>Casey's General Store</td><td>1911 Des Moines Ave</td><td>Burlington</td><td>IA</td><td>52601</td><td>null</td><td>US</td></tr><tr><td>BD</td><td>Casey's General Store</td><td>1225 Fountains Way</td><td>Cedar Falls</td><td>IA</td><td>50613</td><td>null</td><td>US</td></tr><tr><td>BD</td><td>Casey's General Store</td><td>3625 Edgewood Rd SW</td><td>Cedar Rapids</td><td>IA</td><td>52404</td><td>null</td><td>US</td></tr><tr><td>BD</td><td>Casey's General Store</td><td>4560 16th Ave SW</td><td>Cedar Rapids</td><td>IA</td><td>52404</td><td>null</td><td>US</td></tr><tr><td>BD</td><td>Casey's General Store</td><td>105 S 18th St</td><td>Centerville</td><td>IA</td><td>52544</td><td>null</td><td>US</td></tr><tr><td>BD</td><td>Renner Petroleum</td><td>5000 W End Rd</td><td>Arcata</td><td>CA</td><td>95521</td><td>null</td><td>US</td></tr><tr><td>BD</td><td>Renner Petroleum - Cloverdale</td><td>1313 S Cloverdale Blvd</td><td>Cloverdale</td><td>CA</td><td>95425</td><td>null</td><td>US</td></tr><tr><td>BD</td><td>DC Department of Public Works - Solid Waste Collection/Recycling</td><td>1241 W St NE</td><td>Washington</td><td>DC</td><td>20009</td><td>null</td><td>US</td></tr><tr><td>BD</td><td>Casey's General Store</td><td>10 W Dundee Rd</td><td>Buffalo Grove</td><td>IL</td><td>60089</td><td>null</td><td>US</td></tr><tr><td>BD</td><td>Casey's General Store</td><td>9544 Waukegan Rd</td><td>Morton Grove</td><td>IL</td><td>60053</td><td>null</td><td>US</td></tr><tr><td>BD</td><td>Casey's General Store</td><td>1251 Mchenry Rd</td><td>Buffalo Grove</td><td>IL</td><td>60089</td><td>null</td><td>US</td></tr><tr><td>BD</td><td>Casey's General Store</td><td>1333 Half Day RD</td><td>Highland Park</td><td>IL</td><td>60035</td><td>null</td><td>US</td></tr><tr><td>BD</td><td>Casey's General Store</td><td>294 E Townline Rd</td><td>Vernon Hills</td><td>IL</td><td>60061</td><td>null</td><td>US</td></tr><tr><td>BD</td><td>Casey's General Store</td><td>1901 N Richmond Rd</td><td>Mchenry</td><td>IL</td><td>60051</td><td>null</td><td>US</td></tr><tr><td>BD</td><td>Casey's General Store</td><td>21W415 North Ave</td><td>Lombard</td><td>IL</td><td>60148</td><td>null</td><td>US</td></tr><tr><td>BD</td><td>Casey's General Store</td><td>1125 Roosevelt Rd</td><td>Glen Ellyn</td><td>IL</td><td>60137</td><td>null</td><td>US</td></tr><tr><td>BD</td><td>Casey's General Store</td><td>1600 Nerge Rd</td><td>Elk Grove Village</td><td>IL</td><td>60007</td><td>null</td><td>US</td></tr><tr><td>BD</td><td>Casey's General Store</td><td>1795 W Lake St</td><td>Addison</td><td>IL</td><td>60101</td><td>null</td><td>US</td></tr><tr><td>BD</td><td>Casey's General Store</td><td>870 W Army Trail Rd</td><td>Carol Stream</td><td>IL</td><td>60188</td><td>null</td><td>US</td></tr><tr><td>BD</td><td>Casey's General Store</td><td>1400 N Arlington Heights Rd</td><td>Itasca</td><td>IL</td><td>60143</td><td>null</td><td>US</td></tr><tr><td>BD</td><td>Casey's General Store</td><td>1917 Ogden Ave</td><td>Lisle</td><td>IL</td><td>60532</td><td>null</td><td>US</td></tr><tr><td>BD</td><td>Casey's General Store</td><td>1000 E Roosevelt Rd</td><td>Wheaton</td><td>IL</td><td>60187</td><td>null</td><td>US</td></tr><tr><td>BD</td><td>Casey's General Store</td><td>1000 N Wood Dale Rd</td><td>Wood Dale</td><td>IL</td><td>60191</td><td>null</td><td>US</td></tr><tr><td>BD</td><td>Casey's General Store</td><td>2074 Main St</td><td>Batavia</td><td>IL</td><td>60510</td><td>null</td><td>US</td></tr><tr><td>BD</td><td>Casey's General Store</td><td>6551 US Highway 34</td><td>Oswego</td><td>IL</td><td>60543</td><td>null</td><td>US</td></tr><tr><td>BD</td><td>Casey's General Store</td><td>14808 S Route 59</td><td>Plainfield</td><td>IL</td><td>60544</td><td>null</td><td>US</td></tr><tr><td>BD</td><td>Casey's General Store</td><td>1095 Pyott Rd</td><td>Crystal Lake</td><td>IL</td><td>60014</td><td>null</td><td>US</td></tr><tr><td>BD</td><td>Casey's General Store</td><td>602 E North Ave</td><td>Glendale Heights</td><td>IL</td><td>60139</td><td>null</td><td>US</td></tr><tr><td>BD</td><td>Casey's General Store</td><td>2601 S Liberty Pkwy</td><td>Liberty</td><td>MO</td><td>64068</td><td>null</td><td>US</td></tr><tr><td>BD</td><td>Casey's General Store</td><td>420 W 6th St</td><td>Kearney</td><td>MO</td><td>64060</td><td>null</td><td>US</td></tr><tr><td>BD</td><td>Casey's General Store</td><td>4215 S US Highway 169</td><td>St. Joseph</td><td>MO</td><td>64503</td><td>null</td><td>US</td></tr><tr><td>BD</td><td>Kwik Trip #1017</td><td>617 Buchanan St</td><td>Anoka</td><td>MN</td><td>55303</td><td>null</td><td>US</td></tr><tr><td>BD</td><td>Kwik Trip #1034</td><td>100 15th Ave NE</td><td>Waseca</td><td>MN</td><td>56093</td><td>null</td><td>US</td></tr><tr><td>BD</td><td>Kwik Trip #1090</td><td>101 Chalupsky Ave NE</td><td>New Prague</td><td>MN</td><td>56071</td><td>null</td><td>US</td></tr><tr><td>BD</td><td>Kwik Trip #1120</td><td>325 County Rd 49</td><td>Cold Spring</td><td>MN</td><td>56320</td><td>null</td><td>US</td></tr><tr><td>BD</td><td>Kwik Trip #831</td><td>221 N Section Ave</td><td>Spring Valley</td><td>MN</td><td>55975</td><td>null</td><td>US</td></tr><tr><td>BD</td><td>Kwik Trip #117</td><td>4890 Rice Lake Rd</td><td>Duluth</td><td>MN</td><td>55803</td><td>null</td><td>US</td></tr><tr><td>BD</td><td>Kwik Trip #335</td><td>2170 Wheelock Dr NE</td><td>Rochester</td><td>MN</td><td>55906</td><td>null</td><td>US</td></tr><tr><td>BD</td><td>Kwik Trip #585</td><td>1945 W 136th St</td><td>Burnsville</td><td>MN</td><td>55337</td><td>null</td><td>US</td></tr><tr><td>BD</td><td>Kwik Trip #1140</td><td>1120 Bellwest Blvd</td><td>Belleville</td><td>WI</td><td>53508</td><td>null</td><td>US</td></tr><tr><td>BD</td><td>Kwik Trip #110</td><td>1814 Lake Shore Dr W</td><td>Ashland</td><td>WI</td><td>54806</td><td>null</td><td>US</td></tr><tr><td>BD</td><td>Kwik Trip #118</td><td>2300 Lakeshore Dr E</td><td>Ashland</td><td>WI</td><td>54806</td><td>null</td><td>US</td></tr><tr><td>BD</td><td>Kwik Trip #120</td><td>725 44th Ave N</td><td>St. Cloud</td><td>MN</td><td>56301</td><td>null</td><td>US</td></tr><tr><td>BD</td><td>Kwik Trip #124</td><td>7372 N Towne Rd</td><td>DeForest</td><td>WI</td><td>53532</td><td>null</td><td>US</td></tr><tr><td>BD</td><td>Kwik Trip #135</td><td>6007 Tower Ave</td><td>Superior</td><td>WI</td><td>54880</td><td>null</td><td>US</td></tr><tr><td>BD</td><td>Kwik Trip #141</td><td>1100 7th Ave</td><td>Two Harbors</td><td>MN</td><td>55616</td><td>null</td><td>US</td></tr><tr><td>BD</td><td>Kwik Trip #149</td><td>750 15th Ave SE</td><td>St. Cloud</td><td>MN</td><td>56301</td><td>null</td><td>US</td></tr><tr><td>BD</td><td>Kwik Trip #154</td><td>245 18th St N</td><td>Sauk Rapids</td><td>MN</td><td>56379</td><td>null</td><td>US</td></tr><tr><td>BD</td><td>Kwik Trip #158</td><td>1230 Highway 23 E</td><td>St. Cloud</td><td>MN</td><td>56304</td><td>null</td><td>US</td></tr><tr><td>BD</td><td>Kwik Trip #166</td><td>4694 Opportunity Dr</td><td>Moose Lake</td><td>MN</td><td>55767</td><td>null</td><td>US</td></tr><tr><td>BD</td><td>Kwik Trip #178</td><td>455 Concord St S</td><td>St. Paul</td><td>MN</td><td>55125</td><td>null</td><td>US</td></tr><tr><td>BD</td><td>Kwik Trip</td><td>1623 N Broadway Ave</td><td>New Ulm</td><td>MN</td><td>56073</td><td>null</td><td>US</td></tr><tr><td>BD</td><td>Kwik Trip #222</td><td>3027 E 2nd St</td><td>Superior</td><td>WI</td><td>54880</td><td>null</td><td>US</td></tr><tr><td>BD</td><td>Kwik Trip #224</td><td>2715 W Michigan St</td><td>Duluth</td><td>MN</td><td>55806</td><td>null</td><td>US</td></tr><tr><td>BD</td><td>Kwik Trip #231</td><td>305 W Prairie St</td><td>Boscobel</td><td>WI</td><td>53805</td><td>null</td><td>US</td></tr><tr><td>BD</td><td>Kwik Trip #234</td><td>1320 Highway 45</td><td>Cloquet</td><td>MN</td><td>55720</td><td>null</td><td>US</td></tr><tr><td>BD</td><td>Kwik Trip #245</td><td>95 4th Ave SE</td><td>Plainview</td><td>MN</td><td>55964</td><td>null</td><td>US</td></tr><tr><td>BD</td><td>Kwik Trip #250</td><td>1509 10th Pl NE</td><td>Austin</td><td>MN</td><td>55912</td><td>null</td><td>US</td></tr><tr><td>BD</td><td>Kwik Trip #273</td><td>6516 Grand Ave</td><td>Duluth</td><td>MN</td><td>55807</td><td>null</td><td>US</td></tr><tr><td>BD</td><td>Kwik Trip #295</td><td>1157 Gateway Dr</td><td>Milton</td><td>WI</td><td>53563</td><td>null</td><td>US</td></tr><tr><td>BD</td><td>Kwik Trip #316</td><td>10 Denver Ave SE</td><td>Hutchinson</td><td>MN</td><td>55350</td><td>null</td><td>US</td></tr><tr><td>BD</td><td>Kwik Trip #317</td><td>1751 E Wisconsin St</td><td>Sparta</td><td>WI</td><td>54656</td><td>null</td><td>US</td></tr><tr><td>BD</td><td>Kwik Trip #318</td><td>1014 S Black River St</td><td>Sparta</td><td>WI</td><td>54656</td><td>null</td><td>US</td></tr><tr><td>BD</td><td>Kwik Trip #326</td><td>3123 S Highway 51</td><td>Janesville</td><td>WI</td><td>53546</td><td>null</td><td>US</td></tr><tr><td>BD</td><td>Kwik Trip #330</td><td>104 Aspen Ln</td><td>Belle Plaine</td><td>MN</td><td>56011</td><td>null</td><td>US</td></tr><tr><td>BD</td><td>Kwik Trip #334</td><td>1271 N River Dr</td><td>Mankato</td><td>MN</td><td>56001</td><td>null</td><td>US</td></tr><tr><td>BD</td><td>Kwik Trip #337</td><td>124 Paperjack Dr</td><td>New Richmond</td><td>WI</td><td>54017</td><td>null</td><td>US</td></tr><tr><td>BD</td><td>Kwik Trip #385</td><td>500 Laurel Ct</td><td>Northfield</td><td>MN</td><td>55057</td><td>null</td><td>US</td></tr><tr><td>BD</td><td>Kwik Trip #414</td><td>101 Schumann Dr NW</td><td>Stewartville</td><td>MN</td><td>55976</td><td>null</td><td>US</td></tr><tr><td>BD</td><td>Kwik Trip #424</td><td>217 S State St</td><td>Fairmont</td><td>MN</td><td>56031</td><td>null</td><td>US</td></tr><tr><td>BD</td><td>Kwik Trip #453</td><td>1238 N Main St</td><td>River Falls</td><td>WI</td><td>54022</td><td>null</td><td>US</td></tr><tr><td>BD</td><td>Kwik Trip #456</td><td>2145 County Highway Pb</td><td>Verona</td><td>WI</td><td>53593</td><td>null</td><td>US</td></tr><tr><td>BD</td><td>Kwik Trip #458</td><td>1600 Cessna St</td><td>Buffalo</td><td>MN</td><td>55313</td><td>null</td><td>US</td></tr><tr><td>BD</td><td>Kwik Trip #463</td><td>100 Jefferson Dr</td><td>Zumbrota</td><td>MN</td><td>55992</td><td>null</td><td>US</td></tr><tr><td>BD</td><td>Kwik Trip #464</td><td>4760 Commercial Dr SW</td><td>Rochester</td><td>MN</td><td>55902</td><td>null</td><td>US</td></tr><tr><td>BD</td><td>Kwik Trip #481</td><td>4820 Highway 61 W</td><td>Red Wing</td><td>MN</td><td>55066</td><td>null</td><td>US</td></tr><tr><td>BD</td><td>Kwik Trip #497</td><td>42165 County Rd 12</td><td>Dakota</td><td>MN</td><td>55925</td><td>null</td><td>US</td></tr><tr><td>BD</td><td>Kwik Trip #571</td><td>1711 Highway 210</td><td>Carlton</td><td>MN</td><td>55718</td><td>null</td><td>US</td></tr><tr><td>BD</td><td>Kwik Trip #575</td><td>15 20th Ave SE</td><td>St. Joseph</td><td>MN</td><td>56374</td><td>null</td><td>US</td></tr><tr><td>BD</td><td>Kwik Trip #596</td><td>1110 State St</td><td>Black Earth</td><td>WI</td><td>53515</td><td>null</td><td>US</td></tr><tr><td>BD</td><td>Kwik Trip #598</td><td>645 Opportunity Park Dr</td><td>Paynesville</td><td>MN</td><td>56362</td><td>null</td><td>US</td></tr><tr><td>BD</td><td>Kwik Trip #608</td><td>150 Highway 30</td><td>Chatfield</td><td>MN</td><td>55923</td><td>null</td><td>US</td></tr><tr><td>BD</td><td>Kwik Trip #622</td><td>16 2nd Ave NW</td><td>Byron</td><td>MN</td><td>55920</td><td>null</td><td>US</td></tr><tr><td>BD</td><td>Kwik Trip #653</td><td>1223 E Wisconsin St</td><td>Portage</td><td>WI</td><td>53901</td><td>null</td><td>US</td></tr><tr><td>BD</td><td>Kwik Trip #661</td><td>720 8th Ave</td><td>Monroe</td><td>WI</td><td>53566</td><td>null</td><td>US</td></tr><tr><td>BD</td><td>Kwik Trip #662</td><td>3145 Dodd Rd</td><td>Eagan</td><td>MN</td><td>55121</td><td>null</td><td>US</td></tr><tr><td>BD</td><td>Kwik Trip #681</td><td>4400 O'Day Ave NE</td><td>St. Michael</td><td>MN</td><td>55376</td><td>null</td><td>US</td></tr><tr><td>BD</td><td>Kwik Trip #721</td><td>504 Plaza Dr</td><td>Marshall</td><td>WI</td><td>53559</td><td>null</td><td>US</td></tr><tr><td>BD</td><td>Kwik Trip #733</td><td>608 Esch Dr</td><td>Caledonia</td><td>MN</td><td>55921</td><td>null</td><td>US</td></tr><tr><td>BD</td><td>Kwik Trip #753</td><td>380 Sandstone Dr NW</td><td>Eyota</td><td>MN</td><td>55934</td><td>null</td><td>US</td></tr><tr><td>BD</td><td>Kwik Trip #844</td><td>994 W Lyon Ave</td><td>Lake City</td><td>MN</td><td>55041</td><td>null</td><td>US</td></tr><tr><td>BD</td><td>Kwik Trip #854</td><td>520 Reform St N</td><td>Norwood Young America</td><td>MN</td><td>55368</td><td>null</td><td>US</td></tr><tr><td>BD</td><td>Kwik Trip #855</td><td>1330 South Blvd</td><td>Baraboo</td><td>WI</td><td>53913</td><td>null</td><td>US</td></tr><tr><td>BD</td><td>Kwik Trip #872</td><td>102 Collins Rd</td><td>Jefferson</td><td>WI</td><td>53549</td><td>null</td><td>US</td></tr><tr><td>BD</td><td>Kwik Trip #874</td><td>11085 Lake Blvd</td><td>Chisago City</td><td>MN</td><td>55013</td><td>null</td><td>US</td></tr><tr><td>BD</td><td>Kwik Trip #875</td><td>2611 Bridge Ave</td><td>Albert Lea</td><td>MN</td><td>56007</td><td>null</td><td>US</td></tr><tr><td>BD</td><td>Kwik Trip #926</td><td>100 4th Ave NW</td><td>New Prague</td><td>MN</td><td>56071</td><td>null</td><td>US</td></tr><tr><td>BD</td><td>Kwik Trip #928</td><td>707 Northland Dr</td><td>Princeton</td><td>MN</td><td>55371</td><td>null</td><td>US</td></tr><tr><td>BD</td><td>Kwik Trip #937</td><td>2550 Highway 12 E</td><td>Willmar</td><td>MN</td><td>56201</td><td>null</td><td>US</td></tr><tr><td>BD</td><td>Kwik Trip #1019</td><td>400 E Dual Blvd</td><td>Isanti</td><td>MN</td><td>55040</td><td>null</td><td>US</td></tr><tr><td>BD</td><td>Kwik Trip #1037</td><td>707 McLean St</td><td>Mora</td><td>MN</td><td>55051</td><td>null</td><td>US</td></tr><tr><td>BD</td><td>Kwik Trip #1048</td><td>341 Jefferson St E</td><td>West Salem</td><td>WI</td><td>54669</td><td>null</td><td>US</td></tr><tr><td>BD</td><td>Kwik Trip #137</td><td>106 10th Ave S</td><td>Waite Park</td><td>MN</td><td>56387</td><td>null</td><td>US</td></tr><tr><td>BD</td><td>Kwik Trip #144</td><td>900 Washington Ave</td><td>Cloquet</td><td>MN</td><td>55720</td><td>null</td><td>US</td></tr><tr><td>BD</td><td>Kwik Trip #146</td><td>2211 W Division St</td><td>St. Cloud</td><td>MN</td><td>56301</td><td>null</td><td>US</td></tr><tr><td>BD</td><td>Kwik Trip #147</td><td>200 2nd Ave NW</td><td>St. Joseph</td><td>MN</td><td>56374</td><td>null</td><td>US</td></tr><tr><td>BD</td><td>Kwik Trip #150</td><td>6250 City Rd 120</td><td>St. Cloud</td><td>MN</td><td>56303</td><td>null</td><td>US</td></tr><tr><td>BD</td><td>Kwik Trip #152</td><td>3278 Highway 61 N</td><td>Vadnais Heights</td><td>MN</td><td>55110</td><td>null</td><td>US</td></tr><tr><td>BD</td><td>Kwik Trip #153</td><td>105 2nd St S</td><td>Sartell</td><td>MN</td><td>56377</td><td>null</td><td>US</td></tr><tr><td>BD</td><td>Kwik Trip #168</td><td>130 Eagle Lake Rd N</td><td>Big Lake</td><td>MN</td><td>55309</td><td>null</td><td>US</td></tr><tr><td>BD</td><td>Kwik Trip #179</td><td>4600 Slater Rd</td><td>Eagan</td><td>MN</td><td>55122</td><td>null</td><td>US</td></tr><tr><td>BD</td><td>Kwik Trip #216</td><td>4805 Miller Trunk Hwy</td><td>Hermantown</td><td>MN</td><td>55811</td><td>null</td><td>US</td></tr><tr><td>BD</td><td>Kwik Trip #247</td><td>235 North Rd</td><td>Cloquet</td><td>MN</td><td>55720</td><td>null</td><td>US</td></tr><tr><td>BD</td><td>Kwik Trip #248</td><td>9955 Hudson Blvd</td><td>Lake Elmo</td><td>MN</td><td>55042</td><td>null</td><td>US</td></tr><tr><td>BD</td><td>Kwik Trip #249</td><td>1630 Vermillion St</td><td>Hastings</td><td>MN</td><td>55033</td><td>null</td><td>US</td></tr><tr><td>BD</td><td>Kwik Trip #274</td><td>6 W Central Entrance</td><td>Duluth</td><td>MN</td><td>55811</td><td>null</td><td>US</td></tr><tr><td>BD</td><td>Kwik Trip #275</td><td>1701 Premier Dr</td><td>Mankato</td><td>MN</td><td>56001</td><td>null</td><td>US</td></tr><tr><td>BD</td><td>Kwik Trip #281</td><td>16751 Fish Point Rd SE</td><td>Prior Lake</td><td>MN</td><td>55372</td><td>null</td><td>US</td></tr><tr><td>BD</td><td>Kwik Trip #345</td><td>9440 State Highway 25</td><td>Monticello</td><td>MN</td><td>55362</td><td>null</td><td>US</td></tr><tr><td>BD</td><td>Kwik Trip #382</td><td>4120 Highway 52 N</td><td>Rochester</td><td>MN</td><td>55901</td><td>null</td><td>US</td></tr><tr><td>BD</td><td>Kwik Trip #406</td><td>7545 145th St W</td><td>Apple Valley</td><td>MN</td><td>55124</td><td>null</td><td>US</td></tr><tr><td>BD</td><td>Kwik Trip #429</td><td>4868 208th St N</td><td>Forest Lake</td><td>MN</td><td>55025</td><td>null</td><td>US</td></tr><tr><td>BD</td><td>Kwik Trip #435</td><td>1075 W Frontage Rd</td><td>Owatonna</td><td>MN</td><td>55060</td><td>null</td><td>US</td></tr><tr><td>BD</td><td>Kwik Trip #438</td><td>2109 2nd St SW</td><td>Rochester</td><td>MN</td><td>55902</td><td>null</td><td>US</td></tr><tr><td>BD</td><td>Kwik Trip #443</td><td>18290 Pilot Knob Rd</td><td>Farmington</td><td>MN</td><td>55024</td><td>null</td><td>US</td></tr><tr><td>BD</td><td>Kwik Trip #445</td><td>1401 4th St NW</td><td>Austin</td><td>MN</td><td>55912</td><td>null</td><td>US</td></tr><tr><td>BD</td><td>Kwik Trip #447</td><td>8225 Crossings Blvd</td><td>Shakopee</td><td>MN</td><td>55379</td><td>null</td><td>US</td></tr><tr><td>BD</td><td>Kwik Trip #454</td><td>14730 Victor Hugo Blvd N</td><td>Hugo</td><td>MN</td><td>55038</td><td>null</td><td>US</td></tr><tr><td>BD</td><td>Kwik Trip #460</td><td>809 Vista Blvd</td><td>Waconia</td><td>MN</td><td>55387</td><td>null</td><td>US</td></tr><tr><td>BD</td><td>Kwik Trip #465</td><td>9250 Springbrook Dr NW</td><td>Coon Rapids</td><td>MN</td><td>55433</td><td>null</td><td>US</td></tr><tr><td>BD</td><td>Kwik Trip #466</td><td>1305 S Minnesota Ave</td><td>St. Peter</td><td>MN</td><td>56082</td><td>null</td><td>US</td></tr><tr><td>BD</td><td>Kwik Trip #477</td><td>8800 State Highway 7</td><td>St. Bonifacius</td><td>MN</td><td>55375</td><td>null</td><td>US</td></tr><tr><td>BD</td><td>Kwik Trip #492</td><td>8921 Crossroads Blvd</td><td>Chanhassen</td><td>MN</td><td>55317</td><td>null</td><td>US</td></tr><tr><td>BD</td><td>Kwik Trip #615</td><td>1740 Commerce Dr</td><td>North Mankato</td><td>MN</td><td>56003</td><td>null</td><td>US</td></tr><tr><td>BD</td><td>Kwik Trip #672</td><td>1933 Broadway Ave S</td><td>Rochester</td><td>MN</td><td>55904</td><td>null</td><td>US</td></tr><tr><td>BD</td><td>Kwik Trip #806</td><td>320 Mineral Springs Rd</td><td>Owatonna</td><td>MN</td><td>55060</td><td>null</td><td>US</td></tr><tr><td>BD</td><td>Kwik Trip #812</td><td>1756 Bunker Lake Blvd NW</td><td>Andover</td><td>MN</td><td>55304</td><td>null</td><td>US</td></tr><tr><td>BD</td><td>Kwik Trip #833</td><td>2508 Main St</td><td>Cross Plains</td><td>WI</td><td>53528</td><td>null</td><td>US</td></tr><tr><td>BD</td><td>Kwik Trip #843</td><td>106 Hiawatha Dr</td><td>Wabasha</td><td>MN</td><td>55981</td><td>null</td><td>US</td></tr><tr><td>BD</td><td>Kwik Trip #869</td><td>3355 Hadley Ave</td><td>Oakdale</td><td>MN</td><td>55128</td><td>null</td><td>US</td></tr><tr><td>BD</td><td>Kwik Trip #886</td><td>2900 N Chestnut St</td><td>Chaska</td><td>MN</td><td>55318</td><td>null</td><td>US</td></tr><tr><td>BD</td><td>Kwik Trip #925</td><td>10510 Radisson Rd NE</td><td>Blaine</td><td>MN</td><td>55449</td><td>null</td><td>US</td></tr><tr><td>BD</td><td>Kwik Trip #945</td><td>2000 1st St S</td><td>Willmar</td><td>MN</td><td>56201</td><td>null</td><td>US</td></tr><tr><td>BD</td><td>Kwik Trip #1011</td><td>921 Coneflower Dr</td><td>Mankato</td><td>MN</td><td>56001</td><td>null</td><td>US</td></tr><tr><td>BD</td><td>Kwik Trip</td><td>6300 Labeaux Ave NE</td><td>Albertville</td><td>MN</td><td>55301</td><td>null</td><td>US</td></tr><tr><td>BD</td><td>Kwik Trip #1045</td><td>863 Highpoint Dr NE</td><td>Byron</td><td>MN</td><td>55920</td><td>null</td><td>US</td></tr><tr><td>BD</td><td>76 - Circle K</td><td>22400 Van Buren Blvd</td><td>March Air Reserve Base</td><td>CA</td><td>92518</td><td>null</td><td>US</td></tr><tr><td>BD</td><td>G&M</td><td>17707 Sherman Way</td><td>Reseda</td><td>CA</td><td>91335</td><td>null</td><td>US</td></tr><tr><td>BD</td><td>Pacific Pride - Interstate Oil Co</td><td>3022 Evergreen St</td><td>West Sacramento</td><td>CA</td><td>95691</td><td>null</td><td>US</td></tr><tr><td>BD</td><td>Shell</td><td>15 SW 5th St</td><td>Madras</td><td>OR</td><td>97741</td><td>null</td><td>US</td></tr><tr><td>BD</td><td>99 Travel Center</td><td>4142 CA-99</td><td>Yuba City</td><td>CA</td><td>95991</td><td>null</td><td>US</td></tr><tr><td>BD</td><td>Pacific Biodiesel Inc</td><td>101 Maalaea Boat Harbor Rd</td><td>Wailuki</td><td>HI</td><td>96793</td><td>null</td><td>US</td></tr><tr><td>BD</td><td>Chevron</td><td>150 S Diamond Bar Blvd</td><td>Diamond Bar</td><td>CA</td><td>91765</td><td>null</td><td>US</td></tr><tr><td>BD</td><td>G&M Chevron #174</td><td>7737 Balboa Ave</td><td>San Diego</td><td>CA</td><td>92111</td><td>null</td><td>US</td></tr><tr><td>BD</td><td>Chevon G&M #73</td><td>100 S Glenoaks Blvd</td><td>Burbank</td><td>CA</td><td>91502</td><td>null</td><td>US</td></tr><tr><td>BD</td><td>Speedway #3962</td><td>5951 E Rockton Rd</td><td>Roscoe</td><td>IL</td><td>61073</td><td>null</td><td>US</td></tr><tr><td>BD</td><td>Pacific Biodiesel Inc</td><td>194 Lauo Loop</td><td>Kahului</td><td>HI</td><td>96732</td><td>null</td><td>US</td></tr><tr><td>BD</td><td>Pacific Biodiesel Inc</td><td>16-240 Mikahala St</td><td>Keaau</td><td>HI</td><td>96749</td><td>null</td><td>US</td></tr><tr><td>BD</td><td>Pacific Biodiesel Inc</td><td>74-429 Kealakehe Pkwy</td><td>Kailua-Kona</td><td>HI</td><td>96740</td><td>null</td><td>US</td></tr><tr><td>BD</td><td>Bridgman Oil Co</td><td>109 Clay St</td><td>Hutchinson</td><td>KS</td><td>67501</td><td>null</td><td>US</td></tr><tr><td>BD</td><td>Love's Travel Stop #</td><td>15250 North Thornton Rd</td><td>Lodi</td><td>CA</td><td>95242</td><td>null</td><td>US</td></tr><tr><td>BD</td><td>Love's Travel Stop #230</td><td>21948 Highway 46</td><td>Lost Hills</td><td>CA</td><td>93249</td><td>null</td><td>US</td></tr><tr><td>BD</td><td>Love’s Travel Stop - Madera</td><td>3175 Avenue 17</td><td>Madera</td><td>CA</td><td>93637</td><td>null</td><td>US</td></tr><tr><td>BD</td><td>Love's Travel Stop #652</td><td>100 Marguerite St</td><td>Williams</td><td>CA</td><td>95987</td><td>null</td><td>US</td></tr><tr><td>BD</td><td>Gurnee Truck Stop</td><td>36725 US Hwy 41</td><td>Gurnee</td><td>IL</td><td>60031</td><td>null</td><td>US</td></tr><tr><td>BD</td><td>Love's Travel Stop</td><td>2974 Lenwood Rd</td><td>Barstow</td><td>CA</td><td>92311</td><td>null</td><td>US</td></tr><tr><td>BD</td><td>Love's Travel Stop #755</td><td>27201 Boron Frontage Rd N</td><td>Boron</td><td>CA</td><td>93516</td><td>null</td><td>US</td></tr><tr><td>BD</td><td>Love's Travel Stop #410</td><td>2120 South Ave</td><td>Corning</td><td>CA</td><td>96021</td><td>null</td><td>US</td></tr><tr><td>BD</td><td>Love's Travel Stop</td><td>3174 Avenue 17</td><td>Madera</td><td>CA</td><td>93638</td><td>null</td><td>US</td></tr><tr><td>BD</td><td>Love's Travel Stop #233</td><td>1553 W Colony Rd</td><td>Ripon</td><td>CA</td><td>95366</td><td>null</td><td>US</td></tr><tr><td>BD</td><td>Love's Travel Stop #441</td><td>29025 W Plaza Dr</td><td>Santa Nella</td><td>CA</td><td>95322</td><td>null</td><td>US</td></tr><tr><td>BD</td><td>Love's Travel Stop #392</td><td>2000 E Tehachapi Blvd</td><td>Tehachapi</td><td>CA</td><td>93561</td><td>null</td><td>US</td></tr><tr><td>BD</td><td>Love's Travel Stop</td><td>2700 S Blackstone St</td><td>Tulare</td><td>CA</td><td>93274</td><td>null</td><td>US</td></tr><tr><td>BD</td><td>Love's Travel Stop #749</td><td>551 W Main St</td><td>Westmorland</td><td>CA</td><td>92281</td><td>null</td><td>US</td></tr><tr><td>BD</td><td>VP Fuels</td><td>813 US-101</td><td>Florence</td><td>OR</td><td>97439</td><td>null</td><td>US</td></tr><tr><td>BD</td><td>Northern Star Co-op - Grand Rapids</td><td>105 SE 29th St</td><td>Grand Rapids</td><td>MN</td><td>55744</td><td>null</td><td>US</td></tr><tr><td>BD</td><td>Casey's General Store</td><td>817 County Highway 13</td><td>Melrose</td><td>MN</td><td>56352</td><td>null</td><td>US</td></tr><tr><td>BD</td><td>Casey's General Store</td><td>7279 S St Rd 46</td><td>Terre Haute</td><td>IN</td><td>47802</td><td>null</td><td>US</td></tr><tr><td>BD</td><td>Casey's General Store</td><td>5150 100th St</td><td>Urbandale</td><td>IA</td><td>50322</td><td>null</td><td>US</td></tr><tr><td>BD</td><td>Casey's General Store</td><td>1175 NE 75th St</td><td>Pleasant Hill</td><td>IA</td><td>50327</td><td>null</td><td>US</td></tr><tr><td>BD</td><td>Casey's General Store</td><td>222 N Clark St</td><td>Paullina</td><td>IA</td><td>51046</td><td>null</td><td>US</td></tr><tr><td>BD</td><td>Lakeside Travel Plaza - Sinclair</td><td>1097 W Gateway Dr</td><td>Worthington</td><td>MN</td><td>56187</td><td>null</td><td>US</td></tr><tr><td>BD</td><td>Casey's</td><td>1109 N STATE ST</td><td>WASECA</td><td>MN</td><td>56093</td><td>null</td><td>US</td></tr><tr><td>BD</td><td>Casey's</td><td>1021 19TH AVE SW</td><td>WILLMAR</td><td>MN</td><td>56201</td><td>null</td><td>US</td></tr><tr><td>BD</td><td>Casey's</td><td>1375 LOOKOUT DR</td><td>NORTH MANKATO</td><td>MN</td><td>56003</td><td>null</td><td>US</td></tr><tr><td>BD</td><td>Casey's</td><td>1375 LOOKOUT DR</td><td>North Mankato</td><td>MN</td><td>56003</td><td>null</td><td>US</td></tr><tr><td>BD</td><td>Casey's</td><td>561 10TH AVE S</td><td>WAITE PARK</td><td>MN</td><td>56387</td><td>null</td><td>US</td></tr><tr><td>BD</td><td>Casey's</td><td>11000 57TH ST NE</td><td>ALBERTVILLE</td><td>MN</td><td>55301</td><td>null</td><td>US</td></tr><tr><td>BD</td><td>Casey's</td><td>590 STATE AVE</td><td>OWATONNA</td><td>MN</td><td>55060</td><td>null</td><td>US</td></tr><tr><td>BD</td><td>Casey's</td><td>270 CROSSING DR</td><td>SHERMAN</td><td>IL</td><td>62684</td><td>null</td><td>US</td></tr><tr><td>BD</td><td>Casey's</td><td>1101 S BANKER ST</td><td>EFFINGHAM</td><td>IL</td><td>62401</td><td>null</td><td>US</td></tr><tr><td>BD</td><td>Casey's</td><td>860 GOLDEN SPIKE RD</td><td>SAUK RAPIDS</td><td>MN</td><td>56379</td><td>null</td><td>US</td></tr><tr><td>BD</td><td>Casey's</td><td>2400 US-12</td><td>SPRING GROVE</td><td>IL</td><td>60081</td><td>null</td><td>US</td></tr><tr><td>BD</td><td>Casey's</td><td>8218 HIGHLAND SCENIC DR</td><td>BAXTER</td><td>MN</td><td>56425</td><td>null</td><td>US</td></tr><tr><td>BD</td><td>Casey's</td><td>2359 EDGINGTON AVE</td><td>ELDORA</td><td>IA</td><td>50627</td><td>null</td><td>US</td></tr><tr><td>BD</td><td>Casey's</td><td>1118 S DUFF AVE</td><td>AMES</td><td>IA</td><td>50010</td><td>null</td><td>US</td></tr><tr><td>BD</td><td>Casey's</td><td>828 MAIN E ST</td><td>BELLE PLAINE</td><td>MN</td><td>56011</td><td>null</td><td>US</td></tr><tr><td>BD</td><td>Casey's</td><td>915 S 1ST ST</td><td>HIAWATHA</td><td>KS</td><td>66434</td><td>null</td><td>US</td></tr><tr><td>BD</td><td>Casey's</td><td>810 N RUM RIVER DR</td><td>PRINCETON</td><td>MN</td><td>55371</td><td>null</td><td>US</td></tr><tr><td>BD</td><td>Casey's</td><td>1705 MULHOLLAND ST</td><td>NAUVOO</td><td>IL</td><td>62354</td><td>null</td><td>US</td></tr><tr><td>BD</td><td>Casey's</td><td>2418 N 24TH ST</td><td>QUINCY</td><td>IL</td><td>62305</td><td>null</td><td>US</td></tr><tr><td>BD</td><td>Casey's</td><td>402 N CHESTNUT ST</td><td>WENONA</td><td>IL</td><td>61377</td><td>null</td><td>US</td></tr><tr><td>BD</td><td>Casey's</td><td>115 E 5TH ST</td><td>MINONK</td><td>IL</td><td>61760</td><td>null</td><td>US</td></tr><tr><td>BD</td><td>Casey's</td><td>308 W MAIN ST</td><td>CORNELL</td><td>IL</td><td>61319</td><td>null</td><td>US</td></tr><tr><td>BD</td><td>Casey's</td><td>510 S MAIN ST</td><td>FLANAGAN</td><td>IL</td><td>61740</td><td>null</td><td>US</td></tr><tr><td>BD</td><td>Casey's</td><td>290 E STATE ROUTE 115</td><td>HERSCHER</td><td>IL</td><td>60941</td><td>null</td><td>US</td></tr><tr><td>BD</td><td>Casey's</td><td>104 ROUTE 122</td><td>HOPEDALE</td><td>IL</td><td>61747</td><td>null</td><td>US</td></tr><tr><td>BD</td><td>Casey's</td><td>100 S ADAMS ST</td><td>MANITO</td><td>IL</td><td>61546</td><td>null</td><td>US</td></tr><tr><td>BD</td><td>Casey's</td><td>1603 E WASHINGTON ST</td><td>CLINTON</td><td>IL</td><td>61727</td><td>null</td><td>US</td></tr><tr><td>BD</td><td>Casey's</td><td>290 S NORTH ST</td><td>ARGENTA</td><td>IL</td><td>62501</td><td>null</td><td>US</td></tr><tr><td>BD</td><td>Casey's</td><td>203 E MAIN ST</td><td>COLFAX</td><td>IL</td><td>61728</td><td>null</td><td>US</td></tr><tr><td>BD</td><td>Casey's</td><td>102 E 2ND ST</td><td>GLASFORD</td><td>IL</td><td>61533</td><td>null</td><td>US</td></tr><tr><td>BD</td><td>Casey's</td><td>300 E LOCUST ST</td><td>CHATSWORTH</td><td>IL</td><td>60921</td><td>null</td><td>US</td></tr><tr><td>BD</td><td>Casey's</td><td>110 S MAIN ST</td><td>SAYBROOK</td><td>IL</td><td>61770</td><td>null</td><td>US</td></tr><tr><td>BD</td><td>Casey's</td><td>712 CARROLL ST</td><td>PAWNEE</td><td>IL</td><td>62558</td><td>null</td><td>US</td></tr><tr><td>BD</td><td>Casey's</td><td>306 N STATE ROUTE 129</td><td>BRACEVILLE</td><td>IL</td><td>60407</td><td>null</td><td>US</td></tr><tr><td>BD</td><td>Casey's</td><td>200 S MAIN ST</td><td>ATWOOD</td><td>IL</td><td>61913</td><td>null</td><td>US</td></tr><tr><td>BD</td><td>Casey's</td><td>1202 GRAND AVE</td><td>BEARDSTOWN</td><td>IL</td><td>62618</td><td>null</td><td>US</td></tr><tr><td>BD</td><td>Casey's</td><td>314 N HIRST ST</td><td>WITT</td><td>IL</td><td>62094</td><td>null</td><td>US</td></tr><tr><td>BD</td><td>Casey's</td><td>402 PINE ST</td><td>VARNA</td><td>IL</td><td>61375</td><td>null</td><td>US</td></tr><tr><td>BD</td><td>Casey's</td><td>500 W CENTRAL AVE</td><td>THOMASBORO</td><td>IL</td><td>61878</td><td>null</td><td>US</td></tr><tr><td>BD</td><td>Casey's</td><td>215 W JACKSON ST</td><td>CULLOM</td><td>IL</td><td>60929</td><td>null</td><td>US</td></tr><tr><td>BD</td><td>Casey's</td><td>312 E 1ST AVE</td><td>DEER CREEK</td><td>IL</td><td>61733</td><td>null</td><td>US</td></tr><tr><td>BD</td><td>Casey's</td><td>102 N PARIS ST</td><td>CATLIN</td><td>IL</td><td>61817</td><td>null</td><td>US</td></tr><tr><td>BD</td><td>Casey's</td><td>902 E PARK ST</td><td>TAYLORVILLE</td><td>IL</td><td>62568</td><td>null</td><td>US</td></tr><tr><td>BD</td><td>Casey's</td><td>523 E IL ROUTE 10</td><td>DE LAND</td><td>IL</td><td>61839</td><td>null</td><td>US</td></tr><tr><td>BD</td><td>Casey's</td><td>508 N STATE ST</td><td>RIDGE FARM</td><td>IL</td><td>61870</td><td>null</td><td>US</td></tr><tr><td>BD</td><td>Casey's</td><td>600 S MAIN ST</td><td>TUSCOLA</td><td>IL</td><td>61953</td><td>null</td><td>US</td></tr><tr><td>BD</td><td>Casey's</td><td>102 N OAK ST</td><td>ONARGA</td><td>IL</td><td>60955</td><td>null</td><td>US</td></tr><tr><td>BD</td><td>Casey's</td><td>184 E STATE ST</td><td>PALMYRA</td><td>IL</td><td>62674</td><td>null</td><td>US</td></tr><tr><td>BD</td><td>Casey's</td><td>1109 N MAIN ST</td><td>GEORGETOWN</td><td>IL</td><td>61846</td><td>null</td><td>US</td></tr><tr><td>BD</td><td>Casey's</td><td>720 S STATE ST</td><td>LITCHFIELD</td><td>IL</td><td>62056</td><td>null</td><td>US</td></tr><tr><td>BD</td><td>Casey's</td><td>620 S STATE ST</td><td>ROODHOUSE</td><td>IL</td><td>62082</td><td>null</td><td>US</td></tr><tr><td>BD</td><td>Casey's</td><td>735 E MACOUPIN ST</td><td>STAUNTON</td><td>IL</td><td>62088</td><td>null</td><td>US</td></tr><tr><td>BD</td><td>Casey's</td><td>521 S MAIN ST</td><td>RANKIN</td><td>IL</td><td>60960</td><td>null</td><td>US</td></tr><tr><td>BD</td><td>Casey's</td><td>150 Old US Highway 50 W</td><td>BECKEMEYER</td><td>IL</td><td>62219</td><td>null</td><td>US</td></tr><tr><td>BD</td><td>Casey's</td><td>205 BROWN ST</td><td>OAKLAND</td><td>IA</td><td>51560</td><td>null</td><td>US</td></tr><tr><td>BD</td><td>Casey's</td><td>510 E CENTRAL AVE</td><td>BENLD</td><td>IL</td><td>62009</td><td>null</td><td>US</td></tr><tr><td>BD</td><td>Casey's</td><td>221 W STATE ST</td><td>NOKOMIS</td><td>IL</td><td>62075</td><td>null</td><td>US</td></tr><tr><td>BD</td><td>Casey's</td><td>401 COLLEGE DR</td><td>DECORAH</td><td>IA</td><td>52101</td><td>null</td><td>US</td></tr><tr><td>BD</td><td>Casey's</td><td>130 W CHURCH ST</td><td>LOVINGTON</td><td>IL</td><td>61937</td><td>null</td><td>US</td></tr><tr><td>BD</td><td>Casey's</td><td>325 RUSCHE ST</td><td>CREVE COEUR</td><td>IL</td><td>61610</td><td>null</td><td>US</td></tr><tr><td>BD</td><td>Casey's</td><td>200 S HAMILTON ST</td><td>HILLSBORO</td><td>IL</td><td>62049</td><td>null</td><td>US</td></tr><tr><td>BD</td><td>Casey's</td><td>116 E MAIN ST</td><td>SAN JOSE</td><td>IL</td><td>62682</td><td>null</td><td>US</td></tr><tr><td>BD</td><td>Casey's</td><td>19416 SPRINGFIELD RD</td><td>GROVELAND</td><td>IL</td><td>61535</td><td>null</td><td>US</td></tr><tr><td>BD</td><td>Casey's</td><td>504 E MAIN ST</td><td>CUBA</td><td>IL</td><td>61427</td><td>null</td><td>US</td></tr><tr><td>BD</td><td>Casey's</td><td>201 W ROUTE 125</td><td>PLEASANT PLAINS</td><td>IL</td><td>62677</td><td>null</td><td>US</td></tr><tr><td>BD</td><td>Casey's</td><td>612 W MAIN ST</td><td>GREEN VALLEY</td><td>IL</td><td>61534</td><td>null</td><td>US</td></tr><tr><td>BD</td><td>Casey's</td><td>1700 N PARK AVE</td><td>HERRIN</td><td>IL</td><td>62948</td><td>null</td><td>US</td></tr><tr><td>BD</td><td>Casey's</td><td>109 MAIN ST</td><td>CRESCENT CITY</td><td>IL</td><td>60928</td><td>null</td><td>US</td></tr><tr><td>BD</td><td>Casey's</td><td>110 STATE RTE 122</td><td>MINIER</td><td>IL</td><td>61759</td><td>null</td><td>US</td></tr><tr><td>BD</td><td>Casey's</td><td>383 STATE HWY 121</td><td>BETHANY</td><td>IL</td><td>61914</td><td>null</td><td>US</td></tr><tr><td>BD</td><td>Casey's</td><td>316 W CEMETERY AVE</td><td>CHENOA</td><td>IL</td><td>61726</td><td>null</td><td>US</td></tr><tr><td>BD</td><td>Casey's</td><td>204 MAIN ST</td><td>ST DAVID</td><td>IL</td><td>61563</td><td>null</td><td>US</td></tr><tr><td>BD</td><td>Casey's</td><td>119 N MAIN ST</td><td>ROYALTON</td><td>IL</td><td>62983</td><td>null</td><td>US</td></tr><tr><td>BD</td><td>Casey's</td><td>209 W GRANT ST</td><td>COULTERVILLE</td><td>IL</td><td>62237</td><td>null</td><td>US</td></tr><tr><td>BD</td><td>Casey's</td><td>215 S WALNUT ST</td><td>TAMAROA</td><td>IL</td><td>62888</td><td>null</td><td>US</td></tr><tr><td>BD</td><td>Casey's</td><td>312 OAK ST</td><td>DALLAS CITY</td><td>IL</td><td>62330</td><td>null</td><td>US</td></tr><tr><td>BD</td><td>Casey's</td><td>102 W STATE RT 161</td><td>ALBERS</td><td>IL</td><td>62215</td><td>null</td><td>US</td></tr><tr><td>BD</td><td>Casey's</td><td>206 E State Highway 16</td><td>TOWER HILL</td><td>IL</td><td>62571</td><td>null</td><td>US</td></tr><tr><td>BD</td><td>Casey's</td><td>119 6TH ST</td><td>GAYLORD</td><td>MN</td><td>55334</td><td>null</td><td>US</td></tr><tr><td>BD</td><td>Casey's</td><td>810 N BEECH ST</td><td>NORMAL</td><td>IL</td><td>61761</td><td>null</td><td>US</td></tr><tr><td>BD</td><td>Casey's</td><td>902 WALNUT ST</td><td>WASHINGTON</td><td>IL</td><td>61571</td><td>null</td><td>US</td></tr><tr><td>BD</td><td>Casey's</td><td>408 N LINCOLN ST</td><td>PHILO</td><td>IL</td><td>61864</td><td>null</td><td>US</td></tr><tr><td>BD</td><td>Casey's</td><td>222 N PENNSYLVANIA ST</td><td>CHRISMAN</td><td>IL</td><td>61924</td><td>null</td><td>US</td></tr><tr><td>BD</td><td>Casey's</td><td>110 W State Highway 133</td><td>OAKLAND</td><td>IL</td><td>61943</td><td>null</td><td>US</td></tr><tr><td>BD</td><td>Casey's</td><td>300 ROUTE 45 S</td><td>LOUISVILLE</td><td>IL</td><td>62858</td><td>null</td><td>US</td></tr><tr><td>BD</td><td>Casey's</td><td>2300 COUNTY ROAD 3000 N</td><td>GIFFORD</td><td>IL</td><td>61847</td><td>null</td><td>US</td></tr><tr><td>BD</td><td>Casey's</td><td>314 E MAIN ST</td><td>TOLEDO</td><td>IL</td><td>62468</td><td>null</td><td>US</td></tr><tr><td>BD</td><td>Casey's</td><td>1014 KENTUCKY AVE</td><td>WINDSOR</td><td>IL</td><td>61957</td><td>null</td><td>US</td></tr><tr><td>BD</td><td>Casey's</td><td>810 OAK AVE</td><td>NEOGA</td><td>IL</td><td>62447</td><td>null</td><td>US</td></tr><tr><td>BD</td><td>Casey's</td><td>526 S SUPERIOR ST</td><td>RAMSEY</td><td>IL</td><td>62080</td><td>null</td><td>US</td></tr><tr><td>BD</td><td>Casey's</td><td>407 N MAIN ST</td><td>SMITHTON</td><td>IL</td><td>62285</td><td>null</td><td>US</td></tr><tr><td>BD</td><td>Casey's</td><td>101 E US ROUTE 150</td><td>OAKWOOD</td><td>IL</td><td>61858</td><td>null</td><td>US</td></tr><tr><td>BD</td><td>Casey's</td><td>750 S STATE ST</td><td>WESTVILLE</td><td>IL</td><td>61883</td><td>null</td><td>US</td></tr><tr><td>BD</td><td>Casey's</td><td>105 W POPLAR ST</td><td>ODIN</td><td>IL</td><td>62870</td><td>null</td><td>US</td></tr><tr><td>BD</td><td>Casey's</td><td>303 W DEARBORN ST</td><td>HAVANA</td><td>IL</td><td>62644</td><td>null</td><td>US</td></tr><tr><td>BD</td><td>Casey's</td><td>601 N ROUTE 49</td><td>CASEY</td><td>IL</td><td>62420</td><td>null</td><td>US</td></tr><tr><td>BD</td><td>Benchmark Biodiesel</td><td>620 Phillipi Rd</td><td>Columbus</td><td>OH</td><td>43228</td><td>null</td><td>US</td></tr><tr><td>BD</td><td>Casey's</td><td>701 E HARGRAVE ST</td><td>ATHENS</td><td>IL</td><td>62613</td><td>null</td><td>US</td></tr><tr><td>BD</td><td>Casey's</td><td>201 N MAIN ST</td><td>FAIRMOUNT</td><td>IL</td><td>61841</td><td>null</td><td>US</td></tr><tr><td>BD</td><td>Casey's</td><td>2401 MARSHALL AVE</td><td>MATTOON</td><td>IL</td><td>61938</td><td>null</td><td>US</td></tr><tr><td>BD</td><td>Casey's</td><td>400 N 4TH ST</td><td>ELKVILLE</td><td>IL</td><td>62932</td><td>null</td><td>US</td></tr><tr><td>BD</td><td>Casey's</td><td>501 W MAIN ST</td><td>COFFEEN</td><td>IL</td><td>62017</td><td>null</td><td>US</td></tr><tr><td>BD</td><td>Casey's</td><td>12 W 5TH ST</td><td>MORRIS</td><td>MN</td><td>56267</td><td>null</td><td>US</td></tr><tr><td>BD</td><td>Casey's</td><td>1002 E MAIN ST</td><td>OLNEY</td><td>IL</td><td>62450</td><td>null</td><td>US</td></tr><tr><td>BD</td><td>Casey's</td><td>101 S MONROE ST</td><td>ABINGDON</td><td>IL</td><td>61410</td><td>null</td><td>US</td></tr><tr><td>BD</td><td>Casey's</td><td>243 1ST AVE E</td><td>CAMBRIDGE</td><td>MN</td><td>55008</td><td>null</td><td>US</td></tr><tr><td>BD</td><td>Casey's</td><td>695 COLE ST</td><td>BUSHNELL</td><td>IL</td><td>61422</td><td>null</td><td>US</td></tr><tr><td>BD</td><td>Casey's</td><td>507 E STATE ST</td><td>BRIDGEPORT</td><td>IL</td><td>62417</td><td>null</td><td>US</td></tr><tr><td>BD</td><td>Casey's</td><td>723 S STATE ST</td><td>JERSEYVILLE</td><td>IL</td><td>62052</td><td>null</td><td>US</td></tr><tr><td>BD</td><td>Casey's</td><td>413 N RAILROAD AVE</td><td>BLUE MOUND</td><td>IL</td><td>62513</td><td>null</td><td>US</td></tr><tr><td>BD</td><td>Casey's</td><td>1671 S TAYLORVILLE RD</td><td>DECATUR</td><td>IL</td><td>62521</td><td>null</td><td>US</td></tr><tr><td>BD</td><td>Casey's</td><td>301 W QUINCY ST</td><td>GRIGGSVILLE</td><td>IL</td><td>62340</td><td>null</td><td>US</td></tr><tr><td>BD</td><td>Casey's</td><td>115 S MAPLE ST</td><td>BRIGHTON</td><td>IL</td><td>62012</td><td>null</td><td>US</td></tr><tr><td>BD</td><td>Casey's</td><td>5256 ST RTE 140</td><td>BETHALTO</td><td>IL</td><td>62010</td><td>null</td><td>US</td></tr><tr><td>BD</td><td>Casey's</td><td>2101 E MAIN ST</td><td>DANVILLE</td><td>IL</td><td>61832</td><td>null</td><td>US</td></tr><tr><td>BD</td><td>Casey's</td><td>201 W WOLFE ST</td><td>SULLIVAN</td><td>IN</td><td>47882</td><td>null</td><td>US</td></tr><tr><td>BD</td><td>Casey's</td><td>601 W CHURCH ST</td><td>WEST SALEM</td><td>IL</td><td>62476</td><td>null</td><td>US</td></tr><tr><td>BD</td><td>Casey's</td><td>808 N WABASH AVE</td><td>CENTRALIA</td><td>IL</td><td>62801</td><td>null</td><td>US</td></tr><tr><td>BD</td><td>Casey's</td><td>425 W MAIN ST</td><td>CARLINVILLE</td><td>IL</td><td>62626</td><td>null</td><td>US</td></tr><tr><td>BD</td><td>Casey's</td><td>320 S HAMILTON ST</td><td>SULLIVAN</td><td>IL</td><td>61951</td><td>null</td><td>US</td></tr><tr><td>BD</td><td>Casey's</td><td>610 W UNION AVE</td><td>LITCHFIELD</td><td>IL</td><td>62056</td><td>null</td><td>US</td></tr><tr><td>BD</td><td>Casey's</td><td>1232 N UNION AVE</td><td>FERGUS FALLS</td><td>MN</td><td>56537</td><td>null</td><td>US</td></tr><tr><td>BD</td><td>Casey's</td><td>400 BROADWAY AVE</td><td>SOUTH ROXANA</td><td>IL</td><td>62087</td><td>null</td><td>US</td></tr><tr><td>BD</td><td>Casey's</td><td>454 13TH ST NW</td><td>LINTON</td><td>IN</td><td>47441</td><td>null</td><td>US</td></tr><tr><td>BD</td><td>Casey's</td><td>930 W NATIONAL AVE</td><td>BRAZIL</td><td>IN</td><td>47834</td><td>null</td><td>US</td></tr><tr><td>BD</td><td>Casey's</td><td>1556 SCHOOL ST</td><td>HILLSBORO</td><td>IL</td><td>62049</td><td>null</td><td>US</td></tr><tr><td>BD</td><td>Casey's</td><td>501 STATE ST</td><td>LAWRENCEVILLE</td><td>IL</td><td>62439</td><td>null</td><td>US</td></tr><tr><td>BD</td><td>Casey's</td><td>312 W MAIN ST</td><td>TEUTOPOLIS</td><td>IL</td><td>62467</td><td>null</td><td>US</td></tr><tr><td>BD</td><td>Casey's</td><td>305 N MACOUPIN ST</td><td>GILLESPIE</td><td>IL</td><td>62033</td><td>null</td><td>US</td></tr><tr><td>BD</td><td>Casey's</td><td>1825 KEOKUK ST</td><td>HAMILTON</td><td>IL</td><td>62341</td><td>null</td><td>US</td></tr><tr><td>BD</td><td>Casey's</td><td>110 CENTRAL AVE N</td><td>MILACA</td><td>MN</td><td>56353</td><td>null</td><td>US</td></tr><tr><td>BD</td><td>Casey's</td><td>6301 GODFREY RD</td><td>GODFREY</td><td>IL</td><td>62035</td><td>null</td><td>US</td></tr><tr><td>BD</td><td>Casey's</td><td>106 OBLIQUE ST</td><td>WASHBURN</td><td>IL</td><td>61570</td><td>null</td><td>US</td></tr><tr><td>BD</td><td>Casey's</td><td>149 W HARRISON ST</td><td>AVISTON</td><td>IL</td><td>62216</td><td>null</td><td>US</td></tr><tr><td>BD</td><td>Casey's</td><td>614 S WASHINGTON ST</td><td>DU QUOIN</td><td>IL</td><td>62832</td><td>null</td><td>US</td></tr><tr><td>BD</td><td>Casey's</td><td>1117 GRAND AVE</td><td>JOHNSTON CITY</td><td>IL</td><td>62951</td><td>null</td><td>US</td></tr><tr><td>BD</td><td>Casey's</td><td>3266 N 25TH ST</td><td>TERRE HAUTE</td><td>IN</td><td>47804</td><td>null</td><td>US</td></tr><tr><td>BD</td><td>Casey's</td><td>7502 E STATE ST</td><td>DUGGER</td><td>IN</td><td>47848</td><td>null</td><td>US</td></tr><tr><td>BD</td><td>Casey's</td><td>1603 W MAIN ST</td><td>ROBINSON</td><td>IL</td><td>62454</td><td>null</td><td>US</td></tr><tr><td>BD</td><td>Casey's</td><td>908 E NOLEMAN ST</td><td>CENTRALIA</td><td>IL</td><td>62801</td><td>null</td><td>US</td></tr><tr><td>BD</td><td>Casey's</td><td>1203 S BROADWAY AVE</td><td>SALEM</td><td>IL</td><td>62881</td><td>null</td><td>US</td></tr><tr><td>BD</td><td>Casey's</td><td>1900 18TH ST</td><td>CHARLESTON</td><td>IL</td><td>61920</td><td>null</td><td>US</td></tr><tr><td>BD</td><td>Casey's</td><td>241 W ELM ST</td><td>WAVERLY</td><td>IL</td><td>62692</td><td>null</td><td>US</td></tr><tr><td>BD</td><td>Casey's</td><td>1850 S MAIN ST</td><td>MORTON</td><td>IL</td><td>61550</td><td>null</td><td>US</td></tr><tr><td>BD</td><td>Casey's</td><td>820 LINCOLN ST</td><td>AUBURN</td><td>IL</td><td>62615</td><td>null</td><td>US</td></tr><tr><td>BD</td><td>Casey's</td><td>1700 W MAIN ST</td><td>SHELBYVILLE</td><td>IL</td><td>62565</td><td>null</td><td>US</td></tr><tr><td>BD</td><td>Casey's</td><td>613 1/2 S SPRINGFIELD ST</td><td>VIRDEN</td><td>IL</td><td>62690</td><td>null</td><td>US</td></tr><tr><td>BD</td><td>Casey's</td><td>1305 E MAIN ST</td><td>WEST FRANKFORT</td><td>IL</td><td>62896</td><td>null</td><td>US</td></tr><tr><td>BD</td><td>Casey's</td><td>201 E FERRY ST</td><td>CAYUGA</td><td>IN</td><td>47928</td><td>null</td><td>US</td></tr><tr><td>BD</td><td>Casey's</td><td>150 S STATE RTE 121</td><td>WARRENSBURG</td><td>IL</td><td>62573</td><td>null</td><td>US</td></tr><tr><td>BD</td><td>Casey's</td><td>1310 N 8TH ST</td><td>VANDALIA</td><td>IL</td><td>62471</td><td>null</td><td>US</td></tr><tr><td>BD</td><td>Casey's</td><td>990 E BEAUMONT AVE</td><td>GREENVILLE</td><td>IL</td><td>62246</td><td>null</td><td>US</td></tr><tr><td>BD</td><td>Casey's</td><td>1525 W MOUND RD</td><td>DECATUR</td><td>IL</td><td>62526</td><td>null</td><td>US</td></tr><tr><td>BD</td><td>Casey's</td><td>102 E WALNUT ST</td><td>ALBION</td><td>IL</td><td>62806</td><td>null</td><td>US</td></tr><tr><td>BD</td><td>Casey's</td><td>514 W COLLINS ST</td><td>MENDON</td><td>IL</td><td>62351</td><td>null</td><td>US</td></tr><tr><td>BD</td><td>Casey's</td><td>100 HIGHLAND AVE</td><td>FAIRFIELD</td><td>IL</td><td>62837</td><td>null</td><td>US</td></tr><tr><td>BD</td><td>Casey's</td><td>315 N CHRISTY AVE</td><td>SUMNER</td><td>IL</td><td>62466</td><td>null</td><td>US</td></tr><tr><td>BD</td><td>Casey's</td><td>417 BUNKER HILL RD</td><td>STAUNTON</td><td>IL</td><td>62088</td><td>null</td><td>US</td></tr><tr><td>BD</td><td>Casey's</td><td>410 W CUMBERLAND RD</td><td>ST. ELMO</td><td>IL</td><td>62458</td><td>null</td><td>US</td></tr><tr><td>BD</td><td>Casey's</td><td>801 E WALNUT ST</td><td>CHATHAM</td><td>IL</td><td>62629</td><td>null</td><td>US</td></tr><tr><td>BD</td><td>Casey's</td><td>1735 VANDALIA RD</td><td>HILLSBORO</td><td>IL</td><td>62049</td><td>null</td><td>US</td></tr><tr><td>BD</td><td>Casey's</td><td>710 E MAIN ST</td><td>BENTON</td><td>IL</td><td>62812</td><td>null</td><td>US</td></tr><tr><td>BD</td><td>Casey's</td><td>1320 W MAIN ST</td><td>CARMI</td><td>IL</td><td>62821</td><td>null</td><td>US</td></tr><tr><td>BD</td><td>Casey's</td><td>103 N CHESTNUT ST</td><td>ARCOLA</td><td>IL</td><td>61910</td><td>null</td><td>US</td></tr><tr><td>BD</td><td>Casey's</td><td>315 BROADWAY</td><td>HIGHLAND</td><td>IL</td><td>62249</td><td>null</td><td>US</td></tr><tr><td>BD</td><td>Casey's</td><td>1 W 2ND ST</td><td>PANA</td><td>IL</td><td>62557</td><td>null</td><td>US</td></tr><tr><td>BD</td><td>Casey's</td><td>400 W MONDAMIN ST</td><td>MINOOKA</td><td>IL</td><td>60447</td><td>null</td><td>US</td></tr><tr><td>BD</td><td>Casey's</td><td>25258 W EAMES ST</td><td>CHANNAHON</td><td>IL</td><td>60410</td><td>null</td><td>US</td></tr><tr><td>BD</td><td>Casey's</td><td>2040 E DIVISION ST</td><td>DIAMOND</td><td>IL</td><td>60416</td><td>null</td><td>US</td></tr><tr><td>BD</td><td>Casey's</td><td>280 E MAIN ST</td><td>BRAIDWOOD</td><td>IL</td><td>60408</td><td>null</td><td>US</td></tr><tr><td>BD</td><td>Casey's</td><td>943 N MAIN ST</td><td>MARISSA</td><td>IL</td><td>62257</td><td>null</td><td>US</td></tr><tr><td>BD</td><td>Casey's</td><td>491 E HWY 40</td><td>BRAZIL</td><td>IN</td><td>47834</td><td>null</td><td>US</td></tr><tr><td>BD</td><td>Casey's</td><td>819 W NATIONAL AVE</td><td>WEST TERRE HAUTE</td><td>IN</td><td>47885</td><td>null</td><td>US</td></tr><tr><td>BD</td><td>Casey's</td><td>369 S MAIN ST</td><td>WHITE HALL</td><td>IL</td><td>62092</td><td>null</td><td>US</td></tr><tr><td>BD</td><td>Casey's</td><td>304 W CLINTON ST</td><td>RUSHVILLE</td><td>IL</td><td>62681</td><td>null</td><td>US</td></tr><tr><td>BD</td><td>Casey's</td><td>102 S PRAIRIEVIEW RD</td><td>MAHOMET</td><td>IL</td><td>61853</td><td>null</td><td>US</td></tr><tr><td>BD</td><td>Casey's</td><td>3800 PONTOON RD</td><td>PONTOON BEACH</td><td>IL</td><td>62040</td><td>null</td><td>US</td></tr><tr><td>BD</td><td>Casey's</td><td>500 S CENTURY BLVD</td><td>RANTOUL</td><td>IL</td><td>61866</td><td>null</td><td>US</td></tr><tr><td>BD</td><td>Casey's</td><td>304 S SYCAMORE ST</td><td>VILLA GROVE</td><td>IL</td><td>61956</td><td>null</td><td>US</td></tr><tr><td>BD</td><td>Casey's</td><td>103 E WASHINGTON ST</td><td>ASHLAND</td><td>IL</td><td>62612</td><td>null</td><td>US</td></tr><tr><td>BD</td><td>Casey's</td><td>811 W MAIN ST</td><td>LA HARPE</td><td>IL</td><td>61450</td><td>null</td><td>US</td></tr><tr><td>BD</td><td>Casey's</td><td>502 W MAIN ST</td><td>SIDNEY</td><td>IL</td><td>61877</td><td>null</td><td>US</td></tr><tr><td>BD</td><td>Casey's</td><td>10846 STATE HWY 149</td><td>WEST FRANKFORT</td><td>IL</td><td>62896</td><td>null</td><td>US</td></tr><tr><td>BD</td><td>Casey's</td><td>811 W MAIN ST</td><td>ELMWOOD</td><td>IL</td><td>61529</td><td>null</td><td>US</td></tr><tr><td>BD</td><td>Casey's</td><td>710 BUTLER ST</td><td>TILDEN</td><td>IL</td><td>62292</td><td>null</td><td>US</td></tr><tr><td>BD</td><td>Casey's</td><td>84 S MAIN ST</td><td>FARMINGTON</td><td>IL</td><td>61531</td><td>null</td><td>US</td></tr><tr><td>BD</td><td>Casey's</td><td>313 E WASHINGTON ST</td><td>MILLSTADT</td><td>IL</td><td>62260</td><td>null</td><td>US</td></tr><tr><td>BD</td><td>Casey's</td><td>1205 HAVEN RD</td><td>LITTLE FALLS</td><td>MN</td><td>56345</td><td>null</td><td>US</td></tr><tr><td>BD</td><td>Casey's</td><td>3499 FOSTERBURG RD</td><td>ALTON</td><td>IL</td><td>62002</td><td>null</td><td>US</td></tr><tr><td>BD</td><td>Casey's</td><td>202 S PARK ST</td><td>SESSER</td><td>IL</td><td>62884</td><td>null</td><td>US</td></tr><tr><td>BD</td><td>Casey's</td><td>206 E DIVISION ST</td><td>FISHER</td><td>IL</td><td>61843</td><td>null</td><td>US</td></tr><tr><td>BD</td><td>Casey's</td><td>502 S VICTOR ST</td><td>CHRISTOPHER</td><td>IL</td><td>62822</td><td>null</td><td>US</td></tr><tr><td>BD</td><td>Casey's</td><td>1327 S MILL ST</td><td>NASHVILLE</td><td>IL</td><td>62263</td><td>null</td><td>US</td></tr><tr><td>BD</td><td>Casey's</td><td>2020 N MAIN ST</td><td>CANTON</td><td>IL</td><td>61520</td><td>null</td><td>US</td></tr><tr><td>BD</td><td>Casey's</td><td>901 W WALNUT ST</td><td>JACKSONVILLE</td><td>IL</td><td>62650</td><td>null</td><td>US</td></tr><tr><td>BD</td><td>Casey's</td><td>800 N STATE ST</td><td>FREEBURG</td><td>IL</td><td>62243</td><td>null</td><td>US</td></tr><tr><td>BD</td><td>Casey's</td><td>1801 S MAIN ST</td><td>EUREKA</td><td>IL</td><td>61530</td><td>null</td><td>US</td></tr><tr><td>BD</td><td>Casey's</td><td>1400 SALEM RD</td><td>MT. VERNON</td><td>IL</td><td>62864</td><td>null</td><td>US</td></tr><tr><td>BD</td><td>Casey's</td><td>2201 WASHINGTON RD</td><td>WASHINGTON</td><td>IL</td><td>61571</td><td>null</td><td>US</td></tr><tr><td>BD</td><td>Casey's</td><td>747 KENNEDY DR</td><td>PINCKNEYVILLE</td><td>IL</td><td>62274</td><td>null</td><td>US</td></tr><tr><td>BD</td><td>Casey's</td><td>900 W WILMINGTON RD</td><td>PEOTONE</td><td>IL</td><td>60468</td><td>null</td><td>US</td></tr><tr><td>BD</td><td>Casey's</td><td>6644 US HWY 45 S</td><td>CARRIER MILLS</td><td>IL</td><td>62917</td><td>null</td><td>US</td></tr><tr><td>BD</td><td>Casey's</td><td>921 S 42ND ST</td><td>MT. VERNON</td><td>IL</td><td>62864</td><td>null</td><td>US</td></tr><tr><td>BD</td><td>Casey's</td><td>471 N 4TH ST</td><td>BREESE</td><td>IL</td><td>62230</td><td>null</td><td>US</td></tr><tr><td>BD</td><td>Casey's</td><td>100 WATTERS DR</td><td>DWIGHT</td><td>IL</td><td>60420</td><td>null</td><td>US</td></tr><tr><td>BD</td><td>Casey's</td><td>802 W MCCORD ST</td><td>CENTRALIA</td><td>IL</td><td>62801</td><td>null</td><td>US</td></tr><tr><td>BD</td><td>Casey's</td><td>2031 FRANKLIN ST</td><td>CARLYLE</td><td>IL</td><td>62231</td><td>null</td><td>US</td></tr><tr><td>BD</td><td>Casey's</td><td>6155 E US ROUTE 36</td><td>DECATUR</td><td>IL</td><td>62521</td><td>null</td><td>US</td></tr><tr><td>BD</td><td>Casey's</td><td>560 S MAIN ST</td><td>NORTH PEKIN</td><td>IL</td><td>61554</td><td>null</td><td>US</td></tr><tr><td>BD</td><td>Casey's</td><td>16060 CAMBRIA RD</td><td>DESOTO</td><td>IL</td><td>62924</td><td>null</td><td>US</td></tr><tr><td>BD</td><td>Casey's</td><td>110 S DIXIE HWY</td><td>ST ANNE</td><td>IL</td><td>60964</td><td>null</td><td>US</td></tr><tr><td>BD</td><td>Casey's</td><td>2114 W FARMINGTON RD</td><td>WEST PEORIA</td><td>IL</td><td>61604</td><td>null</td><td>US</td></tr><tr><td>BD</td><td>Casey's</td><td>502 N MAIN ST</td><td>HOMER</td><td>IL</td><td>61849</td><td>null</td><td>US</td></tr><tr><td>BD</td><td>Casey's</td><td>908 S MADISON ST</td><td>LEBANON</td><td>IL</td><td>62254</td><td>null</td><td>US</td></tr><tr><td>BD</td><td>Casey's</td><td>426 W MAIN ST</td><td>GARDNER</td><td>IL</td><td>60424</td><td>null</td><td>US</td></tr><tr><td>BD</td><td>Casey's</td><td>12545 E STATE ROUTE 1 17</td><td>GRANT PARK</td><td>IL</td><td>60940</td><td>null</td><td>US</td></tr><tr><td>BD</td><td>Casey's</td><td>2517 WASHINGTON AVE</td><td>ALTON</td><td>IL</td><td>62002</td><td>null</td><td>US</td></tr><tr><td>BD</td><td>Casey's</td><td>1800 N 8TH ST</td><td>PEKIN</td><td>IL</td><td>61554</td><td>null</td><td>US</td></tr><tr><td>BD</td><td>Casey's</td><td>1511 W DELMAR AVE</td><td>GODFREY</td><td>IL</td><td>62035</td><td>null</td><td>US</td></tr><tr><td>BD</td><td>Casey's</td><td>3961 N PEORIA RD</td><td>SPRINGFIELD</td><td>IL</td><td>62702</td><td>null</td><td>US</td></tr><tr><td>BD</td><td>Casey's</td><td>1900 GEORGETOWN RD</td><td>TILTON</td><td>IL</td><td>61833</td><td>null</td><td>US</td></tr><tr><td>BD</td><td>Casey's</td><td>845 E VOORHEES ST</td><td>DANVILLE</td><td>IL</td><td>61832</td><td>null</td><td>US</td></tr><tr><td>BD</td><td>Casey's</td><td>1600 EASTWOOD RD SE</td><td>ROCHESTER</td><td>MN</td><td>55904</td><td>null</td><td>US</td></tr><tr><td>BD</td><td>Casey's</td><td>1902 WILLOW ST</td><td>VINCENNES</td><td>IN</td><td>47591</td><td>null</td><td>US</td></tr><tr><td>BD</td><td>Casey's</td><td>1706 MASCOUTAH AVE</td><td>BELLEVILLE</td><td>IL</td><td>62220</td><td>null</td><td>US</td></tr><tr><td>BD</td><td>Casey's</td><td>204 E MISSOURI AVE</td><td>SANDOVAL</td><td>IL</td><td>62882</td><td>null</td><td>US</td></tr><tr><td>BD</td><td>Casey's</td><td>902 W NORTH AVE</td><td>FLORA</td><td>IL</td><td>62839</td><td>null</td><td>US</td></tr><tr><td>BD</td><td>Casey's</td><td>650 N PERSHING ST</td><td>ENERGY</td><td>IL</td><td>62933</td><td>null</td><td>US</td></tr><tr><td>BD</td><td>Casey's</td><td>3001 RIDGE AVE</td><td>SPRINGFIELD</td><td>IL</td><td>62702</td><td>null</td><td>US</td></tr><tr><td>BD</td><td>Casey's</td><td>70 W MAIN ST</td><td>GLEN CARBON</td><td>IL</td><td>62034</td><td>null</td><td>US</td></tr><tr><td>BD</td><td>Casey's</td><td>100 WILLARDS FERRY RD</td><td>JONESBORO</td><td>IL</td><td>62952</td><td>null</td><td>US</td></tr><tr><td>BD</td><td>Casey's</td><td>418 W 9TH ST</td><td>MT. CARMEL</td><td>IL</td><td>62863</td><td>null</td><td>US</td></tr><tr><td>BD</td><td>Casey's</td><td>17005 HWY 69</td><td>GILBERT</td><td>IA</td><td>50105</td><td>null</td><td>US</td></tr><tr><td>BD</td><td>Casey's</td><td>8501 XYLITE ST NE</td><td>BLAINE</td><td>MN</td><td>55449</td><td>null</td><td>US</td></tr><tr><td>BD</td><td>Casey's</td><td>900 N OLD ST LOUIS RD</td><td>HARTFORD</td><td>IL</td><td>62048</td><td>null</td><td>US</td></tr><tr><td>BD</td><td>Casey's</td><td>710 W BROADWAY ST</td><td>SPARTA</td><td>IL</td><td>62286</td><td>null</td><td>US</td></tr><tr><td>BD</td><td>Casey's</td><td>1401 E MAIN ST</td><td>STREATOR</td><td>IL</td><td>61364</td><td>null</td><td>US</td></tr><tr><td>BD</td><td>Casey's</td><td>302 E US HWY 40</td><td>TROY</td><td>IL</td><td>62294</td><td>null</td><td>US</td></tr><tr><td>BD</td><td>Casey's</td><td>908 W CARPENTER ST</td><td>JERSEYVILLE</td><td>IL</td><td>62052</td><td>null</td><td>US</td></tr><tr><td>BD</td><td>Casey's</td><td>315 E SANGAMON AVE</td><td>PETERSBURG</td><td>IL</td><td>62675</td><td>null</td><td>US</td></tr><tr><td>BD</td><td>Casey's</td><td>218 W PEARL ST</td><td>TREMONT</td><td>IL</td><td>61568</td><td>null</td><td>US</td></tr><tr><td>BD</td><td>Casey's</td><td>411 W FRONT ST</td><td>ROANOKE</td><td>IL</td><td>61561</td><td>null</td><td>US</td></tr><tr><td>BD</td><td>Casey's</td><td>301 S MARKET ST</td><td>MONTICELLO</td><td>IL</td><td>61856</td><td>null</td><td>US</td></tr><tr><td>BD</td><td>Casey's</td><td>1075 W JEFFERY ST</td><td>KANKAKEE</td><td>IL</td><td>60901</td><td>null</td><td>US</td></tr><tr><td>BD</td><td>Casey's</td><td>306 N 1ST ST</td><td>VIENNA</td><td>IL</td><td>62995</td><td>null</td><td>US</td></tr><tr><td>BD</td><td>Casey's</td><td>414 W JASPER ST</td><td>PARIS</td><td>IL</td><td>61944</td><td>null</td><td>US</td></tr><tr><td>BD</td><td>Casey's</td><td>310 N CHRISTOPHER RD</td><td>ZEIGLER</td><td>IL</td><td>62999</td><td>null</td><td>US</td></tr><tr><td>BD</td><td>Casey's</td><td>1211 WESTERN AVE</td><td>CLINTON</td><td>IN</td><td>47842</td><td>null</td><td>US</td></tr><tr><td>BD</td><td>Casey's</td><td>118 W BROADWAY</td><td>STEELEVILLE</td><td>IL</td><td>62288</td><td>null</td><td>US</td></tr><tr><td>BD</td><td>Casey's</td><td>375 S CORDOVA AVE</td><td>LE CENTER</td><td>MN</td><td>56057</td><td>null</td><td>US</td></tr><tr><td>BD</td><td>Casey's</td><td>2530 E BROADWAY</td><td>ALTON</td><td>IL</td><td>62002</td><td>null</td><td>US</td></tr><tr><td>BD</td><td>Casey's</td><td>1500 N MAIN ST</td><td>LEWISTOWN</td><td>IL</td><td>61542</td><td>null</td><td>US</td></tr><tr><td>BD</td><td>Casey's</td><td>105 E SPRING ST</td><td>PRINCEVILLE</td><td>IL</td><td>61559</td><td>null</td><td>US</td></tr><tr><td>BD</td><td>Casey's</td><td>203 N ELIZABETH ST</td><td>COLCHESTER</td><td>IL</td><td>62326</td><td>null</td><td>US</td></tr><tr><td>BD</td><td>Casey's</td><td>103 E MYRTLE ST</td><td>BALDWIN</td><td>IL</td><td>62217</td><td>null</td><td>US</td></tr><tr><td>BD</td><td>Casey's</td><td>102 W VETERANS DR</td><td>OGDEN</td><td>IA</td><td>50212</td><td>null</td><td>US</td></tr><tr><td>BD</td><td>Casey's</td><td>1204 N MAIN ST</td><td>CHATHAM</td><td>IL</td><td>62629</td><td>null</td><td>US</td></tr><tr><td>BD</td><td>Casey's</td><td>1100 5TH ST</td><td>LINCOLN</td><td>IL</td><td>62656</td><td>null</td><td>US</td></tr><tr><td>BD</td><td>Casey's</td><td>100 E STATE ST</td><td>POTOMAC</td><td>IL</td><td>61865</td><td>null</td><td>US</td></tr><tr><td>BD</td><td>Casey's</td><td>613 W PORTER ST</td><td>PALESTINE</td><td>IL</td><td>62451</td><td>null</td><td>US</td></tr><tr><td>BD</td><td>Casey's</td><td>703 E HOWARD ST</td><td>PONTIAC</td><td>IL</td><td>61764</td><td>null</td><td>US</td></tr><tr><td>BD</td><td>Casey's</td><td>306 N COURT ST</td><td>GRAYVILLE</td><td>IL</td><td>62844</td><td>null</td><td>US</td></tr><tr><td>BD</td><td>Casey's</td><td>101 MAIN ST</td><td>WAPELLA</td><td>IL</td><td>61777</td><td>null</td><td>US</td></tr><tr><td>BD</td><td>Casey's</td><td>1604 CHICAGO AVE</td><td>SAVANNA</td><td>IL</td><td>61074</td><td>null</td><td>US</td></tr><tr><td>BD</td><td>Casey's</td><td>602 MAIN ST</td><td>WARSAW</td><td>IL</td><td>62379</td><td>null</td><td>US</td></tr><tr><td>BD</td><td>Casey's</td><td>201 S MAIN ST</td><td>ALBION</td><td>IA</td><td>50005</td><td>null</td><td>US</td></tr><tr><td>BD</td><td>Casey's</td><td>205 BUCHANAN ST</td><td>CARTHAGE</td><td>IL</td><td>62321</td><td>null</td><td>US</td></tr><tr><td>BD</td><td>Casey's</td><td>2017 FOX CREEK RD</td><td>BLOOMINGTON</td><td>IL</td><td>61701</td><td>null</td><td>US</td></tr><tr><td>BD</td><td>Casey's</td><td>6124 W PLANK RD</td><td>BELLEVUE</td><td>IL</td><td>61604</td><td>null</td><td>US</td></tr><tr><td>BD</td><td>Casey's</td><td>940 S MAIN ST</td><td>CLAY CITY</td><td>IL</td><td>62824</td><td>null</td><td>US</td></tr><tr><td>BD</td><td>Casey's</td><td>501 N LONG ST</td><td>TOLONO</td><td>IL</td><td>61880</td><td>null</td><td>US</td></tr><tr><td>BD</td><td>Casey's</td><td>13023 W FARMINGTON RD</td><td>HANNA CITY</td><td>IL</td><td>61536</td><td>null</td><td>US</td></tr><tr><td>BD</td><td>Casey's</td><td>280 2ND AVE NW</td><td>WELLS</td><td>MN</td><td>56097</td><td>null</td><td>US</td></tr><tr><td>BD</td><td>Casey's</td><td>110 SPRINGFIELD ST</td><td>KINCAID</td><td>IL</td><td>62540</td><td>null</td><td>US</td></tr><tr><td>BD</td><td>Casey's</td><td>1102 N MAIN ST</td><td>BICKNELL</td><td>IN</td><td>47512</td><td>null</td><td>US</td></tr><tr><td>BD</td><td>Casey's</td><td>111 N OLD ROUTE 66</td><td>WILLIAMSVILLE</td><td>IL</td><td>62693</td><td>null</td><td>US</td></tr><tr><td>BD</td><td>Casey's</td><td>950 N STATE HWY 121</td><td>MT. ZION</td><td>IL</td><td>62549</td><td>null</td><td>US</td></tr><tr><td>BD</td><td>Casey's</td><td>3601 MAINE ST</td><td>QUINCY</td><td>IL</td><td>62305</td><td>null</td><td>US</td></tr><tr><td>BD</td><td>Casey's</td><td>100 N STATE ST</td><td>GREENVIEW</td><td>IL</td><td>62642</td><td>null</td><td>US</td></tr><tr><td>BD</td><td>Casey's</td><td>109 E OAK ST</td><td>FAIRBURY</td><td>IL</td><td>61739</td><td>null</td><td>US</td></tr><tr><td>BD</td><td>Casey's</td><td>200 W UNION ST</td><td>EDGEWOOD</td><td>IA</td><td>52042</td><td>null</td><td>US</td></tr><tr><td>BD</td><td>Casey's</td><td>112 S CHICAGO ST</td><td>ROSSVILLE</td><td>IL</td><td>60963</td><td>null</td><td>US</td></tr><tr><td>BD</td><td>Casey's</td><td>609 E 4TH ST</td><td>DELAVAN</td><td>IL</td><td>61734</td><td>null</td><td>US</td></tr><tr><td>BD</td><td>Casey's</td><td>209 N HAUGHTON HWY</td><td>GREENUP</td><td>IL</td><td>62428</td><td>null</td><td>US</td></tr><tr><td>BD</td><td>Casey's</td><td>257 MAIN ST S</td><td>WINNEBAGO</td><td>MN</td><td>56098</td><td>null</td><td>US</td></tr><tr><td>BD</td><td>Casey's</td><td>100 W JONES ST</td><td>MILFORD</td><td>IL</td><td>60953</td><td>null</td><td>US</td></tr><tr><td>BD</td><td>Casey's</td><td>715 W MAIN ST</td><td>JASONVILLE</td><td>IN</td><td>47438</td><td>null</td><td>US</td></tr><tr><td>BD</td><td>Casey's</td><td>317 S BUSINESS 51</td><td>ASSUMPTION</td><td>IL</td><td>62510</td><td>null</td><td>US</td></tr><tr><td>BD</td><td>Casey's</td><td>202 E FRANKLIN ST</td><td>HUDSON</td><td>IL</td><td>61748</td><td>null</td><td>US</td></tr><tr><td>BD</td><td>Casey's</td><td>310 S JACKSON ST</td><td>CERRO GORDO</td><td>IL</td><td>61818</td><td>null</td><td>US</td></tr><tr><td>BD</td><td>Casey's</td><td>506 S WOOD ST</td><td>MAROA</td><td>IL</td><td>61756</td><td>null</td><td>US</td></tr><tr><td>BD</td><td>Casey's</td><td>602 EAST ST</td><td>MAZON</td><td>IL</td><td>60444</td><td>null</td><td>US</td></tr><tr><td>BD</td><td>Casey's</td><td>5844 E FREELANDVILLE RD</td><td>OAKTOWN</td><td>IN</td><td>47561</td><td>null</td><td>US</td></tr><tr><td>BD</td><td>Casey's</td><td>101 W ELNORA ST</td><td>ODON</td><td>IN</td><td>47562</td><td>null</td><td>US</td></tr><tr><td>BD</td><td>Casey's</td><td>925 E MAIN ST</td><td>MOWEAQUA</td><td>IL</td><td>62550</td><td>null</td><td>US</td></tr><tr><td>BD</td><td>Casey's</td><td>505 E WOOD ST</td><td>CAMP POINT</td><td>IL</td><td>62320</td><td>null</td><td>US</td></tr><tr><td>BD</td><td>Casey's</td><td>201 SUNSET ST</td><td>URBANA</td><td>IA</td><td>52345</td><td>null</td><td>US</td></tr><tr><td>BD</td><td>Casey's</td><td>710 W CLEVELAND AVE</td><td>HEYWORTH</td><td>IL</td><td>61745</td><td>null</td><td>US</td></tr><tr><td>BD</td><td>Casey's</td><td>321 N MAIN ST</td><td>TOLUCA</td><td>IL</td><td>61369</td><td>null</td><td>US</td></tr><tr><td>BD</td><td>Casey's</td><td>1038 RIVER FOREST RD</td><td>EVANSDALE</td><td>IA</td><td>50707</td><td>null</td><td>US</td></tr><tr><td>BD</td><td>Casey's</td><td>705 N JEFFERSON ST</td><td>MASCOUTAH</td><td>IL</td><td>62258</td><td>null</td><td>US</td></tr><tr><td>BD</td><td>Casey's</td><td>1430 N CONVENT ST</td><td>BOURBONNAIS</td><td>IL</td><td>60914</td><td>null</td><td>US</td></tr><tr><td>BD</td><td>Casey's</td><td>525 E MORTON AVE</td><td>JACKSONVILLE</td><td>IL</td><td>62650</td><td>null</td><td>US</td></tr><tr><td>BD</td><td>Casey's</td><td>140 S MARKET ST</td><td>PAXTON</td><td>IL</td><td>60957</td><td>null</td><td>US</td></tr><tr><td>BD</td><td>Casey's</td><td>125 N 5TH AVE</td><td>CANTON</td><td>IL</td><td>61520</td><td>null</td><td>US</td></tr><tr><td>BD</td><td>Casey's</td><td>1301 S MAIN ST</td><td>NORMAL</td><td>IL</td><td>61761</td><td>null</td><td>US</td></tr><tr><td>BD</td><td>Casey's</td><td>1133 W JEFFERSON ST</td><td>SPRINGFIELD</td><td>IL</td><td>62702</td><td>null</td><td>US</td></tr><tr><td>BD</td><td>Casey's</td><td>401 N CHENEY ST</td><td>TAYLORVILLE</td><td>IL</td><td>62568</td><td>null</td><td>US</td></tr><tr><td>BD</td><td>Casey's</td><td>3001 E CLEAR LAKE AVE</td><td>SPRINGFIELD</td><td>IL</td><td>62702</td><td>null</td><td>US</td></tr><tr><td>BD</td><td>Casey's</td><td>617 SALEM RD</td><td>MT. VERNON</td><td>IL</td><td>62864</td><td>null</td><td>US</td></tr><tr><td>BD</td><td>Casey's</td><td>14475 SR-4</td><td>AUBURN</td><td>IL</td><td>62615</td><td>null</td><td>US</td></tr><tr><td>BD</td><td>Casey's</td><td>2101 S CENTER ST</td><td>MARYVILLE</td><td>IL</td><td>62062</td><td>null</td><td>US</td></tr><tr><td>BD</td><td>Casey's</td><td>1305 S MAIN ST</td><td>RED BUD</td><td>IL</td><td>62278</td><td>null</td><td>US</td></tr><tr><td>BD</td><td>Casey's</td><td>605 S ORCHARD ST</td><td>MACKINAW</td><td>IL</td><td>61755</td><td>null</td><td>US</td></tr><tr><td>BD</td><td>Casey's</td><td>215 E KNOXVILLE ST</td><td>BRIMFIELD</td><td>IL</td><td>61517</td><td>null</td><td>US</td></tr><tr><td>BD</td><td>Casey's</td><td>565 W MAIN ST</td><td>EL PASO</td><td>IL</td><td>61738</td><td>null</td><td>US</td></tr><tr><td>BD</td><td>Casey's</td><td>308 W MISSION ST</td><td>STRAWBERRY POINT</td><td>IA</td><td>52076</td><td>null</td><td>US</td></tr><tr><td>BD</td><td>Casey's</td><td>2100 E UNIVERSITY AVE</td><td>URBANA</td><td>IL</td><td>61802</td><td>null</td><td>US</td></tr><tr><td>BD</td><td>Casey's</td><td>1291 OLD BALDWIN RD</td><td>NEW ATHENS</td><td>IL</td><td>62264</td><td>null</td><td>US</td></tr><tr><td>BD</td><td>Casey's</td><td>217 E MAIN ST</td><td>MT. STERLING</td><td>IL</td><td>62353</td><td>null</td><td>US</td></tr><tr><td>BD</td><td>Casey's</td><td>292 E MAIN ST</td><td>PIGGOTT</td><td>AR</td><td>72454</td><td>null</td><td>US</td></tr><tr><td>BD</td><td>Casey's</td><td>330 N LOCUST ST</td><td>MANTENO</td><td>IL</td><td>60950</td><td>null</td><td>US</td></tr><tr><td>BD</td><td>Casey's</td><td>2920 S CARAWAY RD</td><td>JONESBORO</td><td>AR</td><td>72401</td><td>null</td><td>US</td></tr><tr><td>BD</td><td>Casey's</td><td>1906 3RD AVE SE</td><td>INDEPENDENCE</td><td>IA</td><td>50644</td><td>null</td><td>US</td></tr><tr><td>BD</td><td>Casey's</td><td>103 1ST ST</td><td>MARQUETTE</td><td>IA</td><td>52158</td><td>null</td><td>US</td></tr><tr><td>BD</td><td>Casey's</td><td>321 E WASHINGTON ST</td><td>PITTSFIELD</td><td>IL</td><td>62363</td><td>null</td><td>US</td></tr><tr><td>BD</td><td>Casey's</td><td>802 N TOPPER DR</td><td>MT. PULASKI</td><td>IL</td><td>62548</td><td>null</td><td>US</td></tr><tr><td>BD</td><td>Casey's</td><td>1800 S B AVE</td><td>NEVADA</td><td>IA</td><td>50201</td><td>null</td><td>US</td></tr><tr><td>BD</td><td>Casey's</td><td>2009 E NATIONAL HWY</td><td>WASHINGTON</td><td>IN</td><td>47501</td><td>null</td><td>US</td></tr><tr><td>BD</td><td>Casey's</td><td>440 EDWARDSVILLE RD</td><td>TROY</td><td>IL</td><td>62294</td><td>null</td><td>US</td></tr><tr><td>BD</td><td>Casey's</td><td>1324 E JACKSON ST</td><td>MACOMB</td><td>IL</td><td>61455</td><td>null</td><td>US</td></tr><tr><td>BD</td><td>Casey's</td><td>906 N CHURCH ST</td><td>ATKINS</td><td>AR</td><td>72823</td><td>null</td><td>US</td></tr><tr><td>BD</td><td>Casey's</td><td>700 E SOUTH ST</td><td>ATLANTA</td><td>IL</td><td>61723</td><td>null</td><td>US</td></tr><tr><td>BD</td><td>Casey's</td><td>11 ONE STOP DR</td><td>NEW BADEN</td><td>IL</td><td>62265</td><td>null</td><td>US</td></tr><tr><td>BD</td><td>Casey's</td><td>309 S DIVISION ST</td><td>HARVARD</td><td>IL</td><td>60033</td><td>null</td><td>US</td></tr><tr><td>BD</td><td>Casey's</td><td>7815 N RTE 91</td><td>PEORIA</td><td>IL</td><td>61615</td><td>null</td><td>US</td></tr><tr><td>BD</td><td>Casey's</td><td>730 DIXIE HWY</td><td>BEECHER</td><td>IL</td><td>60401</td><td>null</td><td>US</td></tr><tr><td>BD</td><td>Casey's</td><td>2314 W MAIN ST</td><td>MARION</td><td>IL</td><td>62959</td><td>null</td><td>US</td></tr><tr><td>BD</td><td>Casey's</td><td>111 MARQUETTE PL S</td><td>MANTENO</td><td>IL</td><td>60950</td><td>null</td><td>US</td></tr><tr><td>BD</td><td>Casey's</td><td>721 W STANFORD AVE</td><td>SPRINGFIELD</td><td>IL</td><td>62704</td><td>null</td><td>US</td></tr><tr><td>BD</td><td>Casey's</td><td>1803 W COURT ST</td><td>PARAGOULD</td><td>AR</td><td>72450</td><td>null</td><td>US</td></tr><tr><td>BD</td><td>Casey's</td><td>631 N MAIN ST</td><td>HARRISBURG</td><td>IL</td><td>62946</td><td>null</td><td>US</td></tr><tr><td>BD</td><td>Casey's</td><td>500 NORTH AVE</td><td>NORWALK</td><td>IA</td><td>50211</td><td>null</td><td>US</td></tr><tr><td>BD</td><td>Casey's</td><td>2222 E MAIN ST</td><td>ALBERT LEA</td><td>MN</td><td>56007</td><td>null</td><td>US</td></tr><tr><td>BD</td><td>Casey's</td><td>800 E CLINTON AVE</td><td>FARMER CITY</td><td>IL</td><td>61842</td><td>null</td><td>US</td></tr><tr><td>BD</td><td>Casey's</td><td>400 WOODLAND KNOLLS RD</td><td>GERMANTOWN HILLS</td><td>IL</td><td>61548</td><td>null</td><td>US</td></tr><tr><td>BD</td><td>Casey's</td><td>10889 W RED GATES RD</td><td>GALENA</td><td>IL</td><td>61036</td><td>null</td><td>US</td></tr><tr><td>BD</td><td>Casey's</td><td>102 E BRADFORD ST</td><td>WEST UNION</td><td>IA</td><td>52175</td><td>null</td><td>US</td></tr><tr><td>BD</td><td>Casey's</td><td>2106 COURT ST</td><td>PEKIN</td><td>IL</td><td>61554</td><td>null</td><td>US</td></tr><tr><td>BD</td><td>Casey's</td><td>13140 FREMONT AVE</td><td>ZIMMERMAN</td><td>MN</td><td>55398</td><td>null</td><td>US</td></tr><tr><td>BD</td><td>Casey's</td><td>1002 SARPY ST</td><td>MORRISONVILLE</td><td>IL</td><td>62546</td><td>null</td><td>US</td></tr><tr><td>BD</td><td>Casey's</td><td>101 DETROIT AVE</td><td>MORTON</td><td>IL</td><td>61550</td><td>null</td><td>US</td></tr><tr><td>BD</td><td>Casey's</td><td>20750 IL ROUTE 125</td><td>VIRGINIA</td><td>IL</td><td>62691</td><td>null</td><td>US</td></tr><tr><td>BD</td><td>Casey's</td><td>762 HWY 55</td><td>MEDINA</td><td>MN</td><td>55340</td><td>null</td><td>US</td></tr><tr><td>BD</td><td>Casey's</td><td>421 N DIXIE HWY</td><td>MOMENCE</td><td>IL</td><td>60954</td><td>null</td><td>US</td></tr><tr><td>BD</td><td>Casey's</td><td>417 W WALNUT ST</td><td>WATSEKA</td><td>IL</td><td>60970</td><td>null</td><td>US</td></tr><tr><td>BD</td><td>Casey's</td><td>911 W MOUNT VERNON ST</td><td>METAMORA</td><td>IL</td><td>61548</td><td>null</td><td>US</td></tr><tr><td>BD</td><td>Casey's</td><td>1006 WOODLAWN RD</td><td>LINCOLN</td><td>IL</td><td>62656</td><td>null</td><td>US</td></tr><tr><td>BD</td><td>Casey's</td><td>74 MILL ST</td><td>CLERMONT</td><td>IA</td><td>52135</td><td>null</td><td>US</td></tr><tr><td>BD</td><td>Casey's</td><td>417 S CHESTNUT ST</td><td>LE ROY</td><td>IL</td><td>61752</td><td>null</td><td>US</td></tr><tr><td>BD</td><td>Casey's</td><td>639 E TERRA COTTA AVE</td><td>CRYSTAL LAKE</td><td>IL</td><td>60014</td><td>null</td><td>US</td></tr><tr><td>BD</td><td>Casey's</td><td>1003 W MAIN ST</td><td>WEST CITY</td><td>IL</td><td>62812</td><td>null</td><td>US</td></tr><tr><td>BD</td><td>Casey's</td><td>901 S MAIN ST</td><td>MONONA</td><td>IA</td><td>52159</td><td>null</td><td>US</td></tr><tr><td>BD</td><td>Casey's</td><td>101 FARMDALE RD</td><td>EAST PEORIA</td><td>IL</td><td>61611</td><td>null</td><td>US</td></tr><tr><td>BD</td><td>Casey's</td><td>314 E MAIN ST</td><td>FORRESTON</td><td>IL</td><td>61030</td><td>null</td><td>US</td></tr><tr><td>BD</td><td>Casey's</td><td>1930 US RTE 40</td><td>MULBERRY GROVE</td><td>IL</td><td>62262</td><td>null</td><td>US</td></tr><tr><td>BD</td><td>Casey's</td><td>905 E MAIN ST</td><td>CARBONDALE</td><td>IL</td><td>62901</td><td>null</td><td>US</td></tr><tr><td>BD</td><td>Casey's</td><td>503 E MAIN ST</td><td>OSAWATOMIE</td><td>KS</td><td>66064</td><td>null</td><td>US</td></tr><tr><td>BD</td><td>Casey's</td><td>1509 W MAIN ST</td><td>CORNING</td><td>AR</td><td>72422</td><td>null</td><td>US</td></tr><tr><td>BD</td><td>Casey's</td><td>121 N FLOYD AVE</td><td>HINTON</td><td>IA</td><td>51024</td><td>null</td><td>US</td></tr><tr><td>BD</td><td>Casey's</td><td>524 N MAIN ST</td><td>STONINGTON</td><td>IL</td><td>62567</td><td>null</td><td>US</td></tr><tr><td>BD</td><td>Casey's</td><td>2051 HWY 65 S</td><td>CLINTON</td><td>AR</td><td>72031</td><td>null</td><td>US</td></tr><tr><td>BD</td><td>Casey's</td><td>604 E CURRY AVE</td><td>SHELBURN</td><td>IN</td><td>47879</td><td>null</td><td>US</td></tr><tr><td>BD</td><td>Casey's</td><td>400 E DEYOUNG ST</td><td>MARION</td><td>IL</td><td>62959</td><td>null</td><td>US</td></tr><tr><td>BD</td><td>Casey's</td><td>620 W TILDEN ST</td><td>POSTVILLE</td><td>IA</td><td>52162</td><td>null</td><td>US</td></tr><tr><td>BD</td><td>Casey's</td><td>870 NE ALICE'S RD</td><td>WAUKEE</td><td>IA</td><td>50263</td><td>null</td><td>US</td></tr><tr><td>BD</td><td>Casey's</td><td>13406 W 151ST ST</td><td>OLATHE</td><td>KS</td><td>66062</td><td>null</td><td>US</td></tr><tr><td>BD</td><td>Casey's</td><td>302 N DEVOE ST</td><td>LONE TREE</td><td>IA</td><td>52755</td><td>null</td><td>US</td></tr><tr><td>BD</td><td>Casey's</td><td>111 E COX ST</td><td>FORSYTH</td><td>IL</td><td>62535</td><td>null</td><td>US</td></tr><tr><td>BD</td><td>Casey's</td><td>1701 HARRISON ST</td><td>BATESVILLE</td><td>AR</td><td>72501</td><td>null</td><td>US</td></tr><tr><td>BD</td><td>Casey's</td><td>209 W SOUTH ST</td><td>GREENE</td><td>IA</td><td>50636</td><td>null</td><td>US</td></tr><tr><td>BD</td><td>Casey's</td><td>9990 WOODLAND RD</td><td>LENEXA</td><td>KS</td><td>66220</td><td>null</td><td>US</td></tr><tr><td>BD</td><td>Casey's</td><td>4727 SOUTHERN HILLS DR</td><td>SIOUX CITY</td><td>IA</td><td>51106</td><td>null</td><td>US</td></tr><tr><td>BD</td><td>Casey's</td><td>501 MAIN ST</td><td>CLAY CITY</td><td>IN</td><td>47841</td><td>null</td><td>US</td></tr><tr><td>BD</td><td>Casey's</td><td>111 N 9TH ST</td><td>COLLINSVILLE</td><td>OK</td><td>74021</td><td>null</td><td>US</td></tr><tr><td>BD</td><td>Casey's</td><td>1466 S STATE RD 57</td><td>WASHINGTON</td><td>IN</td><td>47501</td><td>null</td><td>US</td></tr><tr><td>BD</td><td>Casey's</td><td>2009 N MILT PHILLIPS AVE</td><td>SEMINOLE</td><td>OK</td><td>74868</td><td>null</td><td>US</td></tr><tr><td>BD</td><td>Casey's</td><td>1112 W 4TH ST</td><td>VINTON</td><td>IA</td><td>52349</td><td>null</td><td>US</td></tr><tr><td>BD</td><td>Casey's</td><td>580 E VETERANS PKWY</td><td>YORKVILLE</td><td>IL</td><td>60560</td><td>null</td><td>US</td></tr><tr><td>BD</td><td>Casey's</td><td>401 W MAIN ST</td><td>WALNUT RIDGE</td><td>AR</td><td>72476</td><td>null</td><td>US</td></tr><tr><td>BD</td><td>Casey's</td><td>406 PENDLETON AVE</td><td>WELLSVILLE</td><td>KS</td><td>66092</td><td>null</td><td>US</td></tr><tr><td>BD</td><td>Casey's</td><td>506 5TH ST</td><td>LACON</td><td>IL</td><td>61540</td><td>null</td><td>US</td></tr><tr><td>BD</td><td>Casey's</td><td>1161 W STATE HWY 54</td><td>CLINTON</td><td>IL</td><td>61727</td><td>null</td><td>US</td></tr><tr><td>BD</td><td>Casey's</td><td>1032 4TH ST SW</td><td>WAVERLY</td><td>IA</td><td>50677</td><td>null</td><td>US</td></tr><tr><td>BD</td><td>Casey's</td><td>362 S MAIN ST</td><td>CAVE SPRINGS</td><td>AR</td><td>72718</td><td>null</td><td>US</td></tr><tr><td>BD</td><td>Casey's</td><td>601 S LOCUST ST</td><td>GLENWOOD</td><td>IA</td><td>51534</td><td>null</td><td>US</td></tr><tr><td>BD</td><td>Casey's</td><td>701 PENNSYLVANIA AVE</td><td>HARTSHORNE</td><td>OK</td><td>74547</td><td>null</td><td>US</td></tr><tr><td>BD</td><td>Casey's</td><td>500 WEST ST</td><td>TONGANOXIE</td><td>KS</td><td>66086</td><td>null</td><td>US</td></tr><tr><td>BD</td><td>Casey's</td><td>205 LINDQUIST ST</td><td>ONAMIA</td><td>MN</td><td>56359</td><td>null</td><td>US</td></tr><tr><td>BD</td><td>Casey's</td><td>1305 E SOUTH ST</td><td>MT. AYR</td><td>IA</td><td>50854</td><td>null</td><td>US</td></tr><tr><td>BD</td><td>Casey's</td><td>1925 S MAIN ST</td><td>MARYVILLE</td><td>MO</td><td>64468</td><td>null</td><td>US</td></tr><tr><td>BD</td><td>Casey's</td><td>1001 W BROADWAY ST</td><td>DRUMRIGHT</td><td>OK</td><td>74030</td><td>null</td><td>US</td></tr><tr><td>BD</td><td>Casey's</td><td>807 S BROADWAY</td><td>OAK GROVE</td><td>MO</td><td>64075</td><td>null</td><td>US</td></tr><tr><td>BD</td><td>Casey's</td><td>1175 S GEORGE NIGH EXPY</td><td>MCALESTER</td><td>OK</td><td>74501</td><td>null</td><td>US</td></tr><tr><td>BD</td><td>Casey's</td><td>2101 FREEWAY BLVD</td><td>BROOKLYN CENTER</td><td>MN</td><td>55430</td><td>null</td><td>US</td></tr><tr><td>BD</td><td>Casey's</td><td>700 S 8TH ST</td><td>WEST DUNDEE</td><td>IL</td><td>60118</td><td>null</td><td>US</td></tr><tr><td>BD</td><td>Casey's</td><td>2040 S EASTWOOD DR</td><td>WOODSTOCK</td><td>IL</td><td>60098</td><td>null</td><td>US</td></tr><tr><td>BD</td><td>Casey's</td><td>1531 HIGHWAY 62 412</td><td>CHEROKEE VILLAGE</td><td>AR</td><td>72542</td><td>null</td><td>US</td></tr><tr><td>BD</td><td>Casey's</td><td>102 W TAYLOR ST</td><td>CRESTON</td><td>IA</td><td>50801</td><td>null</td><td>US</td></tr><tr><td>BD</td><td>Casey's</td><td>1305 W COMMERCIAL ST</td><td>MANCHESTER</td><td>IA</td><td>52057</td><td>null</td><td>US</td></tr><tr><td>BD</td><td>Casey's</td><td>1232 N 4TH ST</td><td>CHILLICOTHE</td><td>IL</td><td>61523</td><td>null</td><td>US</td></tr><tr><td>BD</td><td>Casey's</td><td>2620 E BEEBE CAPPS EXPY</td><td>SEARCY</td><td>AR</td><td>72143</td><td>null</td><td>US</td></tr><tr><td>BD</td><td>Casey's</td><td>1900 W RIDGEWAY AVE</td><td>WATERLOO</td><td>IA</td><td>50701</td><td>null</td><td>US</td></tr><tr><td>BD</td><td>Casey's</td><td>15246 BLUEBIRD ST NW</td><td>ANDOVER</td><td>MN</td><td>55304</td><td>null</td><td>US</td></tr><tr><td>BD</td><td>Casey's</td><td>1306 SE 3RD ST</td><td>ALEDO</td><td>IL</td><td>61231</td><td>null</td><td>US</td></tr><tr><td>BD</td><td>Casey's</td><td>23485 COUNTY RD E34</td><td>ANAMOSA</td><td>IA</td><td>52205</td><td>null</td><td>US</td></tr><tr><td>BD</td><td>Casey's</td><td>1725 PJ KELLER HWY</td><td>LEXINGTON</td><td>IL</td><td>61753</td><td>null</td><td>US</td></tr><tr><td>BD</td><td>Casey's</td><td>102 W HIGHWAY 33</td><td>PERKINS</td><td>OK</td><td>74059</td><td>null</td><td>US</td></tr><tr><td>BD</td><td>Casey's</td><td>3200 SW 9TH ST</td><td>DES MOINES</td><td>IA</td><td>50315</td><td>null</td><td>US</td></tr><tr><td>BD</td><td>Casey's</td><td>716 3RD AVE E</td><td>ALEXANDRIA</td><td>MN</td><td>56308</td><td>null</td><td>US</td></tr><tr><td>BD</td><td>Casey's</td><td>2105 E WASHINGTON ST</td><td>MT. PLEASANT</td><td>IA</td><td>52641</td><td>null</td><td>US</td></tr><tr><td>BD</td><td>Casey's</td><td>39131 N SHERIDAN RD</td><td>BEACH PARK</td><td>IL</td><td>60099</td><td>null</td><td>US</td></tr><tr><td>BD</td><td>Casey's</td><td>1011 STATE ST</td><td>MOUND CITY</td><td>MO</td><td>64470</td><td>null</td><td>US</td></tr><tr><td>BD</td><td>Casey's</td><td>7601 LAKE DR</td><td>LINO LAKES</td><td>MN</td><td>55014</td><td>null</td><td>US</td></tr><tr><td>BD</td><td>Casey's</td><td>503 NW BARRY RD</td><td>KS CITY</td><td>MO</td><td>64155</td><td>null</td><td>US</td></tr><tr><td>BD</td><td>Casey's</td><td>1914 NW WOODS CHAPEL RD</td><td>BLUE SPRINGS</td><td>MO</td><td>64015</td><td>null</td><td>US</td></tr><tr><td>BD</td><td>Casey's</td><td>912 S DIXIE HIGHWAY</td><td>HOOPESTON</td><td>IL</td><td>60942</td><td>null</td><td>US</td></tr><tr><td>BD</td><td>Casey's</td><td>245 S HIGHWAY 965</td><td>NORTH LIBERTY</td><td>IA</td><td>52317</td><td>null</td><td>US</td></tr><tr><td>BD</td><td>Casey's</td><td>406 HIGHWAY 3</td><td>MARCUS</td><td>IA</td><td>51035</td><td>null</td><td>US</td></tr><tr><td>BD</td><td>Casey's</td><td>1419 HAMILTON BLVD</td><td>SIOUX CITY</td><td>IA</td><td>51103</td><td>null</td><td>US</td></tr><tr><td>BD</td><td>Casey's</td><td>600 E 14TH ST</td><td>DES MOINES</td><td>IA</td><td>50309</td><td>null</td><td>US</td></tr><tr><td>BD</td><td>Casey's</td><td>2601 E LINCOLN HWY</td><td>NEW LENOX</td><td>IL</td><td>60451</td><td>null</td><td>US</td></tr><tr><td>BD</td><td>Casey's</td><td>200 E GRANT HWY</td><td>MARENGO</td><td>IL</td><td>60152</td><td>null</td><td>US</td></tr><tr><td>BD</td><td>Casey's</td><td>8051 N. BRIGHTON AVE</td><td>KS CITY</td><td>MO</td><td>64119</td><td>null</td><td>US</td></tr><tr><td>BD</td><td>Casey's</td><td>3401 INGERSOLL AVE</td><td>DES MOINES</td><td>IA</td><td>50312</td><td>null</td><td>US</td></tr><tr><td>BD</td><td>Casey's</td><td>100 E MAIN ST</td><td>FLIPPIN</td><td>AR</td><td>72634</td><td>null</td><td>US</td></tr><tr><td>BD</td><td>Casey's</td><td>840 BATESVILLE BLVD</td><td>BATESVILLE</td><td>AR</td><td>72501</td><td>null</td><td>US</td></tr><tr><td>BD</td><td>Casey's</td><td>4139 CENTRAL AVE</td><td>HOT SPRINGS</td><td>AR</td><td>71913</td><td>null</td><td>US</td></tr><tr><td>BD</td><td>Casey's</td><td>2301 N REYNOLDS RD</td><td>BRYANT</td><td>AR</td><td>72022</td><td>null</td><td>US</td></tr><tr><td>BD</td><td>Casey's</td><td>8101 STAGECOACH RD</td><td>LITTLE ROCK</td><td>AR</td><td>72210</td><td>null</td><td>US</td></tr><tr><td>BD</td><td>Casey's</td><td>5420 W 12TH ST</td><td>LITTLE ROCK</td><td>AR</td><td>72204</td><td>null</td><td>US</td></tr><tr><td>BD</td><td>Casey's</td><td>3615 E KIEHL AVE</td><td>SHERWOOD</td><td>AR</td><td>72120</td><td>null</td><td>US</td></tr><tr><td>BD</td><td>Casey's</td><td>10340 HIGHWAY 107</td><td>SHERWOOD</td><td>AR</td><td>72120</td><td>null</td><td>US</td></tr><tr><td>BD</td><td>Casey's</td><td>3401 JOHN F KENNEDY BLVD</td><td>NORTH LITTLE ROCK</td><td>AR</td><td>72116</td><td>null</td><td>US</td></tr><tr><td>BD</td><td>Casey's</td><td>160 E. FIRST SOUTH ST</td><td>CHEBANSE</td><td>IL</td><td>60922</td><td>null</td><td>US</td></tr><tr><td>BD</td><td>Casey's</td><td>3325 OAK ST</td><td>BRAINERD</td><td>MN</td><td>56401</td><td>null</td><td>US</td></tr><tr><td>BD</td><td>Casey's</td><td>17977 STATE HIGHWAY 371</td><td>BRAINERD</td><td>MN</td><td>56401</td><td>null</td><td>US</td></tr><tr><td>BD</td><td>Casey's</td><td>7295 UNIVERSITY AVENUE NE</td><td>FRIDLEY</td><td>MN</td><td>55432</td><td>null</td><td>US</td></tr><tr><td>BD</td><td>Casey's</td><td>1402 E MAIN ST</td><td>CUSHING</td><td>OK</td><td>74023</td><td>null</td><td>US</td></tr><tr><td>BD</td><td>Casey's</td><td>1192 5TH ST</td><td>CARROLLTON</td><td>IL</td><td>62016</td><td>null</td><td>US</td></tr><tr><td>BD</td><td>Casey's</td><td>814 C AVE</td><td>VINTON</td><td>IA</td><td>52349</td><td>null</td><td>US</td></tr><tr><td>BD</td><td>Casey's</td><td>700 3RD AVENUE S</td><td>WANAMINGO</td><td>MN</td><td>55983</td><td>null</td><td>US</td></tr><tr><td>BD</td><td>Casey's</td><td>1204 1ST ST</td><td>PALO</td><td>IA</td><td>52324</td><td>null</td><td>US</td></tr><tr><td>BD</td><td>Casey's</td><td>10303 LEAVENWORTH ROAD</td><td>KS CITY</td><td>KS</td><td>66109</td><td>null</td><td>US</td></tr><tr><td>BD</td><td>Casey's</td><td>6316 N HIGHWAY 9</td><td>PARKVILLE</td><td>MO</td><td>64152</td><td>null</td><td>US</td></tr><tr><td>BD</td><td>Casey's</td><td>3005 E RAND RD</td><td>ARLINGTON HEIGHTS</td><td>IL</td><td>60004</td><td>null</td><td>US</td></tr><tr><td>BD</td><td>Casey's</td><td>800 W OAKTON ST</td><td>DES PLAINES</td><td>IL</td><td>60018</td><td>null</td><td>US</td></tr><tr><td>BD</td><td>Casey's</td><td>9701 MILWAUKEE AVE</td><td>DES PLAINES</td><td>IL</td><td>60016</td><td>null</td><td>US</td></tr><tr><td>BD</td><td>Casey's</td><td>6401 N CICERO AVE</td><td>LINCOLNWOOD</td><td>IL</td><td>60712</td><td>null</td><td>US</td></tr><tr><td>BD</td><td>Casey's</td><td>1228 E DUNDEE RD</td><td>PALATINE</td><td>IL</td><td>60074</td><td>null</td><td>US</td></tr><tr><td>BD</td><td>Casey's</td><td>1601 E ALGONQUIN RD</td><td>SCHAUMBURG</td><td>IL</td><td>60173</td><td>null</td><td>US</td></tr><tr><td>BD</td><td>Casey's</td><td>2580 SKOKIE VALLEY RD</td><td>HIGHLAND PARK</td><td>IL</td><td>60035</td><td>null</td><td>US</td></tr><tr><td>BD</td><td>Casey's</td><td>1000 SHERIDAN RD</td><td>HIGHWOOD</td><td>IL</td><td>60040</td><td>null</td><td>US</td></tr><tr><td>BD</td><td>Casey's</td><td>650 S RAND RD</td><td>LAKE ZURICH</td><td>IL</td><td>60047</td><td>null</td><td>US</td></tr><tr><td>BD</td><td>Casey's</td><td>1225 DEVON AVE</td><td>BENSENVILLE</td><td>IL</td><td>60106</td><td>null</td><td>US</td></tr><tr><td>BD</td><td>Casey's</td><td>1600 NERGE RD</td><td>ELK GROVE VILLAGE</td><td>IL</td><td>60007</td><td>null</td><td>US</td></tr><tr><td>BD</td><td>Casey's</td><td>1 W GOLF RD</td><td>HOFFMAN ESTATES</td><td>IL</td><td>60169</td><td>null</td><td>US</td></tr><tr><td>BD</td><td>Casey's</td><td>615 W HIGGINS RD</td><td>HOFFMAN ESTATES</td><td>IL</td><td>60169</td><td>null</td><td>US</td></tr><tr><td>BD</td><td>Casey's</td><td>780 E SCHAUMBURG RD</td><td>SCHAUMBURG</td><td>IL</td><td>60194</td><td>null</td><td>US</td></tr><tr><td>BD</td><td>Casey's</td><td>1530 W SCHAUMBURG RD</td><td>SCHAUMBURG</td><td>IL</td><td>60194</td><td>null</td><td>US</td></tr><tr><td>BD</td><td>Casey's</td><td>2 IL ROUTE 59</td><td>STREAMWOOD</td><td>IL</td><td>60107</td><td>null</td><td>US</td></tr><tr><td>BD</td><td>Casey's</td><td>900 S IL ROUTE 59</td><td>BARTLETT</td><td>IL</td><td>60103</td><td>null</td><td>US</td></tr><tr><td>BD</td><td>Casey's</td><td>2181 63RD ST</td><td>DOWNERS GROVE</td><td>IL</td><td>60516</td><td>null</td><td>US</td></tr><tr><td>BD</td><td>Casey's</td><td>1000 N YORK ST</td><td>ELMHURST</td><td>IL</td><td>60126</td><td>null</td><td>US</td></tr><tr><td>BD</td><td>Casey's</td><td>1202 BLOOMINGDALE RD</td><td>GLENDALE HEIGHTS</td><td>IL</td><td>60139</td><td>null</td><td>US</td></tr><tr><td>BD</td><td>Casey's</td><td>20 E OGDEN AVE</td><td>NAPERVILLE</td><td>IL</td><td>60563</td><td>null</td><td>US</td></tr><tr><td>BD</td><td>Casey's</td><td>1420 E OGDEN AVE</td><td>NAPERVILLE</td><td>IL</td><td>60563</td><td>null</td><td>US</td></tr><tr><td>BD</td><td>Casey's</td><td>1000 N WOOD DALE RD</td><td>WOOD DALE</td><td>IL</td><td>60191</td><td>null</td><td>US</td></tr><tr><td>BD</td><td>Casey's</td><td>30 S MCLEAN BLVD</td><td>SOUTH ELGIN</td><td>IL</td><td>60177</td><td>null</td><td>US</td></tr><tr><td>BD</td><td>Casey's</td><td>820 WARNER ST</td><td>HAMPSHIRE</td><td>IL</td><td>60140</td><td>null</td><td>US</td></tr><tr><td>BD</td><td>Casey's</td><td>724 MAIN ST</td><td>MEREDOSIA</td><td>IL</td><td>62665</td><td>null</td><td>US</td></tr><tr><td>BD</td><td>Casey's</td><td>764 E PANCAKE BLVD</td><td>LIBERAL</td><td>KS</td><td>67901</td><td>null</td><td>US</td></tr><tr><td>BD</td><td>Casey's</td><td>10807 N COUNCIL RD</td><td>OK CITY</td><td>OK</td><td>73162</td><td>null</td><td>US</td></tr><tr><td>BD</td><td>Casey's</td><td>19251 N PENN AVE</td><td>OK CITY</td><td>OK</td><td>73012</td><td>null</td><td>US</td></tr><tr><td>BD</td><td>Casey's</td><td>3704 S NAPPANEE ST</td><td>ELKHART</td><td>IN</td><td>46517</td><td>null</td><td>US</td></tr><tr><td>BD</td><td>Casey's</td><td>120 S 90TH ST</td><td>LINCOLN</td><td>NE</td><td>68520</td><td>null</td><td>US</td></tr><tr><td>BD</td><td>Casey's</td><td>1703 W 6TH ST</td><td>LAWRENCE</td><td>KS</td><td>66044</td><td>null</td><td>US</td></tr><tr><td>BD</td><td>Clean Energy - Altoona Flying J #913</td><td>3231 Adventureland Dr</td><td>Altoona</td><td>IA</td><td>50009</td><td>null</td><td>US</td></tr><tr><td>BD</td><td>Flying J Pilot Travel Center #1012</td><td>1300 N Grand Ave</td><td>Mt. Pleasant</td><td>IA</td><td>52641</td><td>null</td><td>US</td></tr><tr><td>BD</td><td>Flying J Pilot Travel Center #636</td><td>8200 NW Blvd</td><td>Davenport</td><td>IA</td><td>52806</td><td>null</td><td>US</td></tr><tr><td>BD</td><td>Flying J Pilot Travel Center #637</td><td>445 Evansdale Dr</td><td>Evansdale</td><td>IA</td><td>50707</td><td>null</td><td>US</td></tr><tr><td>BD</td><td>Flying J Pilot Travel Center #407</td><td>2411 US Hwy 18 E</td><td>Clear Lake</td><td>IA</td><td>50428</td><td>null</td><td>US</td></tr><tr><td>BD</td><td>Flying J Pilot Travel Center #893</td><td>7005 N Chestnut St</td><td>Avoca</td><td>IA</td><td>51521</td><td>null</td><td>US</td></tr><tr><td>BD</td><td>Flying J Pilot Travel Center #1092</td><td>8950 Earhart Ln SW</td><td>Cedar Rapids</td><td>IA</td><td>52404</td><td>null</td><td>US</td></tr><tr><td>BD</td><td>Flying J Pilot Travel Center #329</td><td>2647 S 24th St</td><td>Council Bluffs</td><td>IA</td><td>51501</td><td>null</td><td>US</td></tr><tr><td>BD</td><td>Flying J Pilot Travel Center #572</td><td>3040 220th St</td><td>Williams</td><td>IA</td><td>50271</td><td>null</td><td>US</td></tr><tr><td>BD</td><td>Flying J Pilot Travel Center #594</td><td>2815 Singing Hills Blvd</td><td>Sioux City</td><td>IA</td><td>51111</td><td>null</td><td>US</td></tr><tr><td>BD</td><td>Flying J Pilot Travel Center #238</td><td>2495 210th Ave</td><td>Percival</td><td>IA</td><td>51648</td><td>null</td><td>US</td></tr><tr><td>BD</td><td>Flying J Pilot Travel Center #131</td><td>2010 W Clay St</td><td>Osceola</td><td>IA</td><td>50213</td><td>null</td><td>US</td></tr><tr><td>BD</td><td>Flying J Pilot Travel Center #373</td><td>11957 Douglas Avenue</td><td>Des Moines</td><td>IA</td><td>50322</td><td>null</td><td>US</td></tr><tr><td>BD</td><td>Flying J Pilot Travel Center #495</td><td>4126 Hwy 21</td><td>Brooklyn</td><td>IA</td><td>52211</td><td>null</td><td>US</td></tr><tr><td>BD</td><td>Flying J ONE9 Travel Center #496</td><td>2086 Atalissa Rd</td><td>Atalissa</td><td>IA</td><td>52720</td><td>null</td><td>US</td></tr><tr><td>BD</td><td>Flying J Pilot Travel Center #268</td><td>2975 N Plainview Rd</td><td>Walcott</td><td>IA</td><td>52773</td><td>null</td><td>US</td></tr><tr><td>BD</td><td>Flying J Pilot Travel Center #43</td><td>3500 North Plainview Rd</td><td>Walcott</td><td>IA</td><td>52773</td><td>null</td><td>US</td></tr><tr><td>BD</td><td>Power Mart</td><td>572 W Lake St</td><td>Elmhurst</td><td>IL</td><td>60126</td><td>null</td><td>US</td></tr><tr><td>BD</td><td>National Petroleum</td><td>5799 Mowry Ave</td><td>Newark</td><td>CA</td><td>94560</td><td>null</td><td>US</td></tr></tbody></table></div>"
      ]
     },
     "metadata": {
      "application/vnd.databricks.v1+output": {
       "addedWidgets": {},
       "aggData": [],
       "aggError": "",
       "aggOverflow": false,
       "aggSchema": [],
       "aggSeriesLimitReached": false,
       "aggType": "",
       "arguments": {},
       "columnCustomDisplayInfos": {},
       "data": [
        [
         "BD",
         "Dr. Dan's Alternative Fuels Werks",
         "912 NW 50th St",
         "Seattle",
         "WA",
         "98107",
         null,
         "US"
        ],
        [
         "BD",
         "Currituck County - North Carolina DOT",
         "NC-1246",
         "Maple",
         "NC",
         "27956",
         null,
         "US"
        ],
        [
         "BD",
         "Person County - North Carolina DOT",
         "517 Leasburg Rd",
         "Roxboro",
         "NC",
         "27574",
         null,
         "US"
        ],
        [
         "BD",
         "Durham County - North Carolina DOT",
         "3910 Guess Rd",
         "Durham",
         "NC",
         "27705",
         null,
         "US"
        ],
        [
         "BD",
         "Granville County - North Carolina DOT",
         "5677 Cornwall Rd",
         "Oxford",
         "NC",
         "27565",
         null,
         "US"
        ],
        [
         "BD",
         "Franklin County - North Carolina DOT",
         "NC 39 Highway S",
         "Bunn",
         "NC",
         "27508",
         null,
         "US"
        ],
        [
         "BD",
         "Vance County - North Carolina DOT",
         "465 Gillburg Rd",
         "Henderson",
         "NC",
         "27537",
         null,
         "US"
        ],
        [
         "BD",
         "Warren County - North Carolina DOT",
         "State Route 1001",
         "Warrenton",
         "NC",
         "27589",
         null,
         "US"
        ],
        [
         "BD",
         "Wake County Method Shop - North Carolina DOT",
         "1301 Blue Ridge Rd",
         "Raleigh",
         "NC",
         "27607",
         null,
         "US"
        ],
        [
         "BD",
         "Guilford County - North Carolina DOT",
         "Sandy Camp Rd",
         "High Point",
         "NC",
         "27265",
         null,
         "US"
        ],
        [
         "BD",
         "Cabarrus County - North Carolina DOT",
         "State Route 2604",
         "Mt. Pleasant",
         "NC",
         "28124",
         null,
         "US"
        ],
        [
         "BD",
         "Gaston County - North Carolina DOT",
         "1301 Dallas Cherryville Hwy",
         "Dallas",
         "NC",
         "28034",
         null,
         "US"
        ],
        [
         "BD",
         "Lincoln County - North Carolina DOT",
         "499 Prison Camp Rd",
         "Lincolnton",
         "NC",
         "28092",
         null,
         "US"
        ],
        [
         "BD",
         "Alexander County - North Carolina DOT",
         "2370 Highway 90 E",
         "Taylorsville",
         "NC",
         "28681",
         null,
         "US"
        ],
        [
         "BD",
         "Catawba County - North Carolina DOT",
         "1302 Prison Camp Rd",
         "Newton",
         "NC",
         "28658",
         null,
         "US"
        ],
        [
         "BD",
         "Forsyth County - North Carolina DOT",
         "399 Craft Dr",
         "Winston-Salem",
         "NC",
         "27105",
         null,
         "US"
        ],
        [
         "BD",
         "Union County - North Carolina DOT",
         "US-74",
         "Monroe",
         "NC",
         "28112",
         null,
         "US"
        ],
        [
         "BD",
         "Mecklenburg County - North Carolina DOT",
         "6820 Rozzelles Ferry Rd",
         "Charlotte",
         "NC",
         "28214",
         null,
         "US"
        ],
        [
         "BD",
         "Cleveland County - North Carolina DOT",
         "254 Kemper Rd",
         "Shelby",
         "NC",
         "28152",
         null,
         "US"
        ],
        [
         "BD",
         "Iredell County - North Carolina DOT",
         "124 Prison Camp Rd",
         "Statesville",
         "NC",
         "28625",
         null,
         "US"
        ],
        [
         "BD",
         "University of Michigan",
         "1213 Kipke Dr",
         "Ann Arbor",
         "MI",
         "48109",
         null,
         "US"
        ],
        [
         "BD",
         "University of Michigan",
         "3256 Baxter Rd",
         "Ann Arbor",
         "MI",
         "48109",
         null,
         "US"
        ],
        [
         "BD",
         "City of Keene",
         "330 Marlboro Rd",
         "Keene",
         "NH",
         "3431",
         null,
         "US"
        ],
        [
         "BD",
         "Pearson Fuels Depot",
         "4067 El Cajon Blvd",
         "San Diego",
         "CA",
         "92105",
         null,
         "US"
        ],
        [
         "BD",
         "Shoco Oil",
         "5135 E 74th Ave",
         "Commerce City",
         "CO",
         "80022",
         null,
         "US"
        ],
        [
         "BD",
         "Travis Air Force Base",
         "611 Collins Dr",
         "Fairfield",
         "CA",
         "94535",
         null,
         "US"
        ],
        [
         "BD",
         "Peterson Air Force Base",
         "1143 Otis St",
         "Colorado Springs",
         "CO",
         "80914",
         null,
         "US"
        ],
        [
         "BD",
         "Jay's Garage",
         "734 SE 7th Ave",
         "Portland",
         "OR",
         "97214",
         null,
         "US"
        ],
        [
         "BD",
         "Mecklenburg County - North Carolina DOT",
         "12033-A E Independence Blvd",
         "Matthews",
         "NC",
         "28105",
         null,
         "US"
        ],
        [
         "BD",
         "Dal Soglio Sinclair",
         "7398 S 700 W",
         "Midvale",
         "UT",
         "84047",
         null,
         "US"
        ],
        [
         "BD",
         "Western States Petroleum",
         "450 S 15th Ave",
         "Phoenix",
         "AZ",
         "85007",
         null,
         "US"
        ],
        [
         "BD",
         "Kennedy Space Center",
         "C & 3rd St",
         "Kennedy Space Center",
         "FL",
         "32899",
         null,
         "US"
        ],
        [
         "BD",
         "Glenn Research Center",
         "5577 Taylor Rd",
         "Cleveland",
         "OH",
         "44135",
         null,
         "US"
        ],
        [
         "BD",
         "South Carolina Department of Transportation - Aiken",
         "1931 University Pkwy",
         "Aiken",
         "SC",
         "29801",
         null,
         "US"
        ],
        [
         "BD",
         "South Carolina Department of Transportation - Orangeburg",
         "1768 Charleston Hwy",
         "Orangeburg",
         "SC",
         "29115",
         null,
         "US"
        ],
        [
         "BD",
         "South Carolina Department of Transportation - Newberry",
         "203 Mount Bethel Garmany Rd",
         "Newberry",
         "SC",
         "29108",
         null,
         "US"
        ],
        [
         "BD",
         "South Carolina Department of Transportation - St. George",
         "5225 E Jim Bilton Blvd",
         "St. George",
         "SC",
         "29477",
         null,
         "US"
        ],
        [
         "BD",
         "South Carolina Department of Transportation - Richland",
         "7201 Fairfield Rd",
         "Columbia",
         "SC",
         "29203",
         null,
         "US"
        ],
        [
         "BD",
         "South Carolina Department of Transportation - Equipment Depot",
         "1424 Shop Rd",
         "Columbia",
         "SC",
         "29208",
         null,
         "US"
        ],
        [
         "BD",
         "Santee Cooper Transportation Services",
         "1 Riverwood Dr",
         "Moncks Corner",
         "SC",
         "29461",
         null,
         "US"
        ],
        [
         "BD",
         "BioFuel Oasis",
         "1441 Ashby Ave",
         "Berkeley",
         "CA",
         "94702",
         null,
         "US"
        ],
        [
         "BD",
         "SeQuential Biofuels",
         "86714 McVay Hwy",
         "Eugene",
         "OR",
         "97405",
         null,
         "US"
        ],
        [
         "BD",
         "Star Oilco - SeQuential Biofuels",
         "232 Middlefield Rd",
         "Portland",
         "OR",
         "97211",
         null,
         "US"
        ],
        [
         "BD",
         "John Ray & Sons",
         "2900 6th Ave",
         "Troy",
         "NY",
         "12180",
         null,
         "US"
        ],
        [
         "BD",
         "Bonneville Power Administration",
         "5411 NE Highway 99",
         "Vancouver",
         "WA",
         "98663",
         null,
         "US"
        ],
        [
         "BD",
         "University of South Florida",
         "13327 USF Plum Dr",
         "Tampa",
         "FL",
         "33620",
         null,
         "US"
        ],
        [
         "BD",
         "Joint Base Anacostia Bolling",
         "365 Thomas Rd",
         "Washington",
         "DC",
         "20373",
         null,
         "US"
        ],
        [
         "BD",
         "Robins Air Force Base",
         "640 2nd St",
         "Macon",
         "GA",
         "31098",
         null,
         "US"
        ],
        [
         "BD",
         "National Institutes of Health",
         "9000 Rockville Pike",
         "Bethesda",
         "MD",
         "20892",
         null,
         "US"
        ],
        [
         "BD",
         "Nellis Air Force Base",
         "6197 Depot Rd",
         "Las Vegas",
         "NV",
         "89191",
         null,
         "US"
        ],
        [
         "BD",
         "Davis Monthan Air Force Base",
         "4655 S Flightline Rd",
         "Tucson",
         "AZ",
         "85707",
         null,
         "US"
        ],
        [
         "BD",
         "Laughlin Air Force Base",
         "54 Arkansas St",
         "Laughlin AFB",
         "TX",
         "78843",
         null,
         "US"
        ],
        [
         "BD",
         "McChord Air Force Base",
         "930 Tacoma Ave S",
         "Tacoma",
         "WA",
         "98438",
         null,
         "US"
        ],
        [
         "BD",
         "Carl's Junior 76 Station",
         "2140 N Nimitz Hwy",
         "Honolulu",
         "HI",
         "96819",
         null,
         "US"
        ],
        [
         "BD",
         "Leathers - Portland",
         "18145 SE Division",
         "Portland",
         "OR",
         "97236",
         null,
         "US"
        ],
        [
         "BD",
         "Bretthauer Oil - Pacific Pride",
         "2125 NE Cumulus Ave",
         "McMinnville",
         "OR",
         "97128",
         null,
         "US"
        ],
        [
         "BD",
         "Snohomish Co-op",
         "168 Lincoln Ave",
         "Snohomish",
         "WA",
         "98290",
         null,
         "US"
        ],
        [
         "BD",
         "Nevada National Security Site",
         "US-64",
         "Tres Piedras",
         "NM",
         "87577",
         null,
         "US"
        ],
        [
         "BD",
         "University of New Hampshire",
         "1 Leavitt Ln",
         "Durham",
         "NH",
         "3824",
         null,
         "US"
        ],
        [
         "BD",
         "Great Smoky Mountains National Park - Oconaluftee",
         "107 Park Headquarters Rd",
         "Gatlinburg",
         "TN",
         "28719",
         null,
         "US"
        ],
        [
         "BD",
         "Marine Corps Recruitment Depot - Parris Island",
         "Talasea St",
         "Beaufort",
         "SC",
         "29902",
         null,
         "US"
        ],
        [
         "BD",
         "Great Smoky Mountains National Park - Cades Cove",
         "Stillhouse Branch",
         "Townsend",
         "TN",
         "37882",
         null,
         "US"
        ],
        [
         "BD",
         "Star Oilco - Linnton Shell",
         "11330 NW St. Helens Rd",
         "Portland",
         "OR",
         "97231",
         null,
         "US"
        ],
        [
         "BD",
         "Star Oilco - Pacific Pride",
         "2528 SE Holgate Blvd",
         "Portland",
         "OR",
         "97202",
         null,
         "US"
        ],
        [
         "BD",
         "University of Florida",
         "1037 Magnolia Dr",
         "Gainesville",
         "FL",
         "32611",
         null,
         "US"
        ],
        [
         "BD",
         "Team Petroleum",
         "105 E Lincoln",
         "Fort Collins",
         "CO",
         "80524",
         null,
         "US"
        ],
        [
         "BD",
         "Pitt County - North Carolina DOT",
         "1811 N Greene St",
         "Greenville",
         "NC",
         "27834",
         null,
         "US"
        ],
        [
         "BD",
         "Burke County - North Carolina DOT",
         "2161 Mount Home Church Rd",
         "Morganton",
         "NC",
         "28655",
         null,
         "US"
        ],
        [
         "BD",
         "Rutherford County - North Carolina DOT",
         "909 Ledbetter Rd",
         "Spindale",
         "NC",
         "28160",
         null,
         "US"
        ],
        [
         "BD",
         "Mitchell County - North Carolina DOT",
         "942 Greenwood Rd",
         "Spruce Pine",
         "NC",
         "28777",
         null,
         "US"
        ],
        [
         "BD",
         "Yancey County - North Carolina DOT",
         "1115 Bakers Creek Rd",
         "Burnsville",
         "NC",
         "28714",
         null,
         "US"
        ],
        [
         "BD",
         "Buncombe County - North Carolina DOT",
         "11 Old Charlotte Hwy",
         "Asheville",
         "NC",
         "28803",
         null,
         "US"
        ],
        [
         "BD",
         "McDowell County - North Carolina DOT",
         "NC-226 S",
         "Bakersville",
         "NC",
         "28752",
         null,
         "US"
        ],
        [
         "BD",
         "Goddard Space Flight Center",
         "8800 Greenbelt Rd",
         "Greenbelt",
         "MD",
         "20771",
         null,
         "US"
        ],
        [
         "BD",
         "TH Malloy and Sons",
         "106 Scott Rd",
         "Cumberland",
         "RI",
         "2864",
         null,
         "US"
        ],
        [
         "BD",
         "Woolley Fuel Co",
         "12 Burnett Ave",
         "Maplewood",
         "NJ",
         "7040",
         null,
         "US"
        ],
        [
         "BD",
         "Luke Air Force Base",
         "14160 Marauder St",
         "Glendale",
         "AZ",
         "85309",
         null,
         "US"
        ],
        [
         "BD",
         "Jet Propulsion Laboratory",
         "4800 Oak Grove Dr",
         "Pasadena",
         "CA",
         "91109",
         null,
         "US"
        ],
        [
         "BD",
         "Miramar Marine Corps Air Station",
         "Bauer Rd & Gonsalves Ave",
         "San Diego",
         "CA",
         "92126",
         null,
         "US"
        ],
        [
         "BD",
         "Camp Lejeune Marine Corps Base",
         "1070 Michael Rd",
         "Camp Lejeune",
         "NC",
         "28542",
         null,
         "US"
        ],
        [
         "BD",
         "Cherry Point Marine Corps Air Station",
         "Curtis & 2nd Ave",
         "Cherry Point",
         "NC",
         "28533",
         null,
         "US"
        ],
        [
         "BD",
         "Princeton Plasma Physics Laboratory",
         "100 Stellarator Rd",
         "Princeton",
         "NJ",
         "8453",
         null,
         "US"
        ],
        [
         "BD",
         "Charleston Air Force Base",
         "201 W Simpson St",
         "Charleston",
         "SC",
         "29404",
         null,
         "US"
        ],
        [
         "BD",
         "Eglin Air Force Base",
         "3005 Eglin Blvd",
         "Eglin AFB",
         "FL",
         "32542",
         null,
         "US"
        ],
        [
         "BD",
         "MacDill Air Force Base",
         "2914 Great Egret Ave",
         "Tampa",
         "FL",
         "33621",
         null,
         "US"
        ],
        [
         "BD",
         "Downs Energy",
         "1296 Magnolia Ave",
         "Corona",
         "CA",
         "92879",
         null,
         "US"
        ],
        [
         "BD",
         "Dogpatch Biofuels",
         "765 Pennsylvania Ave",
         "San Francisco",
         "CA",
         "94107",
         null,
         "US"
        ],
        [
         "BD",
         "Naval Base Kitsap Bangor - Defense Energy Support Center",
         "Building 1204 Skate St",
         "Silverdale",
         "WA",
         "98315",
         null,
         "US"
        ],
        [
         "BD",
         "Hoke County - North Carolina DOT",
         "390 Mockingbird Hill Rd",
         "Raeford",
         "NC",
         "28376",
         null,
         "US"
        ],
        [
         "BD",
         "Graham County - North Carolina DOT",
         "40 State Shed Rd",
         "Robbinsville",
         "NC",
         "28771",
         null,
         "US"
        ],
        [
         "BD",
         "Richmond County - North Carolina DOT",
         "SR-1005",
         "Rockingham",
         "NC",
         "28379",
         null,
         "US"
        ],
        [
         "BD",
         "Transylvania County - North Carolina DOT",
         "Old Rosman Hwy",
         "Rosman",
         "NC",
         "28772",
         null,
         "US"
        ],
        [
         "BD",
         "Rowan County - North Carolina DOT",
         "Camp Rd",
         "Salisbury",
         "NC",
         "28147",
         null,
         "US"
        ],
        [
         "BD",
         "Lee County - North Carolina DOT",
         "1502 S 7th St",
         "Sanford",
         "NC",
         "27330",
         null,
         "US"
        ],
        [
         "BD",
         "Brunswick County - North Carolina DOT",
         "NC-1348",
         "Shallotte",
         "NC",
         "28470",
         null,
         "US"
        ],
        [
         "BD",
         "Chatham County - North Carolina DOT",
         "E Raleigh St",
         "Siler City",
         "NC",
         "27344",
         null,
         "US"
        ],
        [
         "BD",
         "Johnston County - North Carolina DOT",
         "US-70",
         "Smithfield",
         "NC",
         "27577",
         null,
         "US"
        ],
        [
         "BD",
         "Alleghany County - North Carolina DOT",
         "NC-1172",
         "Sparta",
         "NC",
         "28675",
         null,
         "US"
        ],
        [
         "BD",
         "Hyde County - North Carolina DOT",
         "SR-1129",
         "Swan Quarter",
         "NC",
         "27885",
         null,
         "US"
        ],
        [
         "BD",
         "Jackson County - North Carolina DOT",
         "NC-116",
         "Sylvia",
         "NC",
         "28779",
         null,
         "US"
        ],
        [
         "BD",
         "Lenoir County - North Carolina DOT",
         "US-258",
         "Kinston",
         "NC",
         "28501",
         null,
         "US"
        ],
        [
         "BD",
         "Caldwell County - North Carolina DOT",
         "Pleasant Hill Rd",
         "Lenoir",
         "NC",
         "28645",
         null,
         "US"
        ],
        [
         "BD",
         "Davidson County - North Carolina DOT",
         "Raleigh Rd",
         "Lexington",
         "NC",
         "27292",
         null,
         "US"
        ],
        [
         "BD",
         "Harnet County - North Carolina DOT",
         "1108 E McNeill St",
         "Lillington",
         "NC",
         "27546",
         null,
         "US"
        ],
        [
         "BD",
         "Robeson County - North Carolina DOT",
         "NC-711",
         "Lumberton",
         "NC",
         "28360",
         null,
         "US"
        ],
        [
         "BD",
         "Dare County - North Carolina DOT",
         "Simon St",
         "Manteo",
         "NC",
         "27954",
         null,
         "US"
        ],
        [
         "BD",
         "Cherokee County - North Carolina DOT",
         "NC-141",
         "Marble",
         "NC",
         "28905",
         null,
         "US"
        ],
        [
         "BD",
         "Madison County - North Carolina DOT",
         "US-70 & US-25 Business",
         "Marshall",
         "NC",
         "28753",
         null,
         "US"
        ],
        [
         "BD",
         "Greene County - North Carolina DOT",
         "Highway 903",
         "Maury",
         "NC",
         "28580",
         null,
         "US"
        ],
        [
         "BD",
         "Guilford County - North Carolina DOT",
         "4253 Camp Burton Rd",
         "McLeansville",
         "NC",
         "27301",
         null,
         "US"
        ],
        [
         "BD",
         "Davie County - North Carolina DOT",
         "Prison Camp Rd",
         "Mocksville",
         "NC",
         "27028",
         null,
         "US"
        ],
        [
         "BD",
         "Wilkes County - North Carolina DOT",
         "303 Statesville Rd",
         "North Wilkesboro",
         "NC",
         "28659",
         null,
         "US"
        ],
        [
         "BD",
         "Nash County - North Carolina DOT",
         "US-64",
         "Nashville",
         "NC",
         "27856",
         null,
         "US"
        ],
        [
         "BD",
         "Craven County - North Carolina DOT",
         "S Glenburnie Rd",
         "New Bern",
         "NC",
         "28560",
         null,
         "US"
        ],
        [
         "BD",
         "Mecklenburg County - North Carolina DOT",
         "7703 District Dr",
         "Charlotte",
         "NC",
         "28213",
         null,
         "US"
        ],
        [
         "BD",
         "Avery County - North Carolina DOT",
         "NC-1346 & NC-181",
         "Newland",
         "NC",
         "28657",
         null,
         "US"
        ],
        [
         "BD",
         "Carteret County - North Carolina DOT",
         "Mason Town Rd",
         "Newport",
         "NC",
         "28570",
         null,
         "US"
        ],
        [
         "BD",
         "Washington & Tyrell County - North Carolina DOT",
         "US-64",
         "Creswell",
         "NC",
         "27928",
         null,
         "US"
        ],
        [
         "BD",
         "Surry County - North Carolina DOT",
         "703 Prison Camp Rd",
         "Dobson",
         "NC",
         "27017",
         null,
         "US"
        ],
        [
         "BD",
         "Chowan County - North Carolina DOT",
         "State Route 1303",
         "Edenton",
         "NC",
         "27932",
         null,
         "US"
        ],
        [
         "BD",
         "Pasquotank & Camden County - North Carolina DOT",
         "US-17",
         "Elizabeth City",
         "NC",
         "27909",
         null,
         "US"
        ],
        [
         "BD",
         "Bladen County - North Carolina DOT",
         "US-701 N",
         "Elizabethtown",
         "NC",
         "28337",
         null,
         "US"
        ],
        [
         "BD",
         "Cumberland County - North Carolina DOT",
         "549 Transportation Dr",
         "Fayetteville",
         "NC",
         "28306",
         null,
         "US"
        ],
        [
         "BD",
         "Macon County - North Carolina DOT",
         "Windy Gap Rd",
         "Franklin",
         "NC",
         "28734",
         null,
         "US"
        ],
        [
         "BD",
         "Gates County - North Carolina DOT",
         "US-158",
         "Gatesville",
         "NC",
         "27938",
         null,
         "US"
        ],
        [
         "BD",
         "Wayne County - North Carolina DOT",
         "2671 US-70 W",
         "Goldsboro",
         "NC",
         "27534",
         null,
         "US"
        ],
        [
         "BD",
         "Alamance County - North Carolina DOT",
         "Prison Camp Rd",
         "Graham",
         "NC",
         "27253",
         null,
         "US"
        ],
        [
         "BD",
         "Pamlico County - North Carolina DOT",
         "NC-306",
         "Grantsboro",
         "NC",
         "28529",
         null,
         "US"
        ],
        [
         "BD",
         "Halifax County - North Carolina DOT",
         "NC-903",
         "Halifax",
         "NC",
         "27839",
         null,
         "US"
        ],
        [
         "BD",
         "Currituck County - North Carolina DOT",
         "Lucinda Ln",
         "Poplar Branch",
         "NC",
         "27966",
         null,
         "US"
        ],
        [
         "BD",
         "Clay County - North Carolina DOT",
         "225 Tusquittee Rd",
         "Hayesville",
         "NC",
         "28904",
         null,
         "US"
        ],
        [
         "BD",
         "Henderson County - North Carolina DOT",
         "693 Mountain Rd",
         "Hendersonville",
         "NC",
         "28791",
         null,
         "US"
        ],
        [
         "BD",
         "Perquimans County - North Carolina DOT",
         "US-17",
         "Hertford",
         "NC",
         "27944",
         null,
         "US"
        ],
        [
         "BD",
         "Orange County - North Carolina DOT",
         "NC-1009",
         "Hillsborough",
         "NC",
         "27278",
         null,
         "US"
        ],
        [
         "BD",
         "Northampton County - North Carolina DOT",
         "NC-305",
         "Jackson",
         "NC",
         "27845",
         null,
         "US"
        ],
        [
         "BD",
         "Onslow County - North Carolina DOT",
         "US-17",
         "Jacksonville",
         "NC",
         "28540",
         null,
         "US"
        ],
        [
         "BD",
         "Duplin County - North Carolina DOT",
         "NC-11",
         "Kenansville",
         "NC",
         "28349",
         null,
         "US"
        ],
        [
         "BD",
         "Hertford County - North Carolina DOT",
         "Modlin Hatchery Rd",
         "Ahoskie",
         "NC",
         "27910",
         null,
         "US"
        ],
        [
         "BD",
         "Stanly County - North Carolina DOT",
         "Coble Ave",
         "Albemarle",
         "NC",
         "28001",
         null,
         "US"
        ],
        [
         "BD",
         "Randolph County - North Carolina DOT",
         "NC-1150",
         "Asheboro",
         "NC",
         "27205",
         null,
         "US"
        ],
        [
         "BD",
         "Watauga County - North Carolina DOT",
         "NC-194",
         "Boone",
         "NC",
         "28607",
         null,
         "US"
        ],
        [
         "BD",
         "Swain County - North Carolina DOT",
         "Toot Hollow Rd",
         "Bryson City",
         "NC",
         "28713",
         null,
         "US"
        ],
        [
         "BD",
         "Pender County - North Carolina DOT",
         "Smith Rd",
         "Burgaw",
         "NC",
         "28425",
         null,
         "US"
        ],
        [
         "BD",
         "Moore County - North Carolina DOT",
         "NC-1652",
         "Carthage",
         "NC",
         "28327",
         null,
         "US"
        ],
        [
         "BD",
         "New Hanover County - North Carolina DOT",
         "Barbados Blvd",
         "Castle Hayne",
         "NC",
         "28429",
         null,
         "US"
        ],
        [
         "BD",
         "Sampson County - North Carolina DOT",
         "NC-1311",
         "Clinton",
         "NC",
         "28328",
         null,
         "US"
        ],
        [
         "BD",
         "Columbus County - North Carolina DOT",
         "Prison Camp Rd",
         "Columbus",
         "NC",
         "28472",
         null,
         "US"
        ],
        [
         "BD",
         "Polk County - North Carolina DOT",
         "Locus St",
         "Columbus",
         "NC",
         "28722",
         null,
         "US"
        ],
        [
         "BD",
         "Edgecombe County - North Carolina DOT",
         "Wilson St",
         "Tarboro",
         "NC",
         "27886",
         null,
         "US"
        ],
        [
         "BD",
         "Jones County - North Carolina DOT",
         "336 Highway 41 E",
         "Trenton",
         "NC",
         "28585",
         null,
         "US"
        ],
        [
         "BD",
         "Montgomery County - North Carolina DOT",
         "Prison Camp Rd",
         "Wadesboro",
         "NC",
         "28135",
         null,
         "US"
        ],
        [
         "BD",
         "Scotland County - North Carolina DOT",
         "US-401 & SR-1407",
         "Wagram",
         "NC",
         "28396",
         null,
         "US"
        ],
        [
         "BD",
         "Stokes County - North Carolina DOT",
         "NC-8 & NC-89",
         "Walnut Cove",
         "NC",
         "27052",
         null,
         "US"
        ],
        [
         "BD",
         "Beaufort County - North Carolina DOT",
         "803 Grimes Rd",
         "Washington",
         "NC",
         "27889",
         null,
         "US"
        ],
        [
         "BD",
         "Haywood County - North Carolina DOT",
         "Paragon Pkwy",
         "Waynesville",
         "NC",
         "28721",
         null,
         "US"
        ],
        [
         "BD",
         "Rockingham County - North Carolina DOT",
         "NC-87 & NC-65",
         "Wentworth",
         "NC",
         "27320",
         null,
         "US"
        ],
        [
         "BD",
         "Ashe County - North Carolina DOT",
         "SR-1131",
         "West Jefferson",
         "NC",
         "27406",
         null,
         "US"
        ],
        [
         "BD",
         "Martin County - North Carolina DOT",
         "Prison Camp Rd",
         "Williamston",
         "NC",
         "27892",
         null,
         "US"
        ],
        [
         "BD",
         "Martin County - North Carolina DOT",
         "US-64",
         "Williamston",
         "NC",
         "27892",
         null,
         "US"
        ],
        [
         "BD",
         "Wilson County - North Carolina DOT",
         "Ward Blvd",
         "Wilson",
         "NC",
         "27896",
         null,
         "US"
        ],
        [
         "BD",
         "Bertie County - North Carolina DOT",
         "120 Powell Rd & Stokes Rd",
         "Windsor",
         "NC",
         "27983",
         null,
         "US"
        ],
        [
         "BD",
         "Yadkin County - North Carolina DOT",
         "US-601",
         "Yadkinville",
         "NC",
         "27055",
         null,
         "US"
        ],
        [
         "BD",
         "Caswell County - North Carolina DOT",
         "NC-1572",
         "Yanceyville",
         "NC",
         "27370",
         null,
         "US"
        ],
        [
         "BD",
         "Maine Standard Biofuels",
         "51 Ingersoll Dr",
         "Portland",
         "ME",
         "4103",
         null,
         "US"
        ],
        [
         "BD",
         "National Zoological Park - Smithsonian",
         "3001 Connecticut Ave NW",
         "Washington",
         "DC",
         "20008",
         null,
         "US"
        ],
        [
         "BD",
         "Little Rock Air Force Base",
         "300 S Spring St",
         "Little Rock AFB",
         "AR",
         "72099",
         null,
         "US"
        ],
        [
         "BD",
         "Marine Corps Logistic Base - Albany",
         "814 Radford Blvd",
         "Albany",
         "GA",
         "31704",
         null,
         "US"
        ],
        [
         "BD",
         "Columbus Air Force Base",
         "325 Simler Blvd",
         "Columbus AFB",
         "MS",
         "39705",
         null,
         "US"
        ],
        [
         "BD",
         "Beaumont Federal Correctional Complex",
         "5980 Knauth Rd",
         "Beaumont",
         "TX",
         "77705",
         null,
         "US"
        ],
        [
         "BD",
         "Goodfellow Air Force Base",
         "371 Fort Lancaster Ave",
         "Goodfellow AFB",
         "TX",
         "76908",
         null,
         "US"
        ],
        [
         "BD",
         "Jubitz Travel Center - Pacific Pride",
         "10210 N Vancouver Way",
         "Portland",
         "OR",
         "97217",
         null,
         "US"
        ],
        [
         "BD",
         "Sigourney BP - Cobb Oil",
         "805 E Jackson St",
         "Sigourney",
         "IA",
         "52591",
         null,
         "US"
        ],
        [
         "BD",
         "Pearson Fuels - Silvas Oil Co Inc",
         "6417 Ventura Blvd",
         "Ventura",
         "CA",
         "93003",
         null,
         "US"
        ],
        [
         "BD",
         "Norwich Public Utilities",
         "16 S Golden St",
         "Norwich",
         "CT",
         "6360",
         null,
         "US"
        ],
        [
         "BD",
         "Marine Corps Blount Island Command",
         "5886 Gateco Blvd",
         "Jacksonville",
         "FL",
         "32226",
         null,
         "US"
        ],
        [
         "BD",
         "Pacific Biodiesel Inc - Burt's Service",
         "1342 N School St",
         "Honolulu",
         "HI",
         "96817",
         null,
         "US"
        ],
        [
         "BD",
         "Kaneohe Bay 76",
         "46-047 Kamehameha Hwy",
         "Kaneohe",
         "HI",
         "96744",
         null,
         "US"
        ],
        [
         "BD",
         "National Grid - Bellmore",
         "2400 Sunrise Hwy",
         "Bellmore",
         "NY",
         "11710",
         null,
         "US"
        ],
        [
         "BD",
         "National Grid - Patchogue",
         "460 E Main St",
         "Patchogue",
         "NY",
         "11772",
         null,
         "US"
        ],
        [
         "BD",
         "National Grid - Hicksville",
         "175 E Old Country Rd",
         "Hicksville",
         "NY",
         "11801",
         null,
         "US"
        ],
        [
         "BD",
         "Flying J Travel Center",
         "12334 Ehlen Rd NE",
         "Aurora",
         "OR",
         "97002",
         null,
         "US"
        ],
        [
         "BD",
         "Hoyt Oil & Convenience Sinclair",
         "241 6th St",
         "Walnut Grove",
         "MN",
         "56180",
         null,
         "US"
        ],
        [
         "BD",
         "Quickway Market",
         "690 NE Butler Market Rd",
         "Bend",
         "OR",
         "97701",
         null,
         "US"
        ],
        [
         "BD",
         "Scott Air Force Base",
         "4429 Samuel Adams Cir",
         "Scott AFB",
         "IL",
         "62225",
         null,
         "US"
        ],
        [
         "BD",
         "Scott Air National Guard",
         "2101 Golf Course Rd",
         "Scott AFB",
         "IL",
         "62225",
         null,
         "US"
        ],
        [
         "BD",
         "Smithsonian Conservation Research Center",
         "1500 Remount Rd",
         "Front Royal",
         "VA",
         "22630",
         null,
         "US"
        ],
        [
         "BD",
         "Naval Base Kitsap - Bremerton",
         "1400 Farragut Ave",
         "Bremerton",
         "WA",
         "98314",
         null,
         "US"
        ],
        [
         "BD",
         "East Side Travel Plaza",
         "607 Gateway Dr NE",
         "East Grand Forks",
         "MN",
         "56721",
         null,
         "US"
        ],
        [
         "BD",
         "City of Denton",
         "1521 S Mayhill Rd",
         "Denton",
         "TX",
         "76208",
         null,
         "US"
        ],
        [
         "BD",
         "Tyree Oil - SeQuential Biofuels",
         "2076 Erving Rd",
         "Eugene",
         "OR",
         "97402",
         null,
         "US"
        ],
        [
         "BD",
         "City of Southlake - Department of Public Safety",
         "2100 W Southlake Blvd",
         "Southlake",
         "TX",
         "76092",
         null,
         "US"
        ],
        [
         "BD",
         "Evergreen State Fairgrounds Station",
         "14405 179th Ave SE",
         "Monroe",
         "WA",
         "98272",
         null,
         "US"
        ],
        [
         "BD",
         "Village of Downers Grove",
         "5101 Walnut Ave",
         "Downers Grove",
         "IL",
         "60515",
         null,
         "US"
        ],
        [
         "BD",
         "Argonne National Laboratory",
         "9700 S. Cass Avenue",
         "Lemont",
         "IL",
         "60439",
         null,
         "US"
        ],
        [
         "BD",
         "City of Southlake - Department of Public Works",
         "1950 E Continental Blvd",
         "Southlake",
         "TX",
         "76092",
         null,
         "US"
        ],
        [
         "BD",
         "Forest Preserve District of DuPage County",
         "881 W St Charles Rd",
         "Lombard",
         "IL",
         "60148",
         null,
         "US"
        ],
        [
         "BD",
         "Applebee Oil & Propane",
         "108 Mill St",
         "Ovid",
         "MI",
         "48866",
         null,
         "US"
        ],
        [
         "BD",
         "Applebee Oil & Propane",
         "603 E Steel St",
         "St. Johns",
         "MI",
         "48879",
         null,
         "US"
        ],
        [
         "BD",
         "Ontario CNG - 76",
         "1850 E Holt Blvd",
         "Ontario",
         "CA",
         "91761",
         null,
         "US"
        ],
        [
         "BD",
         "Dateland Travel Center",
         "1737 S Avenue 64 E",
         "Dateland",
         "AZ",
         "85333",
         null,
         "US"
        ],
        [
         "BD",
         "Hans Foreign Car Repair",
         "6302 35th Ave SW",
         "Seattle",
         "WA",
         "98126",
         null,
         "US"
        ],
        [
         "BD",
         "City of Phoenix - Union Hills Service Center",
         "138 E Union Hills Rd",
         "Phoenix",
         "AZ",
         "85022",
         null,
         "US"
        ],
        [
         "BD",
         "City of Phoenix - Salt River Service Center",
         "3045 S 22nd Ave",
         "Phoenix",
         "AZ",
         "85015",
         null,
         "US"
        ],
        [
         "BD",
         "City of Phoenix - 52nd St Water Yard",
         "5204 E Thomas Rd",
         "Phoenix",
         "AZ",
         "85018",
         null,
         "US"
        ],
        [
         "BD",
         "City of Phoenix - Fire Operations",
         "150 S 12th St",
         "Phoenix",
         "AZ",
         "85034",
         null,
         "US"
        ],
        [
         "BD",
         "Space Station Gas",
         "644 Lincoln Ave",
         "Steamboat Springs",
         "CO",
         "80487",
         null,
         "US"
        ],
        [
         "BD",
         "CountryMark - North Central Co-op",
         "2929 Peddler Village Rd",
         "Goshen",
         "IN",
         "46526",
         null,
         "US"
        ],
        [
         "BD",
         "Grissom Air Reserve Base",
         "7207 Grissom Ave",
         "Grissom Joint Air Reserve Base",
         "IN",
         "46971",
         null,
         "US"
        ],
        [
         "BD",
         "Brookhaven National Laboratory B-20",
         "Temple Pl",
         "Upton",
         "NY",
         "11973",
         null,
         "US"
        ],
        [
         "BD",
         "Youngstown Air Reserve Station",
         "3976 King Graves Rd",
         "Vienna",
         "OH",
         "44473",
         null,
         "US"
        ],
        [
         "BD",
         "Mansfield Lahm Regional Airport",
         "1947 Harrington Memorial Rd",
         "Mansfield",
         "OH",
         "44903",
         null,
         "US"
        ],
        [
         "BD",
         "Fairchild Air Force Base",
         "7 W Arnold Ave",
         "Fairchild AFB",
         "WA",
         "99011",
         null,
         "US"
        ],
        [
         "BD",
         "Pacific Pride - Ira Phillips Inc",
         "310 N 3rd St",
         "Gadsden",
         "AL",
         "35901",
         null,
         "US"
        ],
        [
         "BD",
         "Mirabito Travel Center",
         "1166 Castle Creek Rd",
         "Castle Creek",
         "NY",
         "13744",
         null,
         "US"
        ],
        [
         "BD",
         "Interstate Oil Co",
         "183 W Main St",
         "Woodland",
         "CA",
         "95695",
         null,
         "US"
        ],
        [
         "BD",
         "City of Boulder Fleet Services",
         "5064 Pearl St",
         "Boulder",
         "CO",
         "80301",
         null,
         "US"
        ],
        [
         "BD",
         "Staples Oil Expressway",
         "261 10th St",
         "Heron Lake",
         "MN",
         "56137",
         null,
         "US"
        ],
        [
         "BD",
         "Al Parsch Oil & Propane Co",
         "5923 W Imlay City Rd",
         "Imlay City",
         "MI",
         "48444",
         null,
         "US"
        ],
        [
         "BD",
         "Spinx #131",
         "1625 NE Main St",
         "Simpsonville",
         "SC",
         "29681",
         null,
         "US"
        ],
        [
         "BD",
         "Marine Corps Logistics Base - Barstow - Yermo Annex",
         "F St",
         "Barstow",
         "CA",
         "92311",
         null,
         "US"
        ],
        [
         "BD",
         "National Grid - Watertown",
         "21265 New York 232",
         "Watertown",
         "NY",
         "13601",
         null,
         "US"
        ],
        [
         "BD",
         "National Grid - Greenpoint",
         "287 Maspeth Ave",
         "Greenpoint",
         "NY",
         "11211",
         null,
         "US"
        ],
        [
         "BD",
         "National Grid - Beacon North",
         "7496 Round Pond Rd",
         "Syracuse",
         "NY",
         "13212",
         null,
         "US"
        ],
        [
         "BD",
         "Monroe County Regional Transportation - FEV Green Fuel Station",
         "1574 Lakeshore Blvd",
         "Rochester",
         "NY",
         "14617",
         null,
         "US"
        ],
        [
         "BD",
         "National Grid - Roslyn",
         "250 Willis Ave",
         "Roslyn",
         "NY",
         "11577",
         null,
         "US"
        ],
        [
         "BD",
         "City of Phoenix - Fire Station #7",
         "403 E Hatcher",
         "Phoenix",
         "AZ",
         "85020",
         null,
         "US"
        ],
        [
         "BD",
         "City of Phoenix - Fire Station #72",
         "33027 N Cave Creek Rd",
         "Phoenix",
         "AZ",
         "85331",
         null,
         "US"
        ],
        [
         "BD",
         "City of Phoenix - Fire Station #8",
         "1025 E Polk St",
         "Phoenix",
         "AZ",
         "85006",
         null,
         "US"
        ],
        [
         "BD",
         "City of Phoenix - Fire Station #9",
         "330 E Fairmount",
         "Phoenix",
         "AZ",
         "85012",
         null,
         "US"
        ],
        [
         "BD",
         "City of Phoenix - North Gateway Service Center",
         "30205 N Black Canyon Hwy",
         "Phoenix",
         "AZ",
         "85085",
         null,
         "US"
        ],
        [
         "BD",
         "City of Phoenix - SWM Recycle Center",
         "3060 S 27th Ave",
         "Phoenix",
         "AZ",
         "85009",
         null,
         "US"
        ],
        [
         "BD",
         "City of Phoenix - 91st Avenue Waste Water Treatment Plant",
         "5615 S 91st Ave",
         "Tolleson",
         "AZ",
         "85353",
         null,
         "US"
        ],
        [
         "BD",
         "DC Department of Public Works - Fleet Management Administration",
         "1835 West Virginia Ave NE",
         "Washington",
         "DC",
         "20002",
         null,
         "US"
        ],
        [
         "BD",
         "DC Department of Public Works - Fort Totten Transfer Station",
         "4902 Bates Rd NE",
         "Washington",
         "DC",
         "20011",
         null,
         "US"
        ],
        [
         "BD",
         "DC Department of Public Works - MPD 2nd District",
         "3320 Idaho Ave NW",
         "Washington",
         "DC",
         "20016",
         null,
         "US"
        ],
        [
         "BD",
         "DC Department of Public Works - MPD 3rd District",
         "1620 V St NW",
         "Washington",
         "DC",
         "20009",
         null,
         "US"
        ],
        [
         "BD",
         "DC Department of Public Works - MPD 6th District",
         "100 42nd St NE",
         "Washington",
         "DC",
         "20019",
         null,
         "US"
        ],
        [
         "BD",
         "HFN Shipman",
         "16-570 Kipimana St",
         "Keaau",
         "HI",
         "96749",
         null,
         "US"
        ],
        [
         "BD",
         "Minit Stop - Lahaina",
         "10 Kupuohi St",
         "Lahaina",
         "HI",
         "96761",
         null,
         "US"
        ],
        [
         "BD",
         "Bourne's Energy",
         "1475 Laporte Rd",
         "Morristown",
         "VT",
         "5661",
         null,
         "US"
        ],
        [
         "BD",
         "City of Phoenix - State Route 85 Landfill",
         "28361 W Patterson Rd",
         "Buckeye",
         "AZ",
         "85326",
         null,
         "US"
        ],
        [
         "BD",
         "City of Phoenix - Aguilla Golf Course",
         "7858 S 35th Ave",
         "Laveen Village",
         "AZ",
         "85339",
         null,
         "US"
        ],
        [
         "BD",
         "City of Phoenix - Cave Creek Golf Maintenance",
         "2135 W Greenway Rd",
         "Phoenix",
         "AZ",
         "85023",
         null,
         "US"
        ],
        [
         "BD",
         "City of Phoenix - Cave Creek Water Yard",
         "21642 N 20th St",
         "Phoenix",
         "AZ",
         "85024",
         null,
         "US"
        ],
        [
         "BD",
         "City of Phoenix - Encanto Park Yard",
         "1801 W Encanto",
         "Phoenix",
         "AZ",
         "85007",
         null,
         "US"
        ],
        [
         "BD",
         "City of Phoenix - Fire Station #1",
         "323 N 4th Ave",
         "Phoenix",
         "AZ",
         "85003",
         null,
         "US"
        ],
        [
         "BD",
         "City of Phoenix - Fire Station #10",
         "2731 N 24th Dr",
         "Phoenix",
         "AZ",
         "85009",
         null,
         "US"
        ],
        [
         "BD",
         "City of Phoenix - Fire Station #11",
         "2727 E Roosevelt",
         "Phoenix",
         "AZ",
         "85008",
         null,
         "US"
        ],
        [
         "BD",
         "City of Phoenix - Fire Station #12",
         "4243 N 32nd St",
         "Phoenix",
         "AZ",
         "85018",
         null,
         "US"
        ],
        [
         "BD",
         "City of Phoenix - Fire Station #13",
         "2838 N 47th Pl",
         "Phoenix",
         "AZ",
         "85008",
         null,
         "US"
        ],
        [
         "BD",
         "City of Phoenix - Fire Station #14",
         "1330 N 32nd Ave",
         "Phoenix",
         "AZ",
         "85009",
         null,
         "US"
        ],
        [
         "BD",
         "City of Phoenix - Fire Station #15",
         "4730 N 43rd Ave",
         "Phoenix",
         "AZ",
         "85031",
         null,
         "US"
        ],
        [
         "BD",
         "City of Phoenix - Fire Station #16",
         "1414 E Mohave",
         "Phoenix",
         "AZ",
         "85034",
         null,
         "US"
        ],
        [
         "BD",
         "City of Phoenix - Fire Station #17",
         "1531 E Missouri",
         "Phoenix",
         "AZ",
         "85014",
         null,
         "US"
        ],
        [
         "BD",
         "City of Phoenix - Fire Station #18",
         "5019 N 23rd Ave",
         "Phoenix",
         "AZ",
         "85015",
         null,
         "US"
        ],
        [
         "BD",
         "City of Phoenix - Fire Station #20",
         "726 W Glendale",
         "Phoenix",
         "AZ",
         "85021",
         null,
         "US"
        ],
        [
         "BD",
         "City of Phoenix - Fire Station #21",
         "1212 S 27th Ave",
         "Phoenix",
         "AZ",
         "85009",
         null,
         "US"
        ],
        [
         "BD",
         "City of Phoenix - Fire Station #22",
         "230 E Roeser Rd",
         "Phoenix",
         "AZ",
         "85040",
         null,
         "US"
        ],
        [
         "BD",
         "City of Phoenix - Fire Station #23",
         "4416 S 32nd St",
         "Phoenix",
         "AZ",
         "85040",
         null,
         "US"
        ],
        [
         "BD",
         "City of Phoenix - Fire Station #24",
         "2602 N 43rd Ave",
         "Phoenix",
         "AZ",
         "85009",
         null,
         "US"
        ],
        [
         "BD",
         "City of Phoenix - Fire Station #25",
         "4010 N 63rd Ave",
         "Phoenix",
         "AZ",
         "85033",
         null,
         "US"
        ],
        [
         "BD",
         "City of Phoenix - Fire Station #26",
         "3301 W Rose Ln",
         "Phoenix",
         "AZ",
         "85017",
         null,
         "US"
        ],
        [
         "BD",
         "City of Phoenix - Fire Station #27",
         "12449 N 32nd St",
         "Phoenix",
         "AZ",
         "85032",
         null,
         "US"
        ],
        [
         "BD",
         "City of Phoenix - Fire Station #28",
         "7409 S 16th St",
         "Phoenix",
         "AZ",
         "85042",
         null,
         "US"
        ],
        [
         "BD",
         "City of Phoenix - Fire Station #29",
         "3949 E Air Lane Way",
         "Phoenix",
         "AZ",
         "85034",
         null,
         "US"
        ],
        [
         "BD",
         "City of Phoenix - Fire Station #3",
         "1257 W Pierce",
         "Phoenix",
         "AZ",
         "85007",
         null,
         "US"
        ],
        [
         "BD",
         "City of Phoenix - Fire Station #30",
         "2701 W Belmont",
         "Phoenix",
         "AZ",
         "85051",
         null,
         "US"
        ],
        [
         "BD",
         "City of Phoenix - Fire Station #31",
         "5730 E Thunderbird",
         "Phoenix",
         "AZ",
         "85254",
         null,
         "US"
        ],
        [
         "BD",
         "City of Phoenix - Fire Station #32",
         "7620 S 42nd Pl",
         "Phoenix",
         "AZ",
         "85042",
         null,
         "US"
        ],
        [
         "BD",
         "City of Phoenix - Fire Station #33",
         "2409 W Cactus",
         "Phoenix",
         "AZ",
         "85029",
         null,
         "US"
        ],
        [
         "BD",
         "City of Phoenix - Fire Station #35",
         "646 E Paradise Ln",
         "Phoenix",
         "AZ",
         "85022",
         null,
         "US"
        ],
        [
         "BD",
         "City of Phoenix - Fire Station #36",
         "21602 N 9th Ave",
         "Phoenix",
         "AZ",
         "85027",
         null,
         "US"
        ],
        [
         "BD",
         "City of Phoenix - Fire Station #37",
         "16602 N 40th St",
         "Phoenix",
         "AZ",
         "85032",
         null,
         "US"
        ],
        [
         "BD",
         "City of Phoenix - Fire Station #39",
         "2276 W Southern",
         "Phoenix",
         "AZ",
         "85041",
         null,
         "US"
        ],
        [
         "BD",
         "City of Phoenix - Fire Station #4",
         "1601 N 3rd Ave",
         "Phoenix",
         "AZ",
         "85003",
         null,
         "US"
        ],
        [
         "BD",
         "City of Phoenix - Fire Station #40",
         "3838 N 83rd Ave",
         "Phoenix",
         "AZ",
         "85033",
         null,
         "US"
        ],
        [
         "BD",
         "City of Phoenix - Fire Station #41",
         "2501 W Morningside Dr",
         "Phoenix",
         "AZ",
         "85023",
         null,
         "US"
        ],
        [
         "BD",
         "City of Phoenix - Fire Station #42",
         "3246 W Greenway",
         "Phoenix",
         "AZ",
         "85053",
         null,
         "US"
        ],
        [
         "BD",
         "City of Phoenix - Fire Station #43",
         "4110 E Chandler Blvd",
         "Phoenix",
         "AZ",
         "85048",
         null,
         "US"
        ],
        [
         "BD",
         "City of Phoenix - Fire Station #44",
         "7117 W McDowell Rd",
         "Phoenix",
         "AZ",
         "85035",
         null,
         "US"
        ],
        [
         "BD",
         "City of Phoenix - Fire Station #45",
         "20026 N 26th St",
         "Phoenix",
         "AZ",
         "85024",
         null,
         "US"
        ],
        [
         "BD",
         "City of Phoenix - Fire Station #46",
         "15402 S Marketplace NE",
         "Phoenix",
         "AZ",
         "85048",
         null,
         "US"
        ],
        [
         "BD",
         "City of Phoenix - Fire Station #48",
         "5230 W Happy Valley Rd",
         "Phoenix",
         "AZ",
         "85310",
         null,
         "US"
        ],
        [
         "BD",
         "City of Phoenix - Fire Station #49",
         "3750 E Dynamite Blvd",
         "Phoenix",
         "AZ",
         "85085",
         null,
         "US"
        ],
        [
         "BD",
         "City of Phoenix - Fire Station #5",
         "1840 E Cambridge",
         "Phoenix",
         "AZ",
         "85006",
         null,
         "US"
        ],
        [
         "BD",
         "City of Phoenix - Fire Station #50",
         "20225 N 35th Ave",
         "Phoenix",
         "AZ",
         "85027",
         null,
         "US"
        ],
        [
         "BD",
         "City of Phoenix - Fire Station #52",
         "21650 N Tatum Blvd",
         "Phoenix",
         "AZ",
         "85050",
         null,
         "US"
        ],
        [
         "BD",
         "City of Phoenix - Fire Station #54",
         "9820 W Campbell Ave",
         "Phoenix",
         "AZ",
         "85037",
         null,
         "US"
        ],
        [
         "BD",
         "City of Phoenix - Fire Station #56",
         "3210 W Canotia Pl",
         "Phoenix",
         "AZ",
         "85086",
         null,
         "US"
        ],
        [
         "BD",
         "City of Phoenix - Fire Station #57",
         "1660 W Dobbins Ave",
         "Phoenix",
         "AZ",
         "85041",
         null,
         "US"
        ],
        [
         "BD",
         "City of Phoenix - Fire Station #59",
         "1111 S 65th Ave",
         "Phoenix",
         "AZ",
         "85043",
         null,
         "US"
        ],
        [
         "BD",
         "City of Phoenix - Fire Station #6",
         "368 W Apache",
         "Phoenix",
         "AZ",
         "85003",
         null,
         "US"
        ],
        [
         "BD",
         "City of Phoenix - Fire Station #60",
         "2405 W Townley",
         "Phoenix",
         "AZ",
         "85021",
         null,
         "US"
        ],
        [
         "BD",
         "City of Phoenix - Fire Station #61",
         "1925 E Indian School Rd",
         "Phoenix",
         "AZ",
         "85016",
         null,
         "US"
        ],
        [
         "BD",
         "Anew Travel Center",
         "41501 Harvest Dr",
         "Cambridge",
         "NE",
         "69022",
         null,
         "US"
        ],
        [
         "BD",
         "Saint Avenue BP",
         "302 E School Ave",
         "Olds",
         "IA",
         "52647",
         null,
         "US"
        ],
        [
         "BD",
         "Gas & Goodies",
         "307 S Oak St",
         "Richland",
         "IA",
         "52585",
         null,
         "US"
        ],
        [
         "BD",
         "Forest Preserve District of DuPage County",
         "29 W 220 Mack Rd",
         "West Chicago",
         "IL",
         "60185",
         null,
         "US"
        ],
        [
         "BD",
         "Cape Cod Biofuels Inc",
         "14B Jan Sebastian Dr",
         "Sandwich",
         "MA",
         "2563",
         null,
         "US"
        ],
        [
         "BD",
         "Monroe County Regional Transportation",
         "1157 Scottsville Rd",
         "Rochester",
         "NY",
         "14624",
         null,
         "US"
        ],
        [
         "BD",
         "University of Oklahoma - Transportation Operations Center",
         "510 E Chesapeake St",
         "Norman",
         "OK",
         "73072",
         null,
         "US"
        ],
        [
         "BD",
         "Naval Station Great Lakes",
         "2415 Spaulding St",
         "Great Lakes",
         "IL",
         "60088",
         null,
         "US"
        ],
        [
         "BD",
         "Naval Support Activity Crane",
         "300 Highway 361",
         "Crane",
         "IN",
         "47522",
         null,
         "US"
        ],
        [
         "BD",
         "Fort Lewis",
         "McKinley Ave & Garfield St",
         "Fort Lewis",
         "WA",
         "98433",
         null,
         "US"
        ],
        [
         "BD",
         "Chevron ExtraMile - Beaverton",
         "14470 SW Allen Blvd",
         "Beaverton",
         "OR",
         "97005",
         null,
         "US"
        ],
        [
         "BD",
         "Pacific Pride - Ira Phillips Inc",
         "2601 Forrest Ave",
         "Gadsden",
         "AL",
         "35904",
         null,
         "US"
        ],
        [
         "BD",
         "Renner Petroleum",
         "76 Bear Canyon Rd",
         "Garberville",
         "CA",
         "95542",
         null,
         "US"
        ],
        [
         "BD",
         "Conoco - Convenient Food Mart",
         "3714 W Truman Blvd",
         "Jefferson City",
         "MO",
         "65109",
         null,
         "US"
        ],
        [
         "BD",
         "City of Phoenix - Glenrosa Service Center",
         "4020 W Glenrosa Ave",
         "Phoenix",
         "AZ",
         "85019",
         null,
         "US"
        ],
        [
         "BD",
         "City of Pittsburgh - Public Works",
         "2925 Railroad St",
         "Pittsburgh",
         "PA",
         "15201",
         null,
         "US"
        ],
        [
         "BD",
         "Stripes Store #215",
         "3305 Memorial Blvd",
         "Kerrville",
         "TX",
         "78028",
         null,
         "US"
        ],
        [
         "BD",
         "MCB Camp Pendleton - DLA-Energy COCO Fuel Facility 1400",
         "17th St",
         "Camp Pendleton",
         "CA",
         "92057",
         null,
         "US"
        ],
        [
         "BD",
         "City of Pittsburgh - Public Works",
         "6814 Hamilton Ave",
         "Pittsburgh",
         "PA",
         "15208",
         null,
         "US"
        ],
        [
         "BD",
         "Cenex - Co-Op Energy Co",
         "1710 N Humiston Ave",
         "Worthington",
         "MN",
         "56187",
         null,
         "US"
        ],
        [
         "BD",
         "City of Seattle - Charles Street",
         "1030 7th St S",
         "Seattle",
         "WA",
         "98134",
         null,
         "US"
        ],
        [
         "BD",
         "City of Seattle - Fire Station 02 Fuel",
         "2334 4th Ave",
         "Seattle",
         "WA",
         "98121",
         null,
         "US"
        ],
        [
         "BD",
         "City of Seattle - Fire Station 08 Fuel",
         "110 Lee St",
         "Seattle",
         "WA",
         "98109",
         null,
         "US"
        ],
        [
         "BD",
         "City of Seattle - Fire Station 11 Fuel",
         "1514 SW Holden St",
         "Seattle",
         "WA",
         "98106",
         null,
         "US"
        ],
        [
         "BD",
         "City of Seattle - Fire Station 18 Fuel",
         "1523 NW Market St",
         "Seattle",
         "WA",
         "98107",
         null,
         "US"
        ],
        [
         "BD",
         "City of Seattle - Fire Station 28 Fuel",
         "5968 Rainier Ave S",
         "Seattle",
         "WA",
         "98118",
         null,
         "US"
        ],
        [
         "BD",
         "City of Seattle - Fire Station 29 Fuel",
         "2139 Ferry Ave SW",
         "Seattle",
         "WA",
         "98116",
         null,
         "US"
        ],
        [
         "BD",
         "City of Seattle - Fire Station 33 Fuel",
         "9845 Renton Ave S",
         "Seattle",
         "WA",
         "98118",
         null,
         "US"
        ],
        [
         "BD",
         "City of Seattle - Fire Station 34 Fuel",
         "633 32nd Ave E",
         "Seattle",
         "WA",
         "98112",
         null,
         "US"
        ],
        [
         "BD",
         "City of Seattle - South Transfer Fuel",
         "130 S Kenyon St",
         "Seattle",
         "WA",
         "98108",
         null,
         "US"
        ],
        [
         "BD",
         "Naval Air Station - North Island",
         "Bldg 588",
         "North Island",
         "CA",
         "92135",
         null,
         "US"
        ],
        [
         "BD",
         "Marine Corps Base Hawaii - Kaneohe Bay",
         "370 3rd St",
         "Kaneohe Bay",
         "HI",
         "96863",
         null,
         "US"
        ],
        [
         "BD",
         "Marine Corps Base - Quantico - Biodiesel",
         "3015 Catlin Ave",
         "Quantico",
         "VA",
         "22134",
         null,
         "US"
        ],
        [
         "BD",
         "Lincoln City Space Age",
         "565 SW US 101",
         "Lincoln City",
         "OR",
         "97267",
         null,
         "US"
        ],
        [
         "BD",
         "Shell",
         "5435 SE 72nd Ave",
         "Portland",
         "OR",
         "97206",
         null,
         "US"
        ],
        [
         "BD",
         "A&G Conveniences",
         "300 Santiam Hwy",
         "Lebanon",
         "OR",
         "97355",
         null,
         "US"
        ],
        [
         "BD",
         "Astro - WSCO #225",
         "12885 SW Pacific Hwy",
         "Tigard",
         "OR",
         "97233",
         null,
         "US"
        ],
        [
         "BD",
         "Shell",
         "801 NW 3rd St",
         "Prineville",
         "OR",
         "97754",
         null,
         "US"
        ],
        [
         "BD",
         "Leathers - Hilltop Shell",
         "1002 Molalla Ave",
         "Oregon City",
         "OR",
         "97045",
         null,
         "US"
        ],
        [
         "BD",
         "Estacada Shell",
         "605 NW Wade St",
         "Estacada",
         "OR",
         "97023",
         null,
         "US"
        ],
        [
         "BD",
         "Space Age Fuels",
         "13448 Oregon 212",
         "Clackamas",
         "OR",
         "97015",
         null,
         "US"
        ],
        [
         "BD",
         "Space Age Fuels",
         "18544 NW Eider Ct",
         "Beaverton",
         "OR",
         "97006",
         null,
         "US"
        ],
        [
         "BD",
         "Leathers - 12 Mile Shell",
         "22300 SE Stark St",
         "Gresham",
         "OR",
         "97030",
         null,
         "US"
        ],
        [
         "BD",
         "Shell",
         "3105 Santiam Hwy",
         "Albany",
         "OR",
         "97322",
         null,
         "US"
        ],
        [
         "BD",
         "Social Security Administration",
         "6401 Security Blvd",
         "Woodlawn",
         "MD",
         "21207",
         null,
         "US"
        ],
        [
         "BD",
         "Alabama Department of Transportation",
         "299 Elba Hwy",
         "Troy",
         "AL",
         "36079",
         null,
         "US"
        ],
        [
         "BD",
         "Leathers - Central Point Shell",
         "5020 Tablerock Rd",
         "Central Point",
         "OR",
         "97501",
         null,
         "US"
        ],
        [
         "BD",
         "Leathers - Aurora Shell",
         "21687 Highway 99 E",
         "Aurora",
         "OR",
         "97002",
         null,
         "US"
        ],
        [
         "BD",
         "Leathers - Orient Drive Shell",
         "1467 SE Orient Dr",
         "Gresham",
         "OR",
         "97080",
         null,
         "US"
        ],
        [
         "BD",
         "Tyree Oil - Leathers",
         "39021 Proctor Blvd",
         "Sandy",
         "OR",
         "97055",
         null,
         "US"
        ],
        [
         "BD",
         "Agribiofuels LLC",
         "138 Seaberg Industrial Rd",
         "Dayton",
         "TX",
         "77535",
         null,
         "US"
        ],
        [
         "BD",
         "Quarles Fleet Fueling - Richmond",
         "1625 N Hamilton St",
         "Richmond",
         "VA",
         "23230",
         null,
         "US"
        ],
        [
         "BD",
         "Naval Station Everett",
         "2000 W Marine View Dr",
         "Everett",
         "WA",
         "98207",
         null,
         "US"
        ],
        [
         "BD",
         "Smithsonian Transportation Repair Shop - Garber Facility",
         "3904 Old Silver Hill Rd",
         "Suitland",
         "MD",
         "20746",
         null,
         "US"
        ],
        [
         "BD",
         "Fort Bragg - DA & Air Force Exchange Service",
         "Longstreet Rd & Gruber Rd",
         "Fort Bragg",
         "NC",
         "28307",
         null,
         "US"
        ],
        [
         "BD",
         "Oak Ridge National Laboratory",
         "1 Bethel Valley Rd",
         "Oak Ridge",
         "TN",
         "37932",
         null,
         "US"
        ],
        [
         "BD",
         "Minnoco - Minnetonka U-Haul",
         "13118 Excelsior Blvd",
         "Minnetonka",
         "MN",
         "55343",
         null,
         "US"
        ],
        [
         "BD",
         "City of Phoenix - Fire Station #58",
         "4718 W Dobbins Rd",
         "Phoenix",
         "AZ",
         "85339",
         null,
         "US"
        ],
        [
         "BD",
         "Alabama Department of Transportation",
         "11975 Lavon Shaddox Ln",
         "Andalusia",
         "AL",
         "36420",
         null,
         "US"
        ],
        [
         "BD",
         "Alabama Department of Transportation",
         "171 Sam Houston Blvd",
         "Dothan",
         "AL",
         "36303",
         null,
         "US"
        ],
        [
         "BD",
         "Alabama Department of Transportation",
         "3710 Plaza Dr",
         "Enterprise",
         "AL",
         "36330",
         null,
         "US"
        ],
        [
         "BD",
         "Alabama Department of Transportation",
         "461 Black Forest Dr",
         "Ozark",
         "AL",
         "36360",
         null,
         "US"
        ],
        [
         "BD",
         "Alabama Department of Transportation",
         "760 Highway 30",
         "Eufaula",
         "AL",
         "36072",
         null,
         "US"
        ],
        [
         "BD",
         "Thorntons #115",
         "800 NW Hwy",
         "Cary",
         "IL",
         "60013",
         null,
         "US"
        ],
        [
         "BD",
         "Speedway",
         "15050 Galaxie Ave",
         "Apple Valley",
         "MN",
         "55124",
         null,
         "US"
        ],
        [
         "BD",
         "Speedway",
         "1341 187th Ln NE",
         "East Bethel",
         "MN",
         "55011",
         null,
         "US"
        ],
        [
         "BD",
         "Speedway",
         "9290 202nd St W",
         "Lakeville",
         "MN",
         "55044",
         null,
         "US"
        ],
        [
         "BD",
         "Chevron - Woodburn",
         "993 Lawson Ave",
         "Woodburn",
         "OR",
         "97071",
         null,
         "US"
        ],
        [
         "BD",
         "Kwik Trip #1014",
         "12260 Fraizer St NE",
         "Blaine",
         "MN",
         "55449",
         null,
         "US"
        ],
        [
         "BD",
         "Ron's LP Gas Service",
         "43437 225th Ave",
         "Lake Mills",
         "IA",
         "50450",
         null,
         "US"
        ],
        [
         "BD",
         "First Co-op Association",
         "1583 Market Ave",
         "Galva",
         "IA",
         "51020",
         null,
         "US"
        ],
        [
         "BD",
         "Speedway #7459",
         "2850 Skokie Hwy",
         "North Chicago",
         "IL",
         "60064",
         null,
         "US"
        ],
        [
         "BD",
         "Camp Pendleton Marine Corps Base",
         "Vandegrift Blvd",
         "Camp Pendleton",
         "CA",
         "92055",
         null,
         "US"
        ],
        [
         "BD",
         "Marine Corps Air Station - Yuma",
         "320 Smith St",
         "Yuma",
         "AZ",
         "85369",
         null,
         "US"
        ],
        [
         "BD",
         "South Carolina Department of Transportation - York",
         "338 W Robertson Rd",
         "Rock Hill",
         "SC",
         "29730",
         null,
         "US"
        ],
        [
         "BD",
         "South Carolina Department of Transportation - Greenville",
         "13 Saluda Dam Rd",
         "Greenville",
         "SC",
         "29611",
         null,
         "US"
        ],
        [
         "BD",
         "South Carolina Department of Transportation - Sumter",
         "301 E Calhoun St",
         "Sumter",
         "SC",
         "29150",
         null,
         "US"
        ],
        [
         "BD",
         "South Carolina Department of Transportation - North Charleston",
         "6355 Fain Blvd",
         "North Charleston",
         "SC",
         "29406",
         null,
         "US"
        ],
        [
         "BD",
         "South Carolina Department of Transportation - Walterboro",
         "593 Sniders Hwy",
         "Walterboro",
         "SC",
         "29488",
         null,
         "US"
        ],
        [
         "BD",
         "South Carolina Department of Transportation - Conway",
         "4145 Highway 701 N",
         "Conway",
         "SC",
         "29526",
         null,
         "US"
        ],
        [
         "BD",
         "South Carolina Department of Transportation - Florence",
         "3018 E Palmetto St",
         "Florence",
         "SC",
         "29503",
         null,
         "US"
        ],
        [
         "BD",
         "South Carolina Department of Transportation - Pickens",
         "975 Breazeale Rd",
         "Liberty",
         "SC",
         "29657",
         null,
         "US"
        ],
        [
         "BD",
         "South Carolina Department of Transportation - Kershaw",
         "512 S Fair St",
         "Camden",
         "SC",
         "29020",
         null,
         "US"
        ],
        [
         "BD",
         "South Carolina Department of Transportation - Anderson",
         "4740 Liberty Hwy",
         "Anderson",
         "SC",
         "29621",
         null,
         "US"
        ],
        [
         "BD",
         "South Carolina Department of Transportation - Williamsburg",
         "1315 Eastland Ave",
         "Kingstree",
         "SC",
         "29556",
         null,
         "US"
        ],
        [
         "BD",
         "South Carolina Department of Transportation - Clarendon",
         "US 521 E Boyce St",
         "Manning",
         "SC",
         "29102",
         null,
         "US"
        ],
        [
         "BD",
         "South Carolina Department of Transportation - Spartanburg",
         "8890 Fairforest Rd",
         "Spartanburg",
         "SC",
         "29303",
         null,
         "US"
        ],
        [
         "BD",
         "South Carolina Department of Transportation - Bennettsville",
         "474 SC-38",
         "Bennettsville",
         "SC",
         "29512",
         null,
         "US"
        ],
        [
         "BD",
         "South Carolina Department of Transportation - Oconee",
         "150 Richland Rd",
         "Westminster",
         "SC",
         "29693",
         null,
         "US"
        ],
        [
         "BD",
         "South Carolina Department of Transportation - Darlington",
         "111 Lamar Hwy",
         "Darlington",
         "SC",
         "29540",
         null,
         "US"
        ],
        [
         "BD",
         "South Carolina Department of Transportation - Cherokee",
         "1868 Old Georgia Hwy",
         "Gaffney",
         "SC",
         "29340",
         null,
         "US"
        ],
        [
         "BD",
         "South Carolina Department of Transportation - Chester",
         "1143 SCDOT Rd",
         "Chester",
         "SC",
         "29706",
         null,
         "US"
        ],
        [
         "BD",
         "South Carolina Department of Transportation - Holly Hill",
         "6328 Old State Rd",
         "Holly Hill",
         "SC",
         "29059",
         null,
         "US"
        ],
        [
         "BD",
         "South Carolina Department of Transportation - Dillon",
         "1203 E Main St",
         "Dillon",
         "SC",
         "29536",
         null,
         "US"
        ],
        [
         "BD",
         "South Carolina Department of Transportation - Berkeley",
         "436 Highway 52 N",
         "Moncks Corner",
         "SC",
         "29461",
         null,
         "US"
        ],
        [
         "BD",
         "South Carolina Department of Transportation - Lee",
         "703 E Church St",
         "Bishopville",
         "SC",
         "29010",
         null,
         "US"
        ],
        [
         "BD",
         "Alabama Department of Transportation",
         "2715 E Skyland Blvd",
         "Tuscaloosa",
         "AL",
         "35405",
         null,
         "US"
        ],
        [
         "BD",
         "Mr. Fuel Travel Center",
         "11 Highway W",
         "Foristell",
         "MO",
         "63348",
         null,
         "US"
        ],
        [
         "BD",
         "Casey's General Store",
         "400 Cottonwood Rd",
         "Mountain Lake",
         "MN",
         "56159",
         null,
         "US"
        ],
        [
         "BD",
         "City of Phoenix - Fire Station #38",
         "5002 E Warner Rd",
         "Phoenix",
         "AZ",
         "85044",
         null,
         "US"
        ],
        [
         "BD",
         "City of Phoenix - Okemah Service Center",
         "3828 E Anne St",
         "Phoenix",
         "AZ",
         "85040",
         null,
         "US"
        ],
        [
         "BD",
         "City of Phoenix - Fire Station #55",
         "26800 N 27 Ave",
         "Phoenix",
         "AZ",
         "85085",
         null,
         "US"
        ],
        [
         "BD",
         "Stripes",
         "1206 Avenue E",
         "Ozona",
         "TX",
         "76943",
         null,
         "US"
        ],
        [
         "BD",
         "Chevron",
         "990 Lockwood Dr",
         "Houston",
         "TX",
         "77020",
         null,
         "US"
        ],
        [
         "BD",
         "Casey's General Store",
         "617 W Maine St",
         "Amboy",
         "MN",
         "56010",
         null,
         "US"
        ],
        [
         "BD",
         "Casey's General Store",
         "101 Prairie Ave",
         "Butterfield",
         "MN",
         "56120",
         null,
         "US"
        ],
        [
         "BD",
         "Casey's General Store",
         "620 2nd Ave S",
         "St. James",
         "MN",
         "56081",
         null,
         "US"
        ],
        [
         "BD",
         "Casey's General Store",
         "302 N 5th Ave E",
         "Truman",
         "MN",
         "56088",
         null,
         "US"
        ],
        [
         "BD",
         "Casey's General Store",
         "112 2nd St",
         "Welcome",
         "MN",
         "56181",
         null,
         "US"
        ],
        [
         "BD",
         "Casey's General Store",
         "30 Energy Ln SW",
         "Oronoco",
         "MN",
         "55960",
         null,
         "US"
        ],
        [
         "BD",
         "Casey's General Store",
         "29905 Shoquist Ln",
         "Chisago City",
         "MN",
         "55013",
         null,
         "US"
        ],
        [
         "BD",
         "Casey's General Store",
         "55 County Rd 43 NW",
         "Big Lake",
         "MN",
         "55309",
         null,
         "US"
        ],
        [
         "BD",
         "Casey's General Store",
         "415 2nd St SE",
         "New Richland",
         "MN",
         "56072",
         null,
         "US"
        ],
        [
         "BD",
         "Casey's General Store",
         "313 Shimmcor St",
         "Mayer",
         "MN",
         "55360",
         null,
         "US"
        ],
        [
         "BD",
         "Casey's General Store",
         "175 Nelson Blvd",
         "Montrose",
         "MN",
         "55363",
         null,
         "US"
        ],
        [
         "BD",
         "Casey's General Store",
         "302 SE 7th Ave",
         "Grand Rapids",
         "MN",
         "55744",
         null,
         "US"
        ],
        [
         "BD",
         "Casey's General Store",
         "1907 7th St NW",
         "Rochester",
         "MN",
         "55901",
         null,
         "US"
        ],
        [
         "BD",
         "Casey's General Store",
         "527 E Depot St",
         "Litchfield",
         "MN",
         "55355",
         null,
         "US"
        ],
        [
         "BD",
         "Casey's General Store",
         "1802 8th Ave NW",
         "Sauk Rapids",
         "MN",
         "56379",
         null,
         "US"
        ],
        [
         "BD",
         "Casey's General Store",
         "1080 Highway 12",
         "Ortonville",
         "MN",
         "56278",
         null,
         "US"
        ],
        [
         "BD",
         "Casey's General Store",
         "13991 Baxter Dr",
         "Baxter",
         "MN",
         "56425",
         null,
         "US"
        ],
        [
         "BD",
         "Farmers Co-op Oil Co",
         "215 Central Ave S",
         "Elbow Lake",
         "MN",
         "56531",
         null,
         "US"
        ],
        [
         "BD",
         "Meadowland Farmers Co-op",
         "25861 Highway 14",
         "Lamberton",
         "MN",
         "56152",
         null,
         "US"
        ],
        [
         "BD",
         "Casey's General Store",
         "224 4th St SW",
         "Richmond",
         "MN",
         "56368",
         null,
         "US"
        ],
        [
         "BD",
         "Casey's General Store",
         "1702 12th St SW",
         "Austin",
         "MN",
         "55912",
         null,
         "US"
        ],
        [
         "BD",
         "Casey's General Store",
         "603 3rd St",
         "Jackson",
         "MN",
         "56143",
         null,
         "US"
        ],
        [
         "BD",
         "Casey's General Store",
         "240 6th St N",
         "Winsted",
         "MN",
         "55395",
         null,
         "US"
        ],
        [
         "BD",
         "Casey's General Store",
         "605 N Sibley Ave",
         "Litchfield",
         "MN",
         "55355",
         null,
         "US"
        ],
        [
         "BD",
         "Casey's General Store",
         "301 Highway 59 N",
         "Fulda",
         "MN",
         "56131",
         null,
         "US"
        ],
        [
         "BD",
         "Casey's General Store",
         "101 E Cumberland Rd",
         "Altamont",
         "IL",
         "62411",
         null,
         "US"
        ],
        [
         "BD",
         "Casey's General Store",
         "210 20th St NW",
         "Faribault",
         "MN",
         "55021",
         null,
         "US"
        ],
        [
         "BD",
         "Casey's General Store",
         "302 S Kniss Ave",
         "Luverne",
         "MN",
         "56156",
         null,
         "US"
        ],
        [
         "BD",
         "Casey's General Store",
         "100 E Main St",
         "Marshall",
         "MN",
         "56258",
         null,
         "US"
        ],
        [
         "BD",
         "Casey's General Store",
         "3480 Bridge St NW",
         "St. Francis",
         "MN",
         "55070",
         null,
         "US"
        ],
        [
         "BD",
         "Casey's General Store",
         "202 E Blue Earth Ave",
         "Fairmont",
         "MN",
         "56031",
         null,
         "US"
        ],
        [
         "BD",
         "Casey's General Store",
         "304 Jefferson St N",
         "Wadena",
         "MN",
         "56482",
         null,
         "US"
        ],
        [
         "BD",
         "Casey's General Store",
         "206 Lake St S",
         "Long Prairie",
         "MN",
         "56347",
         null,
         "US"
        ],
        [
         "BD",
         "Casey's General Store",
         "410 Highway 23",
         "Foley",
         "MN",
         "56329",
         null,
         "US"
        ],
        [
         "BD",
         "Casey's General Store",
         "107 1st Ave S",
         "St. James",
         "MN",
         "56081",
         null,
         "US"
        ],
        [
         "BD",
         "Casey's General Store",
         "501 S Rum River Dr",
         "Princeton",
         "MN",
         "55371",
         null,
         "US"
        ],
        [
         "BD",
         "Casey's General Store",
         "5321 Wyoming Trl",
         "Wyoming",
         "MN",
         "55092",
         null,
         "US"
        ],
        [
         "BD",
         "Casey's General Store",
         "2101 10th St E",
         "Glencoe",
         "MN",
         "55336",
         null,
         "US"
        ],
        [
         "BD",
         "Casey's General Store",
         "314 20th St S",
         "New Ulm",
         "MN",
         "56073",
         null,
         "US"
        ],
        [
         "BD",
         "Casey's General Store",
         "2290 Main St S",
         "Cambridge",
         "MN",
         "55008",
         null,
         "US"
        ],
        [
         "BD",
         "Casey's General Store",
         "8431 State Highway 55",
         "Rockford",
         "MN",
         "55373",
         null,
         "US"
        ],
        [
         "BD",
         "Casey's General Store",
         "625 E Vernon Ave",
         "Fergus Falls",
         "MN",
         "56537",
         null,
         "US"
        ],
        [
         "BD",
         "Casey's General Store",
         "510 Highway 7 E",
         "Hutchinson",
         "MN",
         "55350",
         null,
         "US"
        ],
        [
         "BD",
         "Casey's General Store",
         "475 18th St SE",
         "Owatonna",
         "MN",
         "55060",
         null,
         "US"
        ],
        [
         "BD",
         "Casey's General Store",
         "707 37th Ave S",
         "Moorhead",
         "MN",
         "56560",
         null,
         "US"
        ],
        [
         "BD",
         "Casey's General Store",
         "311 Center Ave W",
         "Dilworth",
         "MN",
         "56529",
         null,
         "US"
        ],
        [
         "BD",
         "Casey's General Store",
         "104 Roosevelt Ave",
         "Detroit Lakes",
         "MN",
         "56501",
         null,
         "US"
        ],
        [
         "BD",
         "Casey's General Store",
         "2001 N Riverfront Dr",
         "Mankato",
         "MN",
         "56001",
         null,
         "US"
        ],
        [
         "BD",
         "Casey's General Store",
         "215 Central St E",
         "Lonsdale",
         "MN",
         "55046",
         null,
         "US"
        ],
        [
         "BD",
         "Casey's General Store",
         "201 4th Ave NW",
         "New Prague",
         "MN",
         "56071",
         null,
         "US"
        ],
        [
         "BD",
         "Casey's General Store",
         "521 Woodley St W",
         "Northfield",
         "MN",
         "55057",
         null,
         "US"
        ],
        [
         "BD",
         "Casey's General Store",
         "216 4th St NW",
         "Montgomery",
         "MN",
         "56069",
         null,
         "US"
        ],
        [
         "BD",
         "Casey's General Store",
         "100 Highway 13 N",
         "Waterville",
         "MN",
         "56096",
         null,
         "US"
        ],
        [
         "BD",
         "Casey's General Store",
         "111 Highway 60 W",
         "Elysian",
         "MN",
         "56028",
         null,
         "US"
        ],
        [
         "BD",
         "Casey's General Store",
         "567 Oak St",
         "Dawson",
         "MN",
         "56232",
         null,
         "US"
        ],
        [
         "BD",
         "Casey's General Store",
         "1205 Morgan St",
         "Tracy",
         "MN",
         "56175",
         null,
         "US"
        ],
        [
         "BD",
         "Casey's General Store",
         "605 S Main St",
         "Stewartville",
         "MN",
         "55976",
         null,
         "US"
        ],
        [
         "BD",
         "Casey's General Store",
         "300 County Rd 40 E",
         "Carver",
         "MN",
         "55315",
         null,
         "US"
        ],
        [
         "BD",
         "Casey's General Store",
         "60 Walnut Ave",
         "Madison Lake",
         "MN",
         "56063",
         null,
         "US"
        ],
        [
         "BD",
         "Casey's General Store",
         "214 State St N",
         "West Concord",
         "MN",
         "55985",
         null,
         "US"
        ],
        [
         "BD",
         "Casey's General Store",
         "320 N Main St",
         "Mantorville",
         "MN",
         "55955",
         null,
         "US"
        ],
        [
         "BD",
         "Casey's General Store",
         "2078 2nd St",
         "Lake Park",
         "MN",
         "56554",
         null,
         "US"
        ],
        [
         "BD",
         "Casey's General Store",
         "101 598th Ave",
         "Eagle Lake",
         "MN",
         "56024",
         null,
         "US"
        ],
        [
         "BD",
         "Casey's General Store",
         "875 US 52 N",
         "Preston",
         "MN",
         "55965",
         null,
         "US"
        ],
        [
         "BD",
         "Casey's General Store",
         "228 8th Ave NE",
         "Pipestone",
         "MN",
         "56164",
         null,
         "US"
        ],
        [
         "BD",
         "Casey's General Store",
         "502 N Main St",
         "Sherburn",
         "MN",
         "56171",
         null,
         "US"
        ],
        [
         "BD",
         "Casey's General Store",
         "1102 Heckman Ct",
         "St. James",
         "MN",
         "56081",
         null,
         "US"
        ],
        [
         "BD",
         "Casey's General Store",
         "720 2nd St NW",
         "Hayfield",
         "MN",
         "55940",
         null,
         "US"
        ],
        [
         "BD",
         "Casey's General Store",
         "841 Parker Ave W",
         "Dassel",
         "MN",
         "55325",
         null,
         "US"
        ],
        [
         "BD",
         "Casey's General Store",
         "107 Miller St",
         "New York Mills",
         "MN",
         "56567",
         null,
         "US"
        ],
        [
         "BD",
         "Casey's General Store",
         "504 Central Ave N",
         "Mapleton",
         "MN",
         "56065",
         null,
         "US"
        ],
        [
         "BD",
         "Casey's General Store",
         "2021 Highway 59 N",
         "Worthington",
         "MN",
         "56187",
         null,
         "US"
        ],
        [
         "BD",
         "Casey's General Store",
         "1125 Main St W",
         "Cannon Falls",
         "MN",
         "55009",
         null,
         "US"
        ],
        [
         "BD",
         "Casey's General Store",
         "850 N Munsterman St",
         "Appleton",
         "MN",
         "56208",
         null,
         "US"
        ],
        [
         "BD",
         "Casey's General Store",
         "520 Highway 212 W",
         "Granite Falls",
         "MN",
         "56241",
         null,
         "US"
        ],
        [
         "BD",
         "Casey's General Store",
         "1311 W Lincoln Ave",
         "Olivia",
         "MN",
         "56277",
         null,
         "US"
        ],
        [
         "BD",
         "Casey's General Store",
         "707 E Bridge St",
         "Redwood Falls",
         "MN",
         "56283",
         null,
         "US"
        ],
        [
         "BD",
         "Casey's General Store",
         "604 E Main St",
         "Madelia",
         "MN",
         "56062",
         null,
         "US"
        ],
        [
         "BD",
         "Casey's General Store",
         "3400 12th Ave S",
         "Moorhead",
         "MN",
         "56560",
         null,
         "US"
        ],
        [
         "BD",
         "Casey's General Store",
         "309 Pleasant Ave W",
         "Atwater",
         "MN",
         "56209",
         null,
         "US"
        ],
        [
         "BD",
         "Casey's General Store",
         "303 Avon Ave S",
         "Avon",
         "MN",
         "56310",
         null,
         "US"
        ],
        [
         "BD",
         "Casey's General Store",
         "100 Milky Way St S",
         "Cosmos",
         "MN",
         "56228",
         null,
         "US"
        ],
        [
         "BD",
         "Casey's General Store",
         "115 Minnesota 55",
         "Kimball",
         "MN",
         "55353",
         null,
         "US"
        ],
        [
         "BD",
         "Casey's General Store",
         "400 W Highway 23",
         "Ogilvie",
         "MN",
         "56358",
         null,
         "US"
        ],
        [
         "BD",
         "Casey's General Store",
         "6515 County Rd 136",
         "St. Augusta",
         "MN",
         "56301",
         null,
         "US"
        ],
        [
         "BD",
         "Casey's General Store",
         "200 W Highway St",
         "Dodge Center",
         "MN",
         "55927",
         null,
         "US"
        ],
        [
         "BD",
         "Casey's General Store",
         "2300 Highway 12 E",
         "Willmar",
         "MN",
         "56201",
         null,
         "US"
        ],
        [
         "BD",
         "Casey's General Store",
         "1702 30th Ave S",
         "Moorhead",
         "MN",
         "56560",
         null,
         "US"
        ],
        [
         "BD",
         "Casey's General Store",
         "203 21st St S",
         "Moorhead",
         "MN",
         "56560",
         null,
         "US"
        ],
        [
         "BD",
         "Casey's General Store",
         "1 Center Ave E",
         "Dilworth",
         "MN",
         "56529",
         null,
         "US"
        ],
        [
         "BD",
         "Casey's General Store",
         "907 Minnesota St",
         "Paynesville",
         "MN",
         "56362",
         null,
         "US"
        ],
        [
         "BD",
         "Casey's General Store",
         "735 N Broadway Ave",
         "Spring Valley",
         "MN",
         "55975",
         null,
         "US"
        ],
        [
         "BD",
         "Casey's General Store",
         "3959 Highway 30 W",
         "Ellendale",
         "MN",
         "56026",
         null,
         "US"
        ],
        [
         "BD",
         "Casey's General Store",
         "302 State Highway 23 S",
         "Sandstone",
         "MN",
         "55072",
         null,
         "US"
        ],
        [
         "BD",
         "Casey's General Store",
         "7222 Sunwood Dr NW",
         "Ramsey",
         "MN",
         "55303",
         null,
         "US"
        ],
        [
         "BD",
         "Casey's General Store",
         "15 US Highway 2 W",
         "Cohasset",
         "MN",
         "55721",
         null,
         "US"
        ],
        [
         "BD",
         "Casey's General Store",
         "1018 Central Ave",
         "Lester Prairie",
         "MN",
         "55354",
         null,
         "US"
        ],
        [
         "BD",
         "Casey's General Store",
         "1109 E College Dr",
         "Marshall",
         "MN",
         "56258",
         null,
         "US"
        ],
        [
         "BD",
         "Casey's General Store",
         "102 20th St NW",
         "Stewartville",
         "MN",
         "55976",
         null,
         "US"
        ],
        [
         "BD",
         "Casey's General Store",
         "101 Riverview Dr",
         "Medford",
         "MN",
         "55049",
         null,
         "US"
        ],
        [
         "BD",
         "Casey's General Store",
         "261 South St",
         "Stewart",
         "MN",
         "55385",
         null,
         "US"
        ],
        [
         "BD",
         "Casey's General Store",
         "129 N Memorial Dr",
         "Hoffman",
         "MN",
         "56339",
         null,
         "US"
        ],
        [
         "BD",
         "Casey's General Store",
         "920 Main St S",
         "Pine City",
         "MN",
         "55063",
         null,
         "US"
        ],
        [
         "BD",
         "Casey's General Store",
         "100 W Fisher Ave",
         "Crookston",
         "MN",
         "56716",
         null,
         "US"
        ],
        [
         "BD",
         "Casey's General Store",
         "3373 S Broadway St",
         "Alexandria",
         "MN",
         "56308",
         null,
         "US"
        ],
        [
         "BD",
         "Casey's General Store",
         "1101 Main St E",
         "Sleepy Eye",
         "MN",
         "56085",
         null,
         "US"
        ],
        [
         "BD",
         "Casey's General Store",
         "215 Elm St W",
         "Annandale",
         "MN",
         "55302",
         null,
         "US"
        ],
        [
         "BD",
         "Casey's General Store",
         "521 Wells St",
         "Belgrade",
         "MN",
         "56312",
         null,
         "US"
        ],
        [
         "BD",
         "Casey's General Store",
         "850 Lum Park Rd",
         "Brainerd",
         "MN",
         "56401",
         null,
         "US"
        ],
        [
         "BD",
         "Casey's General Store",
         "457 S Main St",
         "Browerville",
         "MN",
         "56438",
         null,
         "US"
        ],
        [
         "BD",
         "Casey's General Store",
         "1306 US-10",
         "Detroit Lakes",
         "MN",
         "56501",
         null,
         "US"
        ],
        [
         "BD",
         "Casey's General Store",
         "746 Pillsbury St N",
         "Pillager",
         "MN",
         "56473",
         null,
         "US"
        ],
        [
         "BD",
         "Casey's General Store",
         "832 Superior Ave",
         "Randall",
         "MN",
         "56475",
         null,
         "US"
        ],
        [
         "BD",
         "Casey's General Store",
         "610 N Main St",
         "Starbuck",
         "MN",
         "56381",
         null,
         "US"
        ],
        [
         "BD",
         "Casey's General Store",
         "341 Bench St",
         "Taylors Falls",
         "MN",
         "55084",
         null,
         "US"
        ],
        [
         "BD",
         "Central Farms Service",
         "1500 Highway 3 S",
         "Northfield",
         "MN",
         "55057",
         null,
         "US"
        ],
        [
         "BD",
         "Fairgrove Oil & Propane",
         "1788 Main St",
         "Fairgrove",
         "MI",
         "48733",
         null,
         "US"
        ],
        [
         "BD",
         "Jerry's Service - Conoco",
         "505 N Cedar Ave",
         "Hartington",
         "NE",
         "68739",
         null,
         "US"
        ],
        [
         "BD",
         "Meadowland Co-op",
         "120 E Tin St",
         "Redwood Falls",
         "MN",
         "56283",
         null,
         "US"
        ],
        [
         "BD",
         "Michigan Petroleum Technologies",
         "3030 Moak St",
         "Port Huron",
         "MI",
         "48060",
         null,
         "US"
        ],
        [
         "BD",
         "Cenex - Farmers Union Oil Co",
         "2402 E Highway 7",
         "Montevideo",
         "MN",
         "56265",
         null,
         "US"
        ],
        [
         "BD",
         "Cenex - Consumers Co-op Oil Co",
         "1218 10th Ave",
         "Clarkfield",
         "MN",
         "56223",
         null,
         "US"
        ],
        [
         "BD",
         "United Farmers Co-op",
         "40399 State Highway 15",
         "Klossner",
         "MN",
         "56073",
         null,
         "US"
        ],
        [
         "BD",
         "MAPCO #7514",
         "2491 Fort Campbell Blvd",
         "Clarksville",
         "TN",
         "37040",
         null,
         "US"
        ],
        [
         "BD",
         "Texaco",
         "24627 I-45 N",
         "Spring",
         "TX",
         "77380",
         null,
         "US"
        ],
        [
         "BD",
         "United Farmers Co-op",
         "316 Main St",
         "LeSueur",
         "MN",
         "56058",
         null,
         "US"
        ],
        [
         "BD",
         "Northern Star Co-op - Remer",
         "6790 Highway 200 NE",
         "Remer",
         "MN",
         "56672",
         null,
         "US"
        ],
        [
         "BD",
         "Northern Star Co-op - Long Prairie Cenex",
         "904 1st Ave NE",
         "Prarie",
         "MN",
         "56653",
         null,
         "US"
        ],
        [
         "BD",
         "NERO: DEWA - Chado Farm Fuel Station",
         "11 Walpack Flatbrook Rd",
         "Layton",
         "NJ",
         "7851",
         null,
         "US"
        ],
        [
         "BD",
         "NERO: DEWA - Dingman's Fuel Station (Gasoline and Diesel)",
         "110 School House Rd",
         "Dingman's Ferry",
         "PA",
         "18328",
         null,
         "US"
        ],
        [
         "BD",
         "NAVBASE Ventura County - Point Mugu",
         "Bldg 613A",
         "Point Mugu",
         "CA",
         "93042",
         null,
         "US"
        ],
        [
         "BD",
         "0802-17591-G_FS Daniel Boone National Forest",
         "238 Visitor Center Dr",
         "Golden Pond",
         "KY",
         "42211",
         null,
         "US"
        ],
        [
         "BD",
         "Casey's General Store",
         "1 S Pine Dr",
         "Circle Pines",
         "MN",
         "55014",
         null,
         "US"
        ],
        [
         "BD",
         "Casey's General Store",
         "17119 Yale St",
         "Elk River",
         "MN",
         "55330",
         null,
         "US"
        ],
        [
         "BD",
         "Casey's General Store",
         "13717 Johnson St NE",
         "Ham Lake",
         "MN",
         "55304",
         null,
         "US"
        ],
        [
         "BD",
         "Casey's General Store",
         "9981 Diffley Crt",
         "Inver Grove Heights",
         "MN",
         "55077",
         null,
         "US"
        ],
        [
         "BD",
         "Casey's General Store",
         "424 S Main St",
         "Janesville",
         "MN",
         "56048",
         null,
         "US"
        ],
        [
         "BD",
         "Casey's General Store",
         "403 Mantorville Ave S",
         "Kasson",
         "MN",
         "55944",
         null,
         "US"
        ],
        [
         "BD",
         "Casey's General Store",
         "170 Saint Andrews Dr",
         "Mankato",
         "MN",
         "56001",
         null,
         "US"
        ],
        [
         "BD",
         "Casey's General Store",
         "325 Park Ave E",
         "Renville",
         "MN",
         "56284",
         null,
         "US"
        ],
        [
         "BD",
         "Casey's General Store",
         "2017 Maple Ave",
         "Slayton",
         "MN",
         "56172",
         null,
         "US"
        ],
        [
         "BD",
         "Casey's General Store",
         "31105 Forest Blvd",
         "Stacy",
         "MN",
         "55079",
         null,
         "US"
        ],
        [
         "BD",
         "Casey's General Store",
         "713 US-10 E",
         "Staples",
         "MN",
         "56749",
         null,
         "US"
        ],
        [
         "BD",
         "Casey's General Store",
         "13 5th St S",
         "Wheaton",
         "MN",
         "56296",
         null,
         "US"
        ],
        [
         "BD",
         "Casey's General Store",
         "351 6th St",
         "Manning",
         "IA",
         "51455",
         null,
         "US"
        ],
        [
         "BD",
         "LEAD Fuel Point",
         "1 Overcash Ave",
         "Chambersburg",
         "PA",
         "17201",
         null,
         "US"
        ],
        [
         "BD",
         "Cheltenham Readiness Center",
         "9900 Surratts Rd",
         "Cheltenham",
         "MD",
         "20623",
         null,
         "US"
        ],
        [
         "BD",
         "La Plata Readiness Center",
         "6025 Rose Hill Rd",
         "La Plata",
         "MD",
         "20646",
         null,
         "US"
        ],
        [
         "BD",
         "Laurel Readiness Center",
         "8601 Odell Rd",
         "Laurel",
         "MD",
         "20708",
         null,
         "US"
        ],
        [
         "BD",
         "Olney Readiness Center",
         "5115 Riggs Rd",
         "Gaithersburg",
         "MD",
         "20882",
         null,
         "US"
        ],
        [
         "BD",
         "White Oak Readiness Center",
         "12200 Cherry Hill Rd",
         "Silver Spring",
         "MD",
         "20904",
         null,
         "US"
        ],
        [
         "BD",
         "Edgewood AASF",
         "E4081 Aberdeen Proving Ground -EA",
         "Gunpowder",
         "MD",
         "21010",
         null,
         "US"
        ],
        [
         "BD",
         "Edgewood Readiness Center",
         "E4305 Aberdeen Proving Ground",
         "Gunpowder",
         "MD",
         "21010",
         null,
         "US"
        ],
        [
         "BD",
         "Purnell Readiness Center",
         "10901 Notchcliff Rd",
         "Glen Arm",
         "MD",
         "21057",
         null,
         "US"
        ],
        [
         "BD",
         "Westminster Readiness Center",
         "350 Hahn Rd",
         "Westminster",
         "MD",
         "21157",
         null,
         "US"
        ],
        [
         "BD",
         "Cade Readiness Center",
         "2620 Winchester St",
         "Baltimore",
         "MD",
         "21216",
         null,
         "US"
        ],
        [
         "BD",
         "Dundalk Readiness Center",
         "2101 N Point Blvd",
         "Dundalk",
         "MD",
         "21222",
         null,
         "US"
        ],
        [
         "BD",
         "Catonsville Readiness Center",
         "130 Mellor Ave",
         "Catonsville",
         "MD",
         "21228",
         null,
         "US"
        ],
        [
         "BD",
         "Parkville Readiness Center",
         "3727 Putty Hill Ave",
         "Parkville",
         "MD",
         "21236",
         null,
         "US"
        ],
        [
         "BD",
         "Annapolis Readiness Center",
         "18 Willow St",
         "Annapolis",
         "MD",
         "21401",
         null,
         "US"
        ],
        [
         "BD",
         "Cumberland Readiness Center",
         "1100 Brown Ave",
         "Cumberland",
         "MD",
         "21502",
         null,
         "US"
        ],
        [
         "BD",
         "Easton Readiness Center",
         "7111 Ocean Gateway",
         "Easton",
         "MD",
         "21601",
         null,
         "US"
        ],
        [
         "BD",
         "Hagerstown Readiness Center",
         "18500 Roxbury Rd",
         "Hagerstown",
         "MD",
         "21740",
         null,
         "US"
        ],
        [
         "BD",
         "Freedom Readiness Center",
         "6525 Sykesville Rd",
         "Eldersburg",
         "MD",
         "21784",
         null,
         "US"
        ],
        [
         "BD",
         "Salisbury Readiness Center",
         "28722 Ocean Gateway",
         "Salisbury",
         "MD",
         "21801",
         null,
         "US"
        ],
        [
         "BD",
         "Crane Fuel Farm",
         "300 Highway 361",
         "Crane",
         "IN",
         "47522",
         null,
         "US"
        ],
        [
         "BD",
         "Locamotive Site 22",
         "300 Highway 361",
         "Crane",
         "IN",
         "47522",
         null,
         "US"
        ],
        [
         "BD",
         "McGuire AFB",
         "3151 County Rd 616",
         "Fort Dix",
         "NJ",
         "8640",
         null,
         "US"
        ],
        [
         "BD",
         "McGuire ANG",
         "1821 Sheppard Bridge Rd",
         "McGuire AFB",
         "NJ",
         "8641",
         null,
         "US"
        ],
        [
         "BD",
         "NERO - SHEN-Headquarters",
         "3655 US Highway 211 E",
         "Luray",
         "VA",
         "22835",
         null,
         "US"
        ],
        [
         "BD",
         "SERO- GRSM Cataloochee Diesel Fuel System",
         "3576 Ranger Station Rd",
         "Waynesville",
         "NC",
         "28786",
         null,
         "US"
        ],
        [
         "BD",
         "SERO - Chickamauga Diesel Fuel System",
         "269 Dyer Rd",
         "Chickamauga",
         "GA",
         "30707",
         null,
         "US"
        ],
        [
         "BD",
         "SERO - CARI Diesel Fuel System",
         "4385 Highway 494",
         "Natchez",
         "LA",
         "71457",
         null,
         "US"
        ],
        [
         "BD",
         "PWRO - CHIS SRI Diesel Fuel System",
         "1901 Spinnaker Dr",
         "Ventura",
         "CA",
         "93001",
         null,
         "US"
        ],
        [
         "BD",
         "NEX NSWC Crane - Locomotive Site",
         "300 Highway 361",
         "Crane",
         "IN",
         "47522",
         null,
         "US"
        ],
        [
         "BD",
         "NEX NSWC Crane - PWC Site",
         "300 Highway 361",
         "Crane",
         "IN",
         "47522",
         null,
         "US"
        ],
        [
         "BD",
         "Beaufort Marine Corps Air Station",
         "Geiger Blvd",
         "Beaufort",
         "SC",
         "29904",
         null,
         "US"
        ],
        [
         "BD",
         "David Monthan AFB",
         "Flightline Rd",
         "Tucson",
         "AZ",
         "85707",
         null,
         "US"
        ],
        [
         "BD",
         "NAVRADSTA Jim Creek",
         "Jim Creek Rd",
         "Arlington",
         "WA",
         "98223",
         null,
         "US"
        ],
        [
         "BD",
         "NIH Fleet Station 2",
         "16701 Elmer School Rd",
         "Poolesville",
         "MD",
         "20837",
         null,
         "US"
        ],
        [
         "BD",
         "Social Security Administration 2",
         "5569 Caswell Rd",
         "Woodlawn",
         "MD",
         "21207",
         null,
         "US"
        ],
        [
         "BD",
         "MCB Camp Pendleton/DLA-Energy COCO - Fuel Facility 5270",
         "Fuel Facility 5270, Basilone Rd",
         "Camp Pendleton",
         "CA",
         "92054",
         null,
         "US"
        ],
        [
         "BD",
         "FPC Montgomery",
         "Maxwell Air Force Base",
         "Montgomery",
         "AL",
         "36112",
         null,
         "US"
        ],
        [
         "BD",
         "Camp Lejeune Marine Corps Base",
         "Camp Geiger",
         "Camp Lejeune",
         "NC",
         "28542",
         null,
         "US"
        ],
        [
         "BD",
         "24/7 Travel Store",
         "2230 N 9th St",
         "Salina",
         "KS",
         "67401",
         null,
         "US"
        ],
        [
         "BD",
         "24/7 Travel Store",
         "745 S First St",
         "Wakeeney",
         "KS",
         "67672",
         null,
         "US"
        ],
        [
         "BD",
         "24/7 Travel Store",
         "671 Westport Blvd",
         "Salina",
         "KS",
         "67401",
         null,
         "US"
        ],
        [
         "BD",
         "24/7 Travel Store",
         "32981 Windy Hill Rd",
         "Maple Hill",
         "KS",
         "66507",
         null,
         "US"
        ],
        [
         "BD",
         "24/7 Travel Store",
         "2200 N Buckeye Ave",
         "Abilene",
         "KS",
         "67410",
         null,
         "US"
        ],
        [
         "BD",
         "24/7 Travel Store",
         "1415 S Fossil St",
         "Russell",
         "KS",
         "67665",
         null,
         "US"
        ],
        [
         "BD",
         "Casey's General Store #3755",
         "2803 S Arkansas Ave",
         "Russellville",
         "AR",
         "72802",
         null,
         "US"
        ],
        [
         "BD",
         "Casey's General Store",
         "101 E 8th St",
         "Danville",
         "AR",
         "72833",
         null,
         "US"
        ],
        [
         "BD",
         "Casey's General Store",
         "1705 Highway 9B",
         "Morrilton",
         "AR",
         "72110",
         null,
         "US"
        ],
        [
         "BD",
         "Casey's General Store #3879",
         "119 S Main St",
         "Cave City",
         "AR",
         "72521",
         null,
         "US"
        ],
        [
         "BD",
         "Casey's General Store #3693",
         "804 Highway 25B N",
         "Heber Springs",
         "AR",
         "72543",
         null,
         "US"
        ],
        [
         "BD",
         "Casey's General Store #3738",
         "727 E Main St",
         "Gassville",
         "AR",
         "72653",
         null,
         "US"
        ],
        [
         "BD",
         "Casey's General Store #3936",
         "1 S Broadview",
         "Greenbriar",
         "AR",
         "72058",
         null,
         "US"
        ],
        [
         "BD",
         "Casey's General Store #3876",
         "2620 E Beebe Capps Expy",
         "Searcy",
         "AR",
         "72143",
         null,
         "US"
        ],
        [
         "BD",
         "Casey's General Store #3530",
         "220 Highway 5 N",
         "Mountain Home",
         "AR",
         "72653",
         null,
         "US"
        ],
        [
         "BD",
         "Casey's General Store #3345",
         "906 N Church St",
         "Atkins",
         "AR",
         "72823",
         null,
         "US"
        ],
        [
         "BD",
         "Casey's General Store #3557",
         "307 S Arkansas Ave",
         "Russellville",
         "AR",
         "72801",
         null,
         "US"
        ],
        [
         "BD",
         "Casey's General Store #3616",
         "207 N Fourche Ave",
         "Perryville",
         "AR",
         "72126",
         null,
         "US"
        ],
        [
         "BD",
         "Casey's General Store #3699",
         "701 Bill Foster Memorial Hwy",
         "Cabot",
         "AR",
         "72023",
         null,
         "US"
        ],
        [
         "BD",
         "Renner Petroleum",
         "2782 Central Ave",
         "McKinleyville",
         "CA",
         "95519",
         null,
         "US"
        ],
        [
         "BD",
         "Renner Petroleum",
         "111 Main St",
         "Rio Dell",
         "CA",
         "95562",
         null,
         "US"
        ],
        [
         "BD",
         "Renner Petroleum",
         "597 Fernbridge Dr",
         "Fortuna",
         "CA",
         "95540",
         null,
         "US"
        ],
        [
         "BD",
         "Renner Petroleum",
         "1976 5th St",
         "Eureka",
         "CA",
         "95501",
         null,
         "US"
        ],
        [
         "BD",
         "NPS PWRO - CHIS ESC",
         "1901 Spinnaker Dr",
         "Ventura",
         "CA",
         "93001",
         null,
         "US"
        ],
        [
         "BD",
         "NPS NERO - SHEN-Piney River",
         null,
         "Rileyville",
         "VA",
         "22650",
         null,
         "US"
        ],
        [
         "BD",
         "NPS NCRO - Bay 3400 - DOE/NPS",
         "515 New York Ave NE",
         "Washington",
         "DC",
         "20002",
         null,
         "US"
        ],
        [
         "BD",
         "NPS SERO - BLRI - 455.5 Soco Fueling Center",
         "455 Blue Ridge Pkwy",
         "Soco Gap",
         "NC",
         "28605",
         null,
         "US"
        ],
        [
         "BD",
         "BOR Hoover Dam",
         "Hoover Dam",
         "Boulder City",
         "NV",
         "89005",
         null,
         "US"
        ],
        [
         "BD",
         "NPS SERO - GRSM Cosby",
         "107 Cosby Park Rd",
         "Cosby",
         "TN",
         "37722",
         null,
         "US"
        ],
        [
         "BD",
         "NPS NERO - SHEN-Headquarters",
         "3655 US Highway 211 E",
         "Luray",
         "VA",
         "22835",
         null,
         "US"
        ],
        [
         "BD",
         "NPS NERO - SHEN-Big Meadows",
         "Story of the Forest Tr",
         "Stanley",
         "VA",
         "22851",
         null,
         "US"
        ],
        [
         "BD",
         "NPS PWRO - NOCA Stehekin Fuel Facility",
         "272 Golden W Dr",
         "Stehekin",
         "WA",
         "98852",
         null,
         "US"
        ],
        [
         "BD",
         "NPS NCRO - Bus Maintenance Facility",
         "171 Shoreline Dr",
         "Harpers Ferry",
         "WV",
         "25425",
         null,
         "US"
        ],
        [
         "BD",
         "Bourne's Energy",
         "43 Raymond St",
         "Lyndonville",
         "VT",
         "5851",
         null,
         "US"
        ],
        [
         "BD",
         "24/7 Travel Store",
         "2710 Commerce Rd",
         "Goodland",
         "KS",
         "67735",
         null,
         "US"
        ],
        [
         "BD",
         "Casey's General Store",
         "103 6th Ave E",
         "Andalusia",
         "IL",
         "61232",
         null,
         "US"
        ],
        [
         "BD",
         "Casey's General Store",
         "201 N Main St",
         "Avon",
         "IL",
         "61415",
         null,
         "US"
        ],
        [
         "BD",
         "Casey's General Store",
         "425 Beloit Rd",
         "Belvidere",
         "IL",
         "61008",
         null,
         "US"
        ],
        [
         "BD",
         "Casey's General Store",
         "2131 E Lincoln Hwy",
         "DeKalb",
         "IL",
         "60115",
         null,
         "US"
        ],
        [
         "BD",
         "Casey's General Store",
         "1775 S West Ave",
         "Freeport",
         "IL",
         "61032",
         null,
         "US"
        ],
        [
         "BD",
         "Casey's General Store",
         "308 E Main St",
         "Amboy",
         "IL",
         "61310",
         null,
         "US"
        ],
        [
         "BD",
         "Casey's General Store",
         "411 5th St",
         "Andover",
         "IL",
         "61233",
         null,
         "US"
        ],
        [
         "BD",
         "Casey's General Store",
         "1102 N 1st St",
         "Ashton",
         "IL",
         "61006",
         null,
         "US"
        ],
        [
         "BD",
         "Casey's General Store",
         "300 E Henry St",
         "Atkinson",
         "IL",
         "61235",
         null,
         "US"
        ],
        [
         "BD",
         "Casey's General Store",
         "210 W Main St",
         "Bradford",
         "IL",
         "61421",
         null,
         "US"
        ],
        [
         "BD",
         "Casey's General Store",
         "700 W Blackhawk Dr",
         "Byron",
         "IL",
         "61010",
         null,
         "US"
        ],
        [
         "BD",
         "Casey's General Store",
         "500 E Main St",
         "Capron",
         "IL",
         "61012",
         null,
         "US"
        ],
        [
         "BD",
         "Casey's General Store",
         "306 2nd Ave",
         "Carbon Cliff",
         "IL",
         "61239",
         null,
         "US"
        ],
        [
         "BD",
         "Casey's General Store",
         "70 S Somonauk Rd",
         "Cortland",
         "IL",
         "60112",
         null,
         "US"
        ],
        [
         "BD",
         "Casey's General Store",
         "204 Illinois Rte 38",
         "Creston",
         "IL",
         "60113",
         null,
         "US"
        ],
        [
         "BD",
         "Casey's General Store",
         "111 N East St",
         "Dakota",
         "IL",
         "61018",
         null,
         "US"
        ],
        [
         "BD",
         "Casey's General Store",
         "1001 N Annie Glidden Rd",
         "Dekalb",
         "IL",
         "60115",
         null,
         "US"
        ],
        [
         "BD",
         "Casey's General Store",
         "100 W 4th St",
         "Depue",
         "IL",
         "61322",
         null,
         "US"
        ],
        [
         "BD",
         "Casey's General Store",
         "1401 W 4th St",
         "Dixon",
         "IL",
         "61021",
         null,
         "US"
        ],
        [
         "BD",
         "Casey's General Store",
         "701 S Ottawa St",
         "Earlville",
         "IL",
         "60518",
         null,
         "US"
        ],
        [
         "BD",
         "Casey's General Store",
         "1025 12th St",
         "Erie",
         "IL",
         "61250",
         null,
         "US"
        ],
        [
         "BD",
         "Casey's General Store",
         "203 E Lincoln Hwy",
         "Franklin Grove",
         "IL",
         "61031",
         null,
         "US"
        ],
        [
         "BD",
         "Casey's General Store",
         "223 W Main St",
         "Galesburg",
         "IL",
         "61401",
         null,
         "US"
        ],
        [
         "BD",
         "Casey's General Store",
         "2364 N Seminary St",
         "Galesburg",
         "IL",
         "61401",
         null,
         "US"
        ],
        [
         "BD",
         "Casey's General Store",
         "509 SE 2nd St",
         "Galva",
         "IL",
         "61434",
         null,
         "US"
        ],
        [
         "BD",
         "Casey's General Store",
         "837 N College Ave",
         "Geneseo",
         "IL",
         "61254",
         null,
         "US"
        ],
        [
         "BD",
         "Casey's General Store",
         "100 E Bestor Dr",
         "Geneseo",
         "IL",
         "61254",
         null,
         "US"
        ],
        [
         "BD",
         "Casey's General Store",
         "412 E Harper Ave",
         "Granville",
         "IL",
         "61326",
         null,
         "US"
        ],
        [
         "BD",
         "Casey's General Store",
         "1045 University Ave",
         "Henry",
         "IL",
         "61537",
         null,
         "US"
        ],
        [
         "BD",
         "Casey's General Store",
         "215 Powers Rd",
         "Hillcrest",
         "IL",
         "61068",
         null,
         "US"
        ],
        [
         "BD",
         "Casey's General Store",
         "601 Main St",
         "Keithsburg",
         "IL",
         "61442",
         null,
         "US"
        ],
        [
         "BD",
         "Casey's General Store",
         "618 N Main St",
         "Kewanee",
         "IL",
         "61443",
         null,
         "US"
        ],
        [
         "BD",
         "Casey's General Store",
         "129 E Railroad St",
         "Kingston",
         "IL",
         "60145",
         null,
         "US"
        ],
        [
         "BD",
         "Casey's General Store",
         "440 Henderson Rd",
         "Knoxville",
         "IL",
         "61448",
         null,
         "US"
        ],
        [
         "BD",
         "Casey's General Store",
         "1327 5th St",
         "La Salle",
         "IL",
         "61301",
         null,
         "US"
        ],
        [
         "BD",
         "Casey's General Store",
         "425 S Main Ave",
         "Ladd",
         "IL",
         "61329",
         null,
         "US"
        ],
        [
         "BD",
         "Casey's General Store",
         "111 W Illinois Route 64",
         "Lanark",
         "IL",
         "61046",
         null,
         "US"
        ],
        [
         "BD",
         "Casey's General Store",
         "180 N Main St",
         "Leland",
         "IL",
         "60531",
         null,
         "US"
        ],
        [
         "BD",
         "Casey's General Store",
         "301 N Schuyler St",
         "Lena",
         "IL",
         "61048",
         null,
         "US"
        ],
        [
         "BD",
         "Casey's General Store",
         "825 Cty Line Rd",
         "Maple Park",
         "IL",
         "60151",
         null,
         "US"
        ],
        [
         "BD",
         "Casey's General Store",
         "150 W Bluff St",
         "Marseilles",
         "IL",
         "61341",
         null,
         "US"
        ],
        [
         "BD",
         "Casey's General Store",
         "801 Meriden St",
         "Mendota",
         "IL",
         "61342",
         null,
         "US"
        ],
        [
         "BD",
         "Casey's General Store",
         "1105 W 10th Ave",
         "Milan",
         "IL",
         "61264",
         null,
         "US"
        ],
        [
         "BD",
         "Casey's General Store",
         "300 N Washington St",
         "Milledgeville",
         "IL",
         "61051",
         null,
         "US"
        ],
        [
         "BD",
         "Casey's General Store",
         "1112 W Broadway",
         "Monmouth",
         "IL",
         "61462",
         null,
         "US"
        ],
        [
         "BD",
         "Casey's General Store",
         "831 S Main St",
         "Monmouth",
         "IL",
         "61462",
         null,
         "US"
        ],
        [
         "BD",
         "Casey's General Store",
         "743 Bedford Rd",
         "Morris",
         "IL",
         "60450",
         null,
         "US"
        ],
        [
         "BD",
         "Casey's General Store",
         "602 E Lincolnway",
         "Morrison",
         "IL",
         "61270",
         null,
         "US"
        ],
        [
         "BD",
         "Casey's General Store",
         "2949 Illinois Rt 178",
         "North Utica",
         "IL",
         "61373",
         null,
         "US"
        ],
        [
         "BD",
         "Casey's General Store",
         "901 W Washington St",
         "Oregon",
         "IL",
         "61061",
         null,
         "US"
        ],
        [
         "BD",
         "Casey's General Store",
         "1101 Division St",
         "Orion",
         "IL",
         "61273",
         null,
         "US"
        ],
        [
         "BD",
         "Casey's General Store",
         "315 Grummon St",
         "Paw Paw",
         "IL",
         "61353",
         null,
         "US"
        ],
        [
         "BD",
         "Casey's General Store",
         "2950 4th St",
         "Peru",
         "IL",
         "61354",
         null,
         "US"
        ],
        [
         "BD",
         "Casey's General Store",
         "411 W South St",
         "Plano",
         "IL",
         "60545",
         null,
         "US"
        ],
        [
         "BD",
         "Casey's General Store",
         "120 N Division Ave",
         "Polo",
         "IL",
         "61064",
         null,
         "US"
        ],
        [
         "BD",
         "Casey's General Store",
         "302 N High St",
         "Port Byron",
         "IL",
         "61275",
         null,
         "US"
        ],
        [
         "BD",
         "Casey's General Store",
         "520 W Peru St",
         "Princeton",
         "IL",
         "61356",
         null,
         "US"
        ],
        [
         "BD",
         "Casey's General Store",
         "40 Grove St",
         "Prophetstown",
         "IL",
         "61277",
         null,
         "US"
        ],
        [
         "BD",
         "Casey's General Store",
         "330 S 7th St",
         "Rochelle",
         "IL",
         "61068",
         null,
         "US"
        ],
        [
         "BD",
         "Casey's General Store",
         "900 Dixon Ave",
         "Rock Falls",
         "IL",
         "61071",
         null,
         "US"
        ],
        [
         "BD",
         "Casey's General Store",
         "1201 W Rte 30",
         "Rock Falls",
         "IL",
         "61071",
         null,
         "US"
        ],
        [
         "BD",
         "Casey's General Store",
         "1604 1st Ave",
         "Rock Falls",
         "IL",
         "61071",
         null,
         "US"
        ],
        [
         "BD",
         "Casey's General Store",
         "6874 Weaver Rd",
         "Rockford",
         "IL",
         "61114",
         null,
         "US"
        ],
        [
         "BD",
         "Casey's General Store",
         "4650 E Rockton Rd",
         "Roscoe",
         "IL",
         "61073",
         null,
         "US"
        ],
        [
         "BD",
         "Casey's General Store",
         "160 W Penn Ave",
         "Roseville",
         "IL",
         "61473",
         null,
         "US"
        ],
        [
         "BD",
         "Casey's General Store",
         "902 E Church St",
         "Sandwich",
         "IL",
         "60548",
         null,
         "US"
        ],
        [
         "BD",
         "Casey's General Store",
         "225 N Main St",
         "Seneca",
         "IL",
         "61360",
         null,
         "US"
        ],
        [
         "BD",
         "Casey's General Store",
         "317 W Comanche Ave",
         "Shabbona",
         "IL",
         "60550",
         null,
         "US"
        ],
        [
         "BD",
         "Casey's General Store",
         "501 W Market St",
         "Shannon",
         "IL",
         "61078",
         null,
         "US"
        ],
        [
         "BD",
         "Casey's General Store",
         "119 W Railroad St",
         "Sheffield",
         "IL",
         "61361",
         null,
         "US"
        ],
        [
         "BD",
         "Casey's General Store",
         "900 E Market St",
         "Somonauk",
         "IL",
         "60552",
         null,
         "US"
        ],
        [
         "BD",
         "Casey's General Store",
         "601 W Dakota St",
         "Spring Valley",
         "IL",
         "61362",
         null,
         "US"
        ],
        [
         "BD",
         "Casey's General Store",
         "2806 W 4th St",
         "Sterling",
         "IL",
         "61081",
         null,
         "US"
        ],
        [
         "BD",
         "Casey's General Store",
         "105 S Rural Rd",
         "Stillman Valley",
         "IL",
         "61084",
         null,
         "US"
        ],
        [
         "BD",
         "Casey's General Store",
         "150 S Main St",
         "Stockton",
         "IL",
         "61085",
         null,
         "US"
        ],
        [
         "BD",
         "Casey's General Store",
         "105 Plank Rd",
         "Sycamore",
         "IL",
         "60178",
         null,
         "US"
        ],
        [
         "BD",
         "Casey's General Store",
         "201 S Main St",
         "Tampico",
         "IL",
         "61283",
         null,
         "US"
        ],
        [
         "BD",
         "Casey's General Store",
         "200 E Main St",
         "Toulon",
         "IL",
         "61483",
         null,
         "US"
        ],
        [
         "BD",
         "Casey's General Store",
         "912 13th St",
         "Viola",
         "IL",
         "61486",
         null,
         "US"
        ],
        [
         "BD",
         "Casey's General Store",
         "113 W Main St",
         "Warren",
         "IL",
         "61087",
         null,
         "US"
        ],
        [
         "BD",
         "Casey's General Store",
         "221 N Depot Rd",
         "Wataga",
         "IL",
         "61488",
         null,
         "US"
        ],
        [
         "BD",
         "Casey's General Store",
         "9779 US Route 30 St",
         "Waterman",
         "IL",
         "60556",
         null,
         "US"
        ],
        [
         "BD",
         "Casey's General Store",
         "138 E Main St",
         "Wyanet",
         "IL",
         "61379",
         null,
         "US"
        ],
        [
         "BD",
         "Casey's General Store",
         "109 S 7th St",
         "Wyoming",
         "IL",
         "61491",
         null,
         "US"
        ],
        [
         "BD",
         "Casey's General Store",
         "2245 Main St",
         "Ferdinand",
         "IN",
         "47532",
         null,
         "US"
        ],
        [
         "BD",
         "Casey's General Store",
         "810 E Park St",
         "Fort Branch",
         "IN",
         "47648",
         null,
         "US"
        ],
        [
         "BD",
         "Casey's General Store",
         "302 S Main St",
         "Huntingburg",
         "IN",
         "47542",
         null,
         "US"
        ],
        [
         "BD",
         "Casey's General Store",
         "304 E Main St",
         "Petersburg",
         "IN",
         "47567",
         null,
         "US"
        ],
        [
         "BD",
         "Casey's General Store",
         "330 S Main St",
         "Princeton",
         "IN",
         "47670",
         null,
         "US"
        ],
        [
         "BD",
         "Casey's General Store",
         "110 S 5th St",
         "Adair",
         "IA",
         "50002",
         null,
         "US"
        ],
        [
         "BD",
         "Casey's General Store",
         "816 Greene St",
         "Adel",
         "IA",
         "50003",
         null,
         "US"
        ],
        [
         "BD",
         "Casey's General Store",
         "501 N Douglas St",
         "Afton",
         "IA",
         "50830",
         null,
         "US"
        ],
        [
         "BD",
         "Casey's General Store",
         "122 N Main St",
         "Albia",
         "IA",
         "52531",
         null,
         "US"
        ],
        [
         "BD",
         "Casey's General Store",
         "1414 N Main St",
         "Algona",
         "IA",
         "50511",
         null,
         "US"
        ],
        [
         "BD",
         "Casey's General Store",
         "100 Cherry St",
         "Allison",
         "IA",
         "50602",
         null,
         "US"
        ],
        [
         "BD",
         "Casey's General Store",
         "407 8Th St SW",
         "Altoona",
         "IA",
         "50009",
         null,
         "US"
        ],
        [
         "BD",
         "Casey's General Store",
         "170 36th Ave SW",
         "Altoona",
         "IA",
         "50009",
         null,
         "US"
        ],
        [
         "BD",
         "Casey's General Store",
         "617 42nd Ave",
         "Amana",
         "IA",
         "52203",
         null,
         "US"
        ],
        [
         "BD",
         "Casey's General Store",
         "3612 Stange Rd",
         "Ames",
         "IA",
         "50010",
         null,
         "US"
        ],
        [
         "BD",
         "Casey's General Store",
         "1752 Highway 64 E",
         "Anamosa",
         "IA",
         "52205",
         null,
         "US"
        ],
        [
         "BD",
         "Casey's General Store",
         "912 Main St",
         "Anita",
         "IA",
         "50020",
         null,
         "US"
        ],
        [
         "BD",
         "Casey's General Store",
         "2905 W 1st St",
         "Ankeny",
         "IA",
         "50023",
         null,
         "US"
        ],
        [
         "BD",
         "Casey's General Store",
         "302 S Ankeny Blvd",
         "Ankeny",
         "IA",
         "50023",
         null,
         "US"
        ],
        [
         "BD",
         "Casey's General Store",
         "1310 NW 18th St",
         "Ankeny",
         "IA",
         "50023",
         null,
         "US"
        ],
        [
         "BD",
         "Casey's General Store",
         "1602 W 1st St",
         "Ankeny",
         "IA",
         "50023",
         null,
         "US"
        ],
        [
         "BD",
         "Casey's General Store",
         "2601 SE Creekview Dr",
         "Ankeny",
         "IA",
         "50021",
         null,
         "US"
        ],
        [
         "BD",
         "Casey's General Store",
         "6981 NE 14th St",
         "Ankeny",
         "IA",
         "50023",
         null,
         "US"
        ],
        [
         "BD",
         "Casey's General Store",
         "307 S 4th Ave",
         "Armstrong",
         "IA",
         "50514",
         null,
         "US"
        ],
        [
         "BD",
         "Casey's General Store",
         "1408 E 7th St",
         "Atlantic",
         "IA",
         "50022",
         null,
         "US"
        ],
        [
         "BD",
         "Casey's General Store",
         "701 Poplar St",
         "Atlantic",
         "IA",
         "50022",
         null,
         "US"
        ],
        [
         "BD",
         "Casey's General Store",
         "1019 N Chestnut St",
         "Avoca",
         "IA",
         "51521",
         null,
         "US"
        ],
        [
         "BD",
         "Casey's General Store",
         "606 13th St",
         "Belle Plaine",
         "IA",
         "52208",
         null,
         "US"
        ],
        [
         "BD",
         "Casey's General Store",
         "1104 N Riverview St",
         "Bellevue",
         "IA",
         "52031",
         null,
         "US"
        ],
        [
         "BD",
         "Casey's General Store",
         "301 E Mayne St",
         "Blue Grass",
         "IA",
         "52726",
         null,
         "US"
        ],
        [
         "BD",
         "Casey's General Store",
         "1455 Grant St S",
         "Bondurant",
         "IA",
         "50035",
         null,
         "US"
        ],
        [
         "BD",
         "Casey's General Store",
         "114 Mamie Eisenhower Ave",
         "Boone",
         "IA",
         "50036",
         null,
         "US"
        ],
        [
         "BD",
         "Casey's General Store",
         "1303 SE Marshall St",
         "Boone",
         "IA",
         "50036",
         null,
         "US"
        ],
        [
         "BD",
         "Casey's General Store",
         "576 Main Ave N",
         "Britt",
         "IA",
         "50423",
         null,
         "US"
        ],
        [
         "BD",
         "Casey's General Store",
         "106 W 2nd St",
         "Brooklyn",
         "IA",
         "52211",
         null,
         "US"
        ],
        [
         "BD",
         "Casey's General Store",
         "222 W Front St",
         "Buffalo",
         "IA",
         "52728",
         null,
         "US"
        ],
        [
         "BD",
         "Casey's General Store",
         "101 1st Ave NE",
         "Buffalo Center",
         "IA",
         "50424",
         null,
         "US"
        ],
        [
         "BD",
         "Casey's General Store",
         "614 S Washington Blvd",
         "Camanche",
         "IA",
         "52730",
         null,
         "US"
        ],
        [
         "BD",
         "Casey's General Store",
         "105 Highway 5",
         "Carlisle",
         "IA",
         "50047",
         null,
         "US"
        ],
        [
         "BD",
         "Casey's General Store",
         "1020 Gateway Dr",
         "Carlisle",
         "IA",
         "50047",
         null,
         "US"
        ],
        [
         "BD",
         "Casey's General Store",
         "510 E Highway 30",
         "Carroll",
         "IA",
         "51401",
         null,
         "US"
        ],
        [
         "BD",
         "Casey's General Store",
         "1650 E Locust St",
         "Carter Lake",
         "IA",
         "51510",
         null,
         "US"
        ],
        [
         "BD",
         "Casey's General Store",
         "717 1st Ave E",
         "Cascade",
         "IA",
         "52033",
         null,
         "US"
        ],
        [
         "BD",
         "Casey's General Store",
         "5908 Nordic Dr",
         "Cedar Falls",
         "IA",
         "50613",
         null,
         "US"
        ],
        [
         "BD",
         "Casey's General Store",
         "641 Edgewood Rd NW",
         "Cedar Rapids",
         "IA",
         "52405",
         null,
         "US"
        ],
        [
         "BD",
         "Casey's General Store",
         "380 33rd Ave SW",
         "Cedar Rapids",
         "IA",
         "52404",
         null,
         "US"
        ],
        [
         "BD",
         "Casey's General Store",
         "3434 1st Ave NE",
         "Cedar Rapids",
         "IA",
         "52402",
         null,
         "US"
        ],
        [
         "BD",
         "Casey's General Store",
         "201 8th Ave SE",
         "Cedar Rapids",
         "IA",
         "52401",
         null,
         "US"
        ],
        [
         "BD",
         "Casey's General Store",
         "5555 Edgewood Rd NE",
         "Cedar Rapids",
         "IA",
         "52411",
         null,
         "US"
        ],
        [
         "BD",
         "Casey's General Store",
         "1495 Blairs Ferry Rd NE",
         "Cedar Rapids",
         "IA",
         "52402",
         null,
         "US"
        ],
        [
         "BD",
         "Casey's General Store",
         "888 Vernon Valley Dr",
         "Cedar Rapids",
         "IA",
         "52403",
         null,
         "US"
        ],
        [
         "BD",
         "Casey's General Store",
         "9125 Atlantic Dr SW",
         "Cedar Rapids",
         "IA",
         "52404",
         null,
         "US"
        ],
        [
         "BD",
         "Casey's General Store",
         "9001 6th St SW",
         "Cedar Rapids",
         "IA",
         "52404",
         null,
         "US"
        ],
        [
         "BD",
         "Casey's General Store",
         "5655 C St SW",
         "Cedar Rapids",
         "IA",
         "52404",
         null,
         "US"
        ],
        [
         "BD",
         "Casey's General Store",
         "560 33rd Ave SW",
         "Cedar Rapids",
         "IA",
         "52404",
         null,
         "US"
        ],
        [
         "BD",
         "Casey's General Store",
         "1532 Ellis Blvd NW",
         "Cedar Rapids",
         "IA",
         "52405",
         null,
         "US"
        ],
        [
         "BD",
         "Casey's General Store",
         "696 Grain Ln",
         "Center Point",
         "IA",
         "52213",
         null,
         "US"
        ],
        [
         "BD",
         "Casey's General Store",
         "335 N Main St",
         "Chariton",
         "IA",
         "50049",
         null,
         "US"
        ],
        [
         "BD",
         "Casey's General Store",
         "1105 Blunt Pkwy",
         "Charles City",
         "IA",
         "50616",
         null,
         "US"
        ],
        [
         "BD",
         "Casey's General Store",
         "1200 N 2nd St",
         "Cherokee",
         "IA",
         "51012",
         null,
         "US"
        ],
        [
         "BD",
         "Casey's General Store",
         "93 Lombard St",
         "Clarence",
         "IA",
         "52216",
         null,
         "US"
        ],
        [
         "BD",
         "Casey's General Store",
         "318 E Washington St",
         "Clarinda",
         "IA",
         "51632",
         null,
         "US"
        ],
        [
         "BD",
         "Casey's General Store",
         "222 Central Ave W",
         "Clarion",
         "IA",
         "50525",
         null,
         "US"
        ],
        [
         "BD",
         "Casey's General Store",
         "213 S Main St",
         "Clarksville",
         "IA",
         "50619",
         null,
         "US"
        ],
        [
         "BD",
         "Casey's General Store",
         "501 W State St",
         "Colfax",
         "IA",
         "50054",
         null,
         "US"
        ],
        [
         "BD",
         "Casey's General Store",
         "702 US Highway 65",
         "Colo",
         "IA",
         "50056",
         null,
         "US"
        ],
        [
         "BD",
         "Casey's General Store",
         "409 E Center St",
         "Conrad",
         "IA",
         "50621",
         null,
         "US"
        ],
        [
         "BD",
         "Casey's General Store",
         "1987 2nd St",
         "Coralville",
         "IA",
         "52241",
         null,
         "US"
        ],
        [
         "BD",
         "Casey's General Store",
         "2798 Commerce Dr",
         "Coralville",
         "IA",
         "52241",
         null,
         "US"
        ],
        [
         "BD",
         "Casey's General Store",
         "204 6th St",
         "Corning",
         "IA",
         "50841",
         null,
         "US"
        ],
        [
         "BD",
         "Casey's General Store",
         "510 23rd Ave",
         "Council Bluffs",
         "IA",
         "51501",
         null,
         "US"
        ],
        [
         "BD",
         "Casey's General Store",
         "1928 Sherwood Dr",
         "Council Bluffs",
         "IA",
         "51503",
         null,
         "US"
        ],
        [
         "BD",
         "Casey's General Store",
         "19900 Virginia Hills Rd",
         "Council Bluffs",
         "IA",
         "51503",
         null,
         "US"
        ],
        [
         "BD",
         "Casey's General Store",
         "111 Mormon Bridge Rd",
         "Crescent",
         "IA",
         "51526",
         null,
         "US"
        ],
        [
         "BD",
         "Casey's General Store",
         "307 3rd St NW",
         "Dayton",
         "IA",
         "50530",
         null,
         "US"
        ],
        [
         "BD",
         "Casey's General Store",
         "1100 Greene St",
         "De Soto",
         "IA",
         "50069",
         null,
         "US"
        ],
        [
         "BD",
         "Casey's General Store",
         "502 Market St",
         "Delmar",
         "IA",
         "52037",
         null,
         "US"
        ],
        [
         "BD",
         "Casey's General Store",
         "1608 4th Ave S",
         "Denison",
         "IA",
         "51442",
         null,
         "US"
        ],
        [
         "BD",
         "Casey's General Store",
         "1101 Jefferson Ave",
         "Denver",
         "IA",
         "50622",
         null,
         "US"
        ],
        [
         "BD",
         "Casey's General Store",
         "4560 NE 14th St",
         "Des Moines",
         "IA",
         "50313",
         null,
         "US"
        ],
        [
         "BD",
         "Casey's General Store",
         "2106 Echo Valley Dr",
         "Des Moines",
         "IA",
         "50321",
         null,
         "US"
        ],
        [
         "BD",
         "Casey's General Store",
         "4151 Merle Hay Rd",
         "Des Moines",
         "IA",
         "50310",
         null,
         "US"
        ],
        [
         "BD",
         "Casey's General Store",
         "5150 NE 14th St",
         "Des Moines",
         "IA",
         "50313",
         null,
         "US"
        ],
        [
         "BD",
         "Casey's General Store",
         "6120 Douglas Ave",
         "Des Moines",
         "IA",
         "50322",
         null,
         "US"
        ],
        [
         "BD",
         "Casey's General Store",
         "3725 Beaver Ave",
         "Des Moines",
         "IA",
         "50310",
         null,
         "US"
        ],
        [
         "BD",
         "Casey's General Store",
         "3501 E 14th St",
         "Des Moines",
         "IA",
         "50316",
         null,
         "US"
        ],
        [
         "BD",
         "Casey's General Store",
         "1907 Army Post Rd",
         "Des Moines",
         "IA",
         "50315",
         null,
         "US"
        ],
        [
         "BD",
         "Casey's General Store",
         "2721 Dows Williams Rd",
         "Dows",
         "IA",
         "50071",
         null,
         "US"
        ],
        [
         "BD",
         "Casey's General Store",
         "1072 Cedar Cross Rd",
         "Dubuque",
         "IA",
         "52003",
         null,
         "US"
        ],
        [
         "BD",
         "Casey's General Store",
         "504 5th St",
         "Durant",
         "IA",
         "52747",
         null,
         "US"
        ],
        [
         "BD",
         "Casey's General Store",
         "1402 9th St SE",
         "Dyersville",
         "IA",
         "52040",
         null,
         "US"
        ],
        [
         "BD",
         "Casey's General Store",
         "975 N Chestnut Ave",
         "Earlham",
         "IA",
         "50072",
         null,
         "US"
        ],
        [
         "BD",
         "Casey's General Store",
         "2245 Karr Ave",
         "Early",
         "IA",
         "50535",
         null,
         "US"
        ],
        [
         "BD",
         "Casey's General Store",
         "811 W Elm St",
         "Eldon",
         "IA",
         "52554",
         null,
         "US"
        ],
        [
         "BD",
         "Casey's General Store",
         "1807 Edgington Ave",
         "Eldora",
         "IA",
         "50627",
         null,
         "US"
        ],
        [
         "BD",
         "Casey's General Store",
         "840 E Le Claire Rd",
         "Eldridge",
         "IA",
         "52748",
         null,
         "US"
        ],
        [
         "BD",
         "Casey's General Store",
         "26701 Scott Park Rd",
         "Eldridge",
         "IA",
         "52748",
         null,
         "US"
        ],
        [
         "BD",
         "Casey's General Store",
         "2406 Main St",
         "Emmetsburg",
         "IA",
         "50536",
         null,
         "US"
        ],
        [
         "BD",
         "Casey's General Store",
         "1482 State Highway 48",
         "Essex",
         "IA",
         "51638",
         null,
         "US"
        ],
        [
         "BD",
         "Casey's General Store",
         "8 Central Ave",
         "Estherville",
         "IA",
         "51334",
         null,
         "US"
        ],
        [
         "BD",
         "Casey's General Store",
         "103 S 4th St",
         "Fairbank",
         "IA",
         "50629",
         null,
         "US"
        ],
        [
         "BD",
         "Casey's General Store",
         "65 Williams Blvd",
         "Fairfax",
         "IA",
         "52228",
         null,
         "US"
        ],
        [
         "BD",
         "Casey's General Store",
         "2125 Libertyville Rd",
         "Fairfield",
         "IA",
         "52556",
         null,
         "US"
        ],
        [
         "BD",
         "Casey's General Store",
         "306 1st St S",
         "Farley",
         "IA",
         "52046",
         null,
         "US"
        ],
        [
         "BD",
         "Casey's General Store",
         "201 S 4th St",
         "Farmington",
         "IA",
         "52626",
         null,
         "US"
        ],
        [
         "BD",
         "Casey's General Store",
         "101 Highway 7",
         "Fonda",
         "IA",
         "50540",
         null,
         "US"
        ],
        [
         "BD",
         "Casey's General Store",
         "1132 Highway 69 S",
         "Forest City",
         "IA",
         "50436",
         null,
         "US"
        ],
        [
         "BD",
         "Casey's General Store",
         "3327 5th Ave S",
         "Fort Dodge",
         "IA",
         "50501",
         null,
         "US"
        ],
        [
         "BD",
         "Casey's General Store",
         "1230 3rd Ave NW",
         "Fort Dodge",
         "IA",
         "50501",
         null,
         "US"
        ],
        [
         "BD",
         "Casey's General Store",
         "235 Avenue O",
         "Fort Dodge",
         "IA",
         "50501",
         null,
         "US"
        ],
        [
         "BD",
         "Casey's General Store",
         "1428 38th St",
         "Fort Madison",
         "IA",
         "52627",
         null,
         "US"
        ],
        [
         "BD",
         "Casey's General Store",
         "215 W Main St",
         "Fredericksburg",
         "IA",
         "50630",
         null,
         "US"
        ],
        [
         "BD",
         "Casey's General Store",
         "145 US Highway 18 W",
         "Garner",
         "IA",
         "50438",
         null,
         "US"
        ],
        [
         "BD",
         "Casey's General Store",
         "17005 Highway 69",
         "Gilbert",
         "IA",
         "50105",
         null,
         "US"
        ],
        [
         "BD",
         "Casey's General Store",
         "105 SE 1st St",
         "Gilmore City",
         "IA",
         "50541",
         null,
         "US"
        ],
        [
         "BD",
         "Casey's General Store",
         "201 8th St",
         "Gladbrook",
         "IA",
         "50635",
         null,
         "US"
        ],
        [
         "BD",
         "Casey's General Store",
         "1131 Market St",
         "Gowrie",
         "IA",
         "50543",
         null,
         "US"
        ],
        [
         "BD",
         "Casey's General Store",
         "1802 Sycamore St",
         "Granger",
         "IA",
         "50109",
         null,
         "US"
        ],
        [
         "BD",
         "Casey's General Store",
         "302 SE 6th St",
         "Greenfield",
         "IA",
         "50849",
         null,
         "US"
        ],
        [
         "BD",
         "Casey's General Store",
         "951 SE Gateway Dr",
         "Grimes",
         "IA",
         "50111",
         null,
         "US"
        ],
        [
         "BD",
         "Casey's General Store",
         "1650 NE Beaverbrooke Blvd",
         "Grimes",
         "IA",
         "50111",
         null,
         "US"
        ],
        [
         "BD",
         "Casey's General Store",
         "217 6th Ave",
         "Grinnell",
         "IA",
         "50112",
         null,
         "US"
        ],
        [
         "BD",
         "Casey's General Store",
         "900 Main St",
         "Griswold",
         "IA",
         "51535",
         null,
         "US"
        ],
        [
         "BD",
         "Casey's General Store",
         "504 G Ave",
         "Grundy Center",
         "IA",
         "50638",
         null,
         "US"
        ],
        [
         "BD",
         "Casey's General Store",
         "719 4th St NE",
         "Hampton",
         "IA",
         "50441",
         null,
         "US"
        ],
        [
         "BD",
         "Casey's General Store",
         "1006 Chatburn Ave",
         "Harlan",
         "IA",
         "51537",
         null,
         "US"
        ],
        [
         "BD",
         "Casey's General Store",
         "1001 Ave E",
         "Hawarden",
         "IA",
         "51023",
         null,
         "US"
        ],
        [
         "BD",
         "Casey's General Store",
         "27470 Highway 65 S",
         "Hubbard",
         "IA",
         "50122",
         null,
         "US"
        ],
        [
         "BD",
         "Casey's General Store",
         "354 E Eldora Rd",
         "Hudson",
         "IA",
         "50643",
         null,
         "US"
        ],
        [
         "BD",
         "Casey's General Store",
         "907 13th St N",
         "Humboldt",
         "IA",
         "50548",
         null,
         "US"
        ],
        [
         "BD",
         "Casey's General Store",
         "207 S Front St",
         "Humeston",
         "IA",
         "50123",
         null,
         "US"
        ],
        [
         "BD",
         "Casey's General Store",
         "902 N Highway 69",
         "Huxley",
         "IA",
         "50124",
         null,
         "US"
        ],
        [
         "BD",
         "Casey's General Store",
         "401 E Highway 175",
         "Ida Grove",
         "IA",
         "51445",
         null,
         "US"
        ],
        [
         "BD",
         "Casey's General Store",
         "607 N Jefferson Way",
         "Indianola",
         "IA",
         "50125",
         null,
         "US"
        ],
        [
         "BD",
         "Casey's General Store",
         "1101 E 2nd Ave",
         "Indianola",
         "IA",
         "50125",
         null,
         "US"
        ],
        [
         "BD",
         "Casey's General Store",
         "301 E Trail Ridge Ave",
         "Indianola",
         "IA",
         "50125",
         null,
         "US"
        ],
        [
         "BD",
         "Casey's General Store",
         "204 N Dubuque St",
         "IA City",
         "IA",
         "52245",
         null,
         "US"
        ],
        [
         "BD",
         "Casey's General Store",
         "1410 Willow Creek Ct",
         "IA City",
         "IA",
         "52246",
         null,
         "US"
        ],
        [
         "BD",
         "Casey's General Store",
         "1904 Broadway St",
         "IA City",
         "IA",
         "52240",
         null,
         "US"
        ],
        [
         "BD",
         "Casey's General Store",
         "370 Scott Ct",
         "IA City",
         "IA",
         "52245",
         null,
         "US"
        ],
        [
         "BD",
         "Casey's General Store",
         "904 Washington Ave",
         "IA Falls",
         "IA",
         "50126",
         null,
         "US"
        ],
        [
         "BD",
         "Casey's General Store",
         "508 N Elm St",
         "Jefferson",
         "IA",
         "50129",
         null,
         "US"
        ],
        [
         "BD",
         "Casey's General Store",
         "6417 Northglenn Dr",
         "Johnston",
         "IA",
         "50131",
         null,
         "US"
        ],
        [
         "BD",
         "Casey's General Store",
         "1201 E Main St",
         "Knoxville",
         "IA",
         "50138",
         null,
         "US"
        ],
        [
         "BD",
         "Casey's General Store",
         "520 W Main St",
         "Laurens",
         "IA",
         "50554",
         null,
         "US"
        ],
        [
         "BD",
         "Casey's General Store",
         "501 N Brooks St",
         "Lenox",
         "IA",
         "50851",
         null,
         "US"
        ],
        [
         "BD",
         "Casey's General Store",
         "401 NW Church St",
         "Leon",
         "IA",
         "50144",
         null,
         "US"
        ],
        [
         "BD",
         "Casey's General Store",
         "14046 45th St",
         "Lime Springs",
         "IA",
         "52155",
         null,
         "US"
        ],
        [
         "BD",
         "Casey's General Store",
         "404 Locust St",
         "Lohrville",
         "IA",
         "51453",
         null,
         "US"
        ],
        [
         "BD",
         "Casey's General Store",
         "401 S 4th St",
         "Mapleton",
         "IA",
         "51034",
         null,
         "US"
        ],
        [
         "BD",
         "Casey's General Store",
         "801 E Platt St",
         "Maquoketa",
         "IA",
         "52060",
         null,
         "US"
        ],
        [
         "BD",
         "Casey's General Store",
         "1100 Eagleview Dr",
         "Marion",
         "IA",
         "52302",
         null,
         "US"
        ],
        [
         "BD",
         "Casey's General Store",
         "680 Lindale Dr",
         "Marion",
         "IA",
         "52302",
         null,
         "US"
        ],
        [
         "BD",
         "Casey's General Store",
         "1402 S 12th Ave",
         "Marshalltown",
         "IA",
         "50158",
         null,
         "US"
        ],
        [
         "BD",
         "Casey's General Store",
         "108 Iowa Ave W",
         "Marshalltown",
         "IA",
         "50158",
         null,
         "US"
        ],
        [
         "BD",
         "Casey's General Store",
         "610 S Monroe Ave",
         "Mason City",
         "IA",
         "50401",
         null,
         "US"
        ],
        [
         "BD",
         "Casey's General Store",
         "525 Main St W",
         "Maynard",
         "IA",
         "50655",
         null,
         "US"
        ],
        [
         "BD",
         "Casey's General Store",
         "206 Short St",
         "Mechanicsville",
         "IA",
         "52306",
         null,
         "US"
        ],
        [
         "BD",
         "Casey's General Store",
         "208 Wapello St",
         "Mediapolis",
         "IA",
         "52637",
         null,
         "US"
        ],
        [
         "BD",
         "Casey's General Store",
         "101 1st St",
         "Merrill",
         "IA",
         "51038",
         null,
         "US"
        ],
        [
         "BD",
         "Casey's General Store",
         "75 Main St",
         "Middletown",
         "IA",
         "52638",
         null,
         "US"
        ],
        [
         "BD",
         "Casey's General Store",
         "426 N 2nd St",
         "Milo",
         "IA",
         "50166",
         null,
         "US"
        ],
        [
         "BD",
         "Casey's General Store",
         "33280 335th St",
         "Minden",
         "IA",
         "51553",
         null,
         "US"
        ],
        [
         "BD",
         "Casey's General Store",
         "309 Center Ave S",
         "Mitchellville",
         "IA",
         "50169",
         null,
         "US"
        ],
        [
         "BD",
         "Casey's General Store",
         "201 Ralph St",
         "Monroe",
         "IA",
         "50170",
         null,
         "US"
        ],
        [
         "BD",
         "Casey's General Store",
         "509 S Monroe St",
         "Monroe",
         "IA",
         "50170",
         null,
         "US"
        ],
        [
         "BD",
         "Casey's General Store",
         "106 N Front St",
         "Montezuma",
         "IA",
         "50171",
         null,
         "US"
        ],
        [
         "BD",
         "Casey's General Store",
         "111 Main St",
         "Montrose",
         "IA",
         "52639",
         null,
         "US"
        ],
        [
         "BD",
         "Casey's General Store",
         "323 Business 30 SW",
         "Mt. Vernon",
         "IA",
         "52314",
         null,
         "US"
        ],
        [
         "BD",
         "Casey's General Store",
         "702 1st St",
         "Murray",
         "IA",
         "50174",
         null,
         "US"
        ],
        [
         "BD",
         "Casey's General Store",
         "3509 Steamboat Way",
         "Muscatine",
         "IA",
         "52761",
         null,
         "US"
        ],
        [
         "BD",
         "Casey's General Store",
         "3010 University Dr",
         "Muscatine",
         "IA",
         "52761",
         null,
         "US"
        ],
        [
         "BD",
         "Casey's General Store",
         "4701 S Highway 61",
         "Muscatine",
         "IA",
         "52761",
         null,
         "US"
        ],
        [
         "BD",
         "Casey's General Store",
         "33000 Highway 57",
         "New Hartford",
         "IA",
         "50660",
         null,
         "US"
        ],
        [
         "BD",
         "Casey's General Store",
         "710 S Pine St",
         "New London",
         "IA",
         "52645",
         null,
         "US"
        ],
        [
         "BD",
         "Casey's General Store",
         "205 S Main St",
         "New Sharon",
         "IA",
         "50207",
         null,
         "US"
        ],
        [
         "BD",
         "Casey's General Store",
         "3104 1st Ave E",
         "Newton",
         "IA",
         "50208",
         null,
         "US"
        ],
        [
         "BD",
         "Casey's General Store",
         "1200 W 18th St S",
         "Newton",
         "IA",
         "50208",
         null,
         "US"
        ],
        [
         "BD",
         "Casey's General Store",
         "14 E Congress St",
         "Nora Springs",
         "IA",
         "50458",
         null,
         "US"
        ],
        [
         "BD",
         "Casey's General Store",
         "595 N Kansas Ave",
         "North Liberty",
         "IA",
         "52317",
         null,
         "US"
        ],
        [
         "BD",
         "Casey's General Store",
         "105 1st Ave SE",
         "Oelwein",
         "IA",
         "50662",
         null,
         "US"
        ],
        [
         "BD",
         "Casey's General Store",
         "1802 Highway 71 N",
         "Okoboji",
         "IA",
         "51355",
         null,
         "US"
        ],
        [
         "BD",
         "Casey's General Store",
         "706 10th St",
         "Onawa",
         "IA",
         "51040",
         null,
         "US"
        ],
        [
         "BD",
         "Casey's General Store",
         "704 8th St SE",
         "Orange City",
         "IA",
         "51041",
         null,
         "US"
        ],
        [
         "BD",
         "Casey's General Store",
         "1706 Jeffreys Dr",
         "Osceola",
         "IA",
         "50213",
         null,
         "US"
        ],
        [
         "BD",
         "Casey's General Store",
         "100 W Mclane St",
         "Osceola",
         "IA",
         "50213",
         null,
         "US"
        ],
        [
         "BD",
         "Casey's General Store",
         "1310 A Ave W",
         "Oskaloosa",
         "IA",
         "52577",
         null,
         "US"
        ],
        [
         "BD",
         "Casey's General Store",
         "1001 E Main St",
         "Ottumwa",
         "IA",
         "52501",
         null,
         "US"
        ],
        [
         "BD",
         "Casey's General Store",
         "113 NE 3rd St",
         "Panora",
         "IA",
         "50216",
         null,
         "US"
        ],
        [
         "BD",
         "Casey's General Store",
         "315 E Grand Ave",
         "Paullina",
         "IA",
         "51046",
         null,
         "US"
        ],
        [
         "BD",
         "Casey's General Store",
         "414 S Clark St",
         "Pella",
         "IA",
         "50219",
         null,
         "US"
        ],
        [
         "BD",
         "Casey's General Store",
         "2421 Washington St",
         "Pella",
         "IA",
         "50219",
         null,
         "US"
        ],
        [
         "BD",
         "Casey's General Store",
         "236 Peosta St",
         "Peosta",
         "IA",
         "52068",
         null,
         "US"
        ],
        [
         "BD",
         "Casey's General Store",
         "1308 1st Ave",
         "Perry",
         "IA",
         "50220",
         null,
         "US"
        ],
        [
         "BD",
         "Casey's General Store",
         "5550 E University Ave",
         "Pleasant Hill",
         "IA",
         "50327",
         null,
         "US"
        ],
        [
         "BD",
         "Casey's General Store",
         "1006 W Pleasant St",
         "Pleasantville",
         "IA",
         "50225",
         null,
         "US"
        ],
        [
         "BD",
         "Casey's General Store",
         "1100 S 3rd St",
         "Polk City",
         "IA",
         "50226",
         null,
         "US"
        ],
        [
         "BD",
         "Casey's General Store",
         "730 S East St",
         "Pomeroy",
         "IA",
         "50575",
         null,
         "US"
        ],
        [
         "BD",
         "Casey's General Store",
         "1310 N Broadway St",
         "Red Oak",
         "IA",
         "51566",
         null,
         "US"
        ],
        [
         "BD",
         "Casey's General Store",
         "912 Grundy Ave",
         "Reinbeck",
         "IA",
         "50669",
         null,
         "US"
        ],
        [
         "BD",
         "Casey's General Store",
         "208 W Main St",
         "Riceville",
         "IA",
         "50466",
         null,
         "US"
        ],
        [
         "BD",
         "Casey's General Store",
         "3070 Highway 22",
         "Riverside",
         "IA",
         "52327",
         null,
         "US"
        ],
        [
         "BD",
         "Casey's General Store",
         "6301 SE 116th St",
         "Runnells",
         "IA",
         "50237",
         null,
         "US"
        ],
        [
         "BD",
         "Casey's General Store",
         "510 W 7th St",
         "Sanborn",
         "IA",
         "51248",
         null,
         "US"
        ],
        [
         "BD",
         "Casey's General Store",
         "900 Locust St",
         "Scranton",
         "IA",
         "51462",
         null,
         "US"
        ],
        [
         "BD",
         "Casey's General Store",
         "500 W Main St",
         "Seymour",
         "IA",
         "52590",
         null,
         "US"
        ],
        [
         "BD",
         "Casey's General Store",
         "504 2nd Ave",
         "Sheldon",
         "IA",
         "51201",
         null,
         "US"
        ],
        [
         "BD",
         "Casey's General Store",
         "605 S Fremont St",
         "Shenandoah",
         "IA",
         "51601",
         null,
         "US"
        ],
        [
         "BD",
         "Casey's General Store",
         "100 E Jackson St",
         "Sigourney",
         "IA",
         "52591",
         null,
         "US"
        ],
        [
         "BD",
         "Casey's General Store",
         "3731 Hamilton Blvd",
         "Sioux City",
         "IA",
         "51104",
         null,
         "US"
        ],
        [
         "BD",
         "Casey's General Store",
         "1132 Lewis Blvd",
         "Sioux City",
         "IA",
         "51105",
         null,
         "US"
        ],
        [
         "BD",
         "Casey's General Store",
         "3051 Floyd Blvd",
         "Sioux City",
         "IA",
         "51108",
         null,
         "US"
        ],
        [
         "BD",
         "Casey's General Store",
         "4301 Stone Ave",
         "Sioux City",
         "IA",
         "51106",
         null,
         "US"
        ],
        [
         "BD",
         "Casey's General Store",
         "104 Buckley St",
         "Sloan",
         "IA",
         "51055",
         null,
         "US"
        ],
        [
         "BD",
         "Casey's General Store",
         "1200 S Market St",
         "Solon",
         "IA",
         "52333",
         null,
         "US"
        ],
        [
         "BD",
         "Casey's General Store",
         "411 W 18th St",
         "Spencer",
         "IA",
         "51301",
         null,
         "US"
        ],
        [
         "BD",
         "Casey's General Store",
         "1304 18th St",
         "Spirit Lake",
         "IA",
         "51360",
         null,
         "US"
        ],
        [
         "BD",
         "Casey's General Store",
         "605 6th St S",
         "Springville",
         "IA",
         "52336",
         null,
         "US"
        ],
        [
         "BD",
         "Casey's General Store",
         "110 N Highway 218",
         "St. Ansgar",
         "IA",
         "50472",
         null,
         "US"
        ],
        [
         "BD",
         "Casey's General Store",
         "209 E Main St",
         "St. Charles",
         "IA",
         "50240",
         null,
         "US"
        ],
        [
         "BD",
         "Casey's General Store",
         "616 Halland Ave",
         "Stanton",
         "IA",
         "51573",
         null,
         "US"
        ],
        [
         "BD",
         "Casey's General Store",
         "911 3rd Ave SW",
         "State Center",
         "IA",
         "50247",
         null,
         "US"
        ],
        [
         "BD",
         "Casey's General Store",
         "825 Flindt Dr",
         "Storm Lake",
         "IA",
         "50588",
         null,
         "US"
        ],
        [
         "BD",
         "Casey's General Store",
         "1625 Broad St",
         "Story City",
         "IA",
         "50248",
         null,
         "US"
        ],
        [
         "BD",
         "Casey's General Store",
         "807 1st St",
         "Sully",
         "IA",
         "50251",
         null,
         "US"
        ],
        [
         "BD",
         "Casey's General Store",
         "721 Main St",
         "Tabor",
         "IA",
         "51653",
         null,
         "US"
        ],
        [
         "BD",
         "Casey's General Store",
         "403 Stephans St",
         "Tiffin",
         "IA",
         "52340",
         null,
         "US"
        ],
        [
         "BD",
         "Casey's General Store",
         "1107 Cedar St",
         "Tipton",
         "IA",
         "52772",
         null,
         "US"
        ],
        [
         "BD",
         "Casey's General Store",
         "113 Highway 30 W",
         "Toledo",
         "IA",
         "52342",
         null,
         "US"
        ],
        [
         "BD",
         "Casey's General Store",
         "102 W Main St",
         "Treynor",
         "IA",
         "51575",
         null,
         "US"
        ],
        [
         "BD",
         "Casey's General Store",
         "600 7th Ave SW",
         "Tripoli",
         "IA",
         "50676",
         null,
         "US"
        ],
        [
         "BD",
         "Casey's General Store",
         "5350 31st Ave",
         "Urbana",
         "IA",
         "52345",
         null,
         "US"
        ],
        [
         "BD",
         "Casey's General Store",
         "4901 86th St",
         "Urbandale",
         "IA",
         "50322",
         null,
         "US"
        ],
        [
         "BD",
         "Casey's General Store",
         "4400 128th St",
         "Urbandale",
         "IA",
         "50323",
         null,
         "US"
        ],
        [
         "BD",
         "Casey's General Store",
         "3750 111th St",
         "Urbandale",
         "IA",
         "50322",
         null,
         "US"
        ],
        [
         "BD",
         "Casey's General Store",
         "901 3rd St",
         "Victor",
         "IA",
         "52347",
         null,
         "US"
        ],
        [
         "BD",
         "Casey's General Store",
         "13410 Iowa Highway 78",
         "Wapello",
         "IA",
         "52653",
         null,
         "US"
        ],
        [
         "BD",
         "Casey's General Store",
         "1002 W Madison St",
         "Washington",
         "IA",
         "52353",
         null,
         "US"
        ],
        [
         "BD",
         "Casey's General Store",
         "1730 E Washington St",
         "Washington",
         "IA",
         "52353",
         null,
         "US"
        ],
        [
         "BD",
         "Casey's General Store",
         "2424 Ranchero Rd",
         "Waterloo",
         "IA",
         "50701",
         null,
         "US"
        ],
        [
         "BD",
         "Casey's General Store",
         "20 W Hickman Rd",
         "Waukee",
         "IA",
         "50263",
         null,
         "US"
        ],
        [
         "BD",
         "Casey's General Store",
         "700 Superior St",
         "Webster City",
         "IA",
         "50595",
         null,
         "US"
        ],
        [
         "BD",
         "Casey's General Store",
         "615 S Downey St",
         "West Branch",
         "IA",
         "52358",
         null,
         "US"
        ],
        [
         "BD",
         "Casey's General Store",
         "6630 Mills Civic Pkwy",
         "West Des Moines",
         "IA",
         "50266",
         null,
         "US"
        ],
        [
         "BD",
         "Casey's General Store",
         "1850 22nd St",
         "West Des Moines",
         "IA",
         "50266",
         null,
         "US"
        ],
        [
         "BD",
         "Casey's General Store",
         "105 Grand Ave",
         "West Des Moines",
         "IA",
         "50265",
         null,
         "US"
        ],
        [
         "BD",
         "Casey's General Store",
         "402 W 15th St",
         "West Liberty",
         "IA",
         "52776",
         null,
         "US"
        ],
        [
         "BD",
         "Casey's General Store",
         "527 W Summit St",
         "Winterset",
         "IA",
         "50273",
         null,
         "US"
        ],
        [
         "BD",
         "Casey's General Store",
         "1021 N 1st St",
         "Winterset",
         "IA",
         "50273",
         null,
         "US"
        ],
        [
         "BD",
         "Casey's General Store",
         "204 E Main St",
         "Wyoming",
         "IA",
         "52362",
         null,
         "US"
        ],
        [
         "BD",
         "Casey's General Store",
         "915 S 1st St",
         "Hiawatha",
         "KS",
         "66434",
         null,
         "US"
        ],
        [
         "BD",
         "Casey's General Store",
         "13000 State Ave",
         "KS City",
         "KS",
         "66109",
         null,
         "US"
        ],
        [
         "BD",
         "Casey's General Store",
         "9501 W 135th St",
         "Overland Park",
         "KS",
         "66221",
         null,
         "US"
        ],
        [
         "BD",
         "Casey's General Store",
         "4107 Miller St",
         "Bethany",
         "MO",
         "64424",
         null,
         "US"
        ],
        [
         "BD",
         "Casey's General Store",
         "200 E Monroe St",
         "Buckner",
         "MO",
         "64016",
         null,
         "US"
        ],
        [
         "BD",
         "Casey's General Store",
         "610 W Old Highway 36",
         "Chillicothe",
         "MO",
         "64601",
         null,
         "US"
        ],
        [
         "BD",
         "Casey's General Store",
         "52 F Hwy",
         "Garden City",
         "MO",
         "64747",
         null,
         "US"
        ],
        [
         "BD",
         "Casey's General Store",
         "101 S Buckner Tarsney Rd",
         "Grain Valley",
         "MO",
         "64029",
         null,
         "US"
        ],
        [
         "BD",
         "Casey's General Store",
         "1111 S Buckner Tarsney Rd",
         "Grain Valley",
         "MO",
         "64029",
         null,
         "US"
        ],
        [
         "BD",
         "Casey's General Store",
         "1901 W Mechanic St",
         "Harrisonville",
         "MO",
         "64701",
         null,
         "US"
        ],
        [
         "BD",
         "Casey's General Store",
         "10751 N Oak Trfy",
         "KS City",
         "MO",
         "64155",
         null,
         "US"
        ],
        [
         "BD",
         "Casey's General Store",
         "1719 E 1st St",
         "Maryville",
         "MO",
         "64468",
         null,
         "US"
        ],
        [
         "BD",
         "Casey's General Store",
         "117 E North St",
         "Peculiar",
         "MO",
         "64078",
         null,
         "US"
        ],
        [
         "BD",
         "Casey's General Store",
         "901 E Walnut St",
         "Raymore",
         "MO",
         "64083",
         null,
         "US"
        ],
        [
         "BD",
         "Casey's General Store",
         "1354 NW Graham Rd",
         "Urich",
         "MO",
         "64788",
         null,
         "US"
        ],
        [
         "BD",
         "Casey's General Store",
         "2028 Kellie Dr",
         "Blair",
         "NE",
         "68008",
         null,
         "US"
        ],
        [
         "BD",
         "Casey's General Store",
         "210 E 6th St",
         "North Bend",
         "NE",
         "68649",
         null,
         "US"
        ],
        [
         "BD",
         "Casey's General Store",
         "15275 Weir Plaza St",
         "Omaha",
         "NE",
         "68137",
         null,
         "US"
        ],
        [
         "BD",
         "Casey's General Store",
         "5920 F St",
         "Omaha",
         "NE",
         "68117",
         null,
         "US"
        ],
        [
         "BD",
         "Casey's General Store",
         "16960 Evans Plz",
         "Omaha",
         "NE",
         "68116",
         null,
         "US"
        ],
        [
         "BD",
         "Casey's General Store",
         "9911 S 71st Ave",
         "Papillion",
         "NE",
         "68133",
         null,
         "US"
        ],
        [
         "BD",
         "Casey's General Store",
         "73416 644 A Ave",
         "Peru",
         "NE",
         "68421",
         null,
         "US"
        ],
        [
         "BD",
         "Casey's General Store",
         "16610 Bestman Dr",
         "Plattsmouth",
         "NE",
         "68048",
         null,
         "US"
        ],
        [
         "BD",
         "Casey's General Store",
         "1610 Colfax St",
         "Schuyler",
         "NE",
         "68661",
         null,
         "US"
        ],
        [
         "BD",
         "Casey's General Store",
         "120 N 12th St",
         "Tecumseh",
         "NE",
         "68450",
         null,
         "US"
        ],
        [
         "BD",
         "Casey's General Store",
         "210 W Reichmuth Rd",
         "Valley",
         "NE",
         "68064",
         null,
         "US"
        ],
        [
         "BD",
         "Casey's General Store",
         "1051 W Gentry Ave",
         "Checotah",
         "OK",
         "74426",
         null,
         "US"
        ],
        [
         "BD",
         "Casey's General Store",
         "26267 S 4110 Rd",
         "Claremore",
         "OK",
         "74019",
         null,
         "US"
        ],
        [
         "BD",
         "Casey's General Store",
         "2900 W Holly Rd",
         "Claremore",
         "OK",
         "74019",
         null,
         "US"
        ],
        [
         "BD",
         "Casey's General Store",
         "401 S Osage Ave",
         "Dewey",
         "OK",
         "74029",
         null,
         "US"
        ],
        [
         "BD",
         "Casey's General Store",
         "516 W 121st St S",
         "Jenks",
         "OK",
         "74037",
         null,
         "US"
        ],
        [
         "BD",
         "Casey's General Store",
         "102 W Rogers Blvd",
         "Skiatook",
         "OK",
         "74070",
         null,
         "US"
        ],
        [
         "BD",
         "Casey's General Store",
         "3382 S Muskogee Ave",
         "Tahlequah",
         "OK",
         "74464",
         null,
         "US"
        ],
        [
         "BD",
         "Casey's General Store",
         "903 E Downing St",
         "Tahlequah",
         "OK",
         "74464",
         null,
         "US"
        ],
        [
         "BD",
         "Casey's General Store",
         "4001 Interstate Blvd",
         "Loves Park",
         "IL",
         "61111",
         null,
         "US"
        ],
        [
         "BD",
         "Casey's General Store",
         "9601 Forest Hills Rd",
         "Machesney Park",
         "IL",
         "61115",
         null,
         "US"
        ],
        [
         "BD",
         "Casey's General Store",
         "1137 N Main St",
         "Monmouth",
         "IL",
         "61462",
         null,
         "US"
        ],
        [
         "BD",
         "Casey's General Store",
         "101 E Hitt St",
         "Mt. Morris",
         "IL",
         "61054",
         null,
         "US"
        ],
        [
         "BD",
         "Casey's General Store",
         "1100 Shooting Park Rd",
         "Peru",
         "IL",
         "61354",
         null,
         "US"
        ],
        [
         "BD",
         "Casey's General Store",
         "2125 N Main St",
         "Princeton",
         "IL",
         "61356",
         null,
         "US"
        ],
        [
         "BD",
         "Casey's General Store",
         "5965 Columbia Pkwy",
         "Rockford",
         "IL",
         "61108",
         null,
         "US"
        ],
        [
         "BD",
         "Casey's General Store",
         "1410 S Bell School Rd",
         "Rockford",
         "IL",
         "61108",
         null,
         "US"
        ],
        [
         "BD",
         "Casey's General Store",
         "5365 Bridge St",
         "Roscoe",
         "IL",
         "61073",
         null,
         "US"
        ],
        [
         "BD",
         "Casey's General Store",
         "119 Ray Richardson Rd",
         "Tonica",
         "IL",
         "61370",
         null,
         "US"
        ],
        [
         "BD",
         "Casey's General Store",
         "4 S Main St",
         "Dale",
         "IN",
         "47523",
         null,
         "US"
        ],
        [
         "BD",
         "Casey's General Store",
         "472 E Christmas Blvd",
         "Santa Claus",
         "IN",
         "47579",
         null,
         "US"
        ],
        [
         "BD",
         "Casey's General Store",
         "1738 Nile Kinnick S",
         "Adel",
         "IA",
         "50003",
         null,
         "US"
        ],
        [
         "BD",
         "Casey's General Store",
         "80 South St",
         "Akron",
         "IA",
         "51001",
         null,
         "US"
        ],
        [
         "BD",
         "Casey's General Store",
         "1419 1St Ave N",
         "Altoona",
         "IA",
         "50009",
         null,
         "US"
        ],
        [
         "BD",
         "Casey's General Store",
         "2480 1st Ave S",
         "Altoona",
         "IA",
         "50009",
         null,
         "US"
        ],
        [
         "BD",
         "Casey's General Store",
         "1010 SE Oralabor Rd",
         "Ankeny",
         "IA",
         "50021",
         null,
         "US"
        ],
        [
         "BD",
         "Casey's General Store",
         "3605 NW Irvinedale Dr",
         "Ankeny",
         "IA",
         "50023",
         null,
         "US"
        ],
        [
         "BD",
         "Casey's General Store",
         "1024 E 1st St",
         "Ankeny",
         "IA",
         "50021",
         null,
         "US"
        ],
        [
         "BD",
         "Casey's General Store",
         "1515 SE Corporate Woods Dr",
         "Ankeny",
         "IA",
         "50021",
         null,
         "US"
        ],
        [
         "BD",
         "Casey's General Store",
         "1911 Des Moines Ave",
         "Burlington",
         "IA",
         "52601",
         null,
         "US"
        ],
        [
         "BD",
         "Casey's General Store",
         "1225 Fountains Way",
         "Cedar Falls",
         "IA",
         "50613",
         null,
         "US"
        ],
        [
         "BD",
         "Casey's General Store",
         "3625 Edgewood Rd SW",
         "Cedar Rapids",
         "IA",
         "52404",
         null,
         "US"
        ],
        [
         "BD",
         "Casey's General Store",
         "4560 16th Ave SW",
         "Cedar Rapids",
         "IA",
         "52404",
         null,
         "US"
        ],
        [
         "BD",
         "Casey's General Store",
         "105 S 18th St",
         "Centerville",
         "IA",
         "52544",
         null,
         "US"
        ],
        [
         "BD",
         "Renner Petroleum",
         "5000 W End Rd",
         "Arcata",
         "CA",
         "95521",
         null,
         "US"
        ],
        [
         "BD",
         "Renner Petroleum - Cloverdale",
         "1313 S Cloverdale Blvd",
         "Cloverdale",
         "CA",
         "95425",
         null,
         "US"
        ],
        [
         "BD",
         "DC Department of Public Works - Solid Waste Collection/Recycling",
         "1241 W St NE",
         "Washington",
         "DC",
         "20009",
         null,
         "US"
        ],
        [
         "BD",
         "Casey's General Store",
         "10 W Dundee Rd",
         "Buffalo Grove",
         "IL",
         "60089",
         null,
         "US"
        ],
        [
         "BD",
         "Casey's General Store",
         "9544 Waukegan Rd",
         "Morton Grove",
         "IL",
         "60053",
         null,
         "US"
        ],
        [
         "BD",
         "Casey's General Store",
         "1251 Mchenry Rd",
         "Buffalo Grove",
         "IL",
         "60089",
         null,
         "US"
        ],
        [
         "BD",
         "Casey's General Store",
         "1333 Half Day RD",
         "Highland Park",
         "IL",
         "60035",
         null,
         "US"
        ],
        [
         "BD",
         "Casey's General Store",
         "294 E Townline Rd",
         "Vernon Hills",
         "IL",
         "60061",
         null,
         "US"
        ],
        [
         "BD",
         "Casey's General Store",
         "1901 N Richmond Rd",
         "Mchenry",
         "IL",
         "60051",
         null,
         "US"
        ],
        [
         "BD",
         "Casey's General Store",
         "21W415 North Ave",
         "Lombard",
         "IL",
         "60148",
         null,
         "US"
        ],
        [
         "BD",
         "Casey's General Store",
         "1125 Roosevelt Rd",
         "Glen Ellyn",
         "IL",
         "60137",
         null,
         "US"
        ],
        [
         "BD",
         "Casey's General Store",
         "1600 Nerge Rd",
         "Elk Grove Village",
         "IL",
         "60007",
         null,
         "US"
        ],
        [
         "BD",
         "Casey's General Store",
         "1795 W Lake St",
         "Addison",
         "IL",
         "60101",
         null,
         "US"
        ],
        [
         "BD",
         "Casey's General Store",
         "870 W Army Trail Rd",
         "Carol Stream",
         "IL",
         "60188",
         null,
         "US"
        ],
        [
         "BD",
         "Casey's General Store",
         "1400 N Arlington Heights Rd",
         "Itasca",
         "IL",
         "60143",
         null,
         "US"
        ],
        [
         "BD",
         "Casey's General Store",
         "1917 Ogden Ave",
         "Lisle",
         "IL",
         "60532",
         null,
         "US"
        ],
        [
         "BD",
         "Casey's General Store",
         "1000 E Roosevelt Rd",
         "Wheaton",
         "IL",
         "60187",
         null,
         "US"
        ],
        [
         "BD",
         "Casey's General Store",
         "1000 N Wood Dale Rd",
         "Wood Dale",
         "IL",
         "60191",
         null,
         "US"
        ],
        [
         "BD",
         "Casey's General Store",
         "2074 Main St",
         "Batavia",
         "IL",
         "60510",
         null,
         "US"
        ],
        [
         "BD",
         "Casey's General Store",
         "6551 US Highway 34",
         "Oswego",
         "IL",
         "60543",
         null,
         "US"
        ],
        [
         "BD",
         "Casey's General Store",
         "14808 S Route 59",
         "Plainfield",
         "IL",
         "60544",
         null,
         "US"
        ],
        [
         "BD",
         "Casey's General Store",
         "1095 Pyott Rd",
         "Crystal Lake",
         "IL",
         "60014",
         null,
         "US"
        ],
        [
         "BD",
         "Casey's General Store",
         "602 E North Ave",
         "Glendale Heights",
         "IL",
         "60139",
         null,
         "US"
        ],
        [
         "BD",
         "Casey's General Store",
         "2601 S Liberty Pkwy",
         "Liberty",
         "MO",
         "64068",
         null,
         "US"
        ],
        [
         "BD",
         "Casey's General Store",
         "420 W 6th St",
         "Kearney",
         "MO",
         "64060",
         null,
         "US"
        ],
        [
         "BD",
         "Casey's General Store",
         "4215 S US Highway 169",
         "St. Joseph",
         "MO",
         "64503",
         null,
         "US"
        ],
        [
         "BD",
         "Kwik Trip #1017",
         "617 Buchanan St",
         "Anoka",
         "MN",
         "55303",
         null,
         "US"
        ],
        [
         "BD",
         "Kwik Trip #1034",
         "100 15th Ave NE",
         "Waseca",
         "MN",
         "56093",
         null,
         "US"
        ],
        [
         "BD",
         "Kwik Trip #1090",
         "101 Chalupsky Ave NE",
         "New Prague",
         "MN",
         "56071",
         null,
         "US"
        ],
        [
         "BD",
         "Kwik Trip #1120",
         "325 County Rd 49",
         "Cold Spring",
         "MN",
         "56320",
         null,
         "US"
        ],
        [
         "BD",
         "Kwik Trip #831",
         "221 N Section Ave",
         "Spring Valley",
         "MN",
         "55975",
         null,
         "US"
        ],
        [
         "BD",
         "Kwik Trip #117",
         "4890 Rice Lake Rd",
         "Duluth",
         "MN",
         "55803",
         null,
         "US"
        ],
        [
         "BD",
         "Kwik Trip #335",
         "2170 Wheelock Dr NE",
         "Rochester",
         "MN",
         "55906",
         null,
         "US"
        ],
        [
         "BD",
         "Kwik Trip #585",
         "1945 W 136th St",
         "Burnsville",
         "MN",
         "55337",
         null,
         "US"
        ],
        [
         "BD",
         "Kwik Trip #1140",
         "1120 Bellwest Blvd",
         "Belleville",
         "WI",
         "53508",
         null,
         "US"
        ],
        [
         "BD",
         "Kwik Trip #110",
         "1814 Lake Shore Dr W",
         "Ashland",
         "WI",
         "54806",
         null,
         "US"
        ],
        [
         "BD",
         "Kwik Trip #118",
         "2300 Lakeshore Dr E",
         "Ashland",
         "WI",
         "54806",
         null,
         "US"
        ],
        [
         "BD",
         "Kwik Trip #120",
         "725 44th Ave N",
         "St. Cloud",
         "MN",
         "56301",
         null,
         "US"
        ],
        [
         "BD",
         "Kwik Trip #124",
         "7372 N Towne Rd",
         "DeForest",
         "WI",
         "53532",
         null,
         "US"
        ],
        [
         "BD",
         "Kwik Trip #135",
         "6007 Tower Ave",
         "Superior",
         "WI",
         "54880",
         null,
         "US"
        ],
        [
         "BD",
         "Kwik Trip #141",
         "1100 7th Ave",
         "Two Harbors",
         "MN",
         "55616",
         null,
         "US"
        ],
        [
         "BD",
         "Kwik Trip #149",
         "750 15th Ave SE",
         "St. Cloud",
         "MN",
         "56301",
         null,
         "US"
        ],
        [
         "BD",
         "Kwik Trip #154",
         "245 18th St N",
         "Sauk Rapids",
         "MN",
         "56379",
         null,
         "US"
        ],
        [
         "BD",
         "Kwik Trip #158",
         "1230 Highway 23 E",
         "St. Cloud",
         "MN",
         "56304",
         null,
         "US"
        ],
        [
         "BD",
         "Kwik Trip #166",
         "4694 Opportunity Dr",
         "Moose Lake",
         "MN",
         "55767",
         null,
         "US"
        ],
        [
         "BD",
         "Kwik Trip #178",
         "455 Concord St S",
         "St. Paul",
         "MN",
         "55125",
         null,
         "US"
        ],
        [
         "BD",
         "Kwik Trip",
         "1623 N Broadway Ave",
         "New Ulm",
         "MN",
         "56073",
         null,
         "US"
        ],
        [
         "BD",
         "Kwik Trip #222",
         "3027 E 2nd St",
         "Superior",
         "WI",
         "54880",
         null,
         "US"
        ],
        [
         "BD",
         "Kwik Trip #224",
         "2715 W Michigan St",
         "Duluth",
         "MN",
         "55806",
         null,
         "US"
        ],
        [
         "BD",
         "Kwik Trip #231",
         "305 W Prairie St",
         "Boscobel",
         "WI",
         "53805",
         null,
         "US"
        ],
        [
         "BD",
         "Kwik Trip #234",
         "1320 Highway 45",
         "Cloquet",
         "MN",
         "55720",
         null,
         "US"
        ],
        [
         "BD",
         "Kwik Trip #245",
         "95 4th Ave SE",
         "Plainview",
         "MN",
         "55964",
         null,
         "US"
        ],
        [
         "BD",
         "Kwik Trip #250",
         "1509 10th Pl NE",
         "Austin",
         "MN",
         "55912",
         null,
         "US"
        ],
        [
         "BD",
         "Kwik Trip #273",
         "6516 Grand Ave",
         "Duluth",
         "MN",
         "55807",
         null,
         "US"
        ],
        [
         "BD",
         "Kwik Trip #295",
         "1157 Gateway Dr",
         "Milton",
         "WI",
         "53563",
         null,
         "US"
        ],
        [
         "BD",
         "Kwik Trip #316",
         "10 Denver Ave SE",
         "Hutchinson",
         "MN",
         "55350",
         null,
         "US"
        ],
        [
         "BD",
         "Kwik Trip #317",
         "1751 E Wisconsin St",
         "Sparta",
         "WI",
         "54656",
         null,
         "US"
        ],
        [
         "BD",
         "Kwik Trip #318",
         "1014 S Black River St",
         "Sparta",
         "WI",
         "54656",
         null,
         "US"
        ],
        [
         "BD",
         "Kwik Trip #326",
         "3123 S Highway 51",
         "Janesville",
         "WI",
         "53546",
         null,
         "US"
        ],
        [
         "BD",
         "Kwik Trip #330",
         "104 Aspen Ln",
         "Belle Plaine",
         "MN",
         "56011",
         null,
         "US"
        ],
        [
         "BD",
         "Kwik Trip #334",
         "1271 N River Dr",
         "Mankato",
         "MN",
         "56001",
         null,
         "US"
        ],
        [
         "BD",
         "Kwik Trip #337",
         "124 Paperjack Dr",
         "New Richmond",
         "WI",
         "54017",
         null,
         "US"
        ],
        [
         "BD",
         "Kwik Trip #385",
         "500 Laurel Ct",
         "Northfield",
         "MN",
         "55057",
         null,
         "US"
        ],
        [
         "BD",
         "Kwik Trip #414",
         "101 Schumann Dr NW",
         "Stewartville",
         "MN",
         "55976",
         null,
         "US"
        ],
        [
         "BD",
         "Kwik Trip #424",
         "217 S State St",
         "Fairmont",
         "MN",
         "56031",
         null,
         "US"
        ],
        [
         "BD",
         "Kwik Trip #453",
         "1238 N Main St",
         "River Falls",
         "WI",
         "54022",
         null,
         "US"
        ],
        [
         "BD",
         "Kwik Trip #456",
         "2145 County Highway Pb",
         "Verona",
         "WI",
         "53593",
         null,
         "US"
        ],
        [
         "BD",
         "Kwik Trip #458",
         "1600 Cessna St",
         "Buffalo",
         "MN",
         "55313",
         null,
         "US"
        ],
        [
         "BD",
         "Kwik Trip #463",
         "100 Jefferson Dr",
         "Zumbrota",
         "MN",
         "55992",
         null,
         "US"
        ],
        [
         "BD",
         "Kwik Trip #464",
         "4760 Commercial Dr SW",
         "Rochester",
         "MN",
         "55902",
         null,
         "US"
        ],
        [
         "BD",
         "Kwik Trip #481",
         "4820 Highway 61 W",
         "Red Wing",
         "MN",
         "55066",
         null,
         "US"
        ],
        [
         "BD",
         "Kwik Trip #497",
         "42165 County Rd 12",
         "Dakota",
         "MN",
         "55925",
         null,
         "US"
        ],
        [
         "BD",
         "Kwik Trip #571",
         "1711 Highway 210",
         "Carlton",
         "MN",
         "55718",
         null,
         "US"
        ],
        [
         "BD",
         "Kwik Trip #575",
         "15 20th Ave SE",
         "St. Joseph",
         "MN",
         "56374",
         null,
         "US"
        ],
        [
         "BD",
         "Kwik Trip #596",
         "1110 State St",
         "Black Earth",
         "WI",
         "53515",
         null,
         "US"
        ],
        [
         "BD",
         "Kwik Trip #598",
         "645 Opportunity Park Dr",
         "Paynesville",
         "MN",
         "56362",
         null,
         "US"
        ],
        [
         "BD",
         "Kwik Trip #608",
         "150 Highway 30",
         "Chatfield",
         "MN",
         "55923",
         null,
         "US"
        ],
        [
         "BD",
         "Kwik Trip #622",
         "16 2nd Ave NW",
         "Byron",
         "MN",
         "55920",
         null,
         "US"
        ],
        [
         "BD",
         "Kwik Trip #653",
         "1223 E Wisconsin St",
         "Portage",
         "WI",
         "53901",
         null,
         "US"
        ],
        [
         "BD",
         "Kwik Trip #661",
         "720 8th Ave",
         "Monroe",
         "WI",
         "53566",
         null,
         "US"
        ],
        [
         "BD",
         "Kwik Trip #662",
         "3145 Dodd Rd",
         "Eagan",
         "MN",
         "55121",
         null,
         "US"
        ],
        [
         "BD",
         "Kwik Trip #681",
         "4400 O'Day Ave NE",
         "St. Michael",
         "MN",
         "55376",
         null,
         "US"
        ],
        [
         "BD",
         "Kwik Trip #721",
         "504 Plaza Dr",
         "Marshall",
         "WI",
         "53559",
         null,
         "US"
        ],
        [
         "BD",
         "Kwik Trip #733",
         "608 Esch Dr",
         "Caledonia",
         "MN",
         "55921",
         null,
         "US"
        ],
        [
         "BD",
         "Kwik Trip #753",
         "380 Sandstone Dr NW",
         "Eyota",
         "MN",
         "55934",
         null,
         "US"
        ],
        [
         "BD",
         "Kwik Trip #844",
         "994 W Lyon Ave",
         "Lake City",
         "MN",
         "55041",
         null,
         "US"
        ],
        [
         "BD",
         "Kwik Trip #854",
         "520 Reform St N",
         "Norwood Young America",
         "MN",
         "55368",
         null,
         "US"
        ],
        [
         "BD",
         "Kwik Trip #855",
         "1330 South Blvd",
         "Baraboo",
         "WI",
         "53913",
         null,
         "US"
        ],
        [
         "BD",
         "Kwik Trip #872",
         "102 Collins Rd",
         "Jefferson",
         "WI",
         "53549",
         null,
         "US"
        ],
        [
         "BD",
         "Kwik Trip #874",
         "11085 Lake Blvd",
         "Chisago City",
         "MN",
         "55013",
         null,
         "US"
        ],
        [
         "BD",
         "Kwik Trip #875",
         "2611 Bridge Ave",
         "Albert Lea",
         "MN",
         "56007",
         null,
         "US"
        ],
        [
         "BD",
         "Kwik Trip #926",
         "100 4th Ave NW",
         "New Prague",
         "MN",
         "56071",
         null,
         "US"
        ],
        [
         "BD",
         "Kwik Trip #928",
         "707 Northland Dr",
         "Princeton",
         "MN",
         "55371",
         null,
         "US"
        ],
        [
         "BD",
         "Kwik Trip #937",
         "2550 Highway 12 E",
         "Willmar",
         "MN",
         "56201",
         null,
         "US"
        ],
        [
         "BD",
         "Kwik Trip #1019",
         "400 E Dual Blvd",
         "Isanti",
         "MN",
         "55040",
         null,
         "US"
        ],
        [
         "BD",
         "Kwik Trip #1037",
         "707 McLean St",
         "Mora",
         "MN",
         "55051",
         null,
         "US"
        ],
        [
         "BD",
         "Kwik Trip #1048",
         "341 Jefferson St E",
         "West Salem",
         "WI",
         "54669",
         null,
         "US"
        ],
        [
         "BD",
         "Kwik Trip #137",
         "106 10th Ave S",
         "Waite Park",
         "MN",
         "56387",
         null,
         "US"
        ],
        [
         "BD",
         "Kwik Trip #144",
         "900 Washington Ave",
         "Cloquet",
         "MN",
         "55720",
         null,
         "US"
        ],
        [
         "BD",
         "Kwik Trip #146",
         "2211 W Division St",
         "St. Cloud",
         "MN",
         "56301",
         null,
         "US"
        ],
        [
         "BD",
         "Kwik Trip #147",
         "200 2nd Ave NW",
         "St. Joseph",
         "MN",
         "56374",
         null,
         "US"
        ],
        [
         "BD",
         "Kwik Trip #150",
         "6250 City Rd 120",
         "St. Cloud",
         "MN",
         "56303",
         null,
         "US"
        ],
        [
         "BD",
         "Kwik Trip #152",
         "3278 Highway 61 N",
         "Vadnais Heights",
         "MN",
         "55110",
         null,
         "US"
        ],
        [
         "BD",
         "Kwik Trip #153",
         "105 2nd St S",
         "Sartell",
         "MN",
         "56377",
         null,
         "US"
        ],
        [
         "BD",
         "Kwik Trip #168",
         "130 Eagle Lake Rd N",
         "Big Lake",
         "MN",
         "55309",
         null,
         "US"
        ],
        [
         "BD",
         "Kwik Trip #179",
         "4600 Slater Rd",
         "Eagan",
         "MN",
         "55122",
         null,
         "US"
        ],
        [
         "BD",
         "Kwik Trip #216",
         "4805 Miller Trunk Hwy",
         "Hermantown",
         "MN",
         "55811",
         null,
         "US"
        ],
        [
         "BD",
         "Kwik Trip #247",
         "235 North Rd",
         "Cloquet",
         "MN",
         "55720",
         null,
         "US"
        ],
        [
         "BD",
         "Kwik Trip #248",
         "9955 Hudson Blvd",
         "Lake Elmo",
         "MN",
         "55042",
         null,
         "US"
        ],
        [
         "BD",
         "Kwik Trip #249",
         "1630 Vermillion St",
         "Hastings",
         "MN",
         "55033",
         null,
         "US"
        ],
        [
         "BD",
         "Kwik Trip #274",
         "6 W Central Entrance",
         "Duluth",
         "MN",
         "55811",
         null,
         "US"
        ],
        [
         "BD",
         "Kwik Trip #275",
         "1701 Premier Dr",
         "Mankato",
         "MN",
         "56001",
         null,
         "US"
        ],
        [
         "BD",
         "Kwik Trip #281",
         "16751 Fish Point Rd SE",
         "Prior Lake",
         "MN",
         "55372",
         null,
         "US"
        ],
        [
         "BD",
         "Kwik Trip #345",
         "9440 State Highway 25",
         "Monticello",
         "MN",
         "55362",
         null,
         "US"
        ],
        [
         "BD",
         "Kwik Trip #382",
         "4120 Highway 52 N",
         "Rochester",
         "MN",
         "55901",
         null,
         "US"
        ],
        [
         "BD",
         "Kwik Trip #406",
         "7545 145th St W",
         "Apple Valley",
         "MN",
         "55124",
         null,
         "US"
        ],
        [
         "BD",
         "Kwik Trip #429",
         "4868 208th St N",
         "Forest Lake",
         "MN",
         "55025",
         null,
         "US"
        ],
        [
         "BD",
         "Kwik Trip #435",
         "1075 W Frontage Rd",
         "Owatonna",
         "MN",
         "55060",
         null,
         "US"
        ],
        [
         "BD",
         "Kwik Trip #438",
         "2109 2nd St SW",
         "Rochester",
         "MN",
         "55902",
         null,
         "US"
        ],
        [
         "BD",
         "Kwik Trip #443",
         "18290 Pilot Knob Rd",
         "Farmington",
         "MN",
         "55024",
         null,
         "US"
        ],
        [
         "BD",
         "Kwik Trip #445",
         "1401 4th St NW",
         "Austin",
         "MN",
         "55912",
         null,
         "US"
        ],
        [
         "BD",
         "Kwik Trip #447",
         "8225 Crossings Blvd",
         "Shakopee",
         "MN",
         "55379",
         null,
         "US"
        ],
        [
         "BD",
         "Kwik Trip #454",
         "14730 Victor Hugo Blvd N",
         "Hugo",
         "MN",
         "55038",
         null,
         "US"
        ],
        [
         "BD",
         "Kwik Trip #460",
         "809 Vista Blvd",
         "Waconia",
         "MN",
         "55387",
         null,
         "US"
        ],
        [
         "BD",
         "Kwik Trip #465",
         "9250 Springbrook Dr NW",
         "Coon Rapids",
         "MN",
         "55433",
         null,
         "US"
        ],
        [
         "BD",
         "Kwik Trip #466",
         "1305 S Minnesota Ave",
         "St. Peter",
         "MN",
         "56082",
         null,
         "US"
        ],
        [
         "BD",
         "Kwik Trip #477",
         "8800 State Highway 7",
         "St. Bonifacius",
         "MN",
         "55375",
         null,
         "US"
        ],
        [
         "BD",
         "Kwik Trip #492",
         "8921 Crossroads Blvd",
         "Chanhassen",
         "MN",
         "55317",
         null,
         "US"
        ],
        [
         "BD",
         "Kwik Trip #615",
         "1740 Commerce Dr",
         "North Mankato",
         "MN",
         "56003",
         null,
         "US"
        ],
        [
         "BD",
         "Kwik Trip #672",
         "1933 Broadway Ave S",
         "Rochester",
         "MN",
         "55904",
         null,
         "US"
        ],
        [
         "BD",
         "Kwik Trip #806",
         "320 Mineral Springs Rd",
         "Owatonna",
         "MN",
         "55060",
         null,
         "US"
        ],
        [
         "BD",
         "Kwik Trip #812",
         "1756 Bunker Lake Blvd NW",
         "Andover",
         "MN",
         "55304",
         null,
         "US"
        ],
        [
         "BD",
         "Kwik Trip #833",
         "2508 Main St",
         "Cross Plains",
         "WI",
         "53528",
         null,
         "US"
        ],
        [
         "BD",
         "Kwik Trip #843",
         "106 Hiawatha Dr",
         "Wabasha",
         "MN",
         "55981",
         null,
         "US"
        ],
        [
         "BD",
         "Kwik Trip #869",
         "3355 Hadley Ave",
         "Oakdale",
         "MN",
         "55128",
         null,
         "US"
        ],
        [
         "BD",
         "Kwik Trip #886",
         "2900 N Chestnut St",
         "Chaska",
         "MN",
         "55318",
         null,
         "US"
        ],
        [
         "BD",
         "Kwik Trip #925",
         "10510 Radisson Rd NE",
         "Blaine",
         "MN",
         "55449",
         null,
         "US"
        ],
        [
         "BD",
         "Kwik Trip #945",
         "2000 1st St S",
         "Willmar",
         "MN",
         "56201",
         null,
         "US"
        ],
        [
         "BD",
         "Kwik Trip #1011",
         "921 Coneflower Dr",
         "Mankato",
         "MN",
         "56001",
         null,
         "US"
        ],
        [
         "BD",
         "Kwik Trip",
         "6300 Labeaux Ave NE",
         "Albertville",
         "MN",
         "55301",
         null,
         "US"
        ],
        [
         "BD",
         "Kwik Trip #1045",
         "863 Highpoint Dr NE",
         "Byron",
         "MN",
         "55920",
         null,
         "US"
        ],
        [
         "BD",
         "76 - Circle K",
         "22400 Van Buren Blvd",
         "March Air Reserve Base",
         "CA",
         "92518",
         null,
         "US"
        ],
        [
         "BD",
         "G&M",
         "17707 Sherman Way",
         "Reseda",
         "CA",
         "91335",
         null,
         "US"
        ],
        [
         "BD",
         "Pacific Pride - Interstate Oil Co",
         "3022 Evergreen St",
         "West Sacramento",
         "CA",
         "95691",
         null,
         "US"
        ],
        [
         "BD",
         "Shell",
         "15 SW 5th St",
         "Madras",
         "OR",
         "97741",
         null,
         "US"
        ],
        [
         "BD",
         "99 Travel Center",
         "4142 CA-99",
         "Yuba City",
         "CA",
         "95991",
         null,
         "US"
        ],
        [
         "BD",
         "Pacific Biodiesel Inc",
         "101 Maalaea Boat Harbor Rd",
         "Wailuki",
         "HI",
         "96793",
         null,
         "US"
        ],
        [
         "BD",
         "Chevron",
         "150 S Diamond Bar Blvd",
         "Diamond Bar",
         "CA",
         "91765",
         null,
         "US"
        ],
        [
         "BD",
         "G&M Chevron #174",
         "7737 Balboa Ave",
         "San Diego",
         "CA",
         "92111",
         null,
         "US"
        ],
        [
         "BD",
         "Chevon G&M #73",
         "100 S Glenoaks Blvd",
         "Burbank",
         "CA",
         "91502",
         null,
         "US"
        ],
        [
         "BD",
         "Speedway #3962",
         "5951 E Rockton Rd",
         "Roscoe",
         "IL",
         "61073",
         null,
         "US"
        ],
        [
         "BD",
         "Pacific Biodiesel Inc",
         "194 Lauo Loop",
         "Kahului",
         "HI",
         "96732",
         null,
         "US"
        ],
        [
         "BD",
         "Pacific Biodiesel Inc",
         "16-240 Mikahala St",
         "Keaau",
         "HI",
         "96749",
         null,
         "US"
        ],
        [
         "BD",
         "Pacific Biodiesel Inc",
         "74-429 Kealakehe Pkwy",
         "Kailua-Kona",
         "HI",
         "96740",
         null,
         "US"
        ],
        [
         "BD",
         "Bridgman Oil Co",
         "109 Clay St",
         "Hutchinson",
         "KS",
         "67501",
         null,
         "US"
        ],
        [
         "BD",
         "Love's Travel Stop #",
         "15250 North Thornton Rd",
         "Lodi",
         "CA",
         "95242",
         null,
         "US"
        ],
        [
         "BD",
         "Love's Travel Stop #230",
         "21948 Highway 46",
         "Lost Hills",
         "CA",
         "93249",
         null,
         "US"
        ],
        [
         "BD",
         "Love’s Travel Stop - Madera",
         "3175 Avenue 17",
         "Madera",
         "CA",
         "93637",
         null,
         "US"
        ],
        [
         "BD",
         "Love's Travel Stop #652",
         "100 Marguerite St",
         "Williams",
         "CA",
         "95987",
         null,
         "US"
        ],
        [
         "BD",
         "Gurnee Truck Stop",
         "36725 US Hwy 41",
         "Gurnee",
         "IL",
         "60031",
         null,
         "US"
        ],
        [
         "BD",
         "Love's Travel Stop",
         "2974 Lenwood Rd",
         "Barstow",
         "CA",
         "92311",
         null,
         "US"
        ],
        [
         "BD",
         "Love's Travel Stop #755",
         "27201 Boron Frontage Rd N",
         "Boron",
         "CA",
         "93516",
         null,
         "US"
        ],
        [
         "BD",
         "Love's Travel Stop #410",
         "2120 South Ave",
         "Corning",
         "CA",
         "96021",
         null,
         "US"
        ],
        [
         "BD",
         "Love's Travel Stop",
         "3174 Avenue 17",
         "Madera",
         "CA",
         "93638",
         null,
         "US"
        ],
        [
         "BD",
         "Love's Travel Stop #233",
         "1553 W Colony Rd",
         "Ripon",
         "CA",
         "95366",
         null,
         "US"
        ],
        [
         "BD",
         "Love's Travel Stop #441",
         "29025 W Plaza Dr",
         "Santa Nella",
         "CA",
         "95322",
         null,
         "US"
        ],
        [
         "BD",
         "Love's Travel Stop #392",
         "2000 E Tehachapi Blvd",
         "Tehachapi",
         "CA",
         "93561",
         null,
         "US"
        ],
        [
         "BD",
         "Love's Travel Stop",
         "2700 S Blackstone St",
         "Tulare",
         "CA",
         "93274",
         null,
         "US"
        ],
        [
         "BD",
         "Love's Travel Stop #749",
         "551 W Main St",
         "Westmorland",
         "CA",
         "92281",
         null,
         "US"
        ],
        [
         "BD",
         "VP Fuels",
         "813 US-101",
         "Florence",
         "OR",
         "97439",
         null,
         "US"
        ],
        [
         "BD",
         "Northern Star Co-op - Grand Rapids",
         "105 SE 29th St",
         "Grand Rapids",
         "MN",
         "55744",
         null,
         "US"
        ],
        [
         "BD",
         "Casey's General Store",
         "817 County Highway 13",
         "Melrose",
         "MN",
         "56352",
         null,
         "US"
        ],
        [
         "BD",
         "Casey's General Store",
         "7279 S St Rd 46",
         "Terre Haute",
         "IN",
         "47802",
         null,
         "US"
        ],
        [
         "BD",
         "Casey's General Store",
         "5150 100th St",
         "Urbandale",
         "IA",
         "50322",
         null,
         "US"
        ],
        [
         "BD",
         "Casey's General Store",
         "1175 NE 75th St",
         "Pleasant Hill",
         "IA",
         "50327",
         null,
         "US"
        ],
        [
         "BD",
         "Casey's General Store",
         "222 N Clark St",
         "Paullina",
         "IA",
         "51046",
         null,
         "US"
        ],
        [
         "BD",
         "Lakeside Travel Plaza - Sinclair",
         "1097 W Gateway Dr",
         "Worthington",
         "MN",
         "56187",
         null,
         "US"
        ],
        [
         "BD",
         "Casey's",
         "1109 N STATE ST",
         "WASECA",
         "MN",
         "56093",
         null,
         "US"
        ],
        [
         "BD",
         "Casey's",
         "1021 19TH AVE SW",
         "WILLMAR",
         "MN",
         "56201",
         null,
         "US"
        ],
        [
         "BD",
         "Casey's",
         "1375 LOOKOUT DR",
         "NORTH MANKATO",
         "MN",
         "56003",
         null,
         "US"
        ],
        [
         "BD",
         "Casey's",
         "1375 LOOKOUT DR",
         "North Mankato",
         "MN",
         "56003",
         null,
         "US"
        ],
        [
         "BD",
         "Casey's",
         "561 10TH AVE S",
         "WAITE PARK",
         "MN",
         "56387",
         null,
         "US"
        ],
        [
         "BD",
         "Casey's",
         "11000 57TH ST NE",
         "ALBERTVILLE",
         "MN",
         "55301",
         null,
         "US"
        ],
        [
         "BD",
         "Casey's",
         "590 STATE AVE",
         "OWATONNA",
         "MN",
         "55060",
         null,
         "US"
        ],
        [
         "BD",
         "Casey's",
         "270 CROSSING DR",
         "SHERMAN",
         "IL",
         "62684",
         null,
         "US"
        ],
        [
         "BD",
         "Casey's",
         "1101 S BANKER ST",
         "EFFINGHAM",
         "IL",
         "62401",
         null,
         "US"
        ],
        [
         "BD",
         "Casey's",
         "860 GOLDEN SPIKE RD",
         "SAUK RAPIDS",
         "MN",
         "56379",
         null,
         "US"
        ],
        [
         "BD",
         "Casey's",
         "2400 US-12",
         "SPRING GROVE",
         "IL",
         "60081",
         null,
         "US"
        ],
        [
         "BD",
         "Casey's",
         "8218 HIGHLAND SCENIC DR",
         "BAXTER",
         "MN",
         "56425",
         null,
         "US"
        ],
        [
         "BD",
         "Casey's",
         "2359 EDGINGTON AVE",
         "ELDORA",
         "IA",
         "50627",
         null,
         "US"
        ],
        [
         "BD",
         "Casey's",
         "1118 S DUFF AVE",
         "AMES",
         "IA",
         "50010",
         null,
         "US"
        ],
        [
         "BD",
         "Casey's",
         "828 MAIN E ST",
         "BELLE PLAINE",
         "MN",
         "56011",
         null,
         "US"
        ],
        [
         "BD",
         "Casey's",
         "915 S 1ST ST",
         "HIAWATHA",
         "KS",
         "66434",
         null,
         "US"
        ],
        [
         "BD",
         "Casey's",
         "810 N RUM RIVER DR",
         "PRINCETON",
         "MN",
         "55371",
         null,
         "US"
        ],
        [
         "BD",
         "Casey's",
         "1705 MULHOLLAND ST",
         "NAUVOO",
         "IL",
         "62354",
         null,
         "US"
        ],
        [
         "BD",
         "Casey's",
         "2418 N 24TH ST",
         "QUINCY",
         "IL",
         "62305",
         null,
         "US"
        ],
        [
         "BD",
         "Casey's",
         "402 N CHESTNUT ST",
         "WENONA",
         "IL",
         "61377",
         null,
         "US"
        ],
        [
         "BD",
         "Casey's",
         "115 E 5TH ST",
         "MINONK",
         "IL",
         "61760",
         null,
         "US"
        ],
        [
         "BD",
         "Casey's",
         "308 W MAIN ST",
         "CORNELL",
         "IL",
         "61319",
         null,
         "US"
        ],
        [
         "BD",
         "Casey's",
         "510 S MAIN ST",
         "FLANAGAN",
         "IL",
         "61740",
         null,
         "US"
        ],
        [
         "BD",
         "Casey's",
         "290 E STATE ROUTE 115",
         "HERSCHER",
         "IL",
         "60941",
         null,
         "US"
        ],
        [
         "BD",
         "Casey's",
         "104 ROUTE 122",
         "HOPEDALE",
         "IL",
         "61747",
         null,
         "US"
        ],
        [
         "BD",
         "Casey's",
         "100 S ADAMS ST",
         "MANITO",
         "IL",
         "61546",
         null,
         "US"
        ],
        [
         "BD",
         "Casey's",
         "1603 E WASHINGTON ST",
         "CLINTON",
         "IL",
         "61727",
         null,
         "US"
        ],
        [
         "BD",
         "Casey's",
         "290 S NORTH ST",
         "ARGENTA",
         "IL",
         "62501",
         null,
         "US"
        ],
        [
         "BD",
         "Casey's",
         "203 E MAIN ST",
         "COLFAX",
         "IL",
         "61728",
         null,
         "US"
        ],
        [
         "BD",
         "Casey's",
         "102 E 2ND ST",
         "GLASFORD",
         "IL",
         "61533",
         null,
         "US"
        ],
        [
         "BD",
         "Casey's",
         "300 E LOCUST ST",
         "CHATSWORTH",
         "IL",
         "60921",
         null,
         "US"
        ],
        [
         "BD",
         "Casey's",
         "110 S MAIN ST",
         "SAYBROOK",
         "IL",
         "61770",
         null,
         "US"
        ],
        [
         "BD",
         "Casey's",
         "712 CARROLL ST",
         "PAWNEE",
         "IL",
         "62558",
         null,
         "US"
        ],
        [
         "BD",
         "Casey's",
         "306 N STATE ROUTE 129",
         "BRACEVILLE",
         "IL",
         "60407",
         null,
         "US"
        ],
        [
         "BD",
         "Casey's",
         "200 S MAIN ST",
         "ATWOOD",
         "IL",
         "61913",
         null,
         "US"
        ],
        [
         "BD",
         "Casey's",
         "1202 GRAND AVE",
         "BEARDSTOWN",
         "IL",
         "62618",
         null,
         "US"
        ],
        [
         "BD",
         "Casey's",
         "314 N HIRST ST",
         "WITT",
         "IL",
         "62094",
         null,
         "US"
        ],
        [
         "BD",
         "Casey's",
         "402 PINE ST",
         "VARNA",
         "IL",
         "61375",
         null,
         "US"
        ],
        [
         "BD",
         "Casey's",
         "500 W CENTRAL AVE",
         "THOMASBORO",
         "IL",
         "61878",
         null,
         "US"
        ],
        [
         "BD",
         "Casey's",
         "215 W JACKSON ST",
         "CULLOM",
         "IL",
         "60929",
         null,
         "US"
        ],
        [
         "BD",
         "Casey's",
         "312 E 1ST AVE",
         "DEER CREEK",
         "IL",
         "61733",
         null,
         "US"
        ],
        [
         "BD",
         "Casey's",
         "102 N PARIS ST",
         "CATLIN",
         "IL",
         "61817",
         null,
         "US"
        ],
        [
         "BD",
         "Casey's",
         "902 E PARK ST",
         "TAYLORVILLE",
         "IL",
         "62568",
         null,
         "US"
        ],
        [
         "BD",
         "Casey's",
         "523 E IL ROUTE 10",
         "DE LAND",
         "IL",
         "61839",
         null,
         "US"
        ],
        [
         "BD",
         "Casey's",
         "508 N STATE ST",
         "RIDGE FARM",
         "IL",
         "61870",
         null,
         "US"
        ],
        [
         "BD",
         "Casey's",
         "600 S MAIN ST",
         "TUSCOLA",
         "IL",
         "61953",
         null,
         "US"
        ],
        [
         "BD",
         "Casey's",
         "102 N OAK ST",
         "ONARGA",
         "IL",
         "60955",
         null,
         "US"
        ],
        [
         "BD",
         "Casey's",
         "184 E STATE ST",
         "PALMYRA",
         "IL",
         "62674",
         null,
         "US"
        ],
        [
         "BD",
         "Casey's",
         "1109 N MAIN ST",
         "GEORGETOWN",
         "IL",
         "61846",
         null,
         "US"
        ],
        [
         "BD",
         "Casey's",
         "720 S STATE ST",
         "LITCHFIELD",
         "IL",
         "62056",
         null,
         "US"
        ],
        [
         "BD",
         "Casey's",
         "620 S STATE ST",
         "ROODHOUSE",
         "IL",
         "62082",
         null,
         "US"
        ],
        [
         "BD",
         "Casey's",
         "735 E MACOUPIN ST",
         "STAUNTON",
         "IL",
         "62088",
         null,
         "US"
        ],
        [
         "BD",
         "Casey's",
         "521 S MAIN ST",
         "RANKIN",
         "IL",
         "60960",
         null,
         "US"
        ],
        [
         "BD",
         "Casey's",
         "150 Old US Highway 50 W",
         "BECKEMEYER",
         "IL",
         "62219",
         null,
         "US"
        ],
        [
         "BD",
         "Casey's",
         "205 BROWN ST",
         "OAKLAND",
         "IA",
         "51560",
         null,
         "US"
        ],
        [
         "BD",
         "Casey's",
         "510 E CENTRAL AVE",
         "BENLD",
         "IL",
         "62009",
         null,
         "US"
        ],
        [
         "BD",
         "Casey's",
         "221 W STATE ST",
         "NOKOMIS",
         "IL",
         "62075",
         null,
         "US"
        ],
        [
         "BD",
         "Casey's",
         "401 COLLEGE DR",
         "DECORAH",
         "IA",
         "52101",
         null,
         "US"
        ],
        [
         "BD",
         "Casey's",
         "130 W CHURCH ST",
         "LOVINGTON",
         "IL",
         "61937",
         null,
         "US"
        ],
        [
         "BD",
         "Casey's",
         "325 RUSCHE ST",
         "CREVE COEUR",
         "IL",
         "61610",
         null,
         "US"
        ],
        [
         "BD",
         "Casey's",
         "200 S HAMILTON ST",
         "HILLSBORO",
         "IL",
         "62049",
         null,
         "US"
        ],
        [
         "BD",
         "Casey's",
         "116 E MAIN ST",
         "SAN JOSE",
         "IL",
         "62682",
         null,
         "US"
        ],
        [
         "BD",
         "Casey's",
         "19416 SPRINGFIELD RD",
         "GROVELAND",
         "IL",
         "61535",
         null,
         "US"
        ],
        [
         "BD",
         "Casey's",
         "504 E MAIN ST",
         "CUBA",
         "IL",
         "61427",
         null,
         "US"
        ],
        [
         "BD",
         "Casey's",
         "201 W ROUTE 125",
         "PLEASANT PLAINS",
         "IL",
         "62677",
         null,
         "US"
        ],
        [
         "BD",
         "Casey's",
         "612 W MAIN ST",
         "GREEN VALLEY",
         "IL",
         "61534",
         null,
         "US"
        ],
        [
         "BD",
         "Casey's",
         "1700 N PARK AVE",
         "HERRIN",
         "IL",
         "62948",
         null,
         "US"
        ],
        [
         "BD",
         "Casey's",
         "109 MAIN ST",
         "CRESCENT CITY",
         "IL",
         "60928",
         null,
         "US"
        ],
        [
         "BD",
         "Casey's",
         "110 STATE RTE 122",
         "MINIER",
         "IL",
         "61759",
         null,
         "US"
        ],
        [
         "BD",
         "Casey's",
         "383 STATE HWY 121",
         "BETHANY",
         "IL",
         "61914",
         null,
         "US"
        ],
        [
         "BD",
         "Casey's",
         "316 W CEMETERY AVE",
         "CHENOA",
         "IL",
         "61726",
         null,
         "US"
        ],
        [
         "BD",
         "Casey's",
         "204 MAIN ST",
         "ST DAVID",
         "IL",
         "61563",
         null,
         "US"
        ],
        [
         "BD",
         "Casey's",
         "119 N MAIN ST",
         "ROYALTON",
         "IL",
         "62983",
         null,
         "US"
        ],
        [
         "BD",
         "Casey's",
         "209 W GRANT ST",
         "COULTERVILLE",
         "IL",
         "62237",
         null,
         "US"
        ],
        [
         "BD",
         "Casey's",
         "215 S WALNUT ST",
         "TAMAROA",
         "IL",
         "62888",
         null,
         "US"
        ],
        [
         "BD",
         "Casey's",
         "312 OAK ST",
         "DALLAS CITY",
         "IL",
         "62330",
         null,
         "US"
        ],
        [
         "BD",
         "Casey's",
         "102 W STATE RT 161",
         "ALBERS",
         "IL",
         "62215",
         null,
         "US"
        ],
        [
         "BD",
         "Casey's",
         "206 E State Highway 16",
         "TOWER HILL",
         "IL",
         "62571",
         null,
         "US"
        ],
        [
         "BD",
         "Casey's",
         "119 6TH ST",
         "GAYLORD",
         "MN",
         "55334",
         null,
         "US"
        ],
        [
         "BD",
         "Casey's",
         "810 N BEECH ST",
         "NORMAL",
         "IL",
         "61761",
         null,
         "US"
        ],
        [
         "BD",
         "Casey's",
         "902 WALNUT ST",
         "WASHINGTON",
         "IL",
         "61571",
         null,
         "US"
        ],
        [
         "BD",
         "Casey's",
         "408 N LINCOLN ST",
         "PHILO",
         "IL",
         "61864",
         null,
         "US"
        ],
        [
         "BD",
         "Casey's",
         "222 N PENNSYLVANIA ST",
         "CHRISMAN",
         "IL",
         "61924",
         null,
         "US"
        ],
        [
         "BD",
         "Casey's",
         "110 W State Highway 133",
         "OAKLAND",
         "IL",
         "61943",
         null,
         "US"
        ],
        [
         "BD",
         "Casey's",
         "300 ROUTE 45 S",
         "LOUISVILLE",
         "IL",
         "62858",
         null,
         "US"
        ],
        [
         "BD",
         "Casey's",
         "2300 COUNTY ROAD 3000 N",
         "GIFFORD",
         "IL",
         "61847",
         null,
         "US"
        ],
        [
         "BD",
         "Casey's",
         "314 E MAIN ST",
         "TOLEDO",
         "IL",
         "62468",
         null,
         "US"
        ],
        [
         "BD",
         "Casey's",
         "1014 KENTUCKY AVE",
         "WINDSOR",
         "IL",
         "61957",
         null,
         "US"
        ],
        [
         "BD",
         "Casey's",
         "810 OAK AVE",
         "NEOGA",
         "IL",
         "62447",
         null,
         "US"
        ],
        [
         "BD",
         "Casey's",
         "526 S SUPERIOR ST",
         "RAMSEY",
         "IL",
         "62080",
         null,
         "US"
        ],
        [
         "BD",
         "Casey's",
         "407 N MAIN ST",
         "SMITHTON",
         "IL",
         "62285",
         null,
         "US"
        ],
        [
         "BD",
         "Casey's",
         "101 E US ROUTE 150",
         "OAKWOOD",
         "IL",
         "61858",
         null,
         "US"
        ],
        [
         "BD",
         "Casey's",
         "750 S STATE ST",
         "WESTVILLE",
         "IL",
         "61883",
         null,
         "US"
        ],
        [
         "BD",
         "Casey's",
         "105 W POPLAR ST",
         "ODIN",
         "IL",
         "62870",
         null,
         "US"
        ],
        [
         "BD",
         "Casey's",
         "303 W DEARBORN ST",
         "HAVANA",
         "IL",
         "62644",
         null,
         "US"
        ],
        [
         "BD",
         "Casey's",
         "601 N ROUTE 49",
         "CASEY",
         "IL",
         "62420",
         null,
         "US"
        ],
        [
         "BD",
         "Benchmark Biodiesel",
         "620 Phillipi Rd",
         "Columbus",
         "OH",
         "43228",
         null,
         "US"
        ],
        [
         "BD",
         "Casey's",
         "701 E HARGRAVE ST",
         "ATHENS",
         "IL",
         "62613",
         null,
         "US"
        ],
        [
         "BD",
         "Casey's",
         "201 N MAIN ST",
         "FAIRMOUNT",
         "IL",
         "61841",
         null,
         "US"
        ],
        [
         "BD",
         "Casey's",
         "2401 MARSHALL AVE",
         "MATTOON",
         "IL",
         "61938",
         null,
         "US"
        ],
        [
         "BD",
         "Casey's",
         "400 N 4TH ST",
         "ELKVILLE",
         "IL",
         "62932",
         null,
         "US"
        ],
        [
         "BD",
         "Casey's",
         "501 W MAIN ST",
         "COFFEEN",
         "IL",
         "62017",
         null,
         "US"
        ],
        [
         "BD",
         "Casey's",
         "12 W 5TH ST",
         "MORRIS",
         "MN",
         "56267",
         null,
         "US"
        ],
        [
         "BD",
         "Casey's",
         "1002 E MAIN ST",
         "OLNEY",
         "IL",
         "62450",
         null,
         "US"
        ],
        [
         "BD",
         "Casey's",
         "101 S MONROE ST",
         "ABINGDON",
         "IL",
         "61410",
         null,
         "US"
        ],
        [
         "BD",
         "Casey's",
         "243 1ST AVE E",
         "CAMBRIDGE",
         "MN",
         "55008",
         null,
         "US"
        ],
        [
         "BD",
         "Casey's",
         "695 COLE ST",
         "BUSHNELL",
         "IL",
         "61422",
         null,
         "US"
        ],
        [
         "BD",
         "Casey's",
         "507 E STATE ST",
         "BRIDGEPORT",
         "IL",
         "62417",
         null,
         "US"
        ],
        [
         "BD",
         "Casey's",
         "723 S STATE ST",
         "JERSEYVILLE",
         "IL",
         "62052",
         null,
         "US"
        ],
        [
         "BD",
         "Casey's",
         "413 N RAILROAD AVE",
         "BLUE MOUND",
         "IL",
         "62513",
         null,
         "US"
        ],
        [
         "BD",
         "Casey's",
         "1671 S TAYLORVILLE RD",
         "DECATUR",
         "IL",
         "62521",
         null,
         "US"
        ],
        [
         "BD",
         "Casey's",
         "301 W QUINCY ST",
         "GRIGGSVILLE",
         "IL",
         "62340",
         null,
         "US"
        ],
        [
         "BD",
         "Casey's",
         "115 S MAPLE ST",
         "BRIGHTON",
         "IL",
         "62012",
         null,
         "US"
        ],
        [
         "BD",
         "Casey's",
         "5256 ST RTE 140",
         "BETHALTO",
         "IL",
         "62010",
         null,
         "US"
        ],
        [
         "BD",
         "Casey's",
         "2101 E MAIN ST",
         "DANVILLE",
         "IL",
         "61832",
         null,
         "US"
        ],
        [
         "BD",
         "Casey's",
         "201 W WOLFE ST",
         "SULLIVAN",
         "IN",
         "47882",
         null,
         "US"
        ],
        [
         "BD",
         "Casey's",
         "601 W CHURCH ST",
         "WEST SALEM",
         "IL",
         "62476",
         null,
         "US"
        ],
        [
         "BD",
         "Casey's",
         "808 N WABASH AVE",
         "CENTRALIA",
         "IL",
         "62801",
         null,
         "US"
        ],
        [
         "BD",
         "Casey's",
         "425 W MAIN ST",
         "CARLINVILLE",
         "IL",
         "62626",
         null,
         "US"
        ],
        [
         "BD",
         "Casey's",
         "320 S HAMILTON ST",
         "SULLIVAN",
         "IL",
         "61951",
         null,
         "US"
        ],
        [
         "BD",
         "Casey's",
         "610 W UNION AVE",
         "LITCHFIELD",
         "IL",
         "62056",
         null,
         "US"
        ],
        [
         "BD",
         "Casey's",
         "1232 N UNION AVE",
         "FERGUS FALLS",
         "MN",
         "56537",
         null,
         "US"
        ],
        [
         "BD",
         "Casey's",
         "400 BROADWAY AVE",
         "SOUTH ROXANA",
         "IL",
         "62087",
         null,
         "US"
        ],
        [
         "BD",
         "Casey's",
         "454 13TH ST NW",
         "LINTON",
         "IN",
         "47441",
         null,
         "US"
        ],
        [
         "BD",
         "Casey's",
         "930 W NATIONAL AVE",
         "BRAZIL",
         "IN",
         "47834",
         null,
         "US"
        ],
        [
         "BD",
         "Casey's",
         "1556 SCHOOL ST",
         "HILLSBORO",
         "IL",
         "62049",
         null,
         "US"
        ],
        [
         "BD",
         "Casey's",
         "501 STATE ST",
         "LAWRENCEVILLE",
         "IL",
         "62439",
         null,
         "US"
        ],
        [
         "BD",
         "Casey's",
         "312 W MAIN ST",
         "TEUTOPOLIS",
         "IL",
         "62467",
         null,
         "US"
        ],
        [
         "BD",
         "Casey's",
         "305 N MACOUPIN ST",
         "GILLESPIE",
         "IL",
         "62033",
         null,
         "US"
        ],
        [
         "BD",
         "Casey's",
         "1825 KEOKUK ST",
         "HAMILTON",
         "IL",
         "62341",
         null,
         "US"
        ],
        [
         "BD",
         "Casey's",
         "110 CENTRAL AVE N",
         "MILACA",
         "MN",
         "56353",
         null,
         "US"
        ],
        [
         "BD",
         "Casey's",
         "6301 GODFREY RD",
         "GODFREY",
         "IL",
         "62035",
         null,
         "US"
        ],
        [
         "BD",
         "Casey's",
         "106 OBLIQUE ST",
         "WASHBURN",
         "IL",
         "61570",
         null,
         "US"
        ],
        [
         "BD",
         "Casey's",
         "149 W HARRISON ST",
         "AVISTON",
         "IL",
         "62216",
         null,
         "US"
        ],
        [
         "BD",
         "Casey's",
         "614 S WASHINGTON ST",
         "DU QUOIN",
         "IL",
         "62832",
         null,
         "US"
        ],
        [
         "BD",
         "Casey's",
         "1117 GRAND AVE",
         "JOHNSTON CITY",
         "IL",
         "62951",
         null,
         "US"
        ],
        [
         "BD",
         "Casey's",
         "3266 N 25TH ST",
         "TERRE HAUTE",
         "IN",
         "47804",
         null,
         "US"
        ],
        [
         "BD",
         "Casey's",
         "7502 E STATE ST",
         "DUGGER",
         "IN",
         "47848",
         null,
         "US"
        ],
        [
         "BD",
         "Casey's",
         "1603 W MAIN ST",
         "ROBINSON",
         "IL",
         "62454",
         null,
         "US"
        ],
        [
         "BD",
         "Casey's",
         "908 E NOLEMAN ST",
         "CENTRALIA",
         "IL",
         "62801",
         null,
         "US"
        ],
        [
         "BD",
         "Casey's",
         "1203 S BROADWAY AVE",
         "SALEM",
         "IL",
         "62881",
         null,
         "US"
        ],
        [
         "BD",
         "Casey's",
         "1900 18TH ST",
         "CHARLESTON",
         "IL",
         "61920",
         null,
         "US"
        ],
        [
         "BD",
         "Casey's",
         "241 W ELM ST",
         "WAVERLY",
         "IL",
         "62692",
         null,
         "US"
        ],
        [
         "BD",
         "Casey's",
         "1850 S MAIN ST",
         "MORTON",
         "IL",
         "61550",
         null,
         "US"
        ],
        [
         "BD",
         "Casey's",
         "820 LINCOLN ST",
         "AUBURN",
         "IL",
         "62615",
         null,
         "US"
        ],
        [
         "BD",
         "Casey's",
         "1700 W MAIN ST",
         "SHELBYVILLE",
         "IL",
         "62565",
         null,
         "US"
        ],
        [
         "BD",
         "Casey's",
         "613 1/2 S SPRINGFIELD ST",
         "VIRDEN",
         "IL",
         "62690",
         null,
         "US"
        ],
        [
         "BD",
         "Casey's",
         "1305 E MAIN ST",
         "WEST FRANKFORT",
         "IL",
         "62896",
         null,
         "US"
        ],
        [
         "BD",
         "Casey's",
         "201 E FERRY ST",
         "CAYUGA",
         "IN",
         "47928",
         null,
         "US"
        ],
        [
         "BD",
         "Casey's",
         "150 S STATE RTE 121",
         "WARRENSBURG",
         "IL",
         "62573",
         null,
         "US"
        ],
        [
         "BD",
         "Casey's",
         "1310 N 8TH ST",
         "VANDALIA",
         "IL",
         "62471",
         null,
         "US"
        ],
        [
         "BD",
         "Casey's",
         "990 E BEAUMONT AVE",
         "GREENVILLE",
         "IL",
         "62246",
         null,
         "US"
        ],
        [
         "BD",
         "Casey's",
         "1525 W MOUND RD",
         "DECATUR",
         "IL",
         "62526",
         null,
         "US"
        ],
        [
         "BD",
         "Casey's",
         "102 E WALNUT ST",
         "ALBION",
         "IL",
         "62806",
         null,
         "US"
        ],
        [
         "BD",
         "Casey's",
         "514 W COLLINS ST",
         "MENDON",
         "IL",
         "62351",
         null,
         "US"
        ],
        [
         "BD",
         "Casey's",
         "100 HIGHLAND AVE",
         "FAIRFIELD",
         "IL",
         "62837",
         null,
         "US"
        ],
        [
         "BD",
         "Casey's",
         "315 N CHRISTY AVE",
         "SUMNER",
         "IL",
         "62466",
         null,
         "US"
        ],
        [
         "BD",
         "Casey's",
         "417 BUNKER HILL RD",
         "STAUNTON",
         "IL",
         "62088",
         null,
         "US"
        ],
        [
         "BD",
         "Casey's",
         "410 W CUMBERLAND RD",
         "ST. ELMO",
         "IL",
         "62458",
         null,
         "US"
        ],
        [
         "BD",
         "Casey's",
         "801 E WALNUT ST",
         "CHATHAM",
         "IL",
         "62629",
         null,
         "US"
        ],
        [
         "BD",
         "Casey's",
         "1735 VANDALIA RD",
         "HILLSBORO",
         "IL",
         "62049",
         null,
         "US"
        ],
        [
         "BD",
         "Casey's",
         "710 E MAIN ST",
         "BENTON",
         "IL",
         "62812",
         null,
         "US"
        ],
        [
         "BD",
         "Casey's",
         "1320 W MAIN ST",
         "CARMI",
         "IL",
         "62821",
         null,
         "US"
        ],
        [
         "BD",
         "Casey's",
         "103 N CHESTNUT ST",
         "ARCOLA",
         "IL",
         "61910",
         null,
         "US"
        ],
        [
         "BD",
         "Casey's",
         "315 BROADWAY",
         "HIGHLAND",
         "IL",
         "62249",
         null,
         "US"
        ],
        [
         "BD",
         "Casey's",
         "1 W 2ND ST",
         "PANA",
         "IL",
         "62557",
         null,
         "US"
        ],
        [
         "BD",
         "Casey's",
         "400 W MONDAMIN ST",
         "MINOOKA",
         "IL",
         "60447",
         null,
         "US"
        ],
        [
         "BD",
         "Casey's",
         "25258 W EAMES ST",
         "CHANNAHON",
         "IL",
         "60410",
         null,
         "US"
        ],
        [
         "BD",
         "Casey's",
         "2040 E DIVISION ST",
         "DIAMOND",
         "IL",
         "60416",
         null,
         "US"
        ],
        [
         "BD",
         "Casey's",
         "280 E MAIN ST",
         "BRAIDWOOD",
         "IL",
         "60408",
         null,
         "US"
        ],
        [
         "BD",
         "Casey's",
         "943 N MAIN ST",
         "MARISSA",
         "IL",
         "62257",
         null,
         "US"
        ],
        [
         "BD",
         "Casey's",
         "491 E HWY 40",
         "BRAZIL",
         "IN",
         "47834",
         null,
         "US"
        ],
        [
         "BD",
         "Casey's",
         "819 W NATIONAL AVE",
         "WEST TERRE HAUTE",
         "IN",
         "47885",
         null,
         "US"
        ],
        [
         "BD",
         "Casey's",
         "369 S MAIN ST",
         "WHITE HALL",
         "IL",
         "62092",
         null,
         "US"
        ],
        [
         "BD",
         "Casey's",
         "304 W CLINTON ST",
         "RUSHVILLE",
         "IL",
         "62681",
         null,
         "US"
        ],
        [
         "BD",
         "Casey's",
         "102 S PRAIRIEVIEW RD",
         "MAHOMET",
         "IL",
         "61853",
         null,
         "US"
        ],
        [
         "BD",
         "Casey's",
         "3800 PONTOON RD",
         "PONTOON BEACH",
         "IL",
         "62040",
         null,
         "US"
        ],
        [
         "BD",
         "Casey's",
         "500 S CENTURY BLVD",
         "RANTOUL",
         "IL",
         "61866",
         null,
         "US"
        ],
        [
         "BD",
         "Casey's",
         "304 S SYCAMORE ST",
         "VILLA GROVE",
         "IL",
         "61956",
         null,
         "US"
        ],
        [
         "BD",
         "Casey's",
         "103 E WASHINGTON ST",
         "ASHLAND",
         "IL",
         "62612",
         null,
         "US"
        ],
        [
         "BD",
         "Casey's",
         "811 W MAIN ST",
         "LA HARPE",
         "IL",
         "61450",
         null,
         "US"
        ],
        [
         "BD",
         "Casey's",
         "502 W MAIN ST",
         "SIDNEY",
         "IL",
         "61877",
         null,
         "US"
        ],
        [
         "BD",
         "Casey's",
         "10846 STATE HWY 149",
         "WEST FRANKFORT",
         "IL",
         "62896",
         null,
         "US"
        ],
        [
         "BD",
         "Casey's",
         "811 W MAIN ST",
         "ELMWOOD",
         "IL",
         "61529",
         null,
         "US"
        ],
        [
         "BD",
         "Casey's",
         "710 BUTLER ST",
         "TILDEN",
         "IL",
         "62292",
         null,
         "US"
        ],
        [
         "BD",
         "Casey's",
         "84 S MAIN ST",
         "FARMINGTON",
         "IL",
         "61531",
         null,
         "US"
        ],
        [
         "BD",
         "Casey's",
         "313 E WASHINGTON ST",
         "MILLSTADT",
         "IL",
         "62260",
         null,
         "US"
        ],
        [
         "BD",
         "Casey's",
         "1205 HAVEN RD",
         "LITTLE FALLS",
         "MN",
         "56345",
         null,
         "US"
        ],
        [
         "BD",
         "Casey's",
         "3499 FOSTERBURG RD",
         "ALTON",
         "IL",
         "62002",
         null,
         "US"
        ],
        [
         "BD",
         "Casey's",
         "202 S PARK ST",
         "SESSER",
         "IL",
         "62884",
         null,
         "US"
        ],
        [
         "BD",
         "Casey's",
         "206 E DIVISION ST",
         "FISHER",
         "IL",
         "61843",
         null,
         "US"
        ],
        [
         "BD",
         "Casey's",
         "502 S VICTOR ST",
         "CHRISTOPHER",
         "IL",
         "62822",
         null,
         "US"
        ],
        [
         "BD",
         "Casey's",
         "1327 S MILL ST",
         "NASHVILLE",
         "IL",
         "62263",
         null,
         "US"
        ],
        [
         "BD",
         "Casey's",
         "2020 N MAIN ST",
         "CANTON",
         "IL",
         "61520",
         null,
         "US"
        ],
        [
         "BD",
         "Casey's",
         "901 W WALNUT ST",
         "JACKSONVILLE",
         "IL",
         "62650",
         null,
         "US"
        ],
        [
         "BD",
         "Casey's",
         "800 N STATE ST",
         "FREEBURG",
         "IL",
         "62243",
         null,
         "US"
        ],
        [
         "BD",
         "Casey's",
         "1801 S MAIN ST",
         "EUREKA",
         "IL",
         "61530",
         null,
         "US"
        ],
        [
         "BD",
         "Casey's",
         "1400 SALEM RD",
         "MT. VERNON",
         "IL",
         "62864",
         null,
         "US"
        ],
        [
         "BD",
         "Casey's",
         "2201 WASHINGTON RD",
         "WASHINGTON",
         "IL",
         "61571",
         null,
         "US"
        ],
        [
         "BD",
         "Casey's",
         "747 KENNEDY DR",
         "PINCKNEYVILLE",
         "IL",
         "62274",
         null,
         "US"
        ],
        [
         "BD",
         "Casey's",
         "900 W WILMINGTON RD",
         "PEOTONE",
         "IL",
         "60468",
         null,
         "US"
        ],
        [
         "BD",
         "Casey's",
         "6644 US HWY 45 S",
         "CARRIER MILLS",
         "IL",
         "62917",
         null,
         "US"
        ],
        [
         "BD",
         "Casey's",
         "921 S 42ND ST",
         "MT. VERNON",
         "IL",
         "62864",
         null,
         "US"
        ],
        [
         "BD",
         "Casey's",
         "471 N 4TH ST",
         "BREESE",
         "IL",
         "62230",
         null,
         "US"
        ],
        [
         "BD",
         "Casey's",
         "100 WATTERS DR",
         "DWIGHT",
         "IL",
         "60420",
         null,
         "US"
        ],
        [
         "BD",
         "Casey's",
         "802 W MCCORD ST",
         "CENTRALIA",
         "IL",
         "62801",
         null,
         "US"
        ],
        [
         "BD",
         "Casey's",
         "2031 FRANKLIN ST",
         "CARLYLE",
         "IL",
         "62231",
         null,
         "US"
        ],
        [
         "BD",
         "Casey's",
         "6155 E US ROUTE 36",
         "DECATUR",
         "IL",
         "62521",
         null,
         "US"
        ],
        [
         "BD",
         "Casey's",
         "560 S MAIN ST",
         "NORTH PEKIN",
         "IL",
         "61554",
         null,
         "US"
        ],
        [
         "BD",
         "Casey's",
         "16060 CAMBRIA RD",
         "DESOTO",
         "IL",
         "62924",
         null,
         "US"
        ],
        [
         "BD",
         "Casey's",
         "110 S DIXIE HWY",
         "ST ANNE",
         "IL",
         "60964",
         null,
         "US"
        ],
        [
         "BD",
         "Casey's",
         "2114 W FARMINGTON RD",
         "WEST PEORIA",
         "IL",
         "61604",
         null,
         "US"
        ],
        [
         "BD",
         "Casey's",
         "502 N MAIN ST",
         "HOMER",
         "IL",
         "61849",
         null,
         "US"
        ],
        [
         "BD",
         "Casey's",
         "908 S MADISON ST",
         "LEBANON",
         "IL",
         "62254",
         null,
         "US"
        ],
        [
         "BD",
         "Casey's",
         "426 W MAIN ST",
         "GARDNER",
         "IL",
         "60424",
         null,
         "US"
        ],
        [
         "BD",
         "Casey's",
         "12545 E STATE ROUTE 1 17",
         "GRANT PARK",
         "IL",
         "60940",
         null,
         "US"
        ],
        [
         "BD",
         "Casey's",
         "2517 WASHINGTON AVE",
         "ALTON",
         "IL",
         "62002",
         null,
         "US"
        ],
        [
         "BD",
         "Casey's",
         "1800 N 8TH ST",
         "PEKIN",
         "IL",
         "61554",
         null,
         "US"
        ],
        [
         "BD",
         "Casey's",
         "1511 W DELMAR AVE",
         "GODFREY",
         "IL",
         "62035",
         null,
         "US"
        ],
        [
         "BD",
         "Casey's",
         "3961 N PEORIA RD",
         "SPRINGFIELD",
         "IL",
         "62702",
         null,
         "US"
        ],
        [
         "BD",
         "Casey's",
         "1900 GEORGETOWN RD",
         "TILTON",
         "IL",
         "61833",
         null,
         "US"
        ],
        [
         "BD",
         "Casey's",
         "845 E VOORHEES ST",
         "DANVILLE",
         "IL",
         "61832",
         null,
         "US"
        ],
        [
         "BD",
         "Casey's",
         "1600 EASTWOOD RD SE",
         "ROCHESTER",
         "MN",
         "55904",
         null,
         "US"
        ],
        [
         "BD",
         "Casey's",
         "1902 WILLOW ST",
         "VINCENNES",
         "IN",
         "47591",
         null,
         "US"
        ],
        [
         "BD",
         "Casey's",
         "1706 MASCOUTAH AVE",
         "BELLEVILLE",
         "IL",
         "62220",
         null,
         "US"
        ],
        [
         "BD",
         "Casey's",
         "204 E MISSOURI AVE",
         "SANDOVAL",
         "IL",
         "62882",
         null,
         "US"
        ],
        [
         "BD",
         "Casey's",
         "902 W NORTH AVE",
         "FLORA",
         "IL",
         "62839",
         null,
         "US"
        ],
        [
         "BD",
         "Casey's",
         "650 N PERSHING ST",
         "ENERGY",
         "IL",
         "62933",
         null,
         "US"
        ],
        [
         "BD",
         "Casey's",
         "3001 RIDGE AVE",
         "SPRINGFIELD",
         "IL",
         "62702",
         null,
         "US"
        ],
        [
         "BD",
         "Casey's",
         "70 W MAIN ST",
         "GLEN CARBON",
         "IL",
         "62034",
         null,
         "US"
        ],
        [
         "BD",
         "Casey's",
         "100 WILLARDS FERRY RD",
         "JONESBORO",
         "IL",
         "62952",
         null,
         "US"
        ],
        [
         "BD",
         "Casey's",
         "418 W 9TH ST",
         "MT. CARMEL",
         "IL",
         "62863",
         null,
         "US"
        ],
        [
         "BD",
         "Casey's",
         "17005 HWY 69",
         "GILBERT",
         "IA",
         "50105",
         null,
         "US"
        ],
        [
         "BD",
         "Casey's",
         "8501 XYLITE ST NE",
         "BLAINE",
         "MN",
         "55449",
         null,
         "US"
        ],
        [
         "BD",
         "Casey's",
         "900 N OLD ST LOUIS RD",
         "HARTFORD",
         "IL",
         "62048",
         null,
         "US"
        ],
        [
         "BD",
         "Casey's",
         "710 W BROADWAY ST",
         "SPARTA",
         "IL",
         "62286",
         null,
         "US"
        ],
        [
         "BD",
         "Casey's",
         "1401 E MAIN ST",
         "STREATOR",
         "IL",
         "61364",
         null,
         "US"
        ],
        [
         "BD",
         "Casey's",
         "302 E US HWY 40",
         "TROY",
         "IL",
         "62294",
         null,
         "US"
        ],
        [
         "BD",
         "Casey's",
         "908 W CARPENTER ST",
         "JERSEYVILLE",
         "IL",
         "62052",
         null,
         "US"
        ],
        [
         "BD",
         "Casey's",
         "315 E SANGAMON AVE",
         "PETERSBURG",
         "IL",
         "62675",
         null,
         "US"
        ],
        [
         "BD",
         "Casey's",
         "218 W PEARL ST",
         "TREMONT",
         "IL",
         "61568",
         null,
         "US"
        ],
        [
         "BD",
         "Casey's",
         "411 W FRONT ST",
         "ROANOKE",
         "IL",
         "61561",
         null,
         "US"
        ],
        [
         "BD",
         "Casey's",
         "301 S MARKET ST",
         "MONTICELLO",
         "IL",
         "61856",
         null,
         "US"
        ],
        [
         "BD",
         "Casey's",
         "1075 W JEFFERY ST",
         "KANKAKEE",
         "IL",
         "60901",
         null,
         "US"
        ],
        [
         "BD",
         "Casey's",
         "306 N 1ST ST",
         "VIENNA",
         "IL",
         "62995",
         null,
         "US"
        ],
        [
         "BD",
         "Casey's",
         "414 W JASPER ST",
         "PARIS",
         "IL",
         "61944",
         null,
         "US"
        ],
        [
         "BD",
         "Casey's",
         "310 N CHRISTOPHER RD",
         "ZEIGLER",
         "IL",
         "62999",
         null,
         "US"
        ],
        [
         "BD",
         "Casey's",
         "1211 WESTERN AVE",
         "CLINTON",
         "IN",
         "47842",
         null,
         "US"
        ],
        [
         "BD",
         "Casey's",
         "118 W BROADWAY",
         "STEELEVILLE",
         "IL",
         "62288",
         null,
         "US"
        ],
        [
         "BD",
         "Casey's",
         "375 S CORDOVA AVE",
         "LE CENTER",
         "MN",
         "56057",
         null,
         "US"
        ],
        [
         "BD",
         "Casey's",
         "2530 E BROADWAY",
         "ALTON",
         "IL",
         "62002",
         null,
         "US"
        ],
        [
         "BD",
         "Casey's",
         "1500 N MAIN ST",
         "LEWISTOWN",
         "IL",
         "61542",
         null,
         "US"
        ],
        [
         "BD",
         "Casey's",
         "105 E SPRING ST",
         "PRINCEVILLE",
         "IL",
         "61559",
         null,
         "US"
        ],
        [
         "BD",
         "Casey's",
         "203 N ELIZABETH ST",
         "COLCHESTER",
         "IL",
         "62326",
         null,
         "US"
        ],
        [
         "BD",
         "Casey's",
         "103 E MYRTLE ST",
         "BALDWIN",
         "IL",
         "62217",
         null,
         "US"
        ],
        [
         "BD",
         "Casey's",
         "102 W VETERANS DR",
         "OGDEN",
         "IA",
         "50212",
         null,
         "US"
        ],
        [
         "BD",
         "Casey's",
         "1204 N MAIN ST",
         "CHATHAM",
         "IL",
         "62629",
         null,
         "US"
        ],
        [
         "BD",
         "Casey's",
         "1100 5TH ST",
         "LINCOLN",
         "IL",
         "62656",
         null,
         "US"
        ],
        [
         "BD",
         "Casey's",
         "100 E STATE ST",
         "POTOMAC",
         "IL",
         "61865",
         null,
         "US"
        ],
        [
         "BD",
         "Casey's",
         "613 W PORTER ST",
         "PALESTINE",
         "IL",
         "62451",
         null,
         "US"
        ],
        [
         "BD",
         "Casey's",
         "703 E HOWARD ST",
         "PONTIAC",
         "IL",
         "61764",
         null,
         "US"
        ],
        [
         "BD",
         "Casey's",
         "306 N COURT ST",
         "GRAYVILLE",
         "IL",
         "62844",
         null,
         "US"
        ],
        [
         "BD",
         "Casey's",
         "101 MAIN ST",
         "WAPELLA",
         "IL",
         "61777",
         null,
         "US"
        ],
        [
         "BD",
         "Casey's",
         "1604 CHICAGO AVE",
         "SAVANNA",
         "IL",
         "61074",
         null,
         "US"
        ],
        [
         "BD",
         "Casey's",
         "602 MAIN ST",
         "WARSAW",
         "IL",
         "62379",
         null,
         "US"
        ],
        [
         "BD",
         "Casey's",
         "201 S MAIN ST",
         "ALBION",
         "IA",
         "50005",
         null,
         "US"
        ],
        [
         "BD",
         "Casey's",
         "205 BUCHANAN ST",
         "CARTHAGE",
         "IL",
         "62321",
         null,
         "US"
        ],
        [
         "BD",
         "Casey's",
         "2017 FOX CREEK RD",
         "BLOOMINGTON",
         "IL",
         "61701",
         null,
         "US"
        ],
        [
         "BD",
         "Casey's",
         "6124 W PLANK RD",
         "BELLEVUE",
         "IL",
         "61604",
         null,
         "US"
        ],
        [
         "BD",
         "Casey's",
         "940 S MAIN ST",
         "CLAY CITY",
         "IL",
         "62824",
         null,
         "US"
        ],
        [
         "BD",
         "Casey's",
         "501 N LONG ST",
         "TOLONO",
         "IL",
         "61880",
         null,
         "US"
        ],
        [
         "BD",
         "Casey's",
         "13023 W FARMINGTON RD",
         "HANNA CITY",
         "IL",
         "61536",
         null,
         "US"
        ],
        [
         "BD",
         "Casey's",
         "280 2ND AVE NW",
         "WELLS",
         "MN",
         "56097",
         null,
         "US"
        ],
        [
         "BD",
         "Casey's",
         "110 SPRINGFIELD ST",
         "KINCAID",
         "IL",
         "62540",
         null,
         "US"
        ],
        [
         "BD",
         "Casey's",
         "1102 N MAIN ST",
         "BICKNELL",
         "IN",
         "47512",
         null,
         "US"
        ],
        [
         "BD",
         "Casey's",
         "111 N OLD ROUTE 66",
         "WILLIAMSVILLE",
         "IL",
         "62693",
         null,
         "US"
        ],
        [
         "BD",
         "Casey's",
         "950 N STATE HWY 121",
         "MT. ZION",
         "IL",
         "62549",
         null,
         "US"
        ],
        [
         "BD",
         "Casey's",
         "3601 MAINE ST",
         "QUINCY",
         "IL",
         "62305",
         null,
         "US"
        ],
        [
         "BD",
         "Casey's",
         "100 N STATE ST",
         "GREENVIEW",
         "IL",
         "62642",
         null,
         "US"
        ],
        [
         "BD",
         "Casey's",
         "109 E OAK ST",
         "FAIRBURY",
         "IL",
         "61739",
         null,
         "US"
        ],
        [
         "BD",
         "Casey's",
         "200 W UNION ST",
         "EDGEWOOD",
         "IA",
         "52042",
         null,
         "US"
        ],
        [
         "BD",
         "Casey's",
         "112 S CHICAGO ST",
         "ROSSVILLE",
         "IL",
         "60963",
         null,
         "US"
        ],
        [
         "BD",
         "Casey's",
         "609 E 4TH ST",
         "DELAVAN",
         "IL",
         "61734",
         null,
         "US"
        ],
        [
         "BD",
         "Casey's",
         "209 N HAUGHTON HWY",
         "GREENUP",
         "IL",
         "62428",
         null,
         "US"
        ],
        [
         "BD",
         "Casey's",
         "257 MAIN ST S",
         "WINNEBAGO",
         "MN",
         "56098",
         null,
         "US"
        ],
        [
         "BD",
         "Casey's",
         "100 W JONES ST",
         "MILFORD",
         "IL",
         "60953",
         null,
         "US"
        ],
        [
         "BD",
         "Casey's",
         "715 W MAIN ST",
         "JASONVILLE",
         "IN",
         "47438",
         null,
         "US"
        ],
        [
         "BD",
         "Casey's",
         "317 S BUSINESS 51",
         "ASSUMPTION",
         "IL",
         "62510",
         null,
         "US"
        ],
        [
         "BD",
         "Casey's",
         "202 E FRANKLIN ST",
         "HUDSON",
         "IL",
         "61748",
         null,
         "US"
        ],
        [
         "BD",
         "Casey's",
         "310 S JACKSON ST",
         "CERRO GORDO",
         "IL",
         "61818",
         null,
         "US"
        ],
        [
         "BD",
         "Casey's",
         "506 S WOOD ST",
         "MAROA",
         "IL",
         "61756",
         null,
         "US"
        ],
        [
         "BD",
         "Casey's",
         "602 EAST ST",
         "MAZON",
         "IL",
         "60444",
         null,
         "US"
        ],
        [
         "BD",
         "Casey's",
         "5844 E FREELANDVILLE RD",
         "OAKTOWN",
         "IN",
         "47561",
         null,
         "US"
        ],
        [
         "BD",
         "Casey's",
         "101 W ELNORA ST",
         "ODON",
         "IN",
         "47562",
         null,
         "US"
        ],
        [
         "BD",
         "Casey's",
         "925 E MAIN ST",
         "MOWEAQUA",
         "IL",
         "62550",
         null,
         "US"
        ],
        [
         "BD",
         "Casey's",
         "505 E WOOD ST",
         "CAMP POINT",
         "IL",
         "62320",
         null,
         "US"
        ],
        [
         "BD",
         "Casey's",
         "201 SUNSET ST",
         "URBANA",
         "IA",
         "52345",
         null,
         "US"
        ],
        [
         "BD",
         "Casey's",
         "710 W CLEVELAND AVE",
         "HEYWORTH",
         "IL",
         "61745",
         null,
         "US"
        ],
        [
         "BD",
         "Casey's",
         "321 N MAIN ST",
         "TOLUCA",
         "IL",
         "61369",
         null,
         "US"
        ],
        [
         "BD",
         "Casey's",
         "1038 RIVER FOREST RD",
         "EVANSDALE",
         "IA",
         "50707",
         null,
         "US"
        ],
        [
         "BD",
         "Casey's",
         "705 N JEFFERSON ST",
         "MASCOUTAH",
         "IL",
         "62258",
         null,
         "US"
        ],
        [
         "BD",
         "Casey's",
         "1430 N CONVENT ST",
         "BOURBONNAIS",
         "IL",
         "60914",
         null,
         "US"
        ],
        [
         "BD",
         "Casey's",
         "525 E MORTON AVE",
         "JACKSONVILLE",
         "IL",
         "62650",
         null,
         "US"
        ],
        [
         "BD",
         "Casey's",
         "140 S MARKET ST",
         "PAXTON",
         "IL",
         "60957",
         null,
         "US"
        ],
        [
         "BD",
         "Casey's",
         "125 N 5TH AVE",
         "CANTON",
         "IL",
         "61520",
         null,
         "US"
        ],
        [
         "BD",
         "Casey's",
         "1301 S MAIN ST",
         "NORMAL",
         "IL",
         "61761",
         null,
         "US"
        ],
        [
         "BD",
         "Casey's",
         "1133 W JEFFERSON ST",
         "SPRINGFIELD",
         "IL",
         "62702",
         null,
         "US"
        ],
        [
         "BD",
         "Casey's",
         "401 N CHENEY ST",
         "TAYLORVILLE",
         "IL",
         "62568",
         null,
         "US"
        ],
        [
         "BD",
         "Casey's",
         "3001 E CLEAR LAKE AVE",
         "SPRINGFIELD",
         "IL",
         "62702",
         null,
         "US"
        ],
        [
         "BD",
         "Casey's",
         "617 SALEM RD",
         "MT. VERNON",
         "IL",
         "62864",
         null,
         "US"
        ],
        [
         "BD",
         "Casey's",
         "14475 SR-4",
         "AUBURN",
         "IL",
         "62615",
         null,
         "US"
        ],
        [
         "BD",
         "Casey's",
         "2101 S CENTER ST",
         "MARYVILLE",
         "IL",
         "62062",
         null,
         "US"
        ],
        [
         "BD",
         "Casey's",
         "1305 S MAIN ST",
         "RED BUD",
         "IL",
         "62278",
         null,
         "US"
        ],
        [
         "BD",
         "Casey's",
         "605 S ORCHARD ST",
         "MACKINAW",
         "IL",
         "61755",
         null,
         "US"
        ],
        [
         "BD",
         "Casey's",
         "215 E KNOXVILLE ST",
         "BRIMFIELD",
         "IL",
         "61517",
         null,
         "US"
        ],
        [
         "BD",
         "Casey's",
         "565 W MAIN ST",
         "EL PASO",
         "IL",
         "61738",
         null,
         "US"
        ],
        [
         "BD",
         "Casey's",
         "308 W MISSION ST",
         "STRAWBERRY POINT",
         "IA",
         "52076",
         null,
         "US"
        ],
        [
         "BD",
         "Casey's",
         "2100 E UNIVERSITY AVE",
         "URBANA",
         "IL",
         "61802",
         null,
         "US"
        ],
        [
         "BD",
         "Casey's",
         "1291 OLD BALDWIN RD",
         "NEW ATHENS",
         "IL",
         "62264",
         null,
         "US"
        ],
        [
         "BD",
         "Casey's",
         "217 E MAIN ST",
         "MT. STERLING",
         "IL",
         "62353",
         null,
         "US"
        ],
        [
         "BD",
         "Casey's",
         "292 E MAIN ST",
         "PIGGOTT",
         "AR",
         "72454",
         null,
         "US"
        ],
        [
         "BD",
         "Casey's",
         "330 N LOCUST ST",
         "MANTENO",
         "IL",
         "60950",
         null,
         "US"
        ],
        [
         "BD",
         "Casey's",
         "2920 S CARAWAY RD",
         "JONESBORO",
         "AR",
         "72401",
         null,
         "US"
        ],
        [
         "BD",
         "Casey's",
         "1906 3RD AVE SE",
         "INDEPENDENCE",
         "IA",
         "50644",
         null,
         "US"
        ],
        [
         "BD",
         "Casey's",
         "103 1ST ST",
         "MARQUETTE",
         "IA",
         "52158",
         null,
         "US"
        ],
        [
         "BD",
         "Casey's",
         "321 E WASHINGTON ST",
         "PITTSFIELD",
         "IL",
         "62363",
         null,
         "US"
        ],
        [
         "BD",
         "Casey's",
         "802 N TOPPER DR",
         "MT. PULASKI",
         "IL",
         "62548",
         null,
         "US"
        ],
        [
         "BD",
         "Casey's",
         "1800 S B AVE",
         "NEVADA",
         "IA",
         "50201",
         null,
         "US"
        ],
        [
         "BD",
         "Casey's",
         "2009 E NATIONAL HWY",
         "WASHINGTON",
         "IN",
         "47501",
         null,
         "US"
        ],
        [
         "BD",
         "Casey's",
         "440 EDWARDSVILLE RD",
         "TROY",
         "IL",
         "62294",
         null,
         "US"
        ],
        [
         "BD",
         "Casey's",
         "1324 E JACKSON ST",
         "MACOMB",
         "IL",
         "61455",
         null,
         "US"
        ],
        [
         "BD",
         "Casey's",
         "906 N CHURCH ST",
         "ATKINS",
         "AR",
         "72823",
         null,
         "US"
        ],
        [
         "BD",
         "Casey's",
         "700 E SOUTH ST",
         "ATLANTA",
         "IL",
         "61723",
         null,
         "US"
        ],
        [
         "BD",
         "Casey's",
         "11 ONE STOP DR",
         "NEW BADEN",
         "IL",
         "62265",
         null,
         "US"
        ],
        [
         "BD",
         "Casey's",
         "309 S DIVISION ST",
         "HARVARD",
         "IL",
         "60033",
         null,
         "US"
        ],
        [
         "BD",
         "Casey's",
         "7815 N RTE 91",
         "PEORIA",
         "IL",
         "61615",
         null,
         "US"
        ],
        [
         "BD",
         "Casey's",
         "730 DIXIE HWY",
         "BEECHER",
         "IL",
         "60401",
         null,
         "US"
        ],
        [
         "BD",
         "Casey's",
         "2314 W MAIN ST",
         "MARION",
         "IL",
         "62959",
         null,
         "US"
        ],
        [
         "BD",
         "Casey's",
         "111 MARQUETTE PL S",
         "MANTENO",
         "IL",
         "60950",
         null,
         "US"
        ],
        [
         "BD",
         "Casey's",
         "721 W STANFORD AVE",
         "SPRINGFIELD",
         "IL",
         "62704",
         null,
         "US"
        ],
        [
         "BD",
         "Casey's",
         "1803 W COURT ST",
         "PARAGOULD",
         "AR",
         "72450",
         null,
         "US"
        ],
        [
         "BD",
         "Casey's",
         "631 N MAIN ST",
         "HARRISBURG",
         "IL",
         "62946",
         null,
         "US"
        ],
        [
         "BD",
         "Casey's",
         "500 NORTH AVE",
         "NORWALK",
         "IA",
         "50211",
         null,
         "US"
        ],
        [
         "BD",
         "Casey's",
         "2222 E MAIN ST",
         "ALBERT LEA",
         "MN",
         "56007",
         null,
         "US"
        ],
        [
         "BD",
         "Casey's",
         "800 E CLINTON AVE",
         "FARMER CITY",
         "IL",
         "61842",
         null,
         "US"
        ],
        [
         "BD",
         "Casey's",
         "400 WOODLAND KNOLLS RD",
         "GERMANTOWN HILLS",
         "IL",
         "61548",
         null,
         "US"
        ],
        [
         "BD",
         "Casey's",
         "10889 W RED GATES RD",
         "GALENA",
         "IL",
         "61036",
         null,
         "US"
        ],
        [
         "BD",
         "Casey's",
         "102 E BRADFORD ST",
         "WEST UNION",
         "IA",
         "52175",
         null,
         "US"
        ],
        [
         "BD",
         "Casey's",
         "2106 COURT ST",
         "PEKIN",
         "IL",
         "61554",
         null,
         "US"
        ],
        [
         "BD",
         "Casey's",
         "13140 FREMONT AVE",
         "ZIMMERMAN",
         "MN",
         "55398",
         null,
         "US"
        ],
        [
         "BD",
         "Casey's",
         "1002 SARPY ST",
         "MORRISONVILLE",
         "IL",
         "62546",
         null,
         "US"
        ],
        [
         "BD",
         "Casey's",
         "101 DETROIT AVE",
         "MORTON",
         "IL",
         "61550",
         null,
         "US"
        ],
        [
         "BD",
         "Casey's",
         "20750 IL ROUTE 125",
         "VIRGINIA",
         "IL",
         "62691",
         null,
         "US"
        ],
        [
         "BD",
         "Casey's",
         "762 HWY 55",
         "MEDINA",
         "MN",
         "55340",
         null,
         "US"
        ],
        [
         "BD",
         "Casey's",
         "421 N DIXIE HWY",
         "MOMENCE",
         "IL",
         "60954",
         null,
         "US"
        ],
        [
         "BD",
         "Casey's",
         "417 W WALNUT ST",
         "WATSEKA",
         "IL",
         "60970",
         null,
         "US"
        ],
        [
         "BD",
         "Casey's",
         "911 W MOUNT VERNON ST",
         "METAMORA",
         "IL",
         "61548",
         null,
         "US"
        ],
        [
         "BD",
         "Casey's",
         "1006 WOODLAWN RD",
         "LINCOLN",
         "IL",
         "62656",
         null,
         "US"
        ],
        [
         "BD",
         "Casey's",
         "74 MILL ST",
         "CLERMONT",
         "IA",
         "52135",
         null,
         "US"
        ],
        [
         "BD",
         "Casey's",
         "417 S CHESTNUT ST",
         "LE ROY",
         "IL",
         "61752",
         null,
         "US"
        ],
        [
         "BD",
         "Casey's",
         "639 E TERRA COTTA AVE",
         "CRYSTAL LAKE",
         "IL",
         "60014",
         null,
         "US"
        ],
        [
         "BD",
         "Casey's",
         "1003 W MAIN ST",
         "WEST CITY",
         "IL",
         "62812",
         null,
         "US"
        ],
        [
         "BD",
         "Casey's",
         "901 S MAIN ST",
         "MONONA",
         "IA",
         "52159",
         null,
         "US"
        ],
        [
         "BD",
         "Casey's",
         "101 FARMDALE RD",
         "EAST PEORIA",
         "IL",
         "61611",
         null,
         "US"
        ],
        [
         "BD",
         "Casey's",
         "314 E MAIN ST",
         "FORRESTON",
         "IL",
         "61030",
         null,
         "US"
        ],
        [
         "BD",
         "Casey's",
         "1930 US RTE 40",
         "MULBERRY GROVE",
         "IL",
         "62262",
         null,
         "US"
        ],
        [
         "BD",
         "Casey's",
         "905 E MAIN ST",
         "CARBONDALE",
         "IL",
         "62901",
         null,
         "US"
        ],
        [
         "BD",
         "Casey's",
         "503 E MAIN ST",
         "OSAWATOMIE",
         "KS",
         "66064",
         null,
         "US"
        ],
        [
         "BD",
         "Casey's",
         "1509 W MAIN ST",
         "CORNING",
         "AR",
         "72422",
         null,
         "US"
        ],
        [
         "BD",
         "Casey's",
         "121 N FLOYD AVE",
         "HINTON",
         "IA",
         "51024",
         null,
         "US"
        ],
        [
         "BD",
         "Casey's",
         "524 N MAIN ST",
         "STONINGTON",
         "IL",
         "62567",
         null,
         "US"
        ],
        [
         "BD",
         "Casey's",
         "2051 HWY 65 S",
         "CLINTON",
         "AR",
         "72031",
         null,
         "US"
        ],
        [
         "BD",
         "Casey's",
         "604 E CURRY AVE",
         "SHELBURN",
         "IN",
         "47879",
         null,
         "US"
        ],
        [
         "BD",
         "Casey's",
         "400 E DEYOUNG ST",
         "MARION",
         "IL",
         "62959",
         null,
         "US"
        ],
        [
         "BD",
         "Casey's",
         "620 W TILDEN ST",
         "POSTVILLE",
         "IA",
         "52162",
         null,
         "US"
        ],
        [
         "BD",
         "Casey's",
         "870 NE ALICE'S RD",
         "WAUKEE",
         "IA",
         "50263",
         null,
         "US"
        ],
        [
         "BD",
         "Casey's",
         "13406 W 151ST ST",
         "OLATHE",
         "KS",
         "66062",
         null,
         "US"
        ],
        [
         "BD",
         "Casey's",
         "302 N DEVOE ST",
         "LONE TREE",
         "IA",
         "52755",
         null,
         "US"
        ],
        [
         "BD",
         "Casey's",
         "111 E COX ST",
         "FORSYTH",
         "IL",
         "62535",
         null,
         "US"
        ],
        [
         "BD",
         "Casey's",
         "1701 HARRISON ST",
         "BATESVILLE",
         "AR",
         "72501",
         null,
         "US"
        ],
        [
         "BD",
         "Casey's",
         "209 W SOUTH ST",
         "GREENE",
         "IA",
         "50636",
         null,
         "US"
        ],
        [
         "BD",
         "Casey's",
         "9990 WOODLAND RD",
         "LENEXA",
         "KS",
         "66220",
         null,
         "US"
        ],
        [
         "BD",
         "Casey's",
         "4727 SOUTHERN HILLS DR",
         "SIOUX CITY",
         "IA",
         "51106",
         null,
         "US"
        ],
        [
         "BD",
         "Casey's",
         "501 MAIN ST",
         "CLAY CITY",
         "IN",
         "47841",
         null,
         "US"
        ],
        [
         "BD",
         "Casey's",
         "111 N 9TH ST",
         "COLLINSVILLE",
         "OK",
         "74021",
         null,
         "US"
        ],
        [
         "BD",
         "Casey's",
         "1466 S STATE RD 57",
         "WASHINGTON",
         "IN",
         "47501",
         null,
         "US"
        ],
        [
         "BD",
         "Casey's",
         "2009 N MILT PHILLIPS AVE",
         "SEMINOLE",
         "OK",
         "74868",
         null,
         "US"
        ],
        [
         "BD",
         "Casey's",
         "1112 W 4TH ST",
         "VINTON",
         "IA",
         "52349",
         null,
         "US"
        ],
        [
         "BD",
         "Casey's",
         "580 E VETERANS PKWY",
         "YORKVILLE",
         "IL",
         "60560",
         null,
         "US"
        ],
        [
         "BD",
         "Casey's",
         "401 W MAIN ST",
         "WALNUT RIDGE",
         "AR",
         "72476",
         null,
         "US"
        ],
        [
         "BD",
         "Casey's",
         "406 PENDLETON AVE",
         "WELLSVILLE",
         "KS",
         "66092",
         null,
         "US"
        ],
        [
         "BD",
         "Casey's",
         "506 5TH ST",
         "LACON",
         "IL",
         "61540",
         null,
         "US"
        ],
        [
         "BD",
         "Casey's",
         "1161 W STATE HWY 54",
         "CLINTON",
         "IL",
         "61727",
         null,
         "US"
        ],
        [
         "BD",
         "Casey's",
         "1032 4TH ST SW",
         "WAVERLY",
         "IA",
         "50677",
         null,
         "US"
        ],
        [
         "BD",
         "Casey's",
         "362 S MAIN ST",
         "CAVE SPRINGS",
         "AR",
         "72718",
         null,
         "US"
        ],
        [
         "BD",
         "Casey's",
         "601 S LOCUST ST",
         "GLENWOOD",
         "IA",
         "51534",
         null,
         "US"
        ],
        [
         "BD",
         "Casey's",
         "701 PENNSYLVANIA AVE",
         "HARTSHORNE",
         "OK",
         "74547",
         null,
         "US"
        ],
        [
         "BD",
         "Casey's",
         "500 WEST ST",
         "TONGANOXIE",
         "KS",
         "66086",
         null,
         "US"
        ],
        [
         "BD",
         "Casey's",
         "205 LINDQUIST ST",
         "ONAMIA",
         "MN",
         "56359",
         null,
         "US"
        ],
        [
         "BD",
         "Casey's",
         "1305 E SOUTH ST",
         "MT. AYR",
         "IA",
         "50854",
         null,
         "US"
        ],
        [
         "BD",
         "Casey's",
         "1925 S MAIN ST",
         "MARYVILLE",
         "MO",
         "64468",
         null,
         "US"
        ],
        [
         "BD",
         "Casey's",
         "1001 W BROADWAY ST",
         "DRUMRIGHT",
         "OK",
         "74030",
         null,
         "US"
        ],
        [
         "BD",
         "Casey's",
         "807 S BROADWAY",
         "OAK GROVE",
         "MO",
         "64075",
         null,
         "US"
        ],
        [
         "BD",
         "Casey's",
         "1175 S GEORGE NIGH EXPY",
         "MCALESTER",
         "OK",
         "74501",
         null,
         "US"
        ],
        [
         "BD",
         "Casey's",
         "2101 FREEWAY BLVD",
         "BROOKLYN CENTER",
         "MN",
         "55430",
         null,
         "US"
        ],
        [
         "BD",
         "Casey's",
         "700 S 8TH ST",
         "WEST DUNDEE",
         "IL",
         "60118",
         null,
         "US"
        ],
        [
         "BD",
         "Casey's",
         "2040 S EASTWOOD DR",
         "WOODSTOCK",
         "IL",
         "60098",
         null,
         "US"
        ],
        [
         "BD",
         "Casey's",
         "1531 HIGHWAY 62 412",
         "CHEROKEE VILLAGE",
         "AR",
         "72542",
         null,
         "US"
        ],
        [
         "BD",
         "Casey's",
         "102 W TAYLOR ST",
         "CRESTON",
         "IA",
         "50801",
         null,
         "US"
        ],
        [
         "BD",
         "Casey's",
         "1305 W COMMERCIAL ST",
         "MANCHESTER",
         "IA",
         "52057",
         null,
         "US"
        ],
        [
         "BD",
         "Casey's",
         "1232 N 4TH ST",
         "CHILLICOTHE",
         "IL",
         "61523",
         null,
         "US"
        ],
        [
         "BD",
         "Casey's",
         "2620 E BEEBE CAPPS EXPY",
         "SEARCY",
         "AR",
         "72143",
         null,
         "US"
        ],
        [
         "BD",
         "Casey's",
         "1900 W RIDGEWAY AVE",
         "WATERLOO",
         "IA",
         "50701",
         null,
         "US"
        ],
        [
         "BD",
         "Casey's",
         "15246 BLUEBIRD ST NW",
         "ANDOVER",
         "MN",
         "55304",
         null,
         "US"
        ],
        [
         "BD",
         "Casey's",
         "1306 SE 3RD ST",
         "ALEDO",
         "IL",
         "61231",
         null,
         "US"
        ],
        [
         "BD",
         "Casey's",
         "23485 COUNTY RD E34",
         "ANAMOSA",
         "IA",
         "52205",
         null,
         "US"
        ],
        [
         "BD",
         "Casey's",
         "1725 PJ KELLER HWY",
         "LEXINGTON",
         "IL",
         "61753",
         null,
         "US"
        ],
        [
         "BD",
         "Casey's",
         "102 W HIGHWAY 33",
         "PERKINS",
         "OK",
         "74059",
         null,
         "US"
        ],
        [
         "BD",
         "Casey's",
         "3200 SW 9TH ST",
         "DES MOINES",
         "IA",
         "50315",
         null,
         "US"
        ],
        [
         "BD",
         "Casey's",
         "716 3RD AVE E",
         "ALEXANDRIA",
         "MN",
         "56308",
         null,
         "US"
        ],
        [
         "BD",
         "Casey's",
         "2105 E WASHINGTON ST",
         "MT. PLEASANT",
         "IA",
         "52641",
         null,
         "US"
        ],
        [
         "BD",
         "Casey's",
         "39131 N SHERIDAN RD",
         "BEACH PARK",
         "IL",
         "60099",
         null,
         "US"
        ],
        [
         "BD",
         "Casey's",
         "1011 STATE ST",
         "MOUND CITY",
         "MO",
         "64470",
         null,
         "US"
        ],
        [
         "BD",
         "Casey's",
         "7601 LAKE DR",
         "LINO LAKES",
         "MN",
         "55014",
         null,
         "US"
        ],
        [
         "BD",
         "Casey's",
         "503 NW BARRY RD",
         "KS CITY",
         "MO",
         "64155",
         null,
         "US"
        ],
        [
         "BD",
         "Casey's",
         "1914 NW WOODS CHAPEL RD",
         "BLUE SPRINGS",
         "MO",
         "64015",
         null,
         "US"
        ],
        [
         "BD",
         "Casey's",
         "912 S DIXIE HIGHWAY",
         "HOOPESTON",
         "IL",
         "60942",
         null,
         "US"
        ],
        [
         "BD",
         "Casey's",
         "245 S HIGHWAY 965",
         "NORTH LIBERTY",
         "IA",
         "52317",
         null,
         "US"
        ],
        [
         "BD",
         "Casey's",
         "406 HIGHWAY 3",
         "MARCUS",
         "IA",
         "51035",
         null,
         "US"
        ],
        [
         "BD",
         "Casey's",
         "1419 HAMILTON BLVD",
         "SIOUX CITY",
         "IA",
         "51103",
         null,
         "US"
        ],
        [
         "BD",
         "Casey's",
         "600 E 14TH ST",
         "DES MOINES",
         "IA",
         "50309",
         null,
         "US"
        ],
        [
         "BD",
         "Casey's",
         "2601 E LINCOLN HWY",
         "NEW LENOX",
         "IL",
         "60451",
         null,
         "US"
        ],
        [
         "BD",
         "Casey's",
         "200 E GRANT HWY",
         "MARENGO",
         "IL",
         "60152",
         null,
         "US"
        ],
        [
         "BD",
         "Casey's",
         "8051 N. BRIGHTON AVE",
         "KS CITY",
         "MO",
         "64119",
         null,
         "US"
        ],
        [
         "BD",
         "Casey's",
         "3401 INGERSOLL AVE",
         "DES MOINES",
         "IA",
         "50312",
         null,
         "US"
        ],
        [
         "BD",
         "Casey's",
         "100 E MAIN ST",
         "FLIPPIN",
         "AR",
         "72634",
         null,
         "US"
        ],
        [
         "BD",
         "Casey's",
         "840 BATESVILLE BLVD",
         "BATESVILLE",
         "AR",
         "72501",
         null,
         "US"
        ],
        [
         "BD",
         "Casey's",
         "4139 CENTRAL AVE",
         "HOT SPRINGS",
         "AR",
         "71913",
         null,
         "US"
        ],
        [
         "BD",
         "Casey's",
         "2301 N REYNOLDS RD",
         "BRYANT",
         "AR",
         "72022",
         null,
         "US"
        ],
        [
         "BD",
         "Casey's",
         "8101 STAGECOACH RD",
         "LITTLE ROCK",
         "AR",
         "72210",
         null,
         "US"
        ],
        [
         "BD",
         "Casey's",
         "5420 W 12TH ST",
         "LITTLE ROCK",
         "AR",
         "72204",
         null,
         "US"
        ],
        [
         "BD",
         "Casey's",
         "3615 E KIEHL AVE",
         "SHERWOOD",
         "AR",
         "72120",
         null,
         "US"
        ],
        [
         "BD",
         "Casey's",
         "10340 HIGHWAY 107",
         "SHERWOOD",
         "AR",
         "72120",
         null,
         "US"
        ],
        [
         "BD",
         "Casey's",
         "3401 JOHN F KENNEDY BLVD",
         "NORTH LITTLE ROCK",
         "AR",
         "72116",
         null,
         "US"
        ],
        [
         "BD",
         "Casey's",
         "160 E. FIRST SOUTH ST",
         "CHEBANSE",
         "IL",
         "60922",
         null,
         "US"
        ],
        [
         "BD",
         "Casey's",
         "3325 OAK ST",
         "BRAINERD",
         "MN",
         "56401",
         null,
         "US"
        ],
        [
         "BD",
         "Casey's",
         "17977 STATE HIGHWAY 371",
         "BRAINERD",
         "MN",
         "56401",
         null,
         "US"
        ],
        [
         "BD",
         "Casey's",
         "7295 UNIVERSITY AVENUE NE",
         "FRIDLEY",
         "MN",
         "55432",
         null,
         "US"
        ],
        [
         "BD",
         "Casey's",
         "1402 E MAIN ST",
         "CUSHING",
         "OK",
         "74023",
         null,
         "US"
        ],
        [
         "BD",
         "Casey's",
         "1192 5TH ST",
         "CARROLLTON",
         "IL",
         "62016",
         null,
         "US"
        ],
        [
         "BD",
         "Casey's",
         "814 C AVE",
         "VINTON",
         "IA",
         "52349",
         null,
         "US"
        ],
        [
         "BD",
         "Casey's",
         "700 3RD AVENUE S",
         "WANAMINGO",
         "MN",
         "55983",
         null,
         "US"
        ],
        [
         "BD",
         "Casey's",
         "1204 1ST ST",
         "PALO",
         "IA",
         "52324",
         null,
         "US"
        ],
        [
         "BD",
         "Casey's",
         "10303 LEAVENWORTH ROAD",
         "KS CITY",
         "KS",
         "66109",
         null,
         "US"
        ],
        [
         "BD",
         "Casey's",
         "6316 N HIGHWAY 9",
         "PARKVILLE",
         "MO",
         "64152",
         null,
         "US"
        ],
        [
         "BD",
         "Casey's",
         "3005 E RAND RD",
         "ARLINGTON HEIGHTS",
         "IL",
         "60004",
         null,
         "US"
        ],
        [
         "BD",
         "Casey's",
         "800 W OAKTON ST",
         "DES PLAINES",
         "IL",
         "60018",
         null,
         "US"
        ],
        [
         "BD",
         "Casey's",
         "9701 MILWAUKEE AVE",
         "DES PLAINES",
         "IL",
         "60016",
         null,
         "US"
        ],
        [
         "BD",
         "Casey's",
         "6401 N CICERO AVE",
         "LINCOLNWOOD",
         "IL",
         "60712",
         null,
         "US"
        ],
        [
         "BD",
         "Casey's",
         "1228 E DUNDEE RD",
         "PALATINE",
         "IL",
         "60074",
         null,
         "US"
        ],
        [
         "BD",
         "Casey's",
         "1601 E ALGONQUIN RD",
         "SCHAUMBURG",
         "IL",
         "60173",
         null,
         "US"
        ],
        [
         "BD",
         "Casey's",
         "2580 SKOKIE VALLEY RD",
         "HIGHLAND PARK",
         "IL",
         "60035",
         null,
         "US"
        ],
        [
         "BD",
         "Casey's",
         "1000 SHERIDAN RD",
         "HIGHWOOD",
         "IL",
         "60040",
         null,
         "US"
        ],
        [
         "BD",
         "Casey's",
         "650 S RAND RD",
         "LAKE ZURICH",
         "IL",
         "60047",
         null,
         "US"
        ],
        [
         "BD",
         "Casey's",
         "1225 DEVON AVE",
         "BENSENVILLE",
         "IL",
         "60106",
         null,
         "US"
        ],
        [
         "BD",
         "Casey's",
         "1600 NERGE RD",
         "ELK GROVE VILLAGE",
         "IL",
         "60007",
         null,
         "US"
        ],
        [
         "BD",
         "Casey's",
         "1 W GOLF RD",
         "HOFFMAN ESTATES",
         "IL",
         "60169",
         null,
         "US"
        ],
        [
         "BD",
         "Casey's",
         "615 W HIGGINS RD",
         "HOFFMAN ESTATES",
         "IL",
         "60169",
         null,
         "US"
        ],
        [
         "BD",
         "Casey's",
         "780 E SCHAUMBURG RD",
         "SCHAUMBURG",
         "IL",
         "60194",
         null,
         "US"
        ],
        [
         "BD",
         "Casey's",
         "1530 W SCHAUMBURG RD",
         "SCHAUMBURG",
         "IL",
         "60194",
         null,
         "US"
        ],
        [
         "BD",
         "Casey's",
         "2 IL ROUTE 59",
         "STREAMWOOD",
         "IL",
         "60107",
         null,
         "US"
        ],
        [
         "BD",
         "Casey's",
         "900 S IL ROUTE 59",
         "BARTLETT",
         "IL",
         "60103",
         null,
         "US"
        ],
        [
         "BD",
         "Casey's",
         "2181 63RD ST",
         "DOWNERS GROVE",
         "IL",
         "60516",
         null,
         "US"
        ],
        [
         "BD",
         "Casey's",
         "1000 N YORK ST",
         "ELMHURST",
         "IL",
         "60126",
         null,
         "US"
        ],
        [
         "BD",
         "Casey's",
         "1202 BLOOMINGDALE RD",
         "GLENDALE HEIGHTS",
         "IL",
         "60139",
         null,
         "US"
        ],
        [
         "BD",
         "Casey's",
         "20 E OGDEN AVE",
         "NAPERVILLE",
         "IL",
         "60563",
         null,
         "US"
        ],
        [
         "BD",
         "Casey's",
         "1420 E OGDEN AVE",
         "NAPERVILLE",
         "IL",
         "60563",
         null,
         "US"
        ],
        [
         "BD",
         "Casey's",
         "1000 N WOOD DALE RD",
         "WOOD DALE",
         "IL",
         "60191",
         null,
         "US"
        ],
        [
         "BD",
         "Casey's",
         "30 S MCLEAN BLVD",
         "SOUTH ELGIN",
         "IL",
         "60177",
         null,
         "US"
        ],
        [
         "BD",
         "Casey's",
         "820 WARNER ST",
         "HAMPSHIRE",
         "IL",
         "60140",
         null,
         "US"
        ],
        [
         "BD",
         "Casey's",
         "724 MAIN ST",
         "MEREDOSIA",
         "IL",
         "62665",
         null,
         "US"
        ],
        [
         "BD",
         "Casey's",
         "764 E PANCAKE BLVD",
         "LIBERAL",
         "KS",
         "67901",
         null,
         "US"
        ],
        [
         "BD",
         "Casey's",
         "10807 N COUNCIL RD",
         "OK CITY",
         "OK",
         "73162",
         null,
         "US"
        ],
        [
         "BD",
         "Casey's",
         "19251 N PENN AVE",
         "OK CITY",
         "OK",
         "73012",
         null,
         "US"
        ],
        [
         "BD",
         "Casey's",
         "3704 S NAPPANEE ST",
         "ELKHART",
         "IN",
         "46517",
         null,
         "US"
        ],
        [
         "BD",
         "Casey's",
         "120 S 90TH ST",
         "LINCOLN",
         "NE",
         "68520",
         null,
         "US"
        ],
        [
         "BD",
         "Casey's",
         "1703 W 6TH ST",
         "LAWRENCE",
         "KS",
         "66044",
         null,
         "US"
        ],
        [
         "BD",
         "Clean Energy - Altoona Flying J #913",
         "3231 Adventureland Dr",
         "Altoona",
         "IA",
         "50009",
         null,
         "US"
        ],
        [
         "BD",
         "Flying J Pilot Travel Center #1012",
         "1300 N Grand Ave",
         "Mt. Pleasant",
         "IA",
         "52641",
         null,
         "US"
        ],
        [
         "BD",
         "Flying J Pilot Travel Center #636",
         "8200 NW Blvd",
         "Davenport",
         "IA",
         "52806",
         null,
         "US"
        ],
        [
         "BD",
         "Flying J Pilot Travel Center #637",
         "445 Evansdale Dr",
         "Evansdale",
         "IA",
         "50707",
         null,
         "US"
        ],
        [
         "BD",
         "Flying J Pilot Travel Center #407",
         "2411 US Hwy 18 E",
         "Clear Lake",
         "IA",
         "50428",
         null,
         "US"
        ],
        [
         "BD",
         "Flying J Pilot Travel Center #893",
         "7005 N Chestnut St",
         "Avoca",
         "IA",
         "51521",
         null,
         "US"
        ],
        [
         "BD",
         "Flying J Pilot Travel Center #1092",
         "8950 Earhart Ln SW",
         "Cedar Rapids",
         "IA",
         "52404",
         null,
         "US"
        ],
        [
         "BD",
         "Flying J Pilot Travel Center #329",
         "2647 S 24th St",
         "Council Bluffs",
         "IA",
         "51501",
         null,
         "US"
        ],
        [
         "BD",
         "Flying J Pilot Travel Center #572",
         "3040 220th St",
         "Williams",
         "IA",
         "50271",
         null,
         "US"
        ],
        [
         "BD",
         "Flying J Pilot Travel Center #594",
         "2815 Singing Hills Blvd",
         "Sioux City",
         "IA",
         "51111",
         null,
         "US"
        ],
        [
         "BD",
         "Flying J Pilot Travel Center #238",
         "2495 210th Ave",
         "Percival",
         "IA",
         "51648",
         null,
         "US"
        ],
        [
         "BD",
         "Flying J Pilot Travel Center #131",
         "2010 W Clay St",
         "Osceola",
         "IA",
         "50213",
         null,
         "US"
        ],
        [
         "BD",
         "Flying J Pilot Travel Center #373",
         "11957 Douglas Avenue",
         "Des Moines",
         "IA",
         "50322",
         null,
         "US"
        ],
        [
         "BD",
         "Flying J Pilot Travel Center #495",
         "4126 Hwy 21",
         "Brooklyn",
         "IA",
         "52211",
         null,
         "US"
        ],
        [
         "BD",
         "Flying J ONE9 Travel Center #496",
         "2086 Atalissa Rd",
         "Atalissa",
         "IA",
         "52720",
         null,
         "US"
        ],
        [
         "BD",
         "Flying J Pilot Travel Center #268",
         "2975 N Plainview Rd",
         "Walcott",
         "IA",
         "52773",
         null,
         "US"
        ],
        [
         "BD",
         "Flying J Pilot Travel Center #43",
         "3500 North Plainview Rd",
         "Walcott",
         "IA",
         "52773",
         null,
         "US"
        ],
        [
         "BD",
         "Power Mart",
         "572 W Lake St",
         "Elmhurst",
         "IL",
         "60126",
         null,
         "US"
        ],
        [
         "BD",
         "National Petroleum",
         "5799 Mowry Ave",
         "Newark",
         "CA",
         "94560",
         null,
         "US"
        ]
       ],
       "datasetInfos": [],
       "dbfsResultPath": null,
       "isJsonSchema": true,
       "metadata": {
        "dataframeName": "_sqldf",
        "executionCount": 34
       },
       "overflow": false,
       "plotOptions": {
        "customPlotOptions": {},
        "displayType": "table",
        "pivotAggregation": null,
        "pivotColumns": null,
        "xColumns": null,
        "yColumns": null
       },
       "removedWidgets": [],
       "schema": [
        {
         "metadata": "{}",
         "name": "Fuel Type Code",
         "type": "\"string\""
        },
        {
         "metadata": "{}",
         "name": "Station Name",
         "type": "\"string\""
        },
        {
         "metadata": "{}",
         "name": "Street Address",
         "type": "\"string\""
        },
        {
         "metadata": "{}",
         "name": "City",
         "type": "\"string\""
        },
        {
         "metadata": "{}",
         "name": "State",
         "type": "\"string\""
        },
        {
         "metadata": "{}",
         "name": "ZIP",
         "type": "\"string\""
        },
        {
         "metadata": "{}",
         "name": "Plus4",
         "type": "\"string\""
        },
        {
         "metadata": "{}",
         "name": "Country",
         "type": "\"string\""
        }
       ],
       "type": "table"
      }
     },
     "output_type": "display_data"
    }
   ],
   "source": [
    "%sql\n",
    "select * from fuelstationstable where `Fuel Type Code` = 'BD'"
   ]
  },
  {
   "cell_type": "code",
   "execution_count": 0,
   "metadata": {
    "application/vnd.databricks.v1+cell": {
     "cellMetadata": {
      "byteLimit": 2048000,
      "rowLimit": 10000
     },
     "inputWidgets": {},
     "nuid": "cf55d63f-96f8-4ebf-a02d-1218605a15ec",
     "showTitle": false,
     "title": ""
    }
   },
   "outputs": [],
   "source": [
    "out_path = \"/mnt/curated/\""
   ]
  },
  {
   "cell_type": "code",
   "execution_count": 0,
   "metadata": {
    "application/vnd.databricks.v1+cell": {
     "cellMetadata": {
      "byteLimit": 2048000,
      "rowLimit": 10000
     },
     "inputWidgets": {},
     "nuid": "b2af1e88-66d7-4d2a-a3b8-f7c2eddfb1ca",
     "showTitle": false,
     "title": ""
    }
   },
   "outputs": [],
   "source": [
    "selected_df = selected_df.coalesce(1)"
   ]
  },
  {
   "cell_type": "code",
   "execution_count": 0,
   "metadata": {
    "application/vnd.databricks.v1+cell": {
     "cellMetadata": {
      "byteLimit": 2048000,
      "rowLimit": 10000
     },
     "inputWidgets": {},
     "nuid": "dff8ae55-644b-4ad7-bdea-bb11fad03646",
     "showTitle": false,
     "title": ""
    }
   },
   "outputs": [],
   "source": [
    "selected_df.write.csv(out_path, header=True, mode='overwrite')"
   ]
  },
  {
   "cell_type": "code",
   "execution_count": 0,
   "metadata": {
    "application/vnd.databricks.v1+cell": {
     "cellMetadata": {
      "byteLimit": 2048000,
      "rowLimit": 10000
     },
     "inputWidgets": {},
     "nuid": "752c267f-5165-4378-8962-e6d7d946cab4",
     "showTitle": false,
     "title": ""
    }
   },
   "outputs": [],
   "source": []
  }
 ],
 "metadata": {
  "application/vnd.databricks.v1+notebook": {
   "dashboards": [],
   "language": "python",
   "notebookMetadata": {
    "mostRecentlyExecutedCommandWithImplicitDF": {
     "commandId": 2940978257572041,
     "dataframes": [
      "_sqldf"
     ]
    },
    "pythonIndentUnit": 4
   },
   "notebookName": "fuelstationscsv_transformed",
   "widgets": {}
  }
 },
 "nbformat": 4,
 "nbformat_minor": 0
}

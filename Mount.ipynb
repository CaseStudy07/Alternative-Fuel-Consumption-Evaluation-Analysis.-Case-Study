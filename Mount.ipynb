{
 "cells": [
  {
   "cell_type": "code",
   "execution_count": 0,
   "metadata": {
    "application/vnd.databricks.v1+cell": {
     "cellMetadata": {
      "byteLimit": 2048000,
      "rowLimit": 10000
     },
     "inputWidgets": {},
     "nuid": "4e4854fa-7b18-470f-a9d9-78465ef8a7a4",
     "showTitle": false,
     "title": ""
    }
   },
   "outputs": [],
   "source": [
    "strsource=\"wasbs://\"+\"staging\"+\"@\"+\"g7casestudy\"+\".blob.core.windows.net/\"\n",
    "strmountpoint=\"/mnt/staging\"\n",
    "strkey=\"fs.azure.account.key.\"+\"g7casestudy\"+\".blob.core.windows.net\"\n",
    "strvalue=\"WBVvueMigJ4MFr/uL6gAipl9c9IZl/GBz1lH+GAtREBp2F0eOoy3qPNuw79mKZX075IrnTVTSSpR+AStzgUXfg==\"\n",
    "result=dbutils.fs.mount(\n",
    "    source=strsource,\n",
    "    mount_point=strmountpoint,\n",
    "    extra_configs={strkey:strvalue}\n",
    ")\n"
   ]
  },
  {
   "cell_type": "code",
   "execution_count": 0,
   "metadata": {
    "application/vnd.databricks.v1+cell": {
     "cellMetadata": {
      "byteLimit": 2048000,
      "rowLimit": 10000
     },
     "inputWidgets": {},
     "nuid": "700f7400-2958-43ae-b87f-be0252678298",
     "showTitle": false,
     "title": ""
    }
   },
   "outputs": [
    {
     "output_type": "execute_result",
     "data": {
      "text/plain": [
       "[FileInfo(path='dbfs:/mnt/staging/', name='staging/', size=0, modificationTime=0)]"
      ]
     },
     "execution_count": 2,
     "metadata": {},
     "output_type": "execute_result"
    }
   ],
   "source": [
    "dbutils.fs.ls(\"./mnt\")"
   ]
  },
  {
   "cell_type": "code",
   "execution_count": 0,
   "metadata": {
    "application/vnd.databricks.v1+cell": {
     "cellMetadata": {},
     "inputWidgets": {},
     "nuid": "27099200-a1b4-4cba-9ad8-81f853f66a87",
     "showTitle": false,
     "title": ""
    }
   },
   "outputs": [],
   "source": []
  }
 ],
 "metadata": {
  "application/vnd.databricks.v1+notebook": {
   "dashboards": [],
   "language": "python",
   "notebookMetadata": {
    "pythonIndentUnit": 4
   },
   "notebookName": "Mount",
   "widgets": {}
  }
 },
 "nbformat": 4,
 "nbformat_minor": 0
}
